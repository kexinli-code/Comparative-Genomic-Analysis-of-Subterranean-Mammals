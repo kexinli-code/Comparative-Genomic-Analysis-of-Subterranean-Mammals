{
 "cells": [
  {
   "cell_type": "markdown",
   "metadata": {},
   "source": [
    "Calculate alpha diversity index"
   ]
  },
  {
   "cell_type": "code",
   "execution_count": 1,
   "metadata": {
    "ExecuteTime": {
     "end_time": "2024-03-31T13:45:10.888463Z",
     "start_time": "2024-03-31T13:45:10.784Z"
    }
   },
   "outputs": [
    {
     "data": {
      "text/html": [
       "<style>\n",
       ".list-inline {list-style: none; margin:0; padding: 0}\n",
       ".list-inline>li {display: inline-block}\n",
       ".list-inline>li:not(:last-child)::after {content: \"\\00b7\"; padding: 0 .5ex}\n",
       "</style>\n",
       "<ol class=list-inline><li>'alpha_div.rds'</li><li>'alpha_habitat.pdf'</li><li>'alpha_Observed_MRM.pdf'</li><li>'alpha_pgls.pdf'</li><li>'alpha_Shannon_MRM.pdf'</li><li>'alpha_species.pdf'</li><li>'ASV_species.xls'</li><li>'ASV_table.tsv'</li><li>'beta_div.rds'</li><li>'bray_distance.xls'</li><li>'bray_MRM.pdf'</li><li>'bray_pcoa.pdf'</li><li>'bray_pgls.pdf'</li><li>'dna-sequences.fasta'</li><li>'Enterotypes_bamboo.pdf'</li><li>'filtered-table.tsv'</li><li>'genus_lefse_Bathyergidae.pdf'</li><li>'genus_lefse_habitat.pdf'</li><li>'genus_lefse_Spalacidae.pdf'</li><li>'host_tree_exp_dist.RDS'</li><li>'host_tree_exp.nwk'</li><li>'host_tree.nwk'</li><li>'host_tree.pdf'</li><li>'host_tree.png'</li><li>'init.R'</li><li>'metadata.txt'</li><li>'otu_genus.xls'</li><li>'otu_phylum.xls'</li><li>'OTU_species.xls'</li><li>'phyloseq_phylum_itol-phylumbar.txt'</li><li>'phyloseq.rds'</li><li>'physeq_diet-itol.txt'</li><li>'physeq_gut-itol.txt'</li><li>'physeq_life_style-itol.txt'</li><li>'physeq_sample_type-itol.txt'</li><li>'rarefied_ASV.xls'</li><li>'rep.fa'</li><li>'rep.xls'</li><li>'rooted_tree.nwk'</li><li>'taxa.xls'</li><li>'taxonomy.tsv'</li><li>'upgma_bray_species.pdf'</li><li>'upgma_bray_species.png'</li></ol>\n"
      ],
      "text/latex": [
       "\\begin{enumerate*}\n",
       "\\item 'alpha\\_div.rds'\n",
       "\\item 'alpha\\_habitat.pdf'\n",
       "\\item 'alpha\\_Observed\\_MRM.pdf'\n",
       "\\item 'alpha\\_pgls.pdf'\n",
       "\\item 'alpha\\_Shannon\\_MRM.pdf'\n",
       "\\item 'alpha\\_species.pdf'\n",
       "\\item 'ASV\\_species.xls'\n",
       "\\item 'ASV\\_table.tsv'\n",
       "\\item 'beta\\_div.rds'\n",
       "\\item 'bray\\_distance.xls'\n",
       "\\item 'bray\\_MRM.pdf'\n",
       "\\item 'bray\\_pcoa.pdf'\n",
       "\\item 'bray\\_pgls.pdf'\n",
       "\\item 'dna-sequences.fasta'\n",
       "\\item 'Enterotypes\\_bamboo.pdf'\n",
       "\\item 'filtered-table.tsv'\n",
       "\\item 'genus\\_lefse\\_Bathyergidae.pdf'\n",
       "\\item 'genus\\_lefse\\_habitat.pdf'\n",
       "\\item 'genus\\_lefse\\_Spalacidae.pdf'\n",
       "\\item 'host\\_tree\\_exp\\_dist.RDS'\n",
       "\\item 'host\\_tree\\_exp.nwk'\n",
       "\\item 'host\\_tree.nwk'\n",
       "\\item 'host\\_tree.pdf'\n",
       "\\item 'host\\_tree.png'\n",
       "\\item 'init.R'\n",
       "\\item 'metadata.txt'\n",
       "\\item 'otu\\_genus.xls'\n",
       "\\item 'otu\\_phylum.xls'\n",
       "\\item 'OTU\\_species.xls'\n",
       "\\item 'phyloseq\\_phylum\\_itol-phylumbar.txt'\n",
       "\\item 'phyloseq.rds'\n",
       "\\item 'physeq\\_diet-itol.txt'\n",
       "\\item 'physeq\\_gut-itol.txt'\n",
       "\\item 'physeq\\_life\\_style-itol.txt'\n",
       "\\item 'physeq\\_sample\\_type-itol.txt'\n",
       "\\item 'rarefied\\_ASV.xls'\n",
       "\\item 'rep.fa'\n",
       "\\item 'rep.xls'\n",
       "\\item 'rooted\\_tree.nwk'\n",
       "\\item 'taxa.xls'\n",
       "\\item 'taxonomy.tsv'\n",
       "\\item 'upgma\\_bray\\_species.pdf'\n",
       "\\item 'upgma\\_bray\\_species.png'\n",
       "\\end{enumerate*}\n"
      ],
      "text/markdown": [
       "1. 'alpha_div.rds'\n",
       "2. 'alpha_habitat.pdf'\n",
       "3. 'alpha_Observed_MRM.pdf'\n",
       "4. 'alpha_pgls.pdf'\n",
       "5. 'alpha_Shannon_MRM.pdf'\n",
       "6. 'alpha_species.pdf'\n",
       "7. 'ASV_species.xls'\n",
       "8. 'ASV_table.tsv'\n",
       "9. 'beta_div.rds'\n",
       "10. 'bray_distance.xls'\n",
       "11. 'bray_MRM.pdf'\n",
       "12. 'bray_pcoa.pdf'\n",
       "13. 'bray_pgls.pdf'\n",
       "14. 'dna-sequences.fasta'\n",
       "15. 'Enterotypes_bamboo.pdf'\n",
       "16. 'filtered-table.tsv'\n",
       "17. 'genus_lefse_Bathyergidae.pdf'\n",
       "18. 'genus_lefse_habitat.pdf'\n",
       "19. 'genus_lefse_Spalacidae.pdf'\n",
       "20. 'host_tree_exp_dist.RDS'\n",
       "21. 'host_tree_exp.nwk'\n",
       "22. 'host_tree.nwk'\n",
       "23. 'host_tree.pdf'\n",
       "24. 'host_tree.png'\n",
       "25. 'init.R'\n",
       "26. 'metadata.txt'\n",
       "27. 'otu_genus.xls'\n",
       "28. 'otu_phylum.xls'\n",
       "29. 'OTU_species.xls'\n",
       "30. 'phyloseq_phylum_itol-phylumbar.txt'\n",
       "31. 'phyloseq.rds'\n",
       "32. 'physeq_diet-itol.txt'\n",
       "33. 'physeq_gut-itol.txt'\n",
       "34. 'physeq_life_style-itol.txt'\n",
       "35. 'physeq_sample_type-itol.txt'\n",
       "36. 'rarefied_ASV.xls'\n",
       "37. 'rep.fa'\n",
       "38. 'rep.xls'\n",
       "39. 'rooted_tree.nwk'\n",
       "40. 'taxa.xls'\n",
       "41. 'taxonomy.tsv'\n",
       "42. 'upgma_bray_species.pdf'\n",
       "43. 'upgma_bray_species.png'\n",
       "\n",
       "\n"
      ],
      "text/plain": [
       " [1] \"alpha_div.rds\"                      \"alpha_habitat.pdf\"                 \n",
       " [3] \"alpha_Observed_MRM.pdf\"             \"alpha_pgls.pdf\"                    \n",
       " [5] \"alpha_Shannon_MRM.pdf\"              \"alpha_species.pdf\"                 \n",
       " [7] \"ASV_species.xls\"                    \"ASV_table.tsv\"                     \n",
       " [9] \"beta_div.rds\"                       \"bray_distance.xls\"                 \n",
       "[11] \"bray_MRM.pdf\"                       \"bray_pcoa.pdf\"                     \n",
       "[13] \"bray_pgls.pdf\"                      \"dna-sequences.fasta\"               \n",
       "[15] \"Enterotypes_bamboo.pdf\"             \"filtered-table.tsv\"                \n",
       "[17] \"genus_lefse_Bathyergidae.pdf\"       \"genus_lefse_habitat.pdf\"           \n",
       "[19] \"genus_lefse_Spalacidae.pdf\"         \"host_tree_exp_dist.RDS\"            \n",
       "[21] \"host_tree_exp.nwk\"                  \"host_tree.nwk\"                     \n",
       "[23] \"host_tree.pdf\"                      \"host_tree.png\"                     \n",
       "[25] \"init.R\"                             \"metadata.txt\"                      \n",
       "[27] \"otu_genus.xls\"                      \"otu_phylum.xls\"                    \n",
       "[29] \"OTU_species.xls\"                    \"phyloseq_phylum_itol-phylumbar.txt\"\n",
       "[31] \"phyloseq.rds\"                       \"physeq_diet-itol.txt\"              \n",
       "[33] \"physeq_gut-itol.txt\"                \"physeq_life_style-itol.txt\"        \n",
       "[35] \"physeq_sample_type-itol.txt\"        \"rarefied_ASV.xls\"                  \n",
       "[37] \"rep.fa\"                             \"rep.xls\"                           \n",
       "[39] \"rooted_tree.nwk\"                    \"taxa.xls\"                          \n",
       "[41] \"taxonomy.tsv\"                       \"upgma_bray_species.pdf\"            \n",
       "[43] \"upgma_bray_species.png\"            "
      ]
     },
     "metadata": {},
     "output_type": "display_data"
    }
   ],
   "source": [
    "setwd('/public/home/lyx/00.16S/00BR/00.bamboorat/phyloseq/')\n",
    "list.files()"
   ]
  },
  {
   "cell_type": "code",
   "execution_count": 2,
   "metadata": {
    "ExecuteTime": {
     "end_time": "2024-03-31T13:45:24.806811Z",
     "start_time": "2024-03-31T13:45:13.994Z"
    }
   },
   "outputs": [
    {
     "name": "stderr",
     "output_type": "stream",
     "text": [
      "\n",
      "Attaching package: ‘dplyr’\n",
      "\n",
      "\n",
      "The following objects are masked from ‘package:stats’:\n",
      "\n",
      "    filter, lag\n",
      "\n",
      "\n",
      "The following objects are masked from ‘package:base’:\n",
      "\n",
      "    intersect, setdiff, setequal, union\n",
      "\n",
      "\n",
      "\n",
      "Attaching package: ‘rstatix’\n",
      "\n",
      "\n",
      "The following object is masked from ‘package:stats’:\n",
      "\n",
      "    filter\n",
      "\n",
      "\n"
     ]
    }
   ],
   "source": [
    "library(ggplot2)\n",
    "library(dplyr)\n",
    "library(tidyr)\n",
    "library(phyloseq)\n",
    "library(rstatix)\n",
    "library(ggthemes)"
   ]
  },
  {
   "cell_type": "code",
   "execution_count": 3,
   "metadata": {
    "ExecuteTime": {
     "end_time": "2024-03-31T13:46:32.405171Z",
     "start_time": "2024-03-31T13:46:32.177Z"
    }
   },
   "outputs": [
    {
     "data": {
      "text/plain": [
       "phyloseq-class experiment-level object\n",
       "otu_table()   OTU Table:         [ 4858 taxa and 80 samples ]\n",
       "sample_data() Sample Data:       [ 80 samples by 15 sample variables ]\n",
       "tax_table()   Taxonomy Table:    [ 4858 taxa by 7 taxonomic ranks ]\n",
       "phy_tree()    Phylogenetic Tree: [ 4858 tips and 4857 internal nodes ]"
      ]
     },
     "metadata": {},
     "output_type": "display_data"
    }
   ],
   "source": [
    "phyloseq <- readRDS(\"phyloseq.rds\")\n",
    "phyloseq"
   ]
  },
  {
   "cell_type": "code",
   "execution_count": 4,
   "metadata": {
    "ExecuteTime": {
     "end_time": "2024-03-31T13:46:37.011914Z",
     "start_time": "2024-03-31T13:46:36.868Z"
    }
   },
   "outputs": [
    {
     "data": {
      "text/html": [
       "<table class=\"dataframe\">\n",
       "<caption>A data.frame: 6 × 15</caption>\n",
       "<thead>\n",
       "\t<tr><th></th><th scope=col>Sampleid</th><th scope=col>Group</th><th scope=col>Class</th><th scope=col>Order</th><th scope=col>Family</th><th scope=col>Genus</th><th scope=col>Species</th><th scope=col>Sample_type</th><th scope=col>Captive_Wild</th><th scope=col>Domestic_Wild</th><th scope=col>Habitat</th><th scope=col>Diet</th><th scope=col>Diet_detail</th><th scope=col>Digestive_tract</th><th scope=col>Digest_detail</th></tr>\n",
       "\t<tr><th></th><th scope=col>&lt;chr&gt;</th><th scope=col>&lt;chr&gt;</th><th scope=col>&lt;chr&gt;</th><th scope=col>&lt;chr&gt;</th><th scope=col>&lt;chr&gt;</th><th scope=col>&lt;chr&gt;</th><th scope=col>&lt;chr&gt;</th><th scope=col>&lt;chr&gt;</th><th scope=col>&lt;chr&gt;</th><th scope=col>&lt;chr&gt;</th><th scope=col>&lt;chr&gt;</th><th scope=col>&lt;chr&gt;</th><th scope=col>&lt;chr&gt;</th><th scope=col>&lt;chr&gt;</th><th scope=col>&lt;chr&gt;</th></tr>\n",
       "</thead>\n",
       "<tbody>\n",
       "\t<tr><th scope=row>BMR1</th><td>BMR1</td><td>Spalacidae and relatives</td><td>Mammalia</td><td>Rodentia</td><td>Spalacidae</td><td>Spalax</td><td>Nannospalax leucodon</td><td>Feces</td><td>Wild</td><td>Wild</td><td>Underground</td><td>Herbivore</td><td>Herbivore</td><td>Hindgut fermentation</td><td>Cecum fermenter</td></tr>\n",
       "\t<tr><th scope=row>BMR2</th><td>BMR2</td><td>Spalacidae and relatives</td><td>Mammalia</td><td>Rodentia</td><td>Spalacidae</td><td>Spalax</td><td>Nannospalax leucodon</td><td>Feces</td><td>Wild</td><td>Wild</td><td>Underground</td><td>Herbivore</td><td>Herbivore</td><td>Hindgut fermentation</td><td>Cecum fermenter</td></tr>\n",
       "\t<tr><th scope=row>BMR3</th><td>BMR3</td><td>Spalacidae and relatives</td><td>Mammalia</td><td>Rodentia</td><td>Spalacidae</td><td>Spalax</td><td>Nannospalax leucodon</td><td>Feces</td><td>Wild</td><td>Wild</td><td>Underground</td><td>Herbivore</td><td>Herbivore</td><td>Hindgut fermentation</td><td>Cecum fermenter</td></tr>\n",
       "\t<tr><th scope=row>BMR4</th><td>BMR4</td><td>Spalacidae and relatives</td><td>Mammalia</td><td>Rodentia</td><td>Spalacidae</td><td>Spalax</td><td>Nannospalax leucodon</td><td>Feces</td><td>Wild</td><td>Wild</td><td>Underground</td><td>Herbivore</td><td>Herbivore</td><td>Hindgut fermentation</td><td>Cecum fermenter</td></tr>\n",
       "\t<tr><th scope=row>BMR5</th><td>BMR5</td><td>Spalacidae and relatives</td><td>Mammalia</td><td>Rodentia</td><td>Spalacidae</td><td>Spalax</td><td>Nannospalax leucodon</td><td>Feces</td><td>Wild</td><td>Wild</td><td>Underground</td><td>Herbivore</td><td>Herbivore</td><td>Hindgut fermentation</td><td>Cecum fermenter</td></tr>\n",
       "\t<tr><th scope=row>BMR6</th><td>BMR6</td><td>Spalacidae and relatives</td><td>Mammalia</td><td>Rodentia</td><td>Spalacidae</td><td>Spalax</td><td>Nannospalax leucodon</td><td>Feces</td><td>Wild</td><td>Wild</td><td>Underground</td><td>Herbivore</td><td>Herbivore</td><td>Hindgut fermentation</td><td>Cecum fermenter</td></tr>\n",
       "</tbody>\n",
       "</table>\n"
      ],
      "text/latex": [
       "A data.frame: 6 × 15\n",
       "\\begin{tabular}{r|lllllllllllllll}\n",
       "  & Sampleid & Group & Class & Order & Family & Genus & Species & Sample\\_type & Captive\\_Wild & Domestic\\_Wild & Habitat & Diet & Diet\\_detail & Digestive\\_tract & Digest\\_detail\\\\\n",
       "  & <chr> & <chr> & <chr> & <chr> & <chr> & <chr> & <chr> & <chr> & <chr> & <chr> & <chr> & <chr> & <chr> & <chr> & <chr>\\\\\n",
       "\\hline\n",
       "\tBMR1 & BMR1 & Spalacidae and relatives & Mammalia & Rodentia & Spalacidae & Spalax & Nannospalax leucodon & Feces & Wild & Wild & Underground & Herbivore & Herbivore & Hindgut fermentation & Cecum fermenter\\\\\n",
       "\tBMR2 & BMR2 & Spalacidae and relatives & Mammalia & Rodentia & Spalacidae & Spalax & Nannospalax leucodon & Feces & Wild & Wild & Underground & Herbivore & Herbivore & Hindgut fermentation & Cecum fermenter\\\\\n",
       "\tBMR3 & BMR3 & Spalacidae and relatives & Mammalia & Rodentia & Spalacidae & Spalax & Nannospalax leucodon & Feces & Wild & Wild & Underground & Herbivore & Herbivore & Hindgut fermentation & Cecum fermenter\\\\\n",
       "\tBMR4 & BMR4 & Spalacidae and relatives & Mammalia & Rodentia & Spalacidae & Spalax & Nannospalax leucodon & Feces & Wild & Wild & Underground & Herbivore & Herbivore & Hindgut fermentation & Cecum fermenter\\\\\n",
       "\tBMR5 & BMR5 & Spalacidae and relatives & Mammalia & Rodentia & Spalacidae & Spalax & Nannospalax leucodon & Feces & Wild & Wild & Underground & Herbivore & Herbivore & Hindgut fermentation & Cecum fermenter\\\\\n",
       "\tBMR6 & BMR6 & Spalacidae and relatives & Mammalia & Rodentia & Spalacidae & Spalax & Nannospalax leucodon & Feces & Wild & Wild & Underground & Herbivore & Herbivore & Hindgut fermentation & Cecum fermenter\\\\\n",
       "\\end{tabular}\n"
      ],
      "text/markdown": [
       "\n",
       "A data.frame: 6 × 15\n",
       "\n",
       "| <!--/--> | Sampleid &lt;chr&gt; | Group &lt;chr&gt; | Class &lt;chr&gt; | Order &lt;chr&gt; | Family &lt;chr&gt; | Genus &lt;chr&gt; | Species &lt;chr&gt; | Sample_type &lt;chr&gt; | Captive_Wild &lt;chr&gt; | Domestic_Wild &lt;chr&gt; | Habitat &lt;chr&gt; | Diet &lt;chr&gt; | Diet_detail &lt;chr&gt; | Digestive_tract &lt;chr&gt; | Digest_detail &lt;chr&gt; |\n",
       "|---|---|---|---|---|---|---|---|---|---|---|---|---|---|---|---|\n",
       "| BMR1 | BMR1 | Spalacidae and relatives | Mammalia | Rodentia | Spalacidae | Spalax | Nannospalax leucodon | Feces | Wild | Wild | Underground | Herbivore | Herbivore | Hindgut fermentation | Cecum fermenter |\n",
       "| BMR2 | BMR2 | Spalacidae and relatives | Mammalia | Rodentia | Spalacidae | Spalax | Nannospalax leucodon | Feces | Wild | Wild | Underground | Herbivore | Herbivore | Hindgut fermentation | Cecum fermenter |\n",
       "| BMR3 | BMR3 | Spalacidae and relatives | Mammalia | Rodentia | Spalacidae | Spalax | Nannospalax leucodon | Feces | Wild | Wild | Underground | Herbivore | Herbivore | Hindgut fermentation | Cecum fermenter |\n",
       "| BMR4 | BMR4 | Spalacidae and relatives | Mammalia | Rodentia | Spalacidae | Spalax | Nannospalax leucodon | Feces | Wild | Wild | Underground | Herbivore | Herbivore | Hindgut fermentation | Cecum fermenter |\n",
       "| BMR5 | BMR5 | Spalacidae and relatives | Mammalia | Rodentia | Spalacidae | Spalax | Nannospalax leucodon | Feces | Wild | Wild | Underground | Herbivore | Herbivore | Hindgut fermentation | Cecum fermenter |\n",
       "| BMR6 | BMR6 | Spalacidae and relatives | Mammalia | Rodentia | Spalacidae | Spalax | Nannospalax leucodon | Feces | Wild | Wild | Underground | Herbivore | Herbivore | Hindgut fermentation | Cecum fermenter |\n",
       "\n"
      ],
      "text/plain": [
       "     Sampleid Group                    Class    Order    Family     Genus \n",
       "BMR1 BMR1     Spalacidae and relatives Mammalia Rodentia Spalacidae Spalax\n",
       "BMR2 BMR2     Spalacidae and relatives Mammalia Rodentia Spalacidae Spalax\n",
       "BMR3 BMR3     Spalacidae and relatives Mammalia Rodentia Spalacidae Spalax\n",
       "BMR4 BMR4     Spalacidae and relatives Mammalia Rodentia Spalacidae Spalax\n",
       "BMR5 BMR5     Spalacidae and relatives Mammalia Rodentia Spalacidae Spalax\n",
       "BMR6 BMR6     Spalacidae and relatives Mammalia Rodentia Spalacidae Spalax\n",
       "     Species              Sample_type Captive_Wild Domestic_Wild Habitat    \n",
       "BMR1 Nannospalax leucodon Feces       Wild         Wild          Underground\n",
       "BMR2 Nannospalax leucodon Feces       Wild         Wild          Underground\n",
       "BMR3 Nannospalax leucodon Feces       Wild         Wild          Underground\n",
       "BMR4 Nannospalax leucodon Feces       Wild         Wild          Underground\n",
       "BMR5 Nannospalax leucodon Feces       Wild         Wild          Underground\n",
       "BMR6 Nannospalax leucodon Feces       Wild         Wild          Underground\n",
       "     Diet      Diet_detail Digestive_tract      Digest_detail  \n",
       "BMR1 Herbivore Herbivore   Hindgut fermentation Cecum fermenter\n",
       "BMR2 Herbivore Herbivore   Hindgut fermentation Cecum fermenter\n",
       "BMR3 Herbivore Herbivore   Hindgut fermentation Cecum fermenter\n",
       "BMR4 Herbivore Herbivore   Hindgut fermentation Cecum fermenter\n",
       "BMR5 Herbivore Herbivore   Hindgut fermentation Cecum fermenter\n",
       "BMR6 Herbivore Herbivore   Hindgut fermentation Cecum fermenter"
      ]
     },
     "metadata": {},
     "output_type": "display_data"
    }
   ],
   "source": [
    "metadata = phyloseq %>%\n",
    "    sample_data %>%\n",
    "    as.matrix %>%\n",
    "    as.data.frame\n",
    "\n",
    "head(metadata)"
   ]
  },
  {
   "cell_type": "code",
   "execution_count": 5,
   "metadata": {
    "ExecuteTime": {
     "end_time": "2024-03-31T13:46:44.622543Z",
     "start_time": "2024-03-31T13:46:43.004Z"
    }
   },
   "outputs": [
    {
     "data": {
      "text/html": [
       "<table class=\"dataframe\">\n",
       "<caption>A data.frame: 6 × 9</caption>\n",
       "<thead>\n",
       "\t<tr><th></th><th scope=col>Observed</th><th scope=col>Chao1</th><th scope=col>se.chao1</th><th scope=col>ACE</th><th scope=col>se.ACE</th><th scope=col>Shannon</th><th scope=col>Simpson</th><th scope=col>InvSimpson</th><th scope=col>Fisher</th></tr>\n",
       "\t<tr><th></th><th scope=col>&lt;dbl&gt;</th><th scope=col>&lt;dbl&gt;</th><th scope=col>&lt;dbl&gt;</th><th scope=col>&lt;dbl&gt;</th><th scope=col>&lt;dbl&gt;</th><th scope=col>&lt;dbl&gt;</th><th scope=col>&lt;dbl&gt;</th><th scope=col>&lt;dbl&gt;</th><th scope=col>&lt;dbl&gt;</th></tr>\n",
       "</thead>\n",
       "<tbody>\n",
       "\t<tr><th scope=row>BMR1</th><td>224</td><td>224.400</td><td>0.7922242</td><td>225.0466</td><td>7.411706</td><td>4.082750</td><td>0.9620532</td><td>26.35270</td><td>39.40357</td></tr>\n",
       "\t<tr><th scope=row>BMR2</th><td>187</td><td>187.000</td><td>0.1246653</td><td>187.1678</td><td>5.995110</td><td>4.227773</td><td>0.9689176</td><td>32.17254</td><td>31.68327</td></tr>\n",
       "\t<tr><th scope=row>BMR3</th><td>171</td><td>171.000</td><td>0.0000000</td><td>171.0000</td><td>5.628873</td><td>4.215916</td><td>0.9719495</td><td>35.64993</td><td>28.45576</td></tr>\n",
       "\t<tr><th scope=row>BMR4</th><td>124</td><td>124.000</td><td>0.0000000</td><td>124.0000</td><td>5.299878</td><td>3.354602</td><td>0.9240964</td><td>13.17460</td><td>19.40047</td></tr>\n",
       "\t<tr><th scope=row>BMR5</th><td>226</td><td>227.875</td><td>2.2569514</td><td>227.3530</td><td>7.405408</td><td>4.103249</td><td>0.9567622</td><td>23.12789</td><td>39.83066</td></tr>\n",
       "\t<tr><th scope=row>BMR6</th><td>152</td><td>152.000</td><td>0.0000000</td><td>152.0000</td><td>5.338539</td><td>3.802005</td><td>0.9443629</td><td>17.97362</td><td>24.71580</td></tr>\n",
       "</tbody>\n",
       "</table>\n"
      ],
      "text/latex": [
       "A data.frame: 6 × 9\n",
       "\\begin{tabular}{r|lllllllll}\n",
       "  & Observed & Chao1 & se.chao1 & ACE & se.ACE & Shannon & Simpson & InvSimpson & Fisher\\\\\n",
       "  & <dbl> & <dbl> & <dbl> & <dbl> & <dbl> & <dbl> & <dbl> & <dbl> & <dbl>\\\\\n",
       "\\hline\n",
       "\tBMR1 & 224 & 224.400 & 0.7922242 & 225.0466 & 7.411706 & 4.082750 & 0.9620532 & 26.35270 & 39.40357\\\\\n",
       "\tBMR2 & 187 & 187.000 & 0.1246653 & 187.1678 & 5.995110 & 4.227773 & 0.9689176 & 32.17254 & 31.68327\\\\\n",
       "\tBMR3 & 171 & 171.000 & 0.0000000 & 171.0000 & 5.628873 & 4.215916 & 0.9719495 & 35.64993 & 28.45576\\\\\n",
       "\tBMR4 & 124 & 124.000 & 0.0000000 & 124.0000 & 5.299878 & 3.354602 & 0.9240964 & 13.17460 & 19.40047\\\\\n",
       "\tBMR5 & 226 & 227.875 & 2.2569514 & 227.3530 & 7.405408 & 4.103249 & 0.9567622 & 23.12789 & 39.83066\\\\\n",
       "\tBMR6 & 152 & 152.000 & 0.0000000 & 152.0000 & 5.338539 & 3.802005 & 0.9443629 & 17.97362 & 24.71580\\\\\n",
       "\\end{tabular}\n"
      ],
      "text/markdown": [
       "\n",
       "A data.frame: 6 × 9\n",
       "\n",
       "| <!--/--> | Observed &lt;dbl&gt; | Chao1 &lt;dbl&gt; | se.chao1 &lt;dbl&gt; | ACE &lt;dbl&gt; | se.ACE &lt;dbl&gt; | Shannon &lt;dbl&gt; | Simpson &lt;dbl&gt; | InvSimpson &lt;dbl&gt; | Fisher &lt;dbl&gt; |\n",
       "|---|---|---|---|---|---|---|---|---|---|\n",
       "| BMR1 | 224 | 224.400 | 0.7922242 | 225.0466 | 7.411706 | 4.082750 | 0.9620532 | 26.35270 | 39.40357 |\n",
       "| BMR2 | 187 | 187.000 | 0.1246653 | 187.1678 | 5.995110 | 4.227773 | 0.9689176 | 32.17254 | 31.68327 |\n",
       "| BMR3 | 171 | 171.000 | 0.0000000 | 171.0000 | 5.628873 | 4.215916 | 0.9719495 | 35.64993 | 28.45576 |\n",
       "| BMR4 | 124 | 124.000 | 0.0000000 | 124.0000 | 5.299878 | 3.354602 | 0.9240964 | 13.17460 | 19.40047 |\n",
       "| BMR5 | 226 | 227.875 | 2.2569514 | 227.3530 | 7.405408 | 4.103249 | 0.9567622 | 23.12789 | 39.83066 |\n",
       "| BMR6 | 152 | 152.000 | 0.0000000 | 152.0000 | 5.338539 | 3.802005 | 0.9443629 | 17.97362 | 24.71580 |\n",
       "\n"
      ],
      "text/plain": [
       "     Observed Chao1   se.chao1  ACE      se.ACE   Shannon  Simpson   InvSimpson\n",
       "BMR1 224      224.400 0.7922242 225.0466 7.411706 4.082750 0.9620532 26.35270  \n",
       "BMR2 187      187.000 0.1246653 187.1678 5.995110 4.227773 0.9689176 32.17254  \n",
       "BMR3 171      171.000 0.0000000 171.0000 5.628873 4.215916 0.9719495 35.64993  \n",
       "BMR4 124      124.000 0.0000000 124.0000 5.299878 3.354602 0.9240964 13.17460  \n",
       "BMR5 226      227.875 2.2569514 227.3530 7.405408 4.103249 0.9567622 23.12789  \n",
       "BMR6 152      152.000 0.0000000 152.0000 5.338539 3.802005 0.9443629 17.97362  \n",
       "     Fisher  \n",
       "BMR1 39.40357\n",
       "BMR2 31.68327\n",
       "BMR3 28.45576\n",
       "BMR4 19.40047\n",
       "BMR5 39.83066\n",
       "BMR6 24.71580"
      ]
     },
     "metadata": {},
     "output_type": "display_data"
    }
   ],
   "source": [
    "alpha_div = estimate_richness(phyloseq)\n",
    "head(alpha_div)"
   ]
  },
  {
   "cell_type": "code",
   "execution_count": 6,
   "metadata": {
    "ExecuteTime": {
     "end_time": "2024-03-31T13:46:51.283356Z",
     "start_time": "2024-03-31T13:46:51.195Z"
    }
   },
   "outputs": [],
   "source": [
    "saveRDS(alpha_div, file=\"alpha_div.rds\")\n",
    "# write.table(alpha_div,file=\"alpha.xls\",sep=\"\\t\",quote = F)"
   ]
  },
  {
   "cell_type": "code",
   "execution_count": 7,
   "metadata": {
    "ExecuteTime": {
     "end_time": "2024-03-31T13:47:01.004808Z",
     "start_time": "2024-03-31T13:47:00.866Z"
    }
   },
   "outputs": [
    {
     "data": {
      "text/html": [
       "<table class=\"dataframe\">\n",
       "<caption>A data.frame: 6 × 17</caption>\n",
       "<thead>\n",
       "\t<tr><th></th><th scope=col>Sampleid</th><th scope=col>Index</th><th scope=col>Index_value</th><th scope=col>Group</th><th scope=col>Class</th><th scope=col>Order</th><th scope=col>Family</th><th scope=col>Genus</th><th scope=col>Species</th><th scope=col>Sample_type</th><th scope=col>Captive_Wild</th><th scope=col>Domestic_Wild</th><th scope=col>Habitat</th><th scope=col>Diet</th><th scope=col>Diet_detail</th><th scope=col>Digestive_tract</th><th scope=col>Digest_detail</th></tr>\n",
       "\t<tr><th></th><th scope=col>&lt;chr&gt;</th><th scope=col>&lt;chr&gt;</th><th scope=col>&lt;dbl&gt;</th><th scope=col>&lt;chr&gt;</th><th scope=col>&lt;chr&gt;</th><th scope=col>&lt;chr&gt;</th><th scope=col>&lt;chr&gt;</th><th scope=col>&lt;chr&gt;</th><th scope=col>&lt;chr&gt;</th><th scope=col>&lt;chr&gt;</th><th scope=col>&lt;chr&gt;</th><th scope=col>&lt;chr&gt;</th><th scope=col>&lt;chr&gt;</th><th scope=col>&lt;chr&gt;</th><th scope=col>&lt;chr&gt;</th><th scope=col>&lt;chr&gt;</th><th scope=col>&lt;chr&gt;</th></tr>\n",
       "</thead>\n",
       "<tbody>\n",
       "\t<tr><th scope=row>1</th><td>BMR1</td><td>Observed</td><td>224</td><td>Spalacidae and relatives</td><td>Mammalia</td><td>Rodentia</td><td>Spalacidae</td><td>Spalax</td><td>Nannospalax leucodon</td><td>Feces</td><td>Wild</td><td>Wild</td><td>Underground</td><td>Herbivore</td><td>Herbivore</td><td>Hindgut fermentation</td><td>Cecum fermenter</td></tr>\n",
       "\t<tr><th scope=row>2</th><td>BMR2</td><td>Observed</td><td>187</td><td>Spalacidae and relatives</td><td>Mammalia</td><td>Rodentia</td><td>Spalacidae</td><td>Spalax</td><td>Nannospalax leucodon</td><td>Feces</td><td>Wild</td><td>Wild</td><td>Underground</td><td>Herbivore</td><td>Herbivore</td><td>Hindgut fermentation</td><td>Cecum fermenter</td></tr>\n",
       "\t<tr><th scope=row>3</th><td>BMR3</td><td>Observed</td><td>171</td><td>Spalacidae and relatives</td><td>Mammalia</td><td>Rodentia</td><td>Spalacidae</td><td>Spalax</td><td>Nannospalax leucodon</td><td>Feces</td><td>Wild</td><td>Wild</td><td>Underground</td><td>Herbivore</td><td>Herbivore</td><td>Hindgut fermentation</td><td>Cecum fermenter</td></tr>\n",
       "\t<tr><th scope=row>4</th><td>BMR4</td><td>Observed</td><td>124</td><td>Spalacidae and relatives</td><td>Mammalia</td><td>Rodentia</td><td>Spalacidae</td><td>Spalax</td><td>Nannospalax leucodon</td><td>Feces</td><td>Wild</td><td>Wild</td><td>Underground</td><td>Herbivore</td><td>Herbivore</td><td>Hindgut fermentation</td><td>Cecum fermenter</td></tr>\n",
       "\t<tr><th scope=row>5</th><td>BMR5</td><td>Observed</td><td>226</td><td>Spalacidae and relatives</td><td>Mammalia</td><td>Rodentia</td><td>Spalacidae</td><td>Spalax</td><td>Nannospalax leucodon</td><td>Feces</td><td>Wild</td><td>Wild</td><td>Underground</td><td>Herbivore</td><td>Herbivore</td><td>Hindgut fermentation</td><td>Cecum fermenter</td></tr>\n",
       "\t<tr><th scope=row>6</th><td>BMR6</td><td>Observed</td><td>152</td><td>Spalacidae and relatives</td><td>Mammalia</td><td>Rodentia</td><td>Spalacidae</td><td>Spalax</td><td>Nannospalax leucodon</td><td>Feces</td><td>Wild</td><td>Wild</td><td>Underground</td><td>Herbivore</td><td>Herbivore</td><td>Hindgut fermentation</td><td>Cecum fermenter</td></tr>\n",
       "</tbody>\n",
       "</table>\n"
      ],
      "text/latex": [
       "A data.frame: 6 × 17\n",
       "\\begin{tabular}{r|lllllllllllllllll}\n",
       "  & Sampleid & Index & Index\\_value & Group & Class & Order & Family & Genus & Species & Sample\\_type & Captive\\_Wild & Domestic\\_Wild & Habitat & Diet & Diet\\_detail & Digestive\\_tract & Digest\\_detail\\\\\n",
       "  & <chr> & <chr> & <dbl> & <chr> & <chr> & <chr> & <chr> & <chr> & <chr> & <chr> & <chr> & <chr> & <chr> & <chr> & <chr> & <chr> & <chr>\\\\\n",
       "\\hline\n",
       "\t1 & BMR1 & Observed & 224 & Spalacidae and relatives & Mammalia & Rodentia & Spalacidae & Spalax & Nannospalax leucodon & Feces & Wild & Wild & Underground & Herbivore & Herbivore & Hindgut fermentation & Cecum fermenter\\\\\n",
       "\t2 & BMR2 & Observed & 187 & Spalacidae and relatives & Mammalia & Rodentia & Spalacidae & Spalax & Nannospalax leucodon & Feces & Wild & Wild & Underground & Herbivore & Herbivore & Hindgut fermentation & Cecum fermenter\\\\\n",
       "\t3 & BMR3 & Observed & 171 & Spalacidae and relatives & Mammalia & Rodentia & Spalacidae & Spalax & Nannospalax leucodon & Feces & Wild & Wild & Underground & Herbivore & Herbivore & Hindgut fermentation & Cecum fermenter\\\\\n",
       "\t4 & BMR4 & Observed & 124 & Spalacidae and relatives & Mammalia & Rodentia & Spalacidae & Spalax & Nannospalax leucodon & Feces & Wild & Wild & Underground & Herbivore & Herbivore & Hindgut fermentation & Cecum fermenter\\\\\n",
       "\t5 & BMR5 & Observed & 226 & Spalacidae and relatives & Mammalia & Rodentia & Spalacidae & Spalax & Nannospalax leucodon & Feces & Wild & Wild & Underground & Herbivore & Herbivore & Hindgut fermentation & Cecum fermenter\\\\\n",
       "\t6 & BMR6 & Observed & 152 & Spalacidae and relatives & Mammalia & Rodentia & Spalacidae & Spalax & Nannospalax leucodon & Feces & Wild & Wild & Underground & Herbivore & Herbivore & Hindgut fermentation & Cecum fermenter\\\\\n",
       "\\end{tabular}\n"
      ],
      "text/markdown": [
       "\n",
       "A data.frame: 6 × 17\n",
       "\n",
       "| <!--/--> | Sampleid &lt;chr&gt; | Index &lt;chr&gt; | Index_value &lt;dbl&gt; | Group &lt;chr&gt; | Class &lt;chr&gt; | Order &lt;chr&gt; | Family &lt;chr&gt; | Genus &lt;chr&gt; | Species &lt;chr&gt; | Sample_type &lt;chr&gt; | Captive_Wild &lt;chr&gt; | Domestic_Wild &lt;chr&gt; | Habitat &lt;chr&gt; | Diet &lt;chr&gt; | Diet_detail &lt;chr&gt; | Digestive_tract &lt;chr&gt; | Digest_detail &lt;chr&gt; |\n",
       "|---|---|---|---|---|---|---|---|---|---|---|---|---|---|---|---|---|---|\n",
       "| 1 | BMR1 | Observed | 224 | Spalacidae and relatives | Mammalia | Rodentia | Spalacidae | Spalax | Nannospalax leucodon | Feces | Wild | Wild | Underground | Herbivore | Herbivore | Hindgut fermentation | Cecum fermenter |\n",
       "| 2 | BMR2 | Observed | 187 | Spalacidae and relatives | Mammalia | Rodentia | Spalacidae | Spalax | Nannospalax leucodon | Feces | Wild | Wild | Underground | Herbivore | Herbivore | Hindgut fermentation | Cecum fermenter |\n",
       "| 3 | BMR3 | Observed | 171 | Spalacidae and relatives | Mammalia | Rodentia | Spalacidae | Spalax | Nannospalax leucodon | Feces | Wild | Wild | Underground | Herbivore | Herbivore | Hindgut fermentation | Cecum fermenter |\n",
       "| 4 | BMR4 | Observed | 124 | Spalacidae and relatives | Mammalia | Rodentia | Spalacidae | Spalax | Nannospalax leucodon | Feces | Wild | Wild | Underground | Herbivore | Herbivore | Hindgut fermentation | Cecum fermenter |\n",
       "| 5 | BMR5 | Observed | 226 | Spalacidae and relatives | Mammalia | Rodentia | Spalacidae | Spalax | Nannospalax leucodon | Feces | Wild | Wild | Underground | Herbivore | Herbivore | Hindgut fermentation | Cecum fermenter |\n",
       "| 6 | BMR6 | Observed | 152 | Spalacidae and relatives | Mammalia | Rodentia | Spalacidae | Spalax | Nannospalax leucodon | Feces | Wild | Wild | Underground | Herbivore | Herbivore | Hindgut fermentation | Cecum fermenter |\n",
       "\n"
      ],
      "text/plain": [
       "  Sampleid Index    Index_value Group                    Class    Order   \n",
       "1 BMR1     Observed 224         Spalacidae and relatives Mammalia Rodentia\n",
       "2 BMR2     Observed 187         Spalacidae and relatives Mammalia Rodentia\n",
       "3 BMR3     Observed 171         Spalacidae and relatives Mammalia Rodentia\n",
       "4 BMR4     Observed 124         Spalacidae and relatives Mammalia Rodentia\n",
       "5 BMR5     Observed 226         Spalacidae and relatives Mammalia Rodentia\n",
       "6 BMR6     Observed 152         Spalacidae and relatives Mammalia Rodentia\n",
       "  Family     Genus  Species              Sample_type Captive_Wild Domestic_Wild\n",
       "1 Spalacidae Spalax Nannospalax leucodon Feces       Wild         Wild         \n",
       "2 Spalacidae Spalax Nannospalax leucodon Feces       Wild         Wild         \n",
       "3 Spalacidae Spalax Nannospalax leucodon Feces       Wild         Wild         \n",
       "4 Spalacidae Spalax Nannospalax leucodon Feces       Wild         Wild         \n",
       "5 Spalacidae Spalax Nannospalax leucodon Feces       Wild         Wild         \n",
       "6 Spalacidae Spalax Nannospalax leucodon Feces       Wild         Wild         \n",
       "  Habitat     Diet      Diet_detail Digestive_tract      Digest_detail  \n",
       "1 Underground Herbivore Herbivore   Hindgut fermentation Cecum fermenter\n",
       "2 Underground Herbivore Herbivore   Hindgut fermentation Cecum fermenter\n",
       "3 Underground Herbivore Herbivore   Hindgut fermentation Cecum fermenter\n",
       "4 Underground Herbivore Herbivore   Hindgut fermentation Cecum fermenter\n",
       "5 Underground Herbivore Herbivore   Hindgut fermentation Cecum fermenter\n",
       "6 Underground Herbivore Herbivore   Hindgut fermentation Cecum fermenter"
      ]
     },
     "metadata": {},
     "output_type": "display_data"
    }
   ],
   "source": [
    "alpha_div_exp = alpha_div %>%\n",
    "    mutate(Sampleid = rownames(.)) %>%\n",
    "    gather(Index, Index_value, - Sampleid) %>%\n",
    "    inner_join(metadata, c('Sampleid')) \n",
    "\n",
    "head(alpha_div_exp)"
   ]
  },
  {
   "cell_type": "code",
   "execution_count": 8,
   "metadata": {
    "ExecuteTime": {
     "end_time": "2024-03-31T13:47:07.476047Z",
     "start_time": "2024-03-31T13:47:07.394Z"
    }
   },
   "outputs": [],
   "source": [
    "alpha_div_exp$groups <- factor(alpha_div_exp$Species, levels=c(\"Rhizomys sinensis\",\"Eospalax cansus\",\n",
    "                                                               \"Nannospalax leucodon\",\"Mus musculus\",\n",
    "                                                               \"Niviventer confucianus\",\"Niviventer fulvescens\",\n",
    "                                                               \"Apodemus draco\",\"Leopoldamys edwardsi\",\n",
    "                                                               \"Heterocephalus glaber\",\"Fukomys damarensis\",\n",
    "                                                               \"Coendou prehensilis\",\"Dolichotis patagonum\",\n",
    "                                                               \"Sorex araneus\",\"Scaptochirus moschatus\"), ordered=TRUE)"
   ]
  },
  {
   "cell_type": "code",
   "execution_count": 9,
   "metadata": {
    "ExecuteTime": {
     "end_time": "2024-03-31T13:47:22.419803Z",
     "start_time": "2024-03-31T13:47:21.220Z"
    }
   },
   "outputs": [
    {
     "data": {
      "image/png": "[encoded data removed]",
      "text/plain": [
       "plot without title"
      ]
     },
     "metadata": {
      "image/png": {
       "height": 180,
       "width": 480
      }
     },
     "output_type": "display_data"
    }
   ],
   "source": [
    "# plotting by metric & host species\n",
    "to_keep = c('Observed','Shannon')\n",
    "\n",
    "p = ggplot(alpha_div_exp %>% filter(Order == 'Rodentia') %>% filter(Index %in% to_keep), \n",
    "           aes(groups, Index_value,color=Habitat)) +\n",
    "    geom_boxplot() +\n",
    "    labs(x='Group', y='Value') +\n",
    "    facet_wrap(~ Index, scales='free_y') +\n",
    "    theme_bw() +\n",
    "    theme(\n",
    "        axis.text.x = element_text(angle=45, hjust=1)\n",
    "    )\n",
    "\n",
    "options(repr.plot.width=8, repr.plot.height=3)\n",
    "plot(p)"
   ]
  },
  {
   "cell_type": "code",
   "execution_count": 10,
   "metadata": {
    "ExecuteTime": {
     "end_time": "2024-03-31T13:49:35.111019Z",
     "start_time": "2024-03-31T13:49:33.926Z"
    }
   },
   "outputs": [
    {
     "data": {
      "image/png": "[encoded data removed]",
      "text/plain": [
       "plot without title"
      ]
     },
     "metadata": {
      "image/png": {
       "height": 180,
       "width": 480
      }
     },
     "output_type": "display_data"
    }
   ],
   "source": [
    "# plotting by metric & habitat\n",
    "p = ggplot(alpha_div_exp %>% filter(Habitat == 'Underground') %>% filter(Index %in% to_keep), \n",
    "           aes(groups, Index_value,color=Family)) +\n",
    "    geom_boxplot() +\n",
    "    labs(x='Group', y='Value') +\n",
    "    facet_wrap(~ Index, scales='free_y') +\n",
    "    theme_bw() +\n",
    "    theme(\n",
    "        axis.text.x = element_text(angle=45, hjust=1)\n",
    "    )\n",
    "\n",
    "options(repr.plot.width=8, repr.plot.height=3)\n",
    "plot(p)"
   ]
  },
  {
   "cell_type": "code",
   "execution_count": 11,
   "metadata": {
    "ExecuteTime": {
     "end_time": "2024-03-31T13:50:42.428316Z",
     "start_time": "2024-03-31T13:50:41.885Z"
    }
   },
   "outputs": [],
   "source": [
    "ggsave(\"alpha_underground.pdf\",width = 8,height = 3,dpi = 1000)"
   ]
  },
  {
   "cell_type": "code",
   "execution_count": 13,
   "metadata": {
    "ExecuteTime": {
     "end_time": "2024-03-31T13:53:59.918113Z",
     "start_time": "2024-03-31T13:53:58.604Z"
    }
   },
   "outputs": [
    {
     "data": {
      "text/html": [
       "<table class=\"dataframe\">\n",
       "<caption>A rstatix_test: 6 × 9</caption>\n",
       "<thead>\n",
       "\t<tr><th scope=col>.y.</th><th scope=col>group1</th><th scope=col>group2</th><th scope=col>n1</th><th scope=col>n2</th><th scope=col>statistic</th><th scope=col>p</th><th scope=col>p.adj</th><th scope=col>p.adj.signif</th></tr>\n",
       "\t<tr><th scope=col>&lt;chr&gt;</th><th scope=col>&lt;chr&gt;</th><th scope=col>&lt;chr&gt;</th><th scope=col>&lt;int&gt;</th><th scope=col>&lt;int&gt;</th><th scope=col>&lt;dbl&gt;</th><th scope=col>&lt;dbl&gt;</th><th scope=col>&lt;dbl&gt;</th><th scope=col>&lt;chr&gt;</th></tr>\n",
       "</thead>\n",
       "<tbody>\n",
       "\t<tr><td>Index_value</td><td>Eospalax cansus      </td><td>Fukomys damarensis   </td><td>6</td><td> 6</td><td>36</td><td>0.00200</td><td>0.00750</td><td>* </td></tr>\n",
       "\t<tr><td>Index_value</td><td>Eospalax cansus      </td><td>Heterocephalus glaber</td><td>6</td><td> 6</td><td>36</td><td>0.00200</td><td>0.00750</td><td>* </td></tr>\n",
       "\t<tr><td>Index_value</td><td>Eospalax cansus      </td><td>Nannospalax leucodon </td><td>6</td><td> 6</td><td>36</td><td>0.00200</td><td>0.00750</td><td>* </td></tr>\n",
       "\t<tr><td>Index_value</td><td>Eospalax cansus      </td><td>Rhizomys sinensis    </td><td>6</td><td>10</td><td>60</td><td>0.00025</td><td>0.00375</td><td>**</td></tr>\n",
       "\t<tr><td>Index_value</td><td>Fukomys damarensis   </td><td>Heterocephalus glaber</td><td>6</td><td> 6</td><td> 1</td><td>0.00400</td><td>0.01200</td><td>* </td></tr>\n",
       "\t<tr><td>Index_value</td><td>Heterocephalus glaber</td><td>Nannospalax leucodon </td><td>6</td><td> 6</td><td>34</td><td>0.00900</td><td>0.02250</td><td>ns</td></tr>\n",
       "</tbody>\n",
       "</table>\n"
      ],
      "text/latex": [
       "A rstatix\\_test: 6 × 9\n",
       "\\begin{tabular}{lllllllll}\n",
       " .y. & group1 & group2 & n1 & n2 & statistic & p & p.adj & p.adj.signif\\\\\n",
       " <chr> & <chr> & <chr> & <int> & <int> & <dbl> & <dbl> & <dbl> & <chr>\\\\\n",
       "\\hline\n",
       "\t Index\\_value & Eospalax cansus       & Fukomys damarensis    & 6 &  6 & 36 & 0.00200 & 0.00750 & * \\\\\n",
       "\t Index\\_value & Eospalax cansus       & Heterocephalus glaber & 6 &  6 & 36 & 0.00200 & 0.00750 & * \\\\\n",
       "\t Index\\_value & Eospalax cansus       & Nannospalax leucodon  & 6 &  6 & 36 & 0.00200 & 0.00750 & * \\\\\n",
       "\t Index\\_value & Eospalax cansus       & Rhizomys sinensis     & 6 & 10 & 60 & 0.00025 & 0.00375 & **\\\\\n",
       "\t Index\\_value & Fukomys damarensis    & Heterocephalus glaber & 6 &  6 &  1 & 0.00400 & 0.01200 & * \\\\\n",
       "\t Index\\_value & Heterocephalus glaber & Nannospalax leucodon  & 6 &  6 & 34 & 0.00900 & 0.02250 & ns\\\\\n",
       "\\end{tabular}\n"
      ],
      "text/markdown": [
       "\n",
       "A rstatix_test: 6 × 9\n",
       "\n",
       "| .y. &lt;chr&gt; | group1 &lt;chr&gt; | group2 &lt;chr&gt; | n1 &lt;int&gt; | n2 &lt;int&gt; | statistic &lt;dbl&gt; | p &lt;dbl&gt; | p.adj &lt;dbl&gt; | p.adj.signif &lt;chr&gt; |\n",
       "|---|---|---|---|---|---|---|---|---|\n",
       "| Index_value | Eospalax cansus       | Fukomys damarensis    | 6 |  6 | 36 | 0.00200 | 0.00750 | *  |\n",
       "| Index_value | Eospalax cansus       | Heterocephalus glaber | 6 |  6 | 36 | 0.00200 | 0.00750 | *  |\n",
       "| Index_value | Eospalax cansus       | Nannospalax leucodon  | 6 |  6 | 36 | 0.00200 | 0.00750 | *  |\n",
       "| Index_value | Eospalax cansus       | Rhizomys sinensis     | 6 | 10 | 60 | 0.00025 | 0.00375 | ** |\n",
       "| Index_value | Fukomys damarensis    | Heterocephalus glaber | 6 |  6 |  1 | 0.00400 | 0.01200 | *  |\n",
       "| Index_value | Heterocephalus glaber | Nannospalax leucodon  | 6 |  6 | 34 | 0.00900 | 0.02250 | ns |\n",
       "\n"
      ],
      "text/plain": [
       "  .y.         group1                group2                n1 n2 statistic\n",
       "1 Index_value Eospalax cansus       Fukomys damarensis    6   6 36       \n",
       "2 Index_value Eospalax cansus       Heterocephalus glaber 6   6 36       \n",
       "3 Index_value Eospalax cansus       Nannospalax leucodon  6   6 36       \n",
       "4 Index_value Eospalax cansus       Rhizomys sinensis     6  10 60       \n",
       "5 Index_value Fukomys damarensis    Heterocephalus glaber 6   6  1       \n",
       "6 Index_value Heterocephalus glaber Nannospalax leucodon  6   6 34       \n",
       "  p       p.adj   p.adj.signif\n",
       "1 0.00200 0.00750 *           \n",
       "2 0.00200 0.00750 *           \n",
       "3 0.00200 0.00750 *           \n",
       "4 0.00025 0.00375 **          \n",
       "5 0.00400 0.01200 *           \n",
       "6 0.00900 0.02250 ns          "
      ]
     },
     "metadata": {},
     "output_type": "display_data"
    },
    {
     "data": {
      "text/html": [
       "<table class=\"dataframe\">\n",
       "<caption>A rstatix_test: 5 × 9</caption>\n",
       "<thead>\n",
       "\t<tr><th scope=col>.y.</th><th scope=col>group1</th><th scope=col>group2</th><th scope=col>n1</th><th scope=col>n2</th><th scope=col>statistic</th><th scope=col>p</th><th scope=col>p.adj</th><th scope=col>p.adj.signif</th></tr>\n",
       "\t<tr><th scope=col>&lt;chr&gt;</th><th scope=col>&lt;chr&gt;</th><th scope=col>&lt;chr&gt;</th><th scope=col>&lt;int&gt;</th><th scope=col>&lt;int&gt;</th><th scope=col>&lt;dbl&gt;</th><th scope=col>&lt;dbl&gt;</th><th scope=col>&lt;dbl&gt;</th><th scope=col>&lt;chr&gt;</th></tr>\n",
       "</thead>\n",
       "<tbody>\n",
       "\t<tr><td>Index_value</td><td>Eospalax cansus</td><td>Fukomys damarensis    </td><td>6</td><td> 6</td><td>36</td><td>2e-03</td><td>0.0075</td><td>* </td></tr>\n",
       "\t<tr><td>Index_value</td><td>Eospalax cansus</td><td>Heterocephalus glaber </td><td>6</td><td> 6</td><td>36</td><td>2e-03</td><td>0.0075</td><td>* </td></tr>\n",
       "\t<tr><td>Index_value</td><td>Eospalax cansus</td><td>Nannospalax leucodon  </td><td>6</td><td> 6</td><td>36</td><td>2e-03</td><td>0.0075</td><td>* </td></tr>\n",
       "\t<tr><td>Index_value</td><td>Eospalax cansus</td><td>Rhizomys sinensis     </td><td>6</td><td>10</td><td>59</td><td>5e-04</td><td>0.0075</td><td>**</td></tr>\n",
       "\t<tr><td>Index_value</td><td>Eospalax cansus</td><td>Scaptochirus moschatus</td><td>6</td><td> 6</td><td>35</td><td>4e-03</td><td>0.0120</td><td>* </td></tr>\n",
       "</tbody>\n",
       "</table>\n"
      ],
      "text/latex": [
       "A rstatix\\_test: 5 × 9\n",
       "\\begin{tabular}{lllllllll}\n",
       " .y. & group1 & group2 & n1 & n2 & statistic & p & p.adj & p.adj.signif\\\\\n",
       " <chr> & <chr> & <chr> & <int> & <int> & <dbl> & <dbl> & <dbl> & <chr>\\\\\n",
       "\\hline\n",
       "\t Index\\_value & Eospalax cansus & Fukomys damarensis     & 6 &  6 & 36 & 2e-03 & 0.0075 & * \\\\\n",
       "\t Index\\_value & Eospalax cansus & Heterocephalus glaber  & 6 &  6 & 36 & 2e-03 & 0.0075 & * \\\\\n",
       "\t Index\\_value & Eospalax cansus & Nannospalax leucodon   & 6 &  6 & 36 & 2e-03 & 0.0075 & * \\\\\n",
       "\t Index\\_value & Eospalax cansus & Rhizomys sinensis      & 6 & 10 & 59 & 5e-04 & 0.0075 & **\\\\\n",
       "\t Index\\_value & Eospalax cansus & Scaptochirus moschatus & 6 &  6 & 35 & 4e-03 & 0.0120 & * \\\\\n",
       "\\end{tabular}\n"
      ],
      "text/markdown": [
       "\n",
       "A rstatix_test: 5 × 9\n",
       "\n",
       "| .y. &lt;chr&gt; | group1 &lt;chr&gt; | group2 &lt;chr&gt; | n1 &lt;int&gt; | n2 &lt;int&gt; | statistic &lt;dbl&gt; | p &lt;dbl&gt; | p.adj &lt;dbl&gt; | p.adj.signif &lt;chr&gt; |\n",
       "|---|---|---|---|---|---|---|---|---|\n",
       "| Index_value | Eospalax cansus | Fukomys damarensis     | 6 |  6 | 36 | 2e-03 | 0.0075 | *  |\n",
       "| Index_value | Eospalax cansus | Heterocephalus glaber  | 6 |  6 | 36 | 2e-03 | 0.0075 | *  |\n",
       "| Index_value | Eospalax cansus | Nannospalax leucodon   | 6 |  6 | 36 | 2e-03 | 0.0075 | *  |\n",
       "| Index_value | Eospalax cansus | Rhizomys sinensis      | 6 | 10 | 59 | 5e-04 | 0.0075 | ** |\n",
       "| Index_value | Eospalax cansus | Scaptochirus moschatus | 6 |  6 | 35 | 4e-03 | 0.0120 | *  |\n",
       "\n"
      ],
      "text/plain": [
       "  .y.         group1          group2                 n1 n2 statistic p    \n",
       "1 Index_value Eospalax cansus Fukomys damarensis     6   6 36        2e-03\n",
       "2 Index_value Eospalax cansus Heterocephalus glaber  6   6 36        2e-03\n",
       "3 Index_value Eospalax cansus Nannospalax leucodon   6   6 36        2e-03\n",
       "4 Index_value Eospalax cansus Rhizomys sinensis      6  10 59        5e-04\n",
       "5 Index_value Eospalax cansus Scaptochirus moschatus 6   6 35        4e-03\n",
       "  p.adj  p.adj.signif\n",
       "1 0.0075 *           \n",
       "2 0.0075 *           \n",
       "3 0.0075 *           \n",
       "4 0.0075 **          \n",
       "5 0.0120 *           "
      ]
     },
     "metadata": {},
     "output_type": "display_data"
    }
   ],
   "source": [
    "# underground\n",
    "alpha_div_exp %>% \n",
    "    filter(Index %in% 'Observed') %>% \n",
    "    filter(Habitat == 'Underground') %>%  \n",
    "    wilcox_test(Index_value ~ Species) %>%  \n",
    "    adjust_pvalue(method = \"BH\") %>% \n",
    "    filter(p.adj <= 0.05)\n",
    "alpha_div_exp %>% \n",
    "    filter(Index %in% 'Shannon') %>% \n",
    "    filter(Habitat == 'Underground') %>%   \n",
    "    wilcox_test(Index_value ~ Species) %>%  \n",
    "    adjust_pvalue(method = \"BH\") %>% \n",
    "    filter(p.adj <= 0.05)"
   ]
  },
  {
   "cell_type": "code",
   "execution_count": 9,
   "metadata": {
    "ExecuteTime": {
     "end_time": "2024-03-13T03:08:04.208459Z",
     "start_time": "2024-03-13T03:08:03.251Z"
    }
   },
   "outputs": [
    {
     "data": {
      "image/png": "[encoded data removed]",
      "text/plain": [
       "plot without title"
      ]
     },
     "metadata": {
      "image/png": {
       "height": 120,
       "width": 360
      }
     },
     "output_type": "display_data"
    }
   ],
   "source": [
    "# plotting by metric & habitat\n",
    "to_keep = c('Observed','Shannon')\n",
    "p = ggplot(alpha_div_exp %>% filter(Index %in% to_keep), \n",
    "           aes(Group, Index_value,color=Habitat)) +\n",
    "    geom_boxplot() +\n",
    "    labs(x='Group', y='Value') +\n",
    "    facet_wrap(~ Index, scales='free_y') +\n",
    "    theme_bw()\n",
    "#     theme(\n",
    "#         axis.text.x = element_text(angle=45, hjust=1)\n",
    "#     )\n",
    "\n",
    "options(repr.plot.width=6, repr.plot.height=2)\n",
    "plot(p)"
   ]
  },
  {
   "cell_type": "code",
   "execution_count": 10,
   "metadata": {
    "ExecuteTime": {
     "end_time": "2024-03-13T03:08:24.103764Z",
     "start_time": "2024-03-13T03:08:23.436Z"
    }
   },
   "outputs": [],
   "source": [
    "ggsave(\"alpha_habitat.pdf\",width = 6,height = 2,dpi = 1000)"
   ]
  },
  {
   "cell_type": "code",
   "execution_count": 11,
   "metadata": {
    "ExecuteTime": {
     "end_time": "2024-03-13T03:11:32.257433Z",
     "start_time": "2024-03-13T03:11:31.810Z"
    },
    "scrolled": false
   },
   "outputs": [
    {
     "data": {
      "text/html": [
       "<table class=\"dataframe\">\n",
       "<caption>A rstatix_test: 3 × 9</caption>\n",
       "<thead>\n",
       "\t<tr><th scope=col>Group</th><th scope=col>.y.</th><th scope=col>group1</th><th scope=col>group2</th><th scope=col>n1</th><th scope=col>n2</th><th scope=col>statistic</th><th scope=col>p</th><th scope=col>p.adj</th></tr>\n",
       "\t<tr><th scope=col>&lt;chr&gt;</th><th scope=col>&lt;chr&gt;</th><th scope=col>&lt;chr&gt;</th><th scope=col>&lt;chr&gt;</th><th scope=col>&lt;int&gt;</th><th scope=col>&lt;int&gt;</th><th scope=col>&lt;dbl&gt;</th><th scope=col>&lt;dbl&gt;</th><th scope=col>&lt;dbl&gt;</th></tr>\n",
       "</thead>\n",
       "<tbody>\n",
       "\t<tr><td>Bathyergidae and relatives</td><td>Index_value</td><td>Aboveground</td><td>Underground</td><td> 9</td><td>12</td><td> 76.0</td><td>0.129</td><td>0.387</td></tr>\n",
       "\t<tr><td>Soricidae and relatives   </td><td>Index_value</td><td>Aboveground</td><td>Underground</td><td> 6</td><td> 6</td><td> 18.0</td><td>1.000</td><td>1.000</td></tr>\n",
       "\t<tr><td>Spalacidae and relatives  </td><td>Index_value</td><td>Aboveground</td><td>Underground</td><td>25</td><td>22</td><td>227.5</td><td>0.316</td><td>0.474</td></tr>\n",
       "</tbody>\n",
       "</table>\n"
      ],
      "text/latex": [
       "A rstatix\\_test: 3 × 9\n",
       "\\begin{tabular}{lllllllll}\n",
       " Group & .y. & group1 & group2 & n1 & n2 & statistic & p & p.adj\\\\\n",
       " <chr> & <chr> & <chr> & <chr> & <int> & <int> & <dbl> & <dbl> & <dbl>\\\\\n",
       "\\hline\n",
       "\t Bathyergidae and relatives & Index\\_value & Aboveground & Underground &  9 & 12 &  76.0 & 0.129 & 0.387\\\\\n",
       "\t Soricidae and relatives    & Index\\_value & Aboveground & Underground &  6 &  6 &  18.0 & 1.000 & 1.000\\\\\n",
       "\t Spalacidae and relatives   & Index\\_value & Aboveground & Underground & 25 & 22 & 227.5 & 0.316 & 0.474\\\\\n",
       "\\end{tabular}\n"
      ],
      "text/markdown": [
       "\n",
       "A rstatix_test: 3 × 9\n",
       "\n",
       "| Group &lt;chr&gt; | .y. &lt;chr&gt; | group1 &lt;chr&gt; | group2 &lt;chr&gt; | n1 &lt;int&gt; | n2 &lt;int&gt; | statistic &lt;dbl&gt; | p &lt;dbl&gt; | p.adj &lt;dbl&gt; |\n",
       "|---|---|---|---|---|---|---|---|---|\n",
       "| Bathyergidae and relatives | Index_value | Aboveground | Underground |  9 | 12 |  76.0 | 0.129 | 0.387 |\n",
       "| Soricidae and relatives    | Index_value | Aboveground | Underground |  6 |  6 |  18.0 | 1.000 | 1.000 |\n",
       "| Spalacidae and relatives   | Index_value | Aboveground | Underground | 25 | 22 | 227.5 | 0.316 | 0.474 |\n",
       "\n"
      ],
      "text/plain": [
       "  Group                      .y.         group1      group2      n1 n2\n",
       "1 Bathyergidae and relatives Index_value Aboveground Underground  9 12\n",
       "2 Soricidae and relatives    Index_value Aboveground Underground  6  6\n",
       "3 Spalacidae and relatives   Index_value Aboveground Underground 25 22\n",
       "  statistic p     p.adj\n",
       "1  76.0     0.129 0.387\n",
       "2  18.0     1.000 1.000\n",
       "3 227.5     0.316 0.474"
      ]
     },
     "metadata": {},
     "output_type": "display_data"
    },
    {
     "data": {
      "text/html": [
       "<table class=\"dataframe\">\n",
       "<caption>A rstatix_test: 3 × 9</caption>\n",
       "<thead>\n",
       "\t<tr><th scope=col>Group</th><th scope=col>.y.</th><th scope=col>group1</th><th scope=col>group2</th><th scope=col>n1</th><th scope=col>n2</th><th scope=col>statistic</th><th scope=col>p</th><th scope=col>p.adj</th></tr>\n",
       "\t<tr><th scope=col>&lt;chr&gt;</th><th scope=col>&lt;chr&gt;</th><th scope=col>&lt;chr&gt;</th><th scope=col>&lt;chr&gt;</th><th scope=col>&lt;int&gt;</th><th scope=col>&lt;int&gt;</th><th scope=col>&lt;dbl&gt;</th><th scope=col>&lt;dbl&gt;</th><th scope=col>&lt;dbl&gt;</th></tr>\n",
       "</thead>\n",
       "<tbody>\n",
       "\t<tr><td>Bathyergidae and relatives</td><td>Index_value</td><td>Aboveground</td><td>Underground</td><td> 9</td><td>12</td><td> 65</td><td>0.464</td><td>0.696</td></tr>\n",
       "\t<tr><td>Soricidae and relatives   </td><td>Index_value</td><td>Aboveground</td><td>Underground</td><td> 6</td><td> 6</td><td> 20</td><td>0.818</td><td>0.818</td></tr>\n",
       "\t<tr><td>Spalacidae and relatives  </td><td>Index_value</td><td>Aboveground</td><td>Underground</td><td>25</td><td>22</td><td>217</td><td>0.223</td><td>0.669</td></tr>\n",
       "</tbody>\n",
       "</table>\n"
      ],
      "text/latex": [
       "A rstatix\\_test: 3 × 9\n",
       "\\begin{tabular}{lllllllll}\n",
       " Group & .y. & group1 & group2 & n1 & n2 & statistic & p & p.adj\\\\\n",
       " <chr> & <chr> & <chr> & <chr> & <int> & <int> & <dbl> & <dbl> & <dbl>\\\\\n",
       "\\hline\n",
       "\t Bathyergidae and relatives & Index\\_value & Aboveground & Underground &  9 & 12 &  65 & 0.464 & 0.696\\\\\n",
       "\t Soricidae and relatives    & Index\\_value & Aboveground & Underground &  6 &  6 &  20 & 0.818 & 0.818\\\\\n",
       "\t Spalacidae and relatives   & Index\\_value & Aboveground & Underground & 25 & 22 & 217 & 0.223 & 0.669\\\\\n",
       "\\end{tabular}\n"
      ],
      "text/markdown": [
       "\n",
       "A rstatix_test: 3 × 9\n",
       "\n",
       "| Group &lt;chr&gt; | .y. &lt;chr&gt; | group1 &lt;chr&gt; | group2 &lt;chr&gt; | n1 &lt;int&gt; | n2 &lt;int&gt; | statistic &lt;dbl&gt; | p &lt;dbl&gt; | p.adj &lt;dbl&gt; |\n",
       "|---|---|---|---|---|---|---|---|---|\n",
       "| Bathyergidae and relatives | Index_value | Aboveground | Underground |  9 | 12 |  65 | 0.464 | 0.696 |\n",
       "| Soricidae and relatives    | Index_value | Aboveground | Underground |  6 |  6 |  20 | 0.818 | 0.818 |\n",
       "| Spalacidae and relatives   | Index_value | Aboveground | Underground | 25 | 22 | 217 | 0.223 | 0.669 |\n",
       "\n"
      ],
      "text/plain": [
       "  Group                      .y.         group1      group2      n1 n2\n",
       "1 Bathyergidae and relatives Index_value Aboveground Underground  9 12\n",
       "2 Soricidae and relatives    Index_value Aboveground Underground  6  6\n",
       "3 Spalacidae and relatives   Index_value Aboveground Underground 25 22\n",
       "  statistic p     p.adj\n",
       "1  65       0.464 0.696\n",
       "2  20       0.818 0.818\n",
       "3 217       0.223 0.669"
      ]
     },
     "metadata": {},
     "output_type": "display_data"
    }
   ],
   "source": [
    "# habitat\n",
    "alpha_div_exp %>% \n",
    "    filter(Index %in% 'Observed') %>% \n",
    "    group_by(Group) %>% \n",
    "    wilcox_test(Index_value ~ Habitat) %>%  \n",
    "    adjust_pvalue(method = \"BH\")\n",
    "alpha_div_exp %>% \n",
    "    filter(Index %in% 'Shannon') %>% \n",
    "    group_by(Group) %>% \n",
    "    wilcox_test(Index_value ~ Habitat) %>%  \n",
    "    adjust_pvalue(method = \"BH\")"
   ]
  },
  {
   "cell_type": "code",
   "execution_count": 14,
   "metadata": {
    "ExecuteTime": {
     "end_time": "2024-03-31T13:57:43.486914Z",
     "start_time": "2024-03-31T13:57:43.069Z"
    }
   },
   "outputs": [
    {
     "data": {
      "text/html": [
       "<table class=\"dataframe\">\n",
       "<caption>A rstatix_test: 3 × 9</caption>\n",
       "<thead>\n",
       "\t<tr><th scope=col>.y.</th><th scope=col>group1</th><th scope=col>group2</th><th scope=col>n1</th><th scope=col>n2</th><th scope=col>statistic</th><th scope=col>p</th><th scope=col>p.adj</th><th scope=col>p.adj.signif</th></tr>\n",
       "\t<tr><th scope=col>&lt;chr&gt;</th><th scope=col>&lt;chr&gt;</th><th scope=col>&lt;chr&gt;</th><th scope=col>&lt;int&gt;</th><th scope=col>&lt;int&gt;</th><th scope=col>&lt;dbl&gt;</th><th scope=col>&lt;dbl&gt;</th><th scope=col>&lt;dbl&gt;</th><th scope=col>&lt;chr&gt;</th></tr>\n",
       "</thead>\n",
       "<tbody>\n",
       "\t<tr><td>Index_value</td><td>Bathyergidae and relatives</td><td>Soricidae and relatives </td><td>12</td><td> 6</td><td> 24</td><td>0.291</td><td>0.4365</td><td>ns</td></tr>\n",
       "\t<tr><td>Index_value</td><td>Bathyergidae and relatives</td><td>Spalacidae and relatives</td><td>12</td><td>22</td><td>101</td><td>0.276</td><td>0.4365</td><td>ns</td></tr>\n",
       "\t<tr><td>Index_value</td><td>Soricidae and relatives   </td><td>Spalacidae and relatives</td><td> 6</td><td>22</td><td> 64</td><td>0.935</td><td>0.9350</td><td>ns</td></tr>\n",
       "</tbody>\n",
       "</table>\n"
      ],
      "text/latex": [
       "A rstatix\\_test: 3 × 9\n",
       "\\begin{tabular}{lllllllll}\n",
       " .y. & group1 & group2 & n1 & n2 & statistic & p & p.adj & p.adj.signif\\\\\n",
       " <chr> & <chr> & <chr> & <int> & <int> & <dbl> & <dbl> & <dbl> & <chr>\\\\\n",
       "\\hline\n",
       "\t Index\\_value & Bathyergidae and relatives & Soricidae and relatives  & 12 &  6 &  24 & 0.291 & 0.4365 & ns\\\\\n",
       "\t Index\\_value & Bathyergidae and relatives & Spalacidae and relatives & 12 & 22 & 101 & 0.276 & 0.4365 & ns\\\\\n",
       "\t Index\\_value & Soricidae and relatives    & Spalacidae and relatives &  6 & 22 &  64 & 0.935 & 0.9350 & ns\\\\\n",
       "\\end{tabular}\n"
      ],
      "text/markdown": [
       "\n",
       "A rstatix_test: 3 × 9\n",
       "\n",
       "| .y. &lt;chr&gt; | group1 &lt;chr&gt; | group2 &lt;chr&gt; | n1 &lt;int&gt; | n2 &lt;int&gt; | statistic &lt;dbl&gt; | p &lt;dbl&gt; | p.adj &lt;dbl&gt; | p.adj.signif &lt;chr&gt; |\n",
       "|---|---|---|---|---|---|---|---|---|\n",
       "| Index_value | Bathyergidae and relatives | Soricidae and relatives  | 12 |  6 |  24 | 0.291 | 0.4365 | ns |\n",
       "| Index_value | Bathyergidae and relatives | Spalacidae and relatives | 12 | 22 | 101 | 0.276 | 0.4365 | ns |\n",
       "| Index_value | Soricidae and relatives    | Spalacidae and relatives |  6 | 22 |  64 | 0.935 | 0.9350 | ns |\n",
       "\n"
      ],
      "text/plain": [
       "  .y.         group1                     group2                   n1 n2\n",
       "1 Index_value Bathyergidae and relatives Soricidae and relatives  12  6\n",
       "2 Index_value Bathyergidae and relatives Spalacidae and relatives 12 22\n",
       "3 Index_value Soricidae and relatives    Spalacidae and relatives  6 22\n",
       "  statistic p     p.adj  p.adj.signif\n",
       "1  24       0.291 0.4365 ns          \n",
       "2 101       0.276 0.4365 ns          \n",
       "3  64       0.935 0.9350 ns          "
      ]
     },
     "metadata": {},
     "output_type": "display_data"
    },
    {
     "data": {
      "text/html": [
       "<table class=\"dataframe\">\n",
       "<caption>A rstatix_test: 3 × 9</caption>\n",
       "<thead>\n",
       "\t<tr><th scope=col>.y.</th><th scope=col>group1</th><th scope=col>group2</th><th scope=col>n1</th><th scope=col>n2</th><th scope=col>statistic</th><th scope=col>p</th><th scope=col>p.adj</th><th scope=col>p.adj.signif</th></tr>\n",
       "\t<tr><th scope=col>&lt;chr&gt;</th><th scope=col>&lt;chr&gt;</th><th scope=col>&lt;chr&gt;</th><th scope=col>&lt;int&gt;</th><th scope=col>&lt;int&gt;</th><th scope=col>&lt;dbl&gt;</th><th scope=col>&lt;dbl&gt;</th><th scope=col>&lt;dbl&gt;</th><th scope=col>&lt;chr&gt;</th></tr>\n",
       "</thead>\n",
       "<tbody>\n",
       "\t<tr><td>Index_value</td><td>Bathyergidae and relatives</td><td>Soricidae and relatives </td><td>12</td><td> 6</td><td>50</td><td>0.213</td><td>0.213</td><td>ns</td></tr>\n",
       "\t<tr><td>Index_value</td><td>Bathyergidae and relatives</td><td>Spalacidae and relatives</td><td>12</td><td>22</td><td>90</td><td>0.136</td><td>0.204</td><td>ns</td></tr>\n",
       "\t<tr><td>Index_value</td><td>Soricidae and relatives   </td><td>Spalacidae and relatives</td><td> 6</td><td>22</td><td>31</td><td>0.052</td><td>0.156</td><td>ns</td></tr>\n",
       "</tbody>\n",
       "</table>\n"
      ],
      "text/latex": [
       "A rstatix\\_test: 3 × 9\n",
       "\\begin{tabular}{lllllllll}\n",
       " .y. & group1 & group2 & n1 & n2 & statistic & p & p.adj & p.adj.signif\\\\\n",
       " <chr> & <chr> & <chr> & <int> & <int> & <dbl> & <dbl> & <dbl> & <chr>\\\\\n",
       "\\hline\n",
       "\t Index\\_value & Bathyergidae and relatives & Soricidae and relatives  & 12 &  6 & 50 & 0.213 & 0.213 & ns\\\\\n",
       "\t Index\\_value & Bathyergidae and relatives & Spalacidae and relatives & 12 & 22 & 90 & 0.136 & 0.204 & ns\\\\\n",
       "\t Index\\_value & Soricidae and relatives    & Spalacidae and relatives &  6 & 22 & 31 & 0.052 & 0.156 & ns\\\\\n",
       "\\end{tabular}\n"
      ],
      "text/markdown": [
       "\n",
       "A rstatix_test: 3 × 9\n",
       "\n",
       "| .y. &lt;chr&gt; | group1 &lt;chr&gt; | group2 &lt;chr&gt; | n1 &lt;int&gt; | n2 &lt;int&gt; | statistic &lt;dbl&gt; | p &lt;dbl&gt; | p.adj &lt;dbl&gt; | p.adj.signif &lt;chr&gt; |\n",
       "|---|---|---|---|---|---|---|---|---|\n",
       "| Index_value | Bathyergidae and relatives | Soricidae and relatives  | 12 |  6 | 50 | 0.213 | 0.213 | ns |\n",
       "| Index_value | Bathyergidae and relatives | Spalacidae and relatives | 12 | 22 | 90 | 0.136 | 0.204 | ns |\n",
       "| Index_value | Soricidae and relatives    | Spalacidae and relatives |  6 | 22 | 31 | 0.052 | 0.156 | ns |\n",
       "\n"
      ],
      "text/plain": [
       "  .y.         group1                     group2                   n1 n2\n",
       "1 Index_value Bathyergidae and relatives Soricidae and relatives  12  6\n",
       "2 Index_value Bathyergidae and relatives Spalacidae and relatives 12 22\n",
       "3 Index_value Soricidae and relatives    Spalacidae and relatives  6 22\n",
       "  statistic p     p.adj p.adj.signif\n",
       "1 50        0.213 0.213 ns          \n",
       "2 90        0.136 0.204 ns          \n",
       "3 31        0.052 0.156 ns          "
      ]
     },
     "metadata": {},
     "output_type": "display_data"
    }
   ],
   "source": [
    "# habitat\n",
    "alpha_div_exp %>% \n",
    "    filter(Index %in% 'Observed') %>%\n",
    "    filter(Habitat == 'Underground') %>%  \n",
    "    wilcox_test(Index_value ~ Group) %>%  \n",
    "    adjust_pvalue(method = \"BH\")\n",
    "alpha_div_exp %>% \n",
    "    filter(Index %in% 'Shannon') %>% \n",
    "    filter(Habitat == 'Underground') %>% \n",
    "    wilcox_test(Index_value ~ Group) %>%  \n",
    "    adjust_pvalue(method = \"BH\")"
   ]
  }
 ],
 "metadata": {
  "kernelspec": {
   "display_name": "R",
   "language": "R",
   "name": "ir"
  },
  "language_info": {
   "codemirror_mode": "r",
   "file_extension": ".r",
   "mimetype": "text/x-r-source",
   "name": "R",
   "pygments_lexer": "r",
   "version": "4.1.0"
  },
  "latex_envs": {
   "LaTeX_envs_menu_present": true,
   "autoclose": false,
   "autocomplete": true,
   "bibliofile": "biblio.bib",
   "cite_by": "apalike",
   "current_citInitial": 1,
   "eqLabelWithNumbers": true,
   "eqNumInitial": 1,
   "hotkeys": {
    "equation": "Ctrl-E",
    "itemize": "Ctrl-I"
   },
   "labels_anchors": false,
   "latex_user_defs": false,
   "report_style_numbering": false,
   "user_envs_cfg": false
  },
  "toc": {
   "base_numbering": 1,
   "nav_menu": {},
   "number_sections": true,
   "sideBar": true,
   "skip_h1_title": false,
   "title_cell": "Table of Contents",
   "title_sidebar": "Contents",
   "toc_cell": false,
   "toc_position": {},
   "toc_section_display": true,
   "toc_window_display": false
  },
  "varInspector": {
   "cols": {
    "lenName": 16,
    "lenType": 16,
    "lenVar": 40
   },
   "kernels_config": {
    "python": {
     "delete_cmd_postfix": "",
     "delete_cmd_prefix": "del ",
     "library": "var_list.py",
     "varRefreshCmd": "print(var_dic_list())"
    },
    "r": {
     "delete_cmd_postfix": ") ",
     "delete_cmd_prefix": "rm(",
     "library": "var_list.r",
     "varRefreshCmd": "cat(var_dic_list()) "
    }
   },
   "types_to_exclude": [
    "module",
    "function",
    "builtin_function_or_method",
    "instance",
    "_Feature"
   ],
   "window_display": false
  }
 },
 "nbformat": 4,
 "nbformat_minor": 5
}
