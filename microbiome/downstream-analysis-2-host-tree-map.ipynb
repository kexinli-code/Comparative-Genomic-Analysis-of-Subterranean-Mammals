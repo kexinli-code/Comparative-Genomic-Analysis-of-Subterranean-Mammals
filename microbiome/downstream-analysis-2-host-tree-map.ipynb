{
 "cells": [
  {
   "cell_type": "code",
   "execution_count": 1,
   "metadata": {
    "ExecuteTime": {
     "end_time": "2024-10-08T14:04:59.905035Z",
     "start_time": "2024-10-08T14:04:59.519Z"
    }
   },
   "outputs": [
    {
     "data": {
      "text/html": [
       "<style>\n",
       ".list-inline {list-style: none; margin:0; padding: 0}\n",
       ".list-inline>li {display: inline-block}\n",
       ".list-inline>li:not(:last-child)::after {content: \"\\00b7\"; padding: 0 .5ex}\n",
       "</style>\n",
       "<ol class=list-inline><li>'alpha_div.rds'</li><li>'alpha_habitat.pdf'</li><li>'alpha_Observed_MRM.pdf'</li><li>'alpha_pgls.pdf'</li><li>'alpha_Shannon_MRM.pdf'</li><li>'alpha_underground.pdf'</li><li>'ASV_species.xls'</li><li>'ASV_table.tsv'</li><li>'beta_div.rds'</li><li>'bray_distance.xls'</li><li>'bray_MRM.pdf'</li><li>'bray_pcoa.pdf'</li><li>'bray_pgls.pdf'</li><li>'dna-sequences.fasta'</li><li>'Enterotypes_bamboo.pdf'</li><li>'filtered-table.tsv'</li><li>'genus_barplot_Bathyergidae.pdf'</li><li>'genus_barplot_habitat.pdf'</li><li>'genus_barplot_Soricidae.pdf'</li><li>'genus_barplot_Spalacidae.pdf'</li><li>'genus_barplot_underground.pdf'</li><li>'genus_lefse_habitat.pdf'</li><li>'genus_lefse_Spalacidae.pdf'</li><li>'genus.pdf'</li><li>'host_tree_exp_dist.RDS'</li><li>'host_tree_exp.nwk'</li><li>'host_tree.nwk'</li><li>'host_tree.pdf'</li><li>'host_tree.png'</li><li>'init.R'</li><li>'metadata.txt'</li><li>'otu_genus.xls'</li><li>'otu_phylum.xls'</li><li>'OTU_species.xls'</li><li>'phyloseq_phylum_itol-phylumbar.txt'</li><li>'phyloseq.rds'</li><li>'physeq_diet-itol.txt'</li><li>'physeq_gut-itol.txt'</li><li>'physeq_life_style-itol.txt'</li><li>'physeq_sample_type-itol.txt'</li><li>'rarefied_ASV.xls'</li><li>'rep.fa'</li><li>'rep.xls'</li><li>'rooted_tree.nwk'</li><li>'taxa.xls'</li><li>'taxonomy.tsv'</li><li>'upgma_bray_species.pdf'</li><li>'upgma_bray_species.png'</li></ol>\n"
      ],
      "text/latex": [
       "\\begin{enumerate*}\n",
       "\\item 'alpha\\_div.rds'\n",
       "\\item 'alpha\\_habitat.pdf'\n",
       "\\item 'alpha\\_Observed\\_MRM.pdf'\n",
       "\\item 'alpha\\_pgls.pdf'\n",
       "\\item 'alpha\\_Shannon\\_MRM.pdf'\n",
       "\\item 'alpha\\_underground.pdf'\n",
       "\\item 'ASV\\_species.xls'\n",
       "\\item 'ASV\\_table.tsv'\n",
       "\\item 'beta\\_div.rds'\n",
       "\\item 'bray\\_distance.xls'\n",
       "\\item 'bray\\_MRM.pdf'\n",
       "\\item 'bray\\_pcoa.pdf'\n",
       "\\item 'bray\\_pgls.pdf'\n",
       "\\item 'dna-sequences.fasta'\n",
       "\\item 'Enterotypes\\_bamboo.pdf'\n",
       "\\item 'filtered-table.tsv'\n",
       "\\item 'genus\\_barplot\\_Bathyergidae.pdf'\n",
       "\\item 'genus\\_barplot\\_habitat.pdf'\n",
       "\\item 'genus\\_barplot\\_Soricidae.pdf'\n",
       "\\item 'genus\\_barplot\\_Spalacidae.pdf'\n",
       "\\item 'genus\\_barplot\\_underground.pdf'\n",
       "\\item 'genus\\_lefse\\_habitat.pdf'\n",
       "\\item 'genus\\_lefse\\_Spalacidae.pdf'\n",
       "\\item 'genus.pdf'\n",
       "\\item 'host\\_tree\\_exp\\_dist.RDS'\n",
       "\\item 'host\\_tree\\_exp.nwk'\n",
       "\\item 'host\\_tree.nwk'\n",
       "\\item 'host\\_tree.pdf'\n",
       "\\item 'host\\_tree.png'\n",
       "\\item 'init.R'\n",
       "\\item 'metadata.txt'\n",
       "\\item 'otu\\_genus.xls'\n",
       "\\item 'otu\\_phylum.xls'\n",
       "\\item 'OTU\\_species.xls'\n",
       "\\item 'phyloseq\\_phylum\\_itol-phylumbar.txt'\n",
       "\\item 'phyloseq.rds'\n",
       "\\item 'physeq\\_diet-itol.txt'\n",
       "\\item 'physeq\\_gut-itol.txt'\n",
       "\\item 'physeq\\_life\\_style-itol.txt'\n",
       "\\item 'physeq\\_sample\\_type-itol.txt'\n",
       "\\item 'rarefied\\_ASV.xls'\n",
       "\\item 'rep.fa'\n",
       "\\item 'rep.xls'\n",
       "\\item 'rooted\\_tree.nwk'\n",
       "\\item 'taxa.xls'\n",
       "\\item 'taxonomy.tsv'\n",
       "\\item 'upgma\\_bray\\_species.pdf'\n",
       "\\item 'upgma\\_bray\\_species.png'\n",
       "\\end{enumerate*}\n"
      ],
      "text/markdown": [
       "1. 'alpha_div.rds'\n",
       "2. 'alpha_habitat.pdf'\n",
       "3. 'alpha_Observed_MRM.pdf'\n",
       "4. 'alpha_pgls.pdf'\n",
       "5. 'alpha_Shannon_MRM.pdf'\n",
       "6. 'alpha_underground.pdf'\n",
       "7. 'ASV_species.xls'\n",
       "8. 'ASV_table.tsv'\n",
       "9. 'beta_div.rds'\n",
       "10. 'bray_distance.xls'\n",
       "11. 'bray_MRM.pdf'\n",
       "12. 'bray_pcoa.pdf'\n",
       "13. 'bray_pgls.pdf'\n",
       "14. 'dna-sequences.fasta'\n",
       "15. 'Enterotypes_bamboo.pdf'\n",
       "16. 'filtered-table.tsv'\n",
       "17. 'genus_barplot_Bathyergidae.pdf'\n",
       "18. 'genus_barplot_habitat.pdf'\n",
       "19. 'genus_barplot_Soricidae.pdf'\n",
       "20. 'genus_barplot_Spalacidae.pdf'\n",
       "21. 'genus_barplot_underground.pdf'\n",
       "22. 'genus_lefse_habitat.pdf'\n",
       "23. 'genus_lefse_Spalacidae.pdf'\n",
       "24. 'genus.pdf'\n",
       "25. 'host_tree_exp_dist.RDS'\n",
       "26. 'host_tree_exp.nwk'\n",
       "27. 'host_tree.nwk'\n",
       "28. 'host_tree.pdf'\n",
       "29. 'host_tree.png'\n",
       "30. 'init.R'\n",
       "31. 'metadata.txt'\n",
       "32. 'otu_genus.xls'\n",
       "33. 'otu_phylum.xls'\n",
       "34. 'OTU_species.xls'\n",
       "35. 'phyloseq_phylum_itol-phylumbar.txt'\n",
       "36. 'phyloseq.rds'\n",
       "37. 'physeq_diet-itol.txt'\n",
       "38. 'physeq_gut-itol.txt'\n",
       "39. 'physeq_life_style-itol.txt'\n",
       "40. 'physeq_sample_type-itol.txt'\n",
       "41. 'rarefied_ASV.xls'\n",
       "42. 'rep.fa'\n",
       "43. 'rep.xls'\n",
       "44. 'rooted_tree.nwk'\n",
       "45. 'taxa.xls'\n",
       "46. 'taxonomy.tsv'\n",
       "47. 'upgma_bray_species.pdf'\n",
       "48. 'upgma_bray_species.png'\n",
       "\n",
       "\n"
      ],
      "text/plain": [
       " [1] \"alpha_div.rds\"                      \"alpha_habitat.pdf\"                 \n",
       " [3] \"alpha_Observed_MRM.pdf\"             \"alpha_pgls.pdf\"                    \n",
       " [5] \"alpha_Shannon_MRM.pdf\"              \"alpha_underground.pdf\"             \n",
       " [7] \"ASV_species.xls\"                    \"ASV_table.tsv\"                     \n",
       " [9] \"beta_div.rds\"                       \"bray_distance.xls\"                 \n",
       "[11] \"bray_MRM.pdf\"                       \"bray_pcoa.pdf\"                     \n",
       "[13] \"bray_pgls.pdf\"                      \"dna-sequences.fasta\"               \n",
       "[15] \"Enterotypes_bamboo.pdf\"             \"filtered-table.tsv\"                \n",
       "[17] \"genus_barplot_Bathyergidae.pdf\"     \"genus_barplot_habitat.pdf\"         \n",
       "[19] \"genus_barplot_Soricidae.pdf\"        \"genus_barplot_Spalacidae.pdf\"      \n",
       "[21] \"genus_barplot_underground.pdf\"      \"genus_lefse_habitat.pdf\"           \n",
       "[23] \"genus_lefse_Spalacidae.pdf\"         \"genus.pdf\"                         \n",
       "[25] \"host_tree_exp_dist.RDS\"             \"host_tree_exp.nwk\"                 \n",
       "[27] \"host_tree.nwk\"                      \"host_tree.pdf\"                     \n",
       "[29] \"host_tree.png\"                      \"init.R\"                            \n",
       "[31] \"metadata.txt\"                       \"otu_genus.xls\"                     \n",
       "[33] \"otu_phylum.xls\"                     \"OTU_species.xls\"                   \n",
       "[35] \"phyloseq_phylum_itol-phylumbar.txt\" \"phyloseq.rds\"                      \n",
       "[37] \"physeq_diet-itol.txt\"               \"physeq_gut-itol.txt\"               \n",
       "[39] \"physeq_life_style-itol.txt\"         \"physeq_sample_type-itol.txt\"       \n",
       "[41] \"rarefied_ASV.xls\"                   \"rep.fa\"                            \n",
       "[43] \"rep.xls\"                            \"rooted_tree.nwk\"                   \n",
       "[45] \"taxa.xls\"                           \"taxonomy.tsv\"                      \n",
       "[47] \"upgma_bray_species.pdf\"             \"upgma_bray_species.png\"            "
      ]
     },
     "metadata": {},
     "output_type": "display_data"
    }
   ],
   "source": [
    "setwd('/public/home/lyx/00.16S/00BR/00.bamboorat/phyloseq/')\n",
    "list.files()"
   ]
  },
  {
   "cell_type": "code",
   "execution_count": 2,
   "metadata": {
    "ExecuteTime": {
     "end_time": "2024-10-08T14:05:16.470244Z",
     "start_time": "2024-10-08T14:05:02.464Z"
    }
   },
   "outputs": [
    {
     "name": "stderr",
     "output_type": "stream",
     "text": [
      "\n",
      "Attaching package: ‘dplyr’\n",
      "\n",
      "\n",
      "The following objects are masked from ‘package:stats’:\n",
      "\n",
      "    filter, lag\n",
      "\n",
      "\n",
      "The following objects are masked from ‘package:base’:\n",
      "\n",
      "    intersect, setdiff, setequal, union\n",
      "\n",
      "\n",
      "\n",
      "Attaching package: ‘ape’\n",
      "\n",
      "\n",
      "The following object is masked from ‘package:dplyr’:\n",
      "\n",
      "    where\n",
      "\n",
      "\n",
      "Loading required package: permute\n",
      "\n",
      "Loading required package: lattice\n",
      "\n",
      "This is vegan 2.6-6.1\n",
      "\n"
     ]
    }
   ],
   "source": [
    "library(dplyr)\n",
    "library(tidyr)\n",
    "library(ggplot2)\n",
    "library(phyloseq)\n",
    "library(ape)\n",
    "library(stringr)\n",
    "library(vegan)"
   ]
  },
  {
   "cell_type": "code",
   "execution_count": 3,
   "metadata": {
    "ExecuteTime": {
     "end_time": "2024-10-08T14:05:16.581567Z",
     "start_time": "2024-10-08T14:05:09.926Z"
    }
   },
   "outputs": [
    {
     "data": {
      "text/plain": [
       "phyloseq-class experiment-level object\n",
       "otu_table()   OTU Table:         [ 4858 taxa and 80 samples ]\n",
       "sample_data() Sample Data:       [ 80 samples by 15 sample variables ]\n",
       "tax_table()   Taxonomy Table:    [ 4858 taxa by 7 taxonomic ranks ]\n",
       "phy_tree()    Phylogenetic Tree: [ 4858 tips and 4857 internal nodes ]"
      ]
     },
     "metadata": {},
     "output_type": "display_data"
    }
   ],
   "source": [
    "phyloseq <- readRDS(\"phyloseq.rds\")\n",
    "phyloseq"
   ]
  },
  {
   "cell_type": "code",
   "execution_count": 4,
   "metadata": {
    "ExecuteTime": {
     "end_time": "2024-10-08T14:05:19.806617Z",
     "start_time": "2024-10-08T14:05:19.623Z"
    }
   },
   "outputs": [
    {
     "name": "stdout",
     "output_type": "stream",
     "text": [
      "[1] 80\n"
     ]
    },
    {
     "data": {
      "text/html": [
       "<style>\n",
       ".list-inline {list-style: none; margin:0; padding: 0}\n",
       ".list-inline>li {display: inline-block}\n",
       ".list-inline>li:not(:last-child)::after {content: \"\\00b7\"; padding: 0 .5ex}\n",
       "</style>\n",
       "<ol class=list-inline><li>'Sampleid'</li><li>'Group'</li><li>'Class'</li><li>'Order'</li><li>'Family'</li><li>'Genus'</li><li>'Species'</li><li>'Sample_type'</li><li>'Captive_Wild'</li><li>'Domestic_Wild'</li><li>'Habitat'</li><li>'Diet'</li><li>'Diet_detail'</li><li>'Digestive_tract'</li><li>'Digest_detail'</li></ol>\n"
      ],
      "text/latex": [
       "\\begin{enumerate*}\n",
       "\\item 'Sampleid'\n",
       "\\item 'Group'\n",
       "\\item 'Class'\n",
       "\\item 'Order'\n",
       "\\item 'Family'\n",
       "\\item 'Genus'\n",
       "\\item 'Species'\n",
       "\\item 'Sample\\_type'\n",
       "\\item 'Captive\\_Wild'\n",
       "\\item 'Domestic\\_Wild'\n",
       "\\item 'Habitat'\n",
       "\\item 'Diet'\n",
       "\\item 'Diet\\_detail'\n",
       "\\item 'Digestive\\_tract'\n",
       "\\item 'Digest\\_detail'\n",
       "\\end{enumerate*}\n"
      ],
      "text/markdown": [
       "1. 'Sampleid'\n",
       "2. 'Group'\n",
       "3. 'Class'\n",
       "4. 'Order'\n",
       "5. 'Family'\n",
       "6. 'Genus'\n",
       "7. 'Species'\n",
       "8. 'Sample_type'\n",
       "9. 'Captive_Wild'\n",
       "10. 'Domestic_Wild'\n",
       "11. 'Habitat'\n",
       "12. 'Diet'\n",
       "13. 'Diet_detail'\n",
       "14. 'Digestive_tract'\n",
       "15. 'Digest_detail'\n",
       "\n",
       "\n"
      ],
      "text/plain": [
       " [1] \"Sampleid\"        \"Group\"           \"Class\"           \"Order\"          \n",
       " [5] \"Family\"          \"Genus\"           \"Species\"         \"Sample_type\"    \n",
       " [9] \"Captive_Wild\"    \"Domestic_Wild\"   \"Habitat\"         \"Diet\"           \n",
       "[13] \"Diet_detail\"     \"Digestive_tract\" \"Digest_detail\"  "
      ]
     },
     "metadata": {},
     "output_type": "display_data"
    }
   ],
   "source": [
    "####import metadata####\n",
    "metadata = phyloseq %>%\n",
    "    sample_data %>%\n",
    "    as.matrix %>%\n",
    "    as.data.frame \n",
    " metadata %>% nrow %>% print\n",
    "#columns in metadata table\n",
    "metadata %>% colnames"
   ]
  },
  {
   "cell_type": "code",
   "execution_count": 5,
   "metadata": {
    "ExecuteTime": {
     "end_time": "2024-10-08T14:05:25.359300Z",
     "start_time": "2024-10-08T14:05:23.942Z"
    }
   },
   "outputs": [
    {
     "name": "stdout",
     "output_type": "stream",
     "text": [
      "[1] 4858\n"
     ]
    }
   ],
   "source": [
    "#import otu\n",
    "otu = phyloseq %>%\n",
    "    otu_table() %>%\n",
    "    as.matrix %>%\n",
    "    as.data.frame \n",
    "otu %>% nrow %>% print\n",
    "\n",
    "#gather\n",
    "otu$OTU = rownames(otu) \n",
    "rownames(otu) = 1:nrow(otu)\n",
    "# head(otu)\n",
    "\n",
    "otu = otu %>%\n",
    "    gather(sample, count, -OTU) %>%\n",
    "    group_by(sample) %>%\n",
    "    mutate(count = count / sum(count) * 100) %>%\n",
    "    ungroup() %>%\n",
    "    filter(count > 0)\n",
    "# head(otu)\n",
    "\n",
    "#adding host metadata\n",
    "otu = otu %>%\n",
    "    inner_join(metadata, c('sample'='Sampleid')) \n",
    "\n",
    "# head(otu)"
   ]
  },
  {
   "cell_type": "code",
   "execution_count": 6,
   "metadata": {
    "ExecuteTime": {
     "end_time": "2024-10-08T14:05:29.283043Z",
     "start_time": "2024-10-08T14:05:29.043Z"
    }
   },
   "outputs": [
    {
     "data": {
      "text/html": [
       "<table class=\"dataframe\">\n",
       "<caption>A data.frame: 6 × 8</caption>\n",
       "<thead>\n",
       "\t<tr><th></th><th scope=col>domain</th><th scope=col>phylum</th><th scope=col>class</th><th scope=col>order</th><th scope=col>family</th><th scope=col>genus</th><th scope=col>species</th><th scope=col>OTU</th></tr>\n",
       "\t<tr><th></th><th scope=col>&lt;chr&gt;</th><th scope=col>&lt;chr&gt;</th><th scope=col>&lt;chr&gt;</th><th scope=col>&lt;chr&gt;</th><th scope=col>&lt;chr&gt;</th><th scope=col>&lt;chr&gt;</th><th scope=col>&lt;chr&gt;</th><th scope=col>&lt;chr&gt;</th></tr>\n",
       "</thead>\n",
       "<tbody>\n",
       "\t<tr><th scope=row>ASV4221</th><td>Bacteria</td><td> Firmicutes</td><td> Bacilli</td><td> Erysipelotrichales</td><td> Erysipelotrichaceae      </td><td> uncultured    </td><td> uncultured_rumen             </td><td>ASV4221</td></tr>\n",
       "\t<tr><th scope=row>ASV5622</th><td>Bacteria</td><td> Firmicutes</td><td> Bacilli</td><td> Erysipelotrichales</td><td> Erysipelotrichaceae      </td><td> uncultured    </td><td> uncultured_rumen             </td><td>ASV5622</td></tr>\n",
       "\t<tr><th scope=row>ASV586</th><td>Bacteria</td><td> Firmicutes</td><td> Bacilli</td><td> Erysipelotrichales</td><td> Erysipelotrichaceae      </td><td> Turicibacter  </td><td> uncultured_bacterium         </td><td>ASV586 </td></tr>\n",
       "\t<tr><th scope=row>ASV5507</th><td>Bacteria</td><td> Firmicutes</td><td> Bacilli</td><td> Erysipelotrichales</td><td> Erysipelatoclostridiaceae</td><td> Asteroleplasma</td><td> uncultured_Anaeroplasmataceae</td><td>ASV5507</td></tr>\n",
       "\t<tr><th scope=row>ASV4055</th><td>Bacteria</td><td> Firmicutes</td><td> Bacilli</td><td> Erysipelotrichales</td><td> Erysipelatoclostridiaceae</td><td> UCG-004       </td><td> uncultured_bacterium         </td><td>ASV4055</td></tr>\n",
       "\t<tr><th scope=row>ASV5428</th><td>Bacteria</td><td> Firmicutes</td><td> Bacilli</td><td> Erysipelotrichales</td><td> Erysipelatoclostridiaceae</td><td> UCG-004       </td><td> uncultured_bacterium         </td><td>ASV5428</td></tr>\n",
       "</tbody>\n",
       "</table>\n"
      ],
      "text/latex": [
       "A data.frame: 6 × 8\n",
       "\\begin{tabular}{r|llllllll}\n",
       "  & domain & phylum & class & order & family & genus & species & OTU\\\\\n",
       "  & <chr> & <chr> & <chr> & <chr> & <chr> & <chr> & <chr> & <chr>\\\\\n",
       "\\hline\n",
       "\tASV4221 & Bacteria &  Firmicutes &  Bacilli &  Erysipelotrichales &  Erysipelotrichaceae       &  uncultured     &  uncultured\\_rumen              & ASV4221\\\\\n",
       "\tASV5622 & Bacteria &  Firmicutes &  Bacilli &  Erysipelotrichales &  Erysipelotrichaceae       &  uncultured     &  uncultured\\_rumen              & ASV5622\\\\\n",
       "\tASV586 & Bacteria &  Firmicutes &  Bacilli &  Erysipelotrichales &  Erysipelotrichaceae       &  Turicibacter   &  uncultured\\_bacterium          & ASV586 \\\\\n",
       "\tASV5507 & Bacteria &  Firmicutes &  Bacilli &  Erysipelotrichales &  Erysipelatoclostridiaceae &  Asteroleplasma &  uncultured\\_Anaeroplasmataceae & ASV5507\\\\\n",
       "\tASV4055 & Bacteria &  Firmicutes &  Bacilli &  Erysipelotrichales &  Erysipelatoclostridiaceae &  UCG-004        &  uncultured\\_bacterium          & ASV4055\\\\\n",
       "\tASV5428 & Bacteria &  Firmicutes &  Bacilli &  Erysipelotrichales &  Erysipelatoclostridiaceae &  UCG-004        &  uncultured\\_bacterium          & ASV5428\\\\\n",
       "\\end{tabular}\n"
      ],
      "text/markdown": [
       "\n",
       "A data.frame: 6 × 8\n",
       "\n",
       "| <!--/--> | domain &lt;chr&gt; | phylum &lt;chr&gt; | class &lt;chr&gt; | order &lt;chr&gt; | family &lt;chr&gt; | genus &lt;chr&gt; | species &lt;chr&gt; | OTU &lt;chr&gt; |\n",
       "|---|---|---|---|---|---|---|---|---|\n",
       "| ASV4221 | Bacteria |  Firmicutes |  Bacilli |  Erysipelotrichales |  Erysipelotrichaceae       |  uncultured     |  uncultured_rumen              | ASV4221 |\n",
       "| ASV5622 | Bacteria |  Firmicutes |  Bacilli |  Erysipelotrichales |  Erysipelotrichaceae       |  uncultured     |  uncultured_rumen              | ASV5622 |\n",
       "| ASV586 | Bacteria |  Firmicutes |  Bacilli |  Erysipelotrichales |  Erysipelotrichaceae       |  Turicibacter   |  uncultured_bacterium          | ASV586  |\n",
       "| ASV5507 | Bacteria |  Firmicutes |  Bacilli |  Erysipelotrichales |  Erysipelatoclostridiaceae |  Asteroleplasma |  uncultured_Anaeroplasmataceae | ASV5507 |\n",
       "| ASV4055 | Bacteria |  Firmicutes |  Bacilli |  Erysipelotrichales |  Erysipelatoclostridiaceae |  UCG-004        |  uncultured_bacterium          | ASV4055 |\n",
       "| ASV5428 | Bacteria |  Firmicutes |  Bacilli |  Erysipelotrichales |  Erysipelatoclostridiaceae |  UCG-004        |  uncultured_bacterium          | ASV5428 |\n",
       "\n"
      ],
      "text/plain": [
       "        domain   phylum      class    order              \n",
       "ASV4221 Bacteria  Firmicutes  Bacilli  Erysipelotrichales\n",
       "ASV5622 Bacteria  Firmicutes  Bacilli  Erysipelotrichales\n",
       "ASV586  Bacteria  Firmicutes  Bacilli  Erysipelotrichales\n",
       "ASV5507 Bacteria  Firmicutes  Bacilli  Erysipelotrichales\n",
       "ASV4055 Bacteria  Firmicutes  Bacilli  Erysipelotrichales\n",
       "ASV5428 Bacteria  Firmicutes  Bacilli  Erysipelotrichales\n",
       "        family                     genus          \n",
       "ASV4221  Erysipelotrichaceae        uncultured    \n",
       "ASV5622  Erysipelotrichaceae        uncultured    \n",
       "ASV586   Erysipelotrichaceae        Turicibacter  \n",
       "ASV5507  Erysipelatoclostridiaceae  Asteroleplasma\n",
       "ASV4055  Erysipelatoclostridiaceae  UCG-004       \n",
       "ASV5428  Erysipelatoclostridiaceae  UCG-004       \n",
       "        species                        OTU    \n",
       "ASV4221  uncultured_rumen              ASV4221\n",
       "ASV5622  uncultured_rumen              ASV5622\n",
       "ASV586   uncultured_bacterium          ASV586 \n",
       "ASV5507  uncultured_Anaeroplasmataceae ASV5507\n",
       "ASV4055  uncultured_bacterium          ASV4055\n",
       "ASV5428  uncultured_bacterium          ASV5428"
      ]
     },
     "metadata": {},
     "output_type": "display_data"
    }
   ],
   "source": [
    "tax = phyloseq %>%\n",
    "    tax_table %>%\n",
    "    as.matrix %>%\n",
    "    as.data.frame %>%\n",
    "    mutate(OTU = rownames(.))\n",
    "head(tax)"
   ]
  },
  {
   "cell_type": "markdown",
   "metadata": {},
   "source": [
    "relative abundance of genus"
   ]
  },
  {
   "cell_type": "code",
   "execution_count": 7,
   "metadata": {
    "ExecuteTime": {
     "end_time": "2024-10-08T14:05:33.581947Z",
     "start_time": "2024-10-08T14:05:33.305Z"
    }
   },
   "outputs": [
    {
     "data": {
      "text/html": [
       "<table class=\"dataframe\">\n",
       "<caption>A tibble: 6 × 18</caption>\n",
       "<thead>\n",
       "\t<tr><th scope=col>OTU</th><th scope=col>sample</th><th scope=col>count</th><th scope=col>Group</th><th scope=col>Class</th><th scope=col>Order</th><th scope=col>Family</th><th scope=col>Genus</th><th scope=col>Species</th><th scope=col>Sample_type</th><th scope=col>Captive_Wild</th><th scope=col>Domestic_Wild</th><th scope=col>Habitat</th><th scope=col>Diet</th><th scope=col>Diet_detail</th><th scope=col>Digestive_tract</th><th scope=col>Digest_detail</th><th scope=col>genus</th></tr>\n",
       "\t<tr><th scope=col>&lt;chr&gt;</th><th scope=col>&lt;chr&gt;</th><th scope=col>&lt;dbl&gt;</th><th scope=col>&lt;chr&gt;</th><th scope=col>&lt;chr&gt;</th><th scope=col>&lt;chr&gt;</th><th scope=col>&lt;chr&gt;</th><th scope=col>&lt;chr&gt;</th><th scope=col>&lt;chr&gt;</th><th scope=col>&lt;chr&gt;</th><th scope=col>&lt;chr&gt;</th><th scope=col>&lt;chr&gt;</th><th scope=col>&lt;chr&gt;</th><th scope=col>&lt;chr&gt;</th><th scope=col>&lt;chr&gt;</th><th scope=col>&lt;chr&gt;</th><th scope=col>&lt;chr&gt;</th><th scope=col>&lt;chr&gt;</th></tr>\n",
       "</thead>\n",
       "<tbody>\n",
       "\t<tr><td>ASV4034</td><td>BMR1</td><td>0.051907604</td><td>Spalacidae and relatives</td><td>Mammalia</td><td>Rodentia</td><td>Spalacidae</td><td>Spalax</td><td>Nannospalax leucodon</td><td>Feces</td><td>Wild</td><td>Wild</td><td>Underground</td><td>Herbivore</td><td>Herbivore</td><td>Hindgut fermentation</td><td>Cecum fermenter</td><td> Atopostipes     </td></tr>\n",
       "\t<tr><td>ASV2320</td><td>BMR1</td><td>0.060558872</td><td>Spalacidae and relatives</td><td>Mammalia</td><td>Rodentia</td><td>Spalacidae</td><td>Spalax</td><td>Nannospalax leucodon</td><td>Feces</td><td>Wild</td><td>Wild</td><td>Underground</td><td>Herbivore</td><td>Herbivore</td><td>Hindgut fermentation</td><td>Cecum fermenter</td><td> Succiniclasticum</td></tr>\n",
       "\t<tr><td>ASV4725</td><td>BMR1</td><td>0.069210139</td><td>Spalacidae and relatives</td><td>Mammalia</td><td>Rodentia</td><td>Spalacidae</td><td>Spalax</td><td>Nannospalax leucodon</td><td>Feces</td><td>Wild</td><td>Wild</td><td>Underground</td><td>Herbivore</td><td>Herbivore</td><td>Hindgut fermentation</td><td>Cecum fermenter</td><td> Bradymonadales  </td></tr>\n",
       "\t<tr><td>ASV4348</td><td>BMR1</td><td>0.008651267</td><td>Spalacidae and relatives</td><td>Mammalia</td><td>Rodentia</td><td>Spalacidae</td><td>Spalax</td><td>Nannospalax leucodon</td><td>Feces</td><td>Wild</td><td>Wild</td><td>Underground</td><td>Herbivore</td><td>Herbivore</td><td>Hindgut fermentation</td><td>Cecum fermenter</td><td> WCHB1-41        </td></tr>\n",
       "\t<tr><td>ASV1923</td><td>BMR1</td><td>0.190327883</td><td>Spalacidae and relatives</td><td>Mammalia</td><td>Rodentia</td><td>Spalacidae</td><td>Spalax</td><td>Nannospalax leucodon</td><td>Feces</td><td>Wild</td><td>Wild</td><td>Underground</td><td>Herbivore</td><td>Herbivore</td><td>Hindgut fermentation</td><td>Cecum fermenter</td><td>                 </td></tr>\n",
       "\t<tr><td>ASV1907</td><td>BMR1</td><td>0.017302535</td><td>Spalacidae and relatives</td><td>Mammalia</td><td>Rodentia</td><td>Spalacidae</td><td>Spalax</td><td>Nannospalax leucodon</td><td>Feces</td><td>Wild</td><td>Wild</td><td>Underground</td><td>Herbivore</td><td>Herbivore</td><td>Hindgut fermentation</td><td>Cecum fermenter</td><td>                 </td></tr>\n",
       "</tbody>\n",
       "</table>\n"
      ],
      "text/latex": [
       "A tibble: 6 × 18\n",
       "\\begin{tabular}{llllllllllllllllll}\n",
       " OTU & sample & count & Group & Class & Order & Family & Genus & Species & Sample\\_type & Captive\\_Wild & Domestic\\_Wild & Habitat & Diet & Diet\\_detail & Digestive\\_tract & Digest\\_detail & genus\\\\\n",
       " <chr> & <chr> & <dbl> & <chr> & <chr> & <chr> & <chr> & <chr> & <chr> & <chr> & <chr> & <chr> & <chr> & <chr> & <chr> & <chr> & <chr> & <chr>\\\\\n",
       "\\hline\n",
       "\t ASV4034 & BMR1 & 0.051907604 & Spalacidae and relatives & Mammalia & Rodentia & Spalacidae & Spalax & Nannospalax leucodon & Feces & Wild & Wild & Underground & Herbivore & Herbivore & Hindgut fermentation & Cecum fermenter &  Atopostipes     \\\\\n",
       "\t ASV2320 & BMR1 & 0.060558872 & Spalacidae and relatives & Mammalia & Rodentia & Spalacidae & Spalax & Nannospalax leucodon & Feces & Wild & Wild & Underground & Herbivore & Herbivore & Hindgut fermentation & Cecum fermenter &  Succiniclasticum\\\\\n",
       "\t ASV4725 & BMR1 & 0.069210139 & Spalacidae and relatives & Mammalia & Rodentia & Spalacidae & Spalax & Nannospalax leucodon & Feces & Wild & Wild & Underground & Herbivore & Herbivore & Hindgut fermentation & Cecum fermenter &  Bradymonadales  \\\\\n",
       "\t ASV4348 & BMR1 & 0.008651267 & Spalacidae and relatives & Mammalia & Rodentia & Spalacidae & Spalax & Nannospalax leucodon & Feces & Wild & Wild & Underground & Herbivore & Herbivore & Hindgut fermentation & Cecum fermenter &  WCHB1-41        \\\\\n",
       "\t ASV1923 & BMR1 & 0.190327883 & Spalacidae and relatives & Mammalia & Rodentia & Spalacidae & Spalax & Nannospalax leucodon & Feces & Wild & Wild & Underground & Herbivore & Herbivore & Hindgut fermentation & Cecum fermenter &                  \\\\\n",
       "\t ASV1907 & BMR1 & 0.017302535 & Spalacidae and relatives & Mammalia & Rodentia & Spalacidae & Spalax & Nannospalax leucodon & Feces & Wild & Wild & Underground & Herbivore & Herbivore & Hindgut fermentation & Cecum fermenter &                  \\\\\n",
       "\\end{tabular}\n"
      ],
      "text/markdown": [
       "\n",
       "A tibble: 6 × 18\n",
       "\n",
       "| OTU &lt;chr&gt; | sample &lt;chr&gt; | count &lt;dbl&gt; | Group &lt;chr&gt; | Class &lt;chr&gt; | Order &lt;chr&gt; | Family &lt;chr&gt; | Genus &lt;chr&gt; | Species &lt;chr&gt; | Sample_type &lt;chr&gt; | Captive_Wild &lt;chr&gt; | Domestic_Wild &lt;chr&gt; | Habitat &lt;chr&gt; | Diet &lt;chr&gt; | Diet_detail &lt;chr&gt; | Digestive_tract &lt;chr&gt; | Digest_detail &lt;chr&gt; | genus &lt;chr&gt; |\n",
       "|---|---|---|---|---|---|---|---|---|---|---|---|---|---|---|---|---|---|\n",
       "| ASV4034 | BMR1 | 0.051907604 | Spalacidae and relatives | Mammalia | Rodentia | Spalacidae | Spalax | Nannospalax leucodon | Feces | Wild | Wild | Underground | Herbivore | Herbivore | Hindgut fermentation | Cecum fermenter |  Atopostipes      |\n",
       "| ASV2320 | BMR1 | 0.060558872 | Spalacidae and relatives | Mammalia | Rodentia | Spalacidae | Spalax | Nannospalax leucodon | Feces | Wild | Wild | Underground | Herbivore | Herbivore | Hindgut fermentation | Cecum fermenter |  Succiniclasticum |\n",
       "| ASV4725 | BMR1 | 0.069210139 | Spalacidae and relatives | Mammalia | Rodentia | Spalacidae | Spalax | Nannospalax leucodon | Feces | Wild | Wild | Underground | Herbivore | Herbivore | Hindgut fermentation | Cecum fermenter |  Bradymonadales   |\n",
       "| ASV4348 | BMR1 | 0.008651267 | Spalacidae and relatives | Mammalia | Rodentia | Spalacidae | Spalax | Nannospalax leucodon | Feces | Wild | Wild | Underground | Herbivore | Herbivore | Hindgut fermentation | Cecum fermenter |  WCHB1-41         |\n",
       "| ASV1923 | BMR1 | 0.190327883 | Spalacidae and relatives | Mammalia | Rodentia | Spalacidae | Spalax | Nannospalax leucodon | Feces | Wild | Wild | Underground | Herbivore | Herbivore | Hindgut fermentation | Cecum fermenter | <!----> |\n",
       "| ASV1907 | BMR1 | 0.017302535 | Spalacidae and relatives | Mammalia | Rodentia | Spalacidae | Spalax | Nannospalax leucodon | Feces | Wild | Wild | Underground | Herbivore | Herbivore | Hindgut fermentation | Cecum fermenter | <!----> |\n",
       "\n"
      ],
      "text/plain": [
       "  OTU     sample count       Group                    Class    Order   \n",
       "1 ASV4034 BMR1   0.051907604 Spalacidae and relatives Mammalia Rodentia\n",
       "2 ASV2320 BMR1   0.060558872 Spalacidae and relatives Mammalia Rodentia\n",
       "3 ASV4725 BMR1   0.069210139 Spalacidae and relatives Mammalia Rodentia\n",
       "4 ASV4348 BMR1   0.008651267 Spalacidae and relatives Mammalia Rodentia\n",
       "5 ASV1923 BMR1   0.190327883 Spalacidae and relatives Mammalia Rodentia\n",
       "6 ASV1907 BMR1   0.017302535 Spalacidae and relatives Mammalia Rodentia\n",
       "  Family     Genus  Species              Sample_type Captive_Wild Domestic_Wild\n",
       "1 Spalacidae Spalax Nannospalax leucodon Feces       Wild         Wild         \n",
       "2 Spalacidae Spalax Nannospalax leucodon Feces       Wild         Wild         \n",
       "3 Spalacidae Spalax Nannospalax leucodon Feces       Wild         Wild         \n",
       "4 Spalacidae Spalax Nannospalax leucodon Feces       Wild         Wild         \n",
       "5 Spalacidae Spalax Nannospalax leucodon Feces       Wild         Wild         \n",
       "6 Spalacidae Spalax Nannospalax leucodon Feces       Wild         Wild         \n",
       "  Habitat     Diet      Diet_detail Digestive_tract      Digest_detail  \n",
       "1 Underground Herbivore Herbivore   Hindgut fermentation Cecum fermenter\n",
       "2 Underground Herbivore Herbivore   Hindgut fermentation Cecum fermenter\n",
       "3 Underground Herbivore Herbivore   Hindgut fermentation Cecum fermenter\n",
       "4 Underground Herbivore Herbivore   Hindgut fermentation Cecum fermenter\n",
       "5 Underground Herbivore Herbivore   Hindgut fermentation Cecum fermenter\n",
       "6 Underground Herbivore Herbivore   Hindgut fermentation Cecum fermenter\n",
       "  genus            \n",
       "1  Atopostipes     \n",
       "2  Succiniclasticum\n",
       "3  Bradymonadales  \n",
       "4  WCHB1-41        \n",
       "5                  \n",
       "6                  "
      ]
     },
     "metadata": {},
     "output_type": "display_data"
    }
   ],
   "source": [
    "#adding genus taxonomy\n",
    "tax_genus = tax %>% dplyr::select(OTU, genus)\n",
    "\n",
    "otu_genus = otu %>%\n",
    "    inner_join(tax_genus, c('OTU'))\n",
    "\n",
    "head(otu_genus)"
   ]
  },
  {
   "cell_type": "code",
   "execution_count": 10,
   "metadata": {
    "ExecuteTime": {
     "end_time": "2024-10-08T14:06:23.279659Z",
     "start_time": "2024-10-08T14:06:22.785Z"
    }
   },
   "outputs": [
    {
     "name": "stderr",
     "output_type": "stream",
     "text": [
      "\u001b[1m\u001b[22m`summarise()` has grouped output by 'sample'. You can override using the `.groups` argument.\n"
     ]
    },
    {
     "data": {
      "text/html": [
       "<table class=\"dataframe\">\n",
       "<caption>A data.frame: 6 × 81</caption>\n",
       "<thead>\n",
       "\t<tr><th></th><th scope=col>genus</th><th scope=col>BMR1</th><th scope=col>BMR2</th><th scope=col>BMR3</th><th scope=col>BMR4</th><th scope=col>BMR5</th><th scope=col>BMR6</th><th scope=col>CBR1</th><th scope=col>CBR10</th><th scope=col>CBR2</th><th scope=col>⋯</th><th scope=col>SR1</th><th scope=col>SR2</th><th scope=col>SR3</th><th scope=col>SR4</th><th scope=col>SR5</th><th scope=col>SR6</th><th scope=col>WHM1</th><th scope=col>WHM2</th><th scope=col>WHM3</th><th scope=col>WHM4</th></tr>\n",
       "\t<tr><th></th><th scope=col>&lt;chr&gt;</th><th scope=col>&lt;dbl&gt;</th><th scope=col>&lt;dbl&gt;</th><th scope=col>&lt;dbl&gt;</th><th scope=col>&lt;dbl&gt;</th><th scope=col>&lt;dbl&gt;</th><th scope=col>&lt;dbl&gt;</th><th scope=col>&lt;dbl&gt;</th><th scope=col>&lt;dbl&gt;</th><th scope=col>&lt;dbl&gt;</th><th scope=col>⋯</th><th scope=col>&lt;dbl&gt;</th><th scope=col>&lt;dbl&gt;</th><th scope=col>&lt;dbl&gt;</th><th scope=col>&lt;dbl&gt;</th><th scope=col>&lt;dbl&gt;</th><th scope=col>&lt;dbl&gt;</th><th scope=col>&lt;dbl&gt;</th><th scope=col>&lt;dbl&gt;</th><th scope=col>&lt;dbl&gt;</th><th scope=col>&lt;dbl&gt;</th></tr>\n",
       "</thead>\n",
       "<tbody>\n",
       "\t<tr><th scope=row>1</th><td>                                      </td><td>40.63500</td><td>42.953543</td><td>30.452461</td><td>50.428238</td><td>41.508781</td><td>20.667878</td><td>24.9589065</td><td>36.46509214</td><td>51.0597803</td><td>⋯</td><td>6.471148023</td><td>36.64676875</td><td>33.938922052</td><td>47.56466822</td><td>20.9620209</td><td>71.49407</td><td>1.4015053</td><td>14.9580414</td><td>12.466476339</td><td>5.095597</td></tr>\n",
       "\t<tr><th scope=row>2</th><td> [Anaerorhabdus]_furcosa_group        </td><td> 0.00000</td><td> 0.000000</td><td> 0.000000</td><td> 0.000000</td><td> 0.000000</td><td> 0.000000</td><td> 0.0000000</td><td> 0.00000000</td><td> 0.0000000</td><td>⋯</td><td>0.000000000</td><td> 0.00000000</td><td> 0.000000000</td><td> 0.00000000</td><td> 0.0000000</td><td> 0.00000</td><td>0.0000000</td><td> 0.0000000</td><td> 0.000000000</td><td>0.000000</td></tr>\n",
       "\t<tr><th scope=row>3</th><td> [Bacteroides]_pectinophilus_group    </td><td> 0.00000</td><td> 0.000000</td><td> 0.000000</td><td> 0.000000</td><td> 0.000000</td><td> 0.000000</td><td> 0.0000000</td><td> 0.00000000</td><td> 0.0000000</td><td>⋯</td><td>0.000000000</td><td> 0.00000000</td><td> 0.000000000</td><td> 0.00000000</td><td> 0.0000000</td><td> 0.00000</td><td>0.0000000</td><td> 0.0000000</td><td> 0.000000000</td><td>0.000000</td></tr>\n",
       "\t<tr><th scope=row>4</th><td> [Clostridium]_methylpentosum_group   </td><td> 0.00000</td><td> 0.000000</td><td> 0.000000</td><td> 0.000000</td><td> 0.000000</td><td> 0.000000</td><td> 0.0000000</td><td> 0.00000000</td><td> 0.0000000</td><td>⋯</td><td>0.000000000</td><td> 0.00000000</td><td> 0.000000000</td><td> 0.00000000</td><td> 0.0000000</td><td> 0.00000</td><td>0.0000000</td><td> 0.0000000</td><td> 0.000000000</td><td>0.000000</td></tr>\n",
       "\t<tr><th scope=row>5</th><td> [Eubacterium]_brachy_group           </td><td> 0.00000</td><td> 0.000000</td><td> 0.000000</td><td> 0.000000</td><td> 0.000000</td><td> 0.000000</td><td> 0.0000000</td><td> 0.00000000</td><td> 0.0000000</td><td>⋯</td><td>0.000000000</td><td> 0.00000000</td><td> 0.000000000</td><td> 0.00000000</td><td> 0.0000000</td><td> 0.00000</td><td>0.0000000</td><td> 0.4325634</td><td> 0.008651267</td><td>0.000000</td></tr>\n",
       "\t<tr><th scope=row>6</th><td> [Eubacterium]_coprostanoligenes_group</td><td> 3.61623</td><td> 2.180119</td><td> 3.027944</td><td> 7.639069</td><td> 4.801453</td><td> 1.730253</td><td> 0.0519076</td><td> 0.01730253</td><td> 0.1470715</td><td>⋯</td><td>0.008651267</td><td> 0.01730253</td><td> 0.008651267</td><td> 0.06055887</td><td> 0.0259538</td><td> 0.00000</td><td>0.0259538</td><td> 0.1643741</td><td> 0.069210139</td><td>0.354702</td></tr>\n",
       "</tbody>\n",
       "</table>\n"
      ],
      "text/latex": [
       "A data.frame: 6 × 81\n",
       "\\begin{tabular}{r|lllllllllllllllllllll}\n",
       "  & genus & BMR1 & BMR2 & BMR3 & BMR4 & BMR5 & BMR6 & CBR1 & CBR10 & CBR2 & ⋯ & SR1 & SR2 & SR3 & SR4 & SR5 & SR6 & WHM1 & WHM2 & WHM3 & WHM4\\\\\n",
       "  & <chr> & <dbl> & <dbl> & <dbl> & <dbl> & <dbl> & <dbl> & <dbl> & <dbl> & <dbl> & ⋯ & <dbl> & <dbl> & <dbl> & <dbl> & <dbl> & <dbl> & <dbl> & <dbl> & <dbl> & <dbl>\\\\\n",
       "\\hline\n",
       "\t1 &                                        & 40.63500 & 42.953543 & 30.452461 & 50.428238 & 41.508781 & 20.667878 & 24.9589065 & 36.46509214 & 51.0597803 & ⋯ & 6.471148023 & 36.64676875 & 33.938922052 & 47.56466822 & 20.9620209 & 71.49407 & 1.4015053 & 14.9580414 & 12.466476339 & 5.095597\\\\\n",
       "\t2 &  {[}Anaerorhabdus{]}\\_furcosa\\_group         &  0.00000 &  0.000000 &  0.000000 &  0.000000 &  0.000000 &  0.000000 &  0.0000000 &  0.00000000 &  0.0000000 & ⋯ & 0.000000000 &  0.00000000 &  0.000000000 &  0.00000000 &  0.0000000 &  0.00000 & 0.0000000 &  0.0000000 &  0.000000000 & 0.000000\\\\\n",
       "\t3 &  {[}Bacteroides{]}\\_pectinophilus\\_group     &  0.00000 &  0.000000 &  0.000000 &  0.000000 &  0.000000 &  0.000000 &  0.0000000 &  0.00000000 &  0.0000000 & ⋯ & 0.000000000 &  0.00000000 &  0.000000000 &  0.00000000 &  0.0000000 &  0.00000 & 0.0000000 &  0.0000000 &  0.000000000 & 0.000000\\\\\n",
       "\t4 &  {[}Clostridium{]}\\_methylpentosum\\_group    &  0.00000 &  0.000000 &  0.000000 &  0.000000 &  0.000000 &  0.000000 &  0.0000000 &  0.00000000 &  0.0000000 & ⋯ & 0.000000000 &  0.00000000 &  0.000000000 &  0.00000000 &  0.0000000 &  0.00000 & 0.0000000 &  0.0000000 &  0.000000000 & 0.000000\\\\\n",
       "\t5 &  {[}Eubacterium{]}\\_brachy\\_group            &  0.00000 &  0.000000 &  0.000000 &  0.000000 &  0.000000 &  0.000000 &  0.0000000 &  0.00000000 &  0.0000000 & ⋯ & 0.000000000 &  0.00000000 &  0.000000000 &  0.00000000 &  0.0000000 &  0.00000 & 0.0000000 &  0.4325634 &  0.008651267 & 0.000000\\\\\n",
       "\t6 &  {[}Eubacterium{]}\\_coprostanoligenes\\_group &  3.61623 &  2.180119 &  3.027944 &  7.639069 &  4.801453 &  1.730253 &  0.0519076 &  0.01730253 &  0.1470715 & ⋯ & 0.008651267 &  0.01730253 &  0.008651267 &  0.06055887 &  0.0259538 &  0.00000 & 0.0259538 &  0.1643741 &  0.069210139 & 0.354702\\\\\n",
       "\\end{tabular}\n"
      ],
      "text/markdown": [
       "\n",
       "A data.frame: 6 × 81\n",
       "\n",
       "| <!--/--> | genus &lt;chr&gt; | BMR1 &lt;dbl&gt; | BMR2 &lt;dbl&gt; | BMR3 &lt;dbl&gt; | BMR4 &lt;dbl&gt; | BMR5 &lt;dbl&gt; | BMR6 &lt;dbl&gt; | CBR1 &lt;dbl&gt; | CBR10 &lt;dbl&gt; | CBR2 &lt;dbl&gt; | ⋯ ⋯ | SR1 &lt;dbl&gt; | SR2 &lt;dbl&gt; | SR3 &lt;dbl&gt; | SR4 &lt;dbl&gt; | SR5 &lt;dbl&gt; | SR6 &lt;dbl&gt; | WHM1 &lt;dbl&gt; | WHM2 &lt;dbl&gt; | WHM3 &lt;dbl&gt; | WHM4 &lt;dbl&gt; |\n",
       "|---|---|---|---|---|---|---|---|---|---|---|---|---|---|---|---|---|---|---|---|---|---|\n",
       "| 1 | <!----> | 40.63500 | 42.953543 | 30.452461 | 50.428238 | 41.508781 | 20.667878 | 24.9589065 | 36.46509214 | 51.0597803 | ⋯ | 6.471148023 | 36.64676875 | 33.938922052 | 47.56466822 | 20.9620209 | 71.49407 | 1.4015053 | 14.9580414 | 12.466476339 | 5.095597 |\n",
       "| 2 |  [Anaerorhabdus]_furcosa_group         |  0.00000 |  0.000000 |  0.000000 |  0.000000 |  0.000000 |  0.000000 |  0.0000000 |  0.00000000 |  0.0000000 | ⋯ | 0.000000000 |  0.00000000 |  0.000000000 |  0.00000000 |  0.0000000 |  0.00000 | 0.0000000 |  0.0000000 |  0.000000000 | 0.000000 |\n",
       "| 3 |  [Bacteroides]_pectinophilus_group     |  0.00000 |  0.000000 |  0.000000 |  0.000000 |  0.000000 |  0.000000 |  0.0000000 |  0.00000000 |  0.0000000 | ⋯ | 0.000000000 |  0.00000000 |  0.000000000 |  0.00000000 |  0.0000000 |  0.00000 | 0.0000000 |  0.0000000 |  0.000000000 | 0.000000 |\n",
       "| 4 |  [Clostridium]_methylpentosum_group    |  0.00000 |  0.000000 |  0.000000 |  0.000000 |  0.000000 |  0.000000 |  0.0000000 |  0.00000000 |  0.0000000 | ⋯ | 0.000000000 |  0.00000000 |  0.000000000 |  0.00000000 |  0.0000000 |  0.00000 | 0.0000000 |  0.0000000 |  0.000000000 | 0.000000 |\n",
       "| 5 |  [Eubacterium]_brachy_group            |  0.00000 |  0.000000 |  0.000000 |  0.000000 |  0.000000 |  0.000000 |  0.0000000 |  0.00000000 |  0.0000000 | ⋯ | 0.000000000 |  0.00000000 |  0.000000000 |  0.00000000 |  0.0000000 |  0.00000 | 0.0000000 |  0.4325634 |  0.008651267 | 0.000000 |\n",
       "| 6 |  [Eubacterium]_coprostanoligenes_group |  3.61623 |  2.180119 |  3.027944 |  7.639069 |  4.801453 |  1.730253 |  0.0519076 |  0.01730253 |  0.1470715 | ⋯ | 0.008651267 |  0.01730253 |  0.008651267 |  0.06055887 |  0.0259538 |  0.00000 | 0.0259538 |  0.1643741 |  0.069210139 | 0.354702 |\n",
       "\n"
      ],
      "text/plain": [
       "  genus                                  BMR1     BMR2      BMR3      BMR4     \n",
       "1                                        40.63500 42.953543 30.452461 50.428238\n",
       "2  [Anaerorhabdus]_furcosa_group          0.00000  0.000000  0.000000  0.000000\n",
       "3  [Bacteroides]_pectinophilus_group      0.00000  0.000000  0.000000  0.000000\n",
       "4  [Clostridium]_methylpentosum_group     0.00000  0.000000  0.000000  0.000000\n",
       "5  [Eubacterium]_brachy_group             0.00000  0.000000  0.000000  0.000000\n",
       "6  [Eubacterium]_coprostanoligenes_group  3.61623  2.180119  3.027944  7.639069\n",
       "  BMR5      BMR6      CBR1       CBR10       CBR2       ⋯ SR1        \n",
       "1 41.508781 20.667878 24.9589065 36.46509214 51.0597803 ⋯ 6.471148023\n",
       "2  0.000000  0.000000  0.0000000  0.00000000  0.0000000 ⋯ 0.000000000\n",
       "3  0.000000  0.000000  0.0000000  0.00000000  0.0000000 ⋯ 0.000000000\n",
       "4  0.000000  0.000000  0.0000000  0.00000000  0.0000000 ⋯ 0.000000000\n",
       "5  0.000000  0.000000  0.0000000  0.00000000  0.0000000 ⋯ 0.000000000\n",
       "6  4.801453  1.730253  0.0519076  0.01730253  0.1470715 ⋯ 0.008651267\n",
       "  SR2         SR3          SR4         SR5        SR6      WHM1      WHM2      \n",
       "1 36.64676875 33.938922052 47.56466822 20.9620209 71.49407 1.4015053 14.9580414\n",
       "2  0.00000000  0.000000000  0.00000000  0.0000000  0.00000 0.0000000  0.0000000\n",
       "3  0.00000000  0.000000000  0.00000000  0.0000000  0.00000 0.0000000  0.0000000\n",
       "4  0.00000000  0.000000000  0.00000000  0.0000000  0.00000 0.0000000  0.0000000\n",
       "5  0.00000000  0.000000000  0.00000000  0.0000000  0.00000 0.0000000  0.4325634\n",
       "6  0.01730253  0.008651267  0.06055887  0.0259538  0.00000 0.0259538  0.1643741\n",
       "  WHM3         WHM4    \n",
       "1 12.466476339 5.095597\n",
       "2  0.000000000 0.000000\n",
       "3  0.000000000 0.000000\n",
       "4  0.000000000 0.000000\n",
       "5  0.008651267 0.000000\n",
       "6  0.069210139 0.354702"
      ]
     },
     "metadata": {},
     "output_type": "display_data"
    }
   ],
   "source": [
    "#formatting genus_table\n",
    "otu_genus = otu_genus %>% \n",
    "    group_by(sample, genus) %>%\n",
    "    summarize(count = sum(count)) %>%\n",
    "    ungroup() %>%\n",
    "    spread(sample, count, fill=0) %>%\n",
    "    as.data.frame\n",
    "\n",
    "head(otu_genus)\n",
    "# write.table(otu_genus,file = \"otu_genus.xls\",sep=\"\\t\",quote = F)"
   ]
  },
  {
   "cell_type": "markdown",
   "metadata": {},
   "source": [
    "# lefse"
   ]
  },
  {
   "cell_type": "code",
   "execution_count": 12,
   "metadata": {
    "ExecuteTime": {
     "end_time": "2024-03-31T14:15:41.025545Z",
     "start_time": "2024-03-31T14:15:40.896Z"
    }
   },
   "outputs": [],
   "source": [
    "library(microeco)"
   ]
  },
  {
   "cell_type": "code",
   "execution_count": 8,
   "metadata": {
    "ExecuteTime": {
     "end_time": "2024-10-08T14:05:41.090141Z",
     "start_time": "2024-10-08T14:05:40.877Z"
    }
   },
   "outputs": [
    {
     "data": {
      "text/html": [
       "<table class=\"dataframe\">\n",
       "<caption>A data.frame: 6 × 15</caption>\n",
       "<thead>\n",
       "\t<tr><th></th><th scope=col>Sampleid</th><th scope=col>Group</th><th scope=col>Class</th><th scope=col>Order</th><th scope=col>Family</th><th scope=col>Genus</th><th scope=col>Species</th><th scope=col>Sample_type</th><th scope=col>Captive_Wild</th><th scope=col>Domestic_Wild</th><th scope=col>Habitat</th><th scope=col>Diet</th><th scope=col>Diet_detail</th><th scope=col>Digestive_tract</th><th scope=col>Digest_detail</th></tr>\n",
       "\t<tr><th></th><th scope=col>&lt;chr&gt;</th><th scope=col>&lt;chr&gt;</th><th scope=col>&lt;chr&gt;</th><th scope=col>&lt;chr&gt;</th><th scope=col>&lt;chr&gt;</th><th scope=col>&lt;chr&gt;</th><th scope=col>&lt;chr&gt;</th><th scope=col>&lt;chr&gt;</th><th scope=col>&lt;chr&gt;</th><th scope=col>&lt;chr&gt;</th><th scope=col>&lt;chr&gt;</th><th scope=col>&lt;chr&gt;</th><th scope=col>&lt;chr&gt;</th><th scope=col>&lt;chr&gt;</th><th scope=col>&lt;chr&gt;</th></tr>\n",
       "</thead>\n",
       "<tbody>\n",
       "\t<tr><th scope=row>CBR1</th><td>CBR1</td><td>Spalacidae and relatives</td><td>Mammalia</td><td>Rodentia</td><td>Spalacidae</td><td>Rhizomys</td><td>Rhizomys sinensis</td><td>Feces</td><td>Wild</td><td>Wild</td><td>Underground</td><td>Herbivore</td><td>Bamboo</td><td>Hindgut fermentation</td><td>Cecum fermenter</td></tr>\n",
       "\t<tr><th scope=row>CBR2</th><td>CBR2</td><td>Spalacidae and relatives</td><td>Mammalia</td><td>Rodentia</td><td>Spalacidae</td><td>Rhizomys</td><td>Rhizomys sinensis</td><td>Feces</td><td>Wild</td><td>Wild</td><td>Underground</td><td>Herbivore</td><td>Bamboo</td><td>Hindgut fermentation</td><td>Cecum fermenter</td></tr>\n",
       "\t<tr><th scope=row>CBR3</th><td>CBR3</td><td>Spalacidae and relatives</td><td>Mammalia</td><td>Rodentia</td><td>Spalacidae</td><td>Rhizomys</td><td>Rhizomys sinensis</td><td>Feces</td><td>Wild</td><td>Wild</td><td>Underground</td><td>Herbivore</td><td>Bamboo</td><td>Hindgut fermentation</td><td>Cecum fermenter</td></tr>\n",
       "\t<tr><th scope=row>CBR4</th><td>CBR4</td><td>Spalacidae and relatives</td><td>Mammalia</td><td>Rodentia</td><td>Spalacidae</td><td>Rhizomys</td><td>Rhizomys sinensis</td><td>Feces</td><td>Wild</td><td>Wild</td><td>Underground</td><td>Herbivore</td><td>Bamboo</td><td>Hindgut fermentation</td><td>Cecum fermenter</td></tr>\n",
       "\t<tr><th scope=row>CBR5</th><td>CBR5</td><td>Spalacidae and relatives</td><td>Mammalia</td><td>Rodentia</td><td>Spalacidae</td><td>Rhizomys</td><td>Rhizomys sinensis</td><td>Feces</td><td>Wild</td><td>Wild</td><td>Underground</td><td>Herbivore</td><td>Bamboo</td><td>Hindgut fermentation</td><td>Cecum fermenter</td></tr>\n",
       "\t<tr><th scope=row>CBR6</th><td>CBR6</td><td>Spalacidae and relatives</td><td>Mammalia</td><td>Rodentia</td><td>Spalacidae</td><td>Rhizomys</td><td>Rhizomys sinensis</td><td>Gut  </td><td>Wild</td><td>Wild</td><td>Underground</td><td>Herbivore</td><td>Bamboo</td><td>Hindgut fermentation</td><td>Cecum fermenter</td></tr>\n",
       "</tbody>\n",
       "</table>\n"
      ],
      "text/latex": [
       "A data.frame: 6 × 15\n",
       "\\begin{tabular}{r|lllllllllllllll}\n",
       "  & Sampleid & Group & Class & Order & Family & Genus & Species & Sample\\_type & Captive\\_Wild & Domestic\\_Wild & Habitat & Diet & Diet\\_detail & Digestive\\_tract & Digest\\_detail\\\\\n",
       "  & <chr> & <chr> & <chr> & <chr> & <chr> & <chr> & <chr> & <chr> & <chr> & <chr> & <chr> & <chr> & <chr> & <chr> & <chr>\\\\\n",
       "\\hline\n",
       "\tCBR1 & CBR1 & Spalacidae and relatives & Mammalia & Rodentia & Spalacidae & Rhizomys & Rhizomys sinensis & Feces & Wild & Wild & Underground & Herbivore & Bamboo & Hindgut fermentation & Cecum fermenter\\\\\n",
       "\tCBR2 & CBR2 & Spalacidae and relatives & Mammalia & Rodentia & Spalacidae & Rhizomys & Rhizomys sinensis & Feces & Wild & Wild & Underground & Herbivore & Bamboo & Hindgut fermentation & Cecum fermenter\\\\\n",
       "\tCBR3 & CBR3 & Spalacidae and relatives & Mammalia & Rodentia & Spalacidae & Rhizomys & Rhizomys sinensis & Feces & Wild & Wild & Underground & Herbivore & Bamboo & Hindgut fermentation & Cecum fermenter\\\\\n",
       "\tCBR4 & CBR4 & Spalacidae and relatives & Mammalia & Rodentia & Spalacidae & Rhizomys & Rhizomys sinensis & Feces & Wild & Wild & Underground & Herbivore & Bamboo & Hindgut fermentation & Cecum fermenter\\\\\n",
       "\tCBR5 & CBR5 & Spalacidae and relatives & Mammalia & Rodentia & Spalacidae & Rhizomys & Rhizomys sinensis & Feces & Wild & Wild & Underground & Herbivore & Bamboo & Hindgut fermentation & Cecum fermenter\\\\\n",
       "\tCBR6 & CBR6 & Spalacidae and relatives & Mammalia & Rodentia & Spalacidae & Rhizomys & Rhizomys sinensis & Gut   & Wild & Wild & Underground & Herbivore & Bamboo & Hindgut fermentation & Cecum fermenter\\\\\n",
       "\\end{tabular}\n"
      ],
      "text/markdown": [
       "\n",
       "A data.frame: 6 × 15\n",
       "\n",
       "| <!--/--> | Sampleid &lt;chr&gt; | Group &lt;chr&gt; | Class &lt;chr&gt; | Order &lt;chr&gt; | Family &lt;chr&gt; | Genus &lt;chr&gt; | Species &lt;chr&gt; | Sample_type &lt;chr&gt; | Captive_Wild &lt;chr&gt; | Domestic_Wild &lt;chr&gt; | Habitat &lt;chr&gt; | Diet &lt;chr&gt; | Diet_detail &lt;chr&gt; | Digestive_tract &lt;chr&gt; | Digest_detail &lt;chr&gt; |\n",
       "|---|---|---|---|---|---|---|---|---|---|---|---|---|---|---|---|\n",
       "| CBR1 | CBR1 | Spalacidae and relatives | Mammalia | Rodentia | Spalacidae | Rhizomys | Rhizomys sinensis | Feces | Wild | Wild | Underground | Herbivore | Bamboo | Hindgut fermentation | Cecum fermenter |\n",
       "| CBR2 | CBR2 | Spalacidae and relatives | Mammalia | Rodentia | Spalacidae | Rhizomys | Rhizomys sinensis | Feces | Wild | Wild | Underground | Herbivore | Bamboo | Hindgut fermentation | Cecum fermenter |\n",
       "| CBR3 | CBR3 | Spalacidae and relatives | Mammalia | Rodentia | Spalacidae | Rhizomys | Rhizomys sinensis | Feces | Wild | Wild | Underground | Herbivore | Bamboo | Hindgut fermentation | Cecum fermenter |\n",
       "| CBR4 | CBR4 | Spalacidae and relatives | Mammalia | Rodentia | Spalacidae | Rhizomys | Rhizomys sinensis | Feces | Wild | Wild | Underground | Herbivore | Bamboo | Hindgut fermentation | Cecum fermenter |\n",
       "| CBR5 | CBR5 | Spalacidae and relatives | Mammalia | Rodentia | Spalacidae | Rhizomys | Rhizomys sinensis | Feces | Wild | Wild | Underground | Herbivore | Bamboo | Hindgut fermentation | Cecum fermenter |\n",
       "| CBR6 | CBR6 | Spalacidae and relatives | Mammalia | Rodentia | Spalacidae | Rhizomys | Rhizomys sinensis | Gut   | Wild | Wild | Underground | Herbivore | Bamboo | Hindgut fermentation | Cecum fermenter |\n",
       "\n"
      ],
      "text/plain": [
       "     Sampleid Group                    Class    Order    Family     Genus   \n",
       "CBR1 CBR1     Spalacidae and relatives Mammalia Rodentia Spalacidae Rhizomys\n",
       "CBR2 CBR2     Spalacidae and relatives Mammalia Rodentia Spalacidae Rhizomys\n",
       "CBR3 CBR3     Spalacidae and relatives Mammalia Rodentia Spalacidae Rhizomys\n",
       "CBR4 CBR4     Spalacidae and relatives Mammalia Rodentia Spalacidae Rhizomys\n",
       "CBR5 CBR5     Spalacidae and relatives Mammalia Rodentia Spalacidae Rhizomys\n",
       "CBR6 CBR6     Spalacidae and relatives Mammalia Rodentia Spalacidae Rhizomys\n",
       "     Species           Sample_type Captive_Wild Domestic_Wild Habitat    \n",
       "CBR1 Rhizomys sinensis Feces       Wild         Wild          Underground\n",
       "CBR2 Rhizomys sinensis Feces       Wild         Wild          Underground\n",
       "CBR3 Rhizomys sinensis Feces       Wild         Wild          Underground\n",
       "CBR4 Rhizomys sinensis Feces       Wild         Wild          Underground\n",
       "CBR5 Rhizomys sinensis Feces       Wild         Wild          Underground\n",
       "CBR6 Rhizomys sinensis Gut         Wild         Wild          Underground\n",
       "     Diet      Diet_detail Digestive_tract      Digest_detail  \n",
       "CBR1 Herbivore Bamboo      Hindgut fermentation Cecum fermenter\n",
       "CBR2 Herbivore Bamboo      Hindgut fermentation Cecum fermenter\n",
       "CBR3 Herbivore Bamboo      Hindgut fermentation Cecum fermenter\n",
       "CBR4 Herbivore Bamboo      Hindgut fermentation Cecum fermenter\n",
       "CBR5 Herbivore Bamboo      Hindgut fermentation Cecum fermenter\n",
       "CBR6 Herbivore Bamboo      Hindgut fermentation Cecum fermenter"
      ]
     },
     "metadata": {},
     "output_type": "display_data"
    }
   ],
   "source": [
    "metadata <- read.table(\"metadata.txt\",header=T,sep=\"\\t\",check.names = F,row.names = 1) %>% as.data.frame()\n",
    "head(metadata)"
   ]
  },
  {
   "cell_type": "code",
   "execution_count": 11,
   "metadata": {
    "ExecuteTime": {
     "end_time": "2024-10-08T14:06:30.019836Z",
     "start_time": "2024-10-08T14:06:29.797Z"
    }
   },
   "outputs": [
    {
     "data": {
      "text/html": [
       "<table class=\"dataframe\">\n",
       "<caption>A data.frame: 6 × 17</caption>\n",
       "<thead>\n",
       "\t<tr><th></th><th scope=col>genus</th><th scope=col>Sampleid</th><th scope=col>value</th><th scope=col>Group</th><th scope=col>Class</th><th scope=col>Order</th><th scope=col>Family</th><th scope=col>Genus</th><th scope=col>Species</th><th scope=col>Sample_type</th><th scope=col>Captive_Wild</th><th scope=col>Domestic_Wild</th><th scope=col>Habitat</th><th scope=col>Diet</th><th scope=col>Diet_detail</th><th scope=col>Digestive_tract</th><th scope=col>Digest_detail</th></tr>\n",
       "\t<tr><th></th><th scope=col>&lt;chr&gt;</th><th scope=col>&lt;chr&gt;</th><th scope=col>&lt;dbl&gt;</th><th scope=col>&lt;chr&gt;</th><th scope=col>&lt;chr&gt;</th><th scope=col>&lt;chr&gt;</th><th scope=col>&lt;chr&gt;</th><th scope=col>&lt;chr&gt;</th><th scope=col>&lt;chr&gt;</th><th scope=col>&lt;chr&gt;</th><th scope=col>&lt;chr&gt;</th><th scope=col>&lt;chr&gt;</th><th scope=col>&lt;chr&gt;</th><th scope=col>&lt;chr&gt;</th><th scope=col>&lt;chr&gt;</th><th scope=col>&lt;chr&gt;</th><th scope=col>&lt;chr&gt;</th></tr>\n",
       "</thead>\n",
       "<tbody>\n",
       "\t<tr><th scope=row>1</th><td>                                      </td><td>BMR1</td><td>40.63500</td><td>Spalacidae and relatives</td><td>Mammalia</td><td>Rodentia</td><td>Spalacidae</td><td>Spalax</td><td>Nannospalax leucodon</td><td>Feces</td><td>Wild</td><td>Wild</td><td>Underground</td><td>Herbivore</td><td>Herbivore</td><td>Hindgut fermentation</td><td>Cecum fermenter</td></tr>\n",
       "\t<tr><th scope=row>2</th><td> [Anaerorhabdus]_furcosa_group        </td><td>BMR1</td><td> 0.00000</td><td>Spalacidae and relatives</td><td>Mammalia</td><td>Rodentia</td><td>Spalacidae</td><td>Spalax</td><td>Nannospalax leucodon</td><td>Feces</td><td>Wild</td><td>Wild</td><td>Underground</td><td>Herbivore</td><td>Herbivore</td><td>Hindgut fermentation</td><td>Cecum fermenter</td></tr>\n",
       "\t<tr><th scope=row>3</th><td> [Bacteroides]_pectinophilus_group    </td><td>BMR1</td><td> 0.00000</td><td>Spalacidae and relatives</td><td>Mammalia</td><td>Rodentia</td><td>Spalacidae</td><td>Spalax</td><td>Nannospalax leucodon</td><td>Feces</td><td>Wild</td><td>Wild</td><td>Underground</td><td>Herbivore</td><td>Herbivore</td><td>Hindgut fermentation</td><td>Cecum fermenter</td></tr>\n",
       "\t<tr><th scope=row>4</th><td> [Clostridium]_methylpentosum_group   </td><td>BMR1</td><td> 0.00000</td><td>Spalacidae and relatives</td><td>Mammalia</td><td>Rodentia</td><td>Spalacidae</td><td>Spalax</td><td>Nannospalax leucodon</td><td>Feces</td><td>Wild</td><td>Wild</td><td>Underground</td><td>Herbivore</td><td>Herbivore</td><td>Hindgut fermentation</td><td>Cecum fermenter</td></tr>\n",
       "\t<tr><th scope=row>5</th><td> [Eubacterium]_brachy_group           </td><td>BMR1</td><td> 0.00000</td><td>Spalacidae and relatives</td><td>Mammalia</td><td>Rodentia</td><td>Spalacidae</td><td>Spalax</td><td>Nannospalax leucodon</td><td>Feces</td><td>Wild</td><td>Wild</td><td>Underground</td><td>Herbivore</td><td>Herbivore</td><td>Hindgut fermentation</td><td>Cecum fermenter</td></tr>\n",
       "\t<tr><th scope=row>6</th><td> [Eubacterium]_coprostanoligenes_group</td><td>BMR1</td><td> 3.61623</td><td>Spalacidae and relatives</td><td>Mammalia</td><td>Rodentia</td><td>Spalacidae</td><td>Spalax</td><td>Nannospalax leucodon</td><td>Feces</td><td>Wild</td><td>Wild</td><td>Underground</td><td>Herbivore</td><td>Herbivore</td><td>Hindgut fermentation</td><td>Cecum fermenter</td></tr>\n",
       "</tbody>\n",
       "</table>\n"
      ],
      "text/latex": [
       "A data.frame: 6 × 17\n",
       "\\begin{tabular}{r|lllllllllllllllll}\n",
       "  & genus & Sampleid & value & Group & Class & Order & Family & Genus & Species & Sample\\_type & Captive\\_Wild & Domestic\\_Wild & Habitat & Diet & Diet\\_detail & Digestive\\_tract & Digest\\_detail\\\\\n",
       "  & <chr> & <chr> & <dbl> & <chr> & <chr> & <chr> & <chr> & <chr> & <chr> & <chr> & <chr> & <chr> & <chr> & <chr> & <chr> & <chr> & <chr>\\\\\n",
       "\\hline\n",
       "\t1 &                                        & BMR1 & 40.63500 & Spalacidae and relatives & Mammalia & Rodentia & Spalacidae & Spalax & Nannospalax leucodon & Feces & Wild & Wild & Underground & Herbivore & Herbivore & Hindgut fermentation & Cecum fermenter\\\\\n",
       "\t2 &  {[}Anaerorhabdus{]}\\_furcosa\\_group         & BMR1 &  0.00000 & Spalacidae and relatives & Mammalia & Rodentia & Spalacidae & Spalax & Nannospalax leucodon & Feces & Wild & Wild & Underground & Herbivore & Herbivore & Hindgut fermentation & Cecum fermenter\\\\\n",
       "\t3 &  {[}Bacteroides{]}\\_pectinophilus\\_group     & BMR1 &  0.00000 & Spalacidae and relatives & Mammalia & Rodentia & Spalacidae & Spalax & Nannospalax leucodon & Feces & Wild & Wild & Underground & Herbivore & Herbivore & Hindgut fermentation & Cecum fermenter\\\\\n",
       "\t4 &  {[}Clostridium{]}\\_methylpentosum\\_group    & BMR1 &  0.00000 & Spalacidae and relatives & Mammalia & Rodentia & Spalacidae & Spalax & Nannospalax leucodon & Feces & Wild & Wild & Underground & Herbivore & Herbivore & Hindgut fermentation & Cecum fermenter\\\\\n",
       "\t5 &  {[}Eubacterium{]}\\_brachy\\_group            & BMR1 &  0.00000 & Spalacidae and relatives & Mammalia & Rodentia & Spalacidae & Spalax & Nannospalax leucodon & Feces & Wild & Wild & Underground & Herbivore & Herbivore & Hindgut fermentation & Cecum fermenter\\\\\n",
       "\t6 &  {[}Eubacterium{]}\\_coprostanoligenes\\_group & BMR1 &  3.61623 & Spalacidae and relatives & Mammalia & Rodentia & Spalacidae & Spalax & Nannospalax leucodon & Feces & Wild & Wild & Underground & Herbivore & Herbivore & Hindgut fermentation & Cecum fermenter\\\\\n",
       "\\end{tabular}\n"
      ],
      "text/markdown": [
       "\n",
       "A data.frame: 6 × 17\n",
       "\n",
       "| <!--/--> | genus &lt;chr&gt; | Sampleid &lt;chr&gt; | value &lt;dbl&gt; | Group &lt;chr&gt; | Class &lt;chr&gt; | Order &lt;chr&gt; | Family &lt;chr&gt; | Genus &lt;chr&gt; | Species &lt;chr&gt; | Sample_type &lt;chr&gt; | Captive_Wild &lt;chr&gt; | Domestic_Wild &lt;chr&gt; | Habitat &lt;chr&gt; | Diet &lt;chr&gt; | Diet_detail &lt;chr&gt; | Digestive_tract &lt;chr&gt; | Digest_detail &lt;chr&gt; |\n",
       "|---|---|---|---|---|---|---|---|---|---|---|---|---|---|---|---|---|---|\n",
       "| 1 | <!----> | BMR1 | 40.63500 | Spalacidae and relatives | Mammalia | Rodentia | Spalacidae | Spalax | Nannospalax leucodon | Feces | Wild | Wild | Underground | Herbivore | Herbivore | Hindgut fermentation | Cecum fermenter |\n",
       "| 2 |  [Anaerorhabdus]_furcosa_group         | BMR1 |  0.00000 | Spalacidae and relatives | Mammalia | Rodentia | Spalacidae | Spalax | Nannospalax leucodon | Feces | Wild | Wild | Underground | Herbivore | Herbivore | Hindgut fermentation | Cecum fermenter |\n",
       "| 3 |  [Bacteroides]_pectinophilus_group     | BMR1 |  0.00000 | Spalacidae and relatives | Mammalia | Rodentia | Spalacidae | Spalax | Nannospalax leucodon | Feces | Wild | Wild | Underground | Herbivore | Herbivore | Hindgut fermentation | Cecum fermenter |\n",
       "| 4 |  [Clostridium]_methylpentosum_group    | BMR1 |  0.00000 | Spalacidae and relatives | Mammalia | Rodentia | Spalacidae | Spalax | Nannospalax leucodon | Feces | Wild | Wild | Underground | Herbivore | Herbivore | Hindgut fermentation | Cecum fermenter |\n",
       "| 5 |  [Eubacterium]_brachy_group            | BMR1 |  0.00000 | Spalacidae and relatives | Mammalia | Rodentia | Spalacidae | Spalax | Nannospalax leucodon | Feces | Wild | Wild | Underground | Herbivore | Herbivore | Hindgut fermentation | Cecum fermenter |\n",
       "| 6 |  [Eubacterium]_coprostanoligenes_group | BMR1 |  3.61623 | Spalacidae and relatives | Mammalia | Rodentia | Spalacidae | Spalax | Nannospalax leucodon | Feces | Wild | Wild | Underground | Herbivore | Herbivore | Hindgut fermentation | Cecum fermenter |\n",
       "\n"
      ],
      "text/plain": [
       "  genus                                  Sampleid value   \n",
       "1                                        BMR1     40.63500\n",
       "2  [Anaerorhabdus]_furcosa_group         BMR1      0.00000\n",
       "3  [Bacteroides]_pectinophilus_group     BMR1      0.00000\n",
       "4  [Clostridium]_methylpentosum_group    BMR1      0.00000\n",
       "5  [Eubacterium]_brachy_group            BMR1      0.00000\n",
       "6  [Eubacterium]_coprostanoligenes_group BMR1      3.61623\n",
       "  Group                    Class    Order    Family     Genus \n",
       "1 Spalacidae and relatives Mammalia Rodentia Spalacidae Spalax\n",
       "2 Spalacidae and relatives Mammalia Rodentia Spalacidae Spalax\n",
       "3 Spalacidae and relatives Mammalia Rodentia Spalacidae Spalax\n",
       "4 Spalacidae and relatives Mammalia Rodentia Spalacidae Spalax\n",
       "5 Spalacidae and relatives Mammalia Rodentia Spalacidae Spalax\n",
       "6 Spalacidae and relatives Mammalia Rodentia Spalacidae Spalax\n",
       "  Species              Sample_type Captive_Wild Domestic_Wild Habitat    \n",
       "1 Nannospalax leucodon Feces       Wild         Wild          Underground\n",
       "2 Nannospalax leucodon Feces       Wild         Wild          Underground\n",
       "3 Nannospalax leucodon Feces       Wild         Wild          Underground\n",
       "4 Nannospalax leucodon Feces       Wild         Wild          Underground\n",
       "5 Nannospalax leucodon Feces       Wild         Wild          Underground\n",
       "6 Nannospalax leucodon Feces       Wild         Wild          Underground\n",
       "  Diet      Diet_detail Digestive_tract      Digest_detail  \n",
       "1 Herbivore Herbivore   Hindgut fermentation Cecum fermenter\n",
       "2 Herbivore Herbivore   Hindgut fermentation Cecum fermenter\n",
       "3 Herbivore Herbivore   Hindgut fermentation Cecum fermenter\n",
       "4 Herbivore Herbivore   Hindgut fermentation Cecum fermenter\n",
       "5 Herbivore Herbivore   Hindgut fermentation Cecum fermenter\n",
       "6 Herbivore Herbivore   Hindgut fermentation Cecum fermenter"
      ]
     },
     "metadata": {},
     "output_type": "display_data"
    }
   ],
   "source": [
    "genus <- otu_genus %>% \n",
    "    gather(Sampleid,value,-genus) %>% \n",
    "    inner_join(metadata,c(\"Sampleid\")) %>% \n",
    "    as.data.frame()\n",
    "head(genus)"
   ]
  },
  {
   "cell_type": "code",
   "execution_count": 23,
   "metadata": {
    "ExecuteTime": {
     "end_time": "2024-03-31T14:23:50.809760Z",
     "start_time": "2024-03-31T14:23:47.438Z"
    }
   },
   "outputs": [
    {
     "data": {
      "text/html": [
       "<table class=\"dataframe\">\n",
       "<caption>A data.frame: 6 × 1</caption>\n",
       "<thead>\n",
       "\t<tr><th></th><th scope=col>genus</th></tr>\n",
       "\t<tr><th></th><th scope=col>&lt;chr&gt;</th></tr>\n",
       "</thead>\n",
       "<tbody>\n",
       "\t<tr><th scope=row> [Anaerorhabdus]_furcosa_group</th><td> [Anaerorhabdus]_furcosa_group        </td></tr>\n",
       "\t<tr><th scope=row> [Bacteroides]_pectinophilus_group</th><td> [Bacteroides]_pectinophilus_group    </td></tr>\n",
       "\t<tr><th scope=row> [Clostridium]_methylpentosum_group</th><td> [Clostridium]_methylpentosum_group   </td></tr>\n",
       "\t<tr><th scope=row> [Eubacterium]_brachy_group</th><td> [Eubacterium]_brachy_group           </td></tr>\n",
       "\t<tr><th scope=row> [Eubacterium]_coprostanoligenes_group</th><td> [Eubacterium]_coprostanoligenes_group</td></tr>\n",
       "\t<tr><th scope=row> [Eubacterium]_hallii_group</th><td> [Eubacterium]_hallii_group           </td></tr>\n",
       "</tbody>\n",
       "</table>\n"
      ],
      "text/latex": [
       "A data.frame: 6 × 1\n",
       "\\begin{tabular}{r|l}\n",
       "  & genus\\\\\n",
       "  & <chr>\\\\\n",
       "\\hline\n",
       "\t {[}Anaerorhabdus{]}\\_furcosa\\_group &  {[}Anaerorhabdus{]}\\_furcosa\\_group        \\\\\n",
       "\t {[}Bacteroides{]}\\_pectinophilus\\_group &  {[}Bacteroides{]}\\_pectinophilus\\_group    \\\\\n",
       "\t {[}Clostridium{]}\\_methylpentosum\\_group &  {[}Clostridium{]}\\_methylpentosum\\_group   \\\\\n",
       "\t {[}Eubacterium{]}\\_brachy\\_group &  {[}Eubacterium{]}\\_brachy\\_group           \\\\\n",
       "\t {[}Eubacterium{]}\\_coprostanoligenes\\_group &  {[}Eubacterium{]}\\_coprostanoligenes\\_group\\\\\n",
       "\t {[}Eubacterium{]}\\_hallii\\_group &  {[}Eubacterium{]}\\_hallii\\_group           \\\\\n",
       "\\end{tabular}\n"
      ],
      "text/markdown": [
       "\n",
       "A data.frame: 6 × 1\n",
       "\n",
       "| <!--/--> | genus &lt;chr&gt; |\n",
       "|---|---|\n",
       "|  [Anaerorhabdus]_furcosa_group |  [Anaerorhabdus]_furcosa_group         |\n",
       "|  [Bacteroides]_pectinophilus_group |  [Bacteroides]_pectinophilus_group     |\n",
       "|  [Clostridium]_methylpentosum_group |  [Clostridium]_methylpentosum_group    |\n",
       "|  [Eubacterium]_brachy_group |  [Eubacterium]_brachy_group            |\n",
       "|  [Eubacterium]_coprostanoligenes_group |  [Eubacterium]_coprostanoligenes_group |\n",
       "|  [Eubacterium]_hallii_group |  [Eubacterium]_hallii_group            |\n",
       "\n"
      ],
      "text/plain": [
       "                                       genus                                 \n",
       " [Anaerorhabdus]_furcosa_group          [Anaerorhabdus]_furcosa_group        \n",
       " [Bacteroides]_pectinophilus_group      [Bacteroides]_pectinophilus_group    \n",
       " [Clostridium]_methylpentosum_group     [Clostridium]_methylpentosum_group   \n",
       " [Eubacterium]_brachy_group             [Eubacterium]_brachy_group           \n",
       " [Eubacterium]_coprostanoligenes_group  [Eubacterium]_coprostanoligenes_group\n",
       " [Eubacterium]_hallii_group             [Eubacterium]_hallii_group           "
      ]
     },
     "metadata": {},
     "output_type": "display_data"
    },
    {
     "data": {
      "text/html": [
       "<table class=\"dataframe\">\n",
       "<caption>A data.frame: 6 × 80</caption>\n",
       "<thead>\n",
       "\t<tr><th></th><th scope=col>BMR1</th><th scope=col>BMR2</th><th scope=col>BMR3</th><th scope=col>BMR4</th><th scope=col>BMR5</th><th scope=col>BMR6</th><th scope=col>CBR1</th><th scope=col>CBR10</th><th scope=col>CBR2</th><th scope=col>CBR3</th><th scope=col>⋯</th><th scope=col>SR1</th><th scope=col>SR2</th><th scope=col>SR3</th><th scope=col>SR4</th><th scope=col>SR5</th><th scope=col>SR6</th><th scope=col>WHM1</th><th scope=col>WHM2</th><th scope=col>WHM3</th><th scope=col>WHM4</th></tr>\n",
       "\t<tr><th></th><th scope=col>&lt;dbl&gt;</th><th scope=col>&lt;dbl&gt;</th><th scope=col>&lt;dbl&gt;</th><th scope=col>&lt;dbl&gt;</th><th scope=col>&lt;dbl&gt;</th><th scope=col>&lt;dbl&gt;</th><th scope=col>&lt;dbl&gt;</th><th scope=col>&lt;dbl&gt;</th><th scope=col>&lt;dbl&gt;</th><th scope=col>&lt;dbl&gt;</th><th scope=col>⋯</th><th scope=col>&lt;dbl&gt;</th><th scope=col>&lt;dbl&gt;</th><th scope=col>&lt;dbl&gt;</th><th scope=col>&lt;dbl&gt;</th><th scope=col>&lt;dbl&gt;</th><th scope=col>&lt;dbl&gt;</th><th scope=col>&lt;dbl&gt;</th><th scope=col>&lt;dbl&gt;</th><th scope=col>&lt;dbl&gt;</th><th scope=col>&lt;dbl&gt;</th></tr>\n",
       "</thead>\n",
       "<tbody>\n",
       "\t<tr><th scope=row> [Anaerorhabdus]_furcosa_group</th><td>0.00000</td><td>0.000000</td><td>0.000000</td><td>0.000000</td><td>0.000000</td><td>0.000000</td><td>0.0000000</td><td>0.00000000</td><td>0.0000000</td><td>0.000000</td><td>⋯</td><td>0.000000000</td><td>0.00000000</td><td>0.000000000</td><td>0.00000000</td><td>0.0000000</td><td>0</td><td>0.0000000</td><td>0.0000000</td><td>0.000000000</td><td>0.000000</td></tr>\n",
       "\t<tr><th scope=row> [Bacteroides]_pectinophilus_group</th><td>0.00000</td><td>0.000000</td><td>0.000000</td><td>0.000000</td><td>0.000000</td><td>0.000000</td><td>0.0000000</td><td>0.00000000</td><td>0.0000000</td><td>0.000000</td><td>⋯</td><td>0.000000000</td><td>0.00000000</td><td>0.000000000</td><td>0.00000000</td><td>0.0000000</td><td>0</td><td>0.0000000</td><td>0.0000000</td><td>0.000000000</td><td>0.000000</td></tr>\n",
       "\t<tr><th scope=row> [Clostridium]_methylpentosum_group</th><td>0.00000</td><td>0.000000</td><td>0.000000</td><td>0.000000</td><td>0.000000</td><td>0.000000</td><td>0.0000000</td><td>0.00000000</td><td>0.0000000</td><td>0.000000</td><td>⋯</td><td>0.000000000</td><td>0.00000000</td><td>0.000000000</td><td>0.00000000</td><td>0.0000000</td><td>0</td><td>0.0000000</td><td>0.0000000</td><td>0.000000000</td><td>0.000000</td></tr>\n",
       "\t<tr><th scope=row> [Eubacterium]_brachy_group</th><td>0.00000</td><td>0.000000</td><td>0.000000</td><td>0.000000</td><td>0.000000</td><td>0.000000</td><td>0.0000000</td><td>0.00000000</td><td>0.0000000</td><td>0.000000</td><td>⋯</td><td>0.000000000</td><td>0.00000000</td><td>0.000000000</td><td>0.00000000</td><td>0.0000000</td><td>0</td><td>0.0000000</td><td>0.4325634</td><td>0.008651267</td><td>0.000000</td></tr>\n",
       "\t<tr><th scope=row> [Eubacterium]_coprostanoligenes_group</th><td>3.61623</td><td>2.180119</td><td>3.027944</td><td>7.639069</td><td>4.801453</td><td>1.730253</td><td>0.0519076</td><td>0.01730253</td><td>0.1470715</td><td>2.015745</td><td>⋯</td><td>0.008651267</td><td>0.01730253</td><td>0.008651267</td><td>0.06055887</td><td>0.0259538</td><td>0</td><td>0.0259538</td><td>0.1643741</td><td>0.069210139</td><td>0.354702</td></tr>\n",
       "\t<tr><th scope=row> [Eubacterium]_hallii_group</th><td>0.00000</td><td>0.000000</td><td>0.000000</td><td>0.000000</td><td>0.000000</td><td>0.000000</td><td>0.0000000</td><td>0.00000000</td><td>0.0000000</td><td>0.000000</td><td>⋯</td><td>0.000000000</td><td>0.00000000</td><td>0.000000000</td><td>0.00000000</td><td>0.0000000</td><td>0</td><td>0.0000000</td><td>0.0000000</td><td>0.000000000</td><td>0.000000</td></tr>\n",
       "</tbody>\n",
       "</table>\n"
      ],
      "text/latex": [
       "A data.frame: 6 × 80\n",
       "\\begin{tabular}{r|lllllllllllllllllllll}\n",
       "  & BMR1 & BMR2 & BMR3 & BMR4 & BMR5 & BMR6 & CBR1 & CBR10 & CBR2 & CBR3 & ⋯ & SR1 & SR2 & SR3 & SR4 & SR5 & SR6 & WHM1 & WHM2 & WHM3 & WHM4\\\\\n",
       "  & <dbl> & <dbl> & <dbl> & <dbl> & <dbl> & <dbl> & <dbl> & <dbl> & <dbl> & <dbl> & ⋯ & <dbl> & <dbl> & <dbl> & <dbl> & <dbl> & <dbl> & <dbl> & <dbl> & <dbl> & <dbl>\\\\\n",
       "\\hline\n",
       "\t {[}Anaerorhabdus{]}\\_furcosa\\_group & 0.00000 & 0.000000 & 0.000000 & 0.000000 & 0.000000 & 0.000000 & 0.0000000 & 0.00000000 & 0.0000000 & 0.000000 & ⋯ & 0.000000000 & 0.00000000 & 0.000000000 & 0.00000000 & 0.0000000 & 0 & 0.0000000 & 0.0000000 & 0.000000000 & 0.000000\\\\\n",
       "\t {[}Bacteroides{]}\\_pectinophilus\\_group & 0.00000 & 0.000000 & 0.000000 & 0.000000 & 0.000000 & 0.000000 & 0.0000000 & 0.00000000 & 0.0000000 & 0.000000 & ⋯ & 0.000000000 & 0.00000000 & 0.000000000 & 0.00000000 & 0.0000000 & 0 & 0.0000000 & 0.0000000 & 0.000000000 & 0.000000\\\\\n",
       "\t {[}Clostridium{]}\\_methylpentosum\\_group & 0.00000 & 0.000000 & 0.000000 & 0.000000 & 0.000000 & 0.000000 & 0.0000000 & 0.00000000 & 0.0000000 & 0.000000 & ⋯ & 0.000000000 & 0.00000000 & 0.000000000 & 0.00000000 & 0.0000000 & 0 & 0.0000000 & 0.0000000 & 0.000000000 & 0.000000\\\\\n",
       "\t {[}Eubacterium{]}\\_brachy\\_group & 0.00000 & 0.000000 & 0.000000 & 0.000000 & 0.000000 & 0.000000 & 0.0000000 & 0.00000000 & 0.0000000 & 0.000000 & ⋯ & 0.000000000 & 0.00000000 & 0.000000000 & 0.00000000 & 0.0000000 & 0 & 0.0000000 & 0.4325634 & 0.008651267 & 0.000000\\\\\n",
       "\t {[}Eubacterium{]}\\_coprostanoligenes\\_group & 3.61623 & 2.180119 & 3.027944 & 7.639069 & 4.801453 & 1.730253 & 0.0519076 & 0.01730253 & 0.1470715 & 2.015745 & ⋯ & 0.008651267 & 0.01730253 & 0.008651267 & 0.06055887 & 0.0259538 & 0 & 0.0259538 & 0.1643741 & 0.069210139 & 0.354702\\\\\n",
       "\t {[}Eubacterium{]}\\_hallii\\_group & 0.00000 & 0.000000 & 0.000000 & 0.000000 & 0.000000 & 0.000000 & 0.0000000 & 0.00000000 & 0.0000000 & 0.000000 & ⋯ & 0.000000000 & 0.00000000 & 0.000000000 & 0.00000000 & 0.0000000 & 0 & 0.0000000 & 0.0000000 & 0.000000000 & 0.000000\\\\\n",
       "\\end{tabular}\n"
      ],
      "text/markdown": [
       "\n",
       "A data.frame: 6 × 80\n",
       "\n",
       "| <!--/--> | BMR1 &lt;dbl&gt; | BMR2 &lt;dbl&gt; | BMR3 &lt;dbl&gt; | BMR4 &lt;dbl&gt; | BMR5 &lt;dbl&gt; | BMR6 &lt;dbl&gt; | CBR1 &lt;dbl&gt; | CBR10 &lt;dbl&gt; | CBR2 &lt;dbl&gt; | CBR3 &lt;dbl&gt; | ⋯ ⋯ | SR1 &lt;dbl&gt; | SR2 &lt;dbl&gt; | SR3 &lt;dbl&gt; | SR4 &lt;dbl&gt; | SR5 &lt;dbl&gt; | SR6 &lt;dbl&gt; | WHM1 &lt;dbl&gt; | WHM2 &lt;dbl&gt; | WHM3 &lt;dbl&gt; | WHM4 &lt;dbl&gt; |\n",
       "|---|---|---|---|---|---|---|---|---|---|---|---|---|---|---|---|---|---|---|---|---|---|\n",
       "|  [Anaerorhabdus]_furcosa_group | 0.00000 | 0.000000 | 0.000000 | 0.000000 | 0.000000 | 0.000000 | 0.0000000 | 0.00000000 | 0.0000000 | 0.000000 | ⋯ | 0.000000000 | 0.00000000 | 0.000000000 | 0.00000000 | 0.0000000 | 0 | 0.0000000 | 0.0000000 | 0.000000000 | 0.000000 |\n",
       "|  [Bacteroides]_pectinophilus_group | 0.00000 | 0.000000 | 0.000000 | 0.000000 | 0.000000 | 0.000000 | 0.0000000 | 0.00000000 | 0.0000000 | 0.000000 | ⋯ | 0.000000000 | 0.00000000 | 0.000000000 | 0.00000000 | 0.0000000 | 0 | 0.0000000 | 0.0000000 | 0.000000000 | 0.000000 |\n",
       "|  [Clostridium]_methylpentosum_group | 0.00000 | 0.000000 | 0.000000 | 0.000000 | 0.000000 | 0.000000 | 0.0000000 | 0.00000000 | 0.0000000 | 0.000000 | ⋯ | 0.000000000 | 0.00000000 | 0.000000000 | 0.00000000 | 0.0000000 | 0 | 0.0000000 | 0.0000000 | 0.000000000 | 0.000000 |\n",
       "|  [Eubacterium]_brachy_group | 0.00000 | 0.000000 | 0.000000 | 0.000000 | 0.000000 | 0.000000 | 0.0000000 | 0.00000000 | 0.0000000 | 0.000000 | ⋯ | 0.000000000 | 0.00000000 | 0.000000000 | 0.00000000 | 0.0000000 | 0 | 0.0000000 | 0.4325634 | 0.008651267 | 0.000000 |\n",
       "|  [Eubacterium]_coprostanoligenes_group | 3.61623 | 2.180119 | 3.027944 | 7.639069 | 4.801453 | 1.730253 | 0.0519076 | 0.01730253 | 0.1470715 | 2.015745 | ⋯ | 0.008651267 | 0.01730253 | 0.008651267 | 0.06055887 | 0.0259538 | 0 | 0.0259538 | 0.1643741 | 0.069210139 | 0.354702 |\n",
       "|  [Eubacterium]_hallii_group | 0.00000 | 0.000000 | 0.000000 | 0.000000 | 0.000000 | 0.000000 | 0.0000000 | 0.00000000 | 0.0000000 | 0.000000 | ⋯ | 0.000000000 | 0.00000000 | 0.000000000 | 0.00000000 | 0.0000000 | 0 | 0.0000000 | 0.0000000 | 0.000000000 | 0.000000 |\n",
       "\n"
      ],
      "text/plain": [
       "                                       BMR1    BMR2     BMR3     BMR4    \n",
       " [Anaerorhabdus]_furcosa_group         0.00000 0.000000 0.000000 0.000000\n",
       " [Bacteroides]_pectinophilus_group     0.00000 0.000000 0.000000 0.000000\n",
       " [Clostridium]_methylpentosum_group    0.00000 0.000000 0.000000 0.000000\n",
       " [Eubacterium]_brachy_group            0.00000 0.000000 0.000000 0.000000\n",
       " [Eubacterium]_coprostanoligenes_group 3.61623 2.180119 3.027944 7.639069\n",
       " [Eubacterium]_hallii_group            0.00000 0.000000 0.000000 0.000000\n",
       "                                       BMR5     BMR6     CBR1      CBR10     \n",
       " [Anaerorhabdus]_furcosa_group         0.000000 0.000000 0.0000000 0.00000000\n",
       " [Bacteroides]_pectinophilus_group     0.000000 0.000000 0.0000000 0.00000000\n",
       " [Clostridium]_methylpentosum_group    0.000000 0.000000 0.0000000 0.00000000\n",
       " [Eubacterium]_brachy_group            0.000000 0.000000 0.0000000 0.00000000\n",
       " [Eubacterium]_coprostanoligenes_group 4.801453 1.730253 0.0519076 0.01730253\n",
       " [Eubacterium]_hallii_group            0.000000 0.000000 0.0000000 0.00000000\n",
       "                                       CBR2      CBR3     ⋯ SR1        \n",
       " [Anaerorhabdus]_furcosa_group         0.0000000 0.000000 ⋯ 0.000000000\n",
       " [Bacteroides]_pectinophilus_group     0.0000000 0.000000 ⋯ 0.000000000\n",
       " [Clostridium]_methylpentosum_group    0.0000000 0.000000 ⋯ 0.000000000\n",
       " [Eubacterium]_brachy_group            0.0000000 0.000000 ⋯ 0.000000000\n",
       " [Eubacterium]_coprostanoligenes_group 0.1470715 2.015745 ⋯ 0.008651267\n",
       " [Eubacterium]_hallii_group            0.0000000 0.000000 ⋯ 0.000000000\n",
       "                                       SR2        SR3         SR4       \n",
       " [Anaerorhabdus]_furcosa_group         0.00000000 0.000000000 0.00000000\n",
       " [Bacteroides]_pectinophilus_group     0.00000000 0.000000000 0.00000000\n",
       " [Clostridium]_methylpentosum_group    0.00000000 0.000000000 0.00000000\n",
       " [Eubacterium]_brachy_group            0.00000000 0.000000000 0.00000000\n",
       " [Eubacterium]_coprostanoligenes_group 0.01730253 0.008651267 0.06055887\n",
       " [Eubacterium]_hallii_group            0.00000000 0.000000000 0.00000000\n",
       "                                       SR5       SR6 WHM1      WHM2     \n",
       " [Anaerorhabdus]_furcosa_group         0.0000000 0   0.0000000 0.0000000\n",
       " [Bacteroides]_pectinophilus_group     0.0000000 0   0.0000000 0.0000000\n",
       " [Clostridium]_methylpentosum_group    0.0000000 0   0.0000000 0.0000000\n",
       " [Eubacterium]_brachy_group            0.0000000 0   0.0000000 0.4325634\n",
       " [Eubacterium]_coprostanoligenes_group 0.0259538 0   0.0259538 0.1643741\n",
       " [Eubacterium]_hallii_group            0.0000000 0   0.0000000 0.0000000\n",
       "                                       WHM3        WHM4    \n",
       " [Anaerorhabdus]_furcosa_group         0.000000000 0.000000\n",
       " [Bacteroides]_pectinophilus_group     0.000000000 0.000000\n",
       " [Clostridium]_methylpentosum_group    0.000000000 0.000000\n",
       " [Eubacterium]_brachy_group            0.008651267 0.000000\n",
       " [Eubacterium]_coprostanoligenes_group 0.069210139 0.354702\n",
       " [Eubacterium]_hallii_group            0.000000000 0.000000"
      ]
     },
     "metadata": {},
     "output_type": "display_data"
    },
    {
     "data": {
      "text/html": [
       "<table class=\"dataframe\">\n",
       "<caption>A data.frame: 6 × 15</caption>\n",
       "<thead>\n",
       "\t<tr><th></th><th scope=col>Sampleid</th><th scope=col>Group</th><th scope=col>Class</th><th scope=col>Order</th><th scope=col>Family</th><th scope=col>Genus</th><th scope=col>Species</th><th scope=col>Sample_type</th><th scope=col>Captive_Wild</th><th scope=col>Domestic_Wild</th><th scope=col>Habitat</th><th scope=col>Diet</th><th scope=col>Diet_detail</th><th scope=col>Digestive_tract</th><th scope=col>Digest_detail</th></tr>\n",
       "\t<tr><th></th><th scope=col>&lt;chr&gt;</th><th scope=col>&lt;chr&gt;</th><th scope=col>&lt;chr&gt;</th><th scope=col>&lt;chr&gt;</th><th scope=col>&lt;chr&gt;</th><th scope=col>&lt;chr&gt;</th><th scope=col>&lt;chr&gt;</th><th scope=col>&lt;chr&gt;</th><th scope=col>&lt;chr&gt;</th><th scope=col>&lt;chr&gt;</th><th scope=col>&lt;chr&gt;</th><th scope=col>&lt;chr&gt;</th><th scope=col>&lt;chr&gt;</th><th scope=col>&lt;chr&gt;</th><th scope=col>&lt;chr&gt;</th></tr>\n",
       "</thead>\n",
       "<tbody>\n",
       "\t<tr><th scope=row>CBR1</th><td>CBR1</td><td>Spalacidae and relatives</td><td>Mammalia</td><td>Rodentia</td><td>Spalacidae</td><td>Rhizomys</td><td>Rhizomys sinensis</td><td>Feces</td><td>Wild</td><td>Wild</td><td>Underground</td><td>Herbivore</td><td>Bamboo</td><td>Hindgut fermentation</td><td>Cecum fermenter</td></tr>\n",
       "\t<tr><th scope=row>CBR2</th><td>CBR2</td><td>Spalacidae and relatives</td><td>Mammalia</td><td>Rodentia</td><td>Spalacidae</td><td>Rhizomys</td><td>Rhizomys sinensis</td><td>Feces</td><td>Wild</td><td>Wild</td><td>Underground</td><td>Herbivore</td><td>Bamboo</td><td>Hindgut fermentation</td><td>Cecum fermenter</td></tr>\n",
       "\t<tr><th scope=row>CBR3</th><td>CBR3</td><td>Spalacidae and relatives</td><td>Mammalia</td><td>Rodentia</td><td>Spalacidae</td><td>Rhizomys</td><td>Rhizomys sinensis</td><td>Feces</td><td>Wild</td><td>Wild</td><td>Underground</td><td>Herbivore</td><td>Bamboo</td><td>Hindgut fermentation</td><td>Cecum fermenter</td></tr>\n",
       "\t<tr><th scope=row>CBR4</th><td>CBR4</td><td>Spalacidae and relatives</td><td>Mammalia</td><td>Rodentia</td><td>Spalacidae</td><td>Rhizomys</td><td>Rhizomys sinensis</td><td>Feces</td><td>Wild</td><td>Wild</td><td>Underground</td><td>Herbivore</td><td>Bamboo</td><td>Hindgut fermentation</td><td>Cecum fermenter</td></tr>\n",
       "\t<tr><th scope=row>CBR5</th><td>CBR5</td><td>Spalacidae and relatives</td><td>Mammalia</td><td>Rodentia</td><td>Spalacidae</td><td>Rhizomys</td><td>Rhizomys sinensis</td><td>Feces</td><td>Wild</td><td>Wild</td><td>Underground</td><td>Herbivore</td><td>Bamboo</td><td>Hindgut fermentation</td><td>Cecum fermenter</td></tr>\n",
       "\t<tr><th scope=row>CBR6</th><td>CBR6</td><td>Spalacidae and relatives</td><td>Mammalia</td><td>Rodentia</td><td>Spalacidae</td><td>Rhizomys</td><td>Rhizomys sinensis</td><td>Gut  </td><td>Wild</td><td>Wild</td><td>Underground</td><td>Herbivore</td><td>Bamboo</td><td>Hindgut fermentation</td><td>Cecum fermenter</td></tr>\n",
       "</tbody>\n",
       "</table>\n"
      ],
      "text/latex": [
       "A data.frame: 6 × 15\n",
       "\\begin{tabular}{r|lllllllllllllll}\n",
       "  & Sampleid & Group & Class & Order & Family & Genus & Species & Sample\\_type & Captive\\_Wild & Domestic\\_Wild & Habitat & Diet & Diet\\_detail & Digestive\\_tract & Digest\\_detail\\\\\n",
       "  & <chr> & <chr> & <chr> & <chr> & <chr> & <chr> & <chr> & <chr> & <chr> & <chr> & <chr> & <chr> & <chr> & <chr> & <chr>\\\\\n",
       "\\hline\n",
       "\tCBR1 & CBR1 & Spalacidae and relatives & Mammalia & Rodentia & Spalacidae & Rhizomys & Rhizomys sinensis & Feces & Wild & Wild & Underground & Herbivore & Bamboo & Hindgut fermentation & Cecum fermenter\\\\\n",
       "\tCBR2 & CBR2 & Spalacidae and relatives & Mammalia & Rodentia & Spalacidae & Rhizomys & Rhizomys sinensis & Feces & Wild & Wild & Underground & Herbivore & Bamboo & Hindgut fermentation & Cecum fermenter\\\\\n",
       "\tCBR3 & CBR3 & Spalacidae and relatives & Mammalia & Rodentia & Spalacidae & Rhizomys & Rhizomys sinensis & Feces & Wild & Wild & Underground & Herbivore & Bamboo & Hindgut fermentation & Cecum fermenter\\\\\n",
       "\tCBR4 & CBR4 & Spalacidae and relatives & Mammalia & Rodentia & Spalacidae & Rhizomys & Rhizomys sinensis & Feces & Wild & Wild & Underground & Herbivore & Bamboo & Hindgut fermentation & Cecum fermenter\\\\\n",
       "\tCBR5 & CBR5 & Spalacidae and relatives & Mammalia & Rodentia & Spalacidae & Rhizomys & Rhizomys sinensis & Feces & Wild & Wild & Underground & Herbivore & Bamboo & Hindgut fermentation & Cecum fermenter\\\\\n",
       "\tCBR6 & CBR6 & Spalacidae and relatives & Mammalia & Rodentia & Spalacidae & Rhizomys & Rhizomys sinensis & Gut   & Wild & Wild & Underground & Herbivore & Bamboo & Hindgut fermentation & Cecum fermenter\\\\\n",
       "\\end{tabular}\n"
      ],
      "text/markdown": [
       "\n",
       "A data.frame: 6 × 15\n",
       "\n",
       "| <!--/--> | Sampleid &lt;chr&gt; | Group &lt;chr&gt; | Class &lt;chr&gt; | Order &lt;chr&gt; | Family &lt;chr&gt; | Genus &lt;chr&gt; | Species &lt;chr&gt; | Sample_type &lt;chr&gt; | Captive_Wild &lt;chr&gt; | Domestic_Wild &lt;chr&gt; | Habitat &lt;chr&gt; | Diet &lt;chr&gt; | Diet_detail &lt;chr&gt; | Digestive_tract &lt;chr&gt; | Digest_detail &lt;chr&gt; |\n",
       "|---|---|---|---|---|---|---|---|---|---|---|---|---|---|---|---|\n",
       "| CBR1 | CBR1 | Spalacidae and relatives | Mammalia | Rodentia | Spalacidae | Rhizomys | Rhizomys sinensis | Feces | Wild | Wild | Underground | Herbivore | Bamboo | Hindgut fermentation | Cecum fermenter |\n",
       "| CBR2 | CBR2 | Spalacidae and relatives | Mammalia | Rodentia | Spalacidae | Rhizomys | Rhizomys sinensis | Feces | Wild | Wild | Underground | Herbivore | Bamboo | Hindgut fermentation | Cecum fermenter |\n",
       "| CBR3 | CBR3 | Spalacidae and relatives | Mammalia | Rodentia | Spalacidae | Rhizomys | Rhizomys sinensis | Feces | Wild | Wild | Underground | Herbivore | Bamboo | Hindgut fermentation | Cecum fermenter |\n",
       "| CBR4 | CBR4 | Spalacidae and relatives | Mammalia | Rodentia | Spalacidae | Rhizomys | Rhizomys sinensis | Feces | Wild | Wild | Underground | Herbivore | Bamboo | Hindgut fermentation | Cecum fermenter |\n",
       "| CBR5 | CBR5 | Spalacidae and relatives | Mammalia | Rodentia | Spalacidae | Rhizomys | Rhizomys sinensis | Feces | Wild | Wild | Underground | Herbivore | Bamboo | Hindgut fermentation | Cecum fermenter |\n",
       "| CBR6 | CBR6 | Spalacidae and relatives | Mammalia | Rodentia | Spalacidae | Rhizomys | Rhizomys sinensis | Gut   | Wild | Wild | Underground | Herbivore | Bamboo | Hindgut fermentation | Cecum fermenter |\n",
       "\n"
      ],
      "text/plain": [
       "     Sampleid Group                    Class    Order    Family     Genus   \n",
       "CBR1 CBR1     Spalacidae and relatives Mammalia Rodentia Spalacidae Rhizomys\n",
       "CBR2 CBR2     Spalacidae and relatives Mammalia Rodentia Spalacidae Rhizomys\n",
       "CBR3 CBR3     Spalacidae and relatives Mammalia Rodentia Spalacidae Rhizomys\n",
       "CBR4 CBR4     Spalacidae and relatives Mammalia Rodentia Spalacidae Rhizomys\n",
       "CBR5 CBR5     Spalacidae and relatives Mammalia Rodentia Spalacidae Rhizomys\n",
       "CBR6 CBR6     Spalacidae and relatives Mammalia Rodentia Spalacidae Rhizomys\n",
       "     Species           Sample_type Captive_Wild Domestic_Wild Habitat    \n",
       "CBR1 Rhizomys sinensis Feces       Wild         Wild          Underground\n",
       "CBR2 Rhizomys sinensis Feces       Wild         Wild          Underground\n",
       "CBR3 Rhizomys sinensis Feces       Wild         Wild          Underground\n",
       "CBR4 Rhizomys sinensis Feces       Wild         Wild          Underground\n",
       "CBR5 Rhizomys sinensis Feces       Wild         Wild          Underground\n",
       "CBR6 Rhizomys sinensis Gut         Wild         Wild          Underground\n",
       "     Diet      Diet_detail Digestive_tract      Digest_detail  \n",
       "CBR1 Herbivore Bamboo      Hindgut fermentation Cecum fermenter\n",
       "CBR2 Herbivore Bamboo      Hindgut fermentation Cecum fermenter\n",
       "CBR3 Herbivore Bamboo      Hindgut fermentation Cecum fermenter\n",
       "CBR4 Herbivore Bamboo      Hindgut fermentation Cecum fermenter\n",
       "CBR5 Herbivore Bamboo      Hindgut fermentation Cecum fermenter\n",
       "CBR6 Herbivore Bamboo      Hindgut fermentation Cecum fermenter"
      ]
     },
     "metadata": {},
     "output_type": "display_data"
    },
    {
     "data": {
      "text/plain": [
       "microtable-class object:\n",
       "sample_table have 80 rows and 15 columns\n",
       "otu_table have 461 rows and 80 columns\n",
       "tax_table have 461 rows and 1 columns"
      ]
     },
     "metadata": {},
     "output_type": "display_data"
    },
    {
     "name": "stderr",
     "output_type": "stream",
     "text": [
      "No taxa_abund list found. Calculate it with cal_abund function ...\n",
      "\n",
      "The result is stored in object$taxa_abund ...\n",
      "\n",
      "461 input features ...\n",
      "\n",
      "459 features are remained after removing unknown features ...\n",
      "\n",
      "Start Kruskal-Wallis rank sum test for Habitat ...\n",
      "\n",
      "48 taxa found significant ...\n",
      "\n",
      "After P value adjustment, 11 taxa found significant ...\n",
      "\n",
      "Minimum LDA score: 3.37892388536699 maximum LDA score: 4.22676083487503\n",
      "\n",
      "Taxa abundance table is stored in object$res_abund ...\n",
      "\n",
      "lefse analysis result is stored in object$res_diff ...\n",
      "\n"
     ]
    },
    {
     "data": {
      "text/html": [
       "<table class=\"dataframe\">\n",
       "<caption>A data.frame: 6 × 8</caption>\n",
       "<thead>\n",
       "\t<tr><th></th><th scope=col>Comparison</th><th scope=col>Taxa</th><th scope=col>Method</th><th scope=col>Group</th><th scope=col>LDA</th><th scope=col>P.unadj</th><th scope=col>P.adj</th><th scope=col>Significance</th></tr>\n",
       "\t<tr><th></th><th scope=col>&lt;chr&gt;</th><th scope=col>&lt;chr&gt;</th><th scope=col>&lt;chr&gt;</th><th scope=col>&lt;chr&gt;</th><th scope=col>&lt;dbl&gt;</th><th scope=col>&lt;dbl&gt;</th><th scope=col>&lt;dbl&gt;</th><th scope=col>&lt;fct&gt;</th></tr>\n",
       "</thead>\n",
       "<tbody>\n",
       "\t<tr><th scope=row> Treponema</th><td>Aboveground - Underground</td><td> Treponema                                         </td><td>LEfSe</td><td>Aboveground</td><td>4.226761</td><td>6.250633e-05</td><td>3.586301e-03</td><td>** </td></tr>\n",
       "\t<tr><th scope=row> NK4A214_group</th><td>Aboveground - Underground</td><td> NK4A214_group                                     </td><td>LEfSe</td><td>Underground</td><td>4.011249</td><td>3.828687e-10</td><td>1.757367e-07</td><td>***</td></tr>\n",
       "\t<tr><th scope=row> Alistipes</th><td>Aboveground - Underground</td><td> Alistipes                                         </td><td>LEfSe</td><td>Aboveground</td><td>4.008766</td><td>1.024260e-05</td><td>9.402710e-04</td><td>***</td></tr>\n",
       "\t<tr><th scope=row> Allorhizobium-Neorhizobium-Pararhizobium-Rhizobium</th><td>Aboveground - Underground</td><td> Allorhizobium-Neorhizobium-Pararhizobium-Rhizobium</td><td>LEfSe</td><td>Aboveground</td><td>3.884481</td><td>8.717814e-07</td><td>1.000369e-04</td><td>***</td></tr>\n",
       "\t<tr><th scope=row> Rikenellaceae_RC9_gut_group</th><td>Aboveground - Underground</td><td> Rikenellaceae_RC9_gut_group                       </td><td>LEfSe</td><td>Underground</td><td>3.784546</td><td>2.275084e-05</td><td>1.557585e-03</td><td>** </td></tr>\n",
       "\t<tr><th scope=row> Myroides</th><td>Aboveground - Underground</td><td> Myroides                                          </td><td>LEfSe</td><td>Aboveground</td><td>3.743381</td><td>4.149866e-07</td><td>6.349295e-05</td><td>***</td></tr>\n",
       "</tbody>\n",
       "</table>\n"
      ],
      "text/latex": [
       "A data.frame: 6 × 8\n",
       "\\begin{tabular}{r|llllllll}\n",
       "  & Comparison & Taxa & Method & Group & LDA & P.unadj & P.adj & Significance\\\\\n",
       "  & <chr> & <chr> & <chr> & <chr> & <dbl> & <dbl> & <dbl> & <fct>\\\\\n",
       "\\hline\n",
       "\t Treponema & Aboveground - Underground &  Treponema                                          & LEfSe & Aboveground & 4.226761 & 6.250633e-05 & 3.586301e-03 & ** \\\\\n",
       "\t NK4A214\\_group & Aboveground - Underground &  NK4A214\\_group                                      & LEfSe & Underground & 4.011249 & 3.828687e-10 & 1.757367e-07 & ***\\\\\n",
       "\t Alistipes & Aboveground - Underground &  Alistipes                                          & LEfSe & Aboveground & 4.008766 & 1.024260e-05 & 9.402710e-04 & ***\\\\\n",
       "\t Allorhizobium-Neorhizobium-Pararhizobium-Rhizobium & Aboveground - Underground &  Allorhizobium-Neorhizobium-Pararhizobium-Rhizobium & LEfSe & Aboveground & 3.884481 & 8.717814e-07 & 1.000369e-04 & ***\\\\\n",
       "\t Rikenellaceae\\_RC9\\_gut\\_group & Aboveground - Underground &  Rikenellaceae\\_RC9\\_gut\\_group                        & LEfSe & Underground & 3.784546 & 2.275084e-05 & 1.557585e-03 & ** \\\\\n",
       "\t Myroides & Aboveground - Underground &  Myroides                                           & LEfSe & Aboveground & 3.743381 & 4.149866e-07 & 6.349295e-05 & ***\\\\\n",
       "\\end{tabular}\n"
      ],
      "text/markdown": [
       "\n",
       "A data.frame: 6 × 8\n",
       "\n",
       "| <!--/--> | Comparison &lt;chr&gt; | Taxa &lt;chr&gt; | Method &lt;chr&gt; | Group &lt;chr&gt; | LDA &lt;dbl&gt; | P.unadj &lt;dbl&gt; | P.adj &lt;dbl&gt; | Significance &lt;fct&gt; |\n",
       "|---|---|---|---|---|---|---|---|---|\n",
       "|  Treponema | Aboveground - Underground |  Treponema                                          | LEfSe | Aboveground | 4.226761 | 6.250633e-05 | 3.586301e-03 | **  |\n",
       "|  NK4A214_group | Aboveground - Underground |  NK4A214_group                                      | LEfSe | Underground | 4.011249 | 3.828687e-10 | 1.757367e-07 | *** |\n",
       "|  Alistipes | Aboveground - Underground |  Alistipes                                          | LEfSe | Aboveground | 4.008766 | 1.024260e-05 | 9.402710e-04 | *** |\n",
       "|  Allorhizobium-Neorhizobium-Pararhizobium-Rhizobium | Aboveground - Underground |  Allorhizobium-Neorhizobium-Pararhizobium-Rhizobium | LEfSe | Aboveground | 3.884481 | 8.717814e-07 | 1.000369e-04 | *** |\n",
       "|  Rikenellaceae_RC9_gut_group | Aboveground - Underground |  Rikenellaceae_RC9_gut_group                        | LEfSe | Underground | 3.784546 | 2.275084e-05 | 1.557585e-03 | **  |\n",
       "|  Myroides | Aboveground - Underground |  Myroides                                           | LEfSe | Aboveground | 3.743381 | 4.149866e-07 | 6.349295e-05 | *** |\n",
       "\n"
      ],
      "text/plain": [
       "                                                    Comparison               \n",
       " Treponema                                          Aboveground - Underground\n",
       " NK4A214_group                                      Aboveground - Underground\n",
       " Alistipes                                          Aboveground - Underground\n",
       " Allorhizobium-Neorhizobium-Pararhizobium-Rhizobium Aboveground - Underground\n",
       " Rikenellaceae_RC9_gut_group                        Aboveground - Underground\n",
       " Myroides                                           Aboveground - Underground\n",
       "                                                    Taxa                                               \n",
       " Treponema                                           Treponema                                         \n",
       " NK4A214_group                                       NK4A214_group                                     \n",
       " Alistipes                                           Alistipes                                         \n",
       " Allorhizobium-Neorhizobium-Pararhizobium-Rhizobium  Allorhizobium-Neorhizobium-Pararhizobium-Rhizobium\n",
       " Rikenellaceae_RC9_gut_group                         Rikenellaceae_RC9_gut_group                       \n",
       " Myroides                                            Myroides                                          \n",
       "                                                    Method Group       LDA     \n",
       " Treponema                                          LEfSe  Aboveground 4.226761\n",
       " NK4A214_group                                      LEfSe  Underground 4.011249\n",
       " Alistipes                                          LEfSe  Aboveground 4.008766\n",
       " Allorhizobium-Neorhizobium-Pararhizobium-Rhizobium LEfSe  Aboveground 3.884481\n",
       " Rikenellaceae_RC9_gut_group                        LEfSe  Underground 3.784546\n",
       " Myroides                                           LEfSe  Aboveground 3.743381\n",
       "                                                    P.unadj      P.adj       \n",
       " Treponema                                          6.250633e-05 3.586301e-03\n",
       " NK4A214_group                                      3.828687e-10 1.757367e-07\n",
       " Alistipes                                          1.024260e-05 9.402710e-04\n",
       " Allorhizobium-Neorhizobium-Pararhizobium-Rhizobium 8.717814e-07 1.000369e-04\n",
       " Rikenellaceae_RC9_gut_group                        2.275084e-05 1.557585e-03\n",
       " Myroides                                           4.149866e-07 6.349295e-05\n",
       "                                                    Significance\n",
       " Treponema                                          **          \n",
       " NK4A214_group                                      ***         \n",
       " Alistipes                                          ***         \n",
       " Allorhizobium-Neorhizobium-Pararhizobium-Rhizobium ***         \n",
       " Rikenellaceae_RC9_gut_group                        **          \n",
       " Myroides                                           ***         "
      ]
     },
     "metadata": {},
     "output_type": "display_data"
    }
   ],
   "source": [
    "####underground/aboveground####\n",
    "#prepare three files\n",
    "data1 <- genus %>% \n",
    "    dplyr::select(Sampleid,value,genus) %>% \n",
    "    spread(Sampleid,value) %>% \n",
    "    filter(genus != '') %>% \n",
    "    as.data.frame()\n",
    "row.names(data1) <- data1$genus\n",
    "tax1 <- data1 %>% dplyr::select(genus) %>% as.data.frame()\n",
    "head(tax1)\n",
    "data1 <- data1 %>% dplyr::select(-genus) %>% as.data.frame()\n",
    "head(data1)\n",
    "sample1 <- metadata\n",
    "head(sample1)\n",
    "\n",
    "#prepare dataset\n",
    "dataset <- microtable$new(sample_table = sample1,\n",
    "                          otu_table = data1, \n",
    "                          tax_table = tax1)\n",
    "dataset\n",
    "\n",
    "#执行lefse分析\n",
    "lefse <- trans_diff$new(dataset = dataset, \n",
    "                        method = \"lefse\", \n",
    "                        group = \"Habitat\", \n",
    "                        alpha = 0.01, \n",
    "                        lefse_subgroup = NULL)\n",
    "#查看分析结果\n",
    "head(lefse$res_diff)"
   ]
  },
  {
   "cell_type": "code",
   "execution_count": 24,
   "metadata": {
    "ExecuteTime": {
     "end_time": "2024-03-31T14:24:06.421167Z",
     "start_time": "2024-03-31T14:24:05.475Z"
    }
   },
   "outputs": [
    {
     "name": "stderr",
     "output_type": "stream",
     "text": [
      "\u001b[1m\u001b[22mScale for \u001b[32mcolour\u001b[39m is already present.\n",
      "Adding another scale for \u001b[32mcolour\u001b[39m, which will replace the existing scale.\n",
      "\u001b[1m\u001b[22mScale for \u001b[32mfill\u001b[39m is already present.\n",
      "Adding another scale for \u001b[32mfill\u001b[39m, which will replace the existing scale.\n"
     ]
    },
    {
     "data": {
      "image/png": "[encoded data removed]",
      "text/plain": [
       "plot without title"
      ]
     },
     "metadata": {
      "image/png": {
       "height": 420,
       "width": 420
      }
     },
     "output_type": "display_data"
    }
   ],
   "source": [
    "lefse$plot_diff_bar(use_number = 1:11, \n",
    "                    width = 0.6, \n",
    "                    group_order = c(\"Aboveground\",\"Underground\")) +\n",
    "  ggsci::scale_color_npg() +\n",
    "  ggsci::scale_fill_npg()\n",
    "\n",
    "ggsave(\"genus_lefse_habitat.pdf\",width = 8,height = 3,dpi = 1000)"
   ]
  },
  {
   "cell_type": "code",
   "execution_count": 18,
   "metadata": {
    "ExecuteTime": {
     "end_time": "2024-03-31T14:18:40.860594Z",
     "start_time": "2024-03-31T14:18:39.771Z"
    },
    "scrolled": true
   },
   "outputs": [
    {
     "data": {
      "text/html": [
       "<table class=\"dataframe\">\n",
       "<caption>A data.frame: 6 × 1</caption>\n",
       "<thead>\n",
       "\t<tr><th></th><th scope=col>genus</th></tr>\n",
       "\t<tr><th></th><th scope=col>&lt;chr&gt;</th></tr>\n",
       "</thead>\n",
       "<tbody>\n",
       "\t<tr><th scope=row> [Anaerorhabdus]_furcosa_group</th><td> [Anaerorhabdus]_furcosa_group        </td></tr>\n",
       "\t<tr><th scope=row> [Bacteroides]_pectinophilus_group</th><td> [Bacteroides]_pectinophilus_group    </td></tr>\n",
       "\t<tr><th scope=row> [Clostridium]_methylpentosum_group</th><td> [Clostridium]_methylpentosum_group   </td></tr>\n",
       "\t<tr><th scope=row> [Eubacterium]_brachy_group</th><td> [Eubacterium]_brachy_group           </td></tr>\n",
       "\t<tr><th scope=row> [Eubacterium]_coprostanoligenes_group</th><td> [Eubacterium]_coprostanoligenes_group</td></tr>\n",
       "\t<tr><th scope=row> [Eubacterium]_hallii_group</th><td> [Eubacterium]_hallii_group           </td></tr>\n",
       "</tbody>\n",
       "</table>\n"
      ],
      "text/latex": [
       "A data.frame: 6 × 1\n",
       "\\begin{tabular}{r|l}\n",
       "  & genus\\\\\n",
       "  & <chr>\\\\\n",
       "\\hline\n",
       "\t {[}Anaerorhabdus{]}\\_furcosa\\_group &  {[}Anaerorhabdus{]}\\_furcosa\\_group        \\\\\n",
       "\t {[}Bacteroides{]}\\_pectinophilus\\_group &  {[}Bacteroides{]}\\_pectinophilus\\_group    \\\\\n",
       "\t {[}Clostridium{]}\\_methylpentosum\\_group &  {[}Clostridium{]}\\_methylpentosum\\_group   \\\\\n",
       "\t {[}Eubacterium{]}\\_brachy\\_group &  {[}Eubacterium{]}\\_brachy\\_group           \\\\\n",
       "\t {[}Eubacterium{]}\\_coprostanoligenes\\_group &  {[}Eubacterium{]}\\_coprostanoligenes\\_group\\\\\n",
       "\t {[}Eubacterium{]}\\_hallii\\_group &  {[}Eubacterium{]}\\_hallii\\_group           \\\\\n",
       "\\end{tabular}\n"
      ],
      "text/markdown": [
       "\n",
       "A data.frame: 6 × 1\n",
       "\n",
       "| <!--/--> | genus &lt;chr&gt; |\n",
       "|---|---|\n",
       "|  [Anaerorhabdus]_furcosa_group |  [Anaerorhabdus]_furcosa_group         |\n",
       "|  [Bacteroides]_pectinophilus_group |  [Bacteroides]_pectinophilus_group     |\n",
       "|  [Clostridium]_methylpentosum_group |  [Clostridium]_methylpentosum_group    |\n",
       "|  [Eubacterium]_brachy_group |  [Eubacterium]_brachy_group            |\n",
       "|  [Eubacterium]_coprostanoligenes_group |  [Eubacterium]_coprostanoligenes_group |\n",
       "|  [Eubacterium]_hallii_group |  [Eubacterium]_hallii_group            |\n",
       "\n"
      ],
      "text/plain": [
       "                                       genus                                 \n",
       " [Anaerorhabdus]_furcosa_group          [Anaerorhabdus]_furcosa_group        \n",
       " [Bacteroides]_pectinophilus_group      [Bacteroides]_pectinophilus_group    \n",
       " [Clostridium]_methylpentosum_group     [Clostridium]_methylpentosum_group   \n",
       " [Eubacterium]_brachy_group             [Eubacterium]_brachy_group           \n",
       " [Eubacterium]_coprostanoligenes_group  [Eubacterium]_coprostanoligenes_group\n",
       " [Eubacterium]_hallii_group             [Eubacterium]_hallii_group           "
      ]
     },
     "metadata": {},
     "output_type": "display_data"
    },
    {
     "data": {
      "text/html": [
       "<table class=\"dataframe\">\n",
       "<caption>A data.frame: 6 × 12</caption>\n",
       "<thead>\n",
       "\t<tr><th></th><th scope=col>SM1</th><th scope=col>SM2</th><th scope=col>SM3</th><th scope=col>SM4</th><th scope=col>SM5</th><th scope=col>SM6</th><th scope=col>SR1</th><th scope=col>SR2</th><th scope=col>SR3</th><th scope=col>SR4</th><th scope=col>SR5</th><th scope=col>SR6</th></tr>\n",
       "\t<tr><th></th><th scope=col>&lt;dbl&gt;</th><th scope=col>&lt;dbl&gt;</th><th scope=col>&lt;dbl&gt;</th><th scope=col>&lt;dbl&gt;</th><th scope=col>&lt;dbl&gt;</th><th scope=col>&lt;dbl&gt;</th><th scope=col>&lt;dbl&gt;</th><th scope=col>&lt;dbl&gt;</th><th scope=col>&lt;dbl&gt;</th><th scope=col>&lt;dbl&gt;</th><th scope=col>&lt;dbl&gt;</th><th scope=col>&lt;dbl&gt;</th></tr>\n",
       "</thead>\n",
       "<tbody>\n",
       "\t<tr><th scope=row> [Anaerorhabdus]_furcosa_group</th><td>0.008651267</td><td>0.00000000</td><td>0.00000000</td><td>0.0000000</td><td>0.00000000</td><td>0.0000000</td><td>0.000000000</td><td>0.00000000</td><td>0.000000000</td><td>0.00000000</td><td>0.0000000</td><td>0</td></tr>\n",
       "\t<tr><th scope=row> [Bacteroides]_pectinophilus_group</th><td>0.000000000</td><td>0.00000000</td><td>0.00000000</td><td>0.0000000</td><td>0.00000000</td><td>0.0000000</td><td>0.000000000</td><td>0.00000000</td><td>0.000000000</td><td>0.00000000</td><td>0.0000000</td><td>0</td></tr>\n",
       "\t<tr><th scope=row> [Clostridium]_methylpentosum_group</th><td>0.034605070</td><td>0.00000000</td><td>0.03460507</td><td>0.0000000</td><td>0.00000000</td><td>0.0000000</td><td>0.000000000</td><td>0.00000000</td><td>0.000000000</td><td>0.00000000</td><td>0.0000000</td><td>0</td></tr>\n",
       "\t<tr><th scope=row> [Eubacterium]_brachy_group</th><td>0.000000000</td><td>0.00000000</td><td>0.00000000</td><td>0.0000000</td><td>0.00000000</td><td>0.0000000</td><td>0.000000000</td><td>0.00000000</td><td>0.000000000</td><td>0.00000000</td><td>0.0000000</td><td>0</td></tr>\n",
       "\t<tr><th scope=row> [Eubacterium]_coprostanoligenes_group</th><td>0.320096894</td><td>0.01730253</td><td>0.08651267</td><td>0.0259538</td><td>0.03460507</td><td>0.1557228</td><td>0.008651267</td><td>0.01730253</td><td>0.008651267</td><td>0.06055887</td><td>0.0259538</td><td>0</td></tr>\n",
       "\t<tr><th scope=row> [Eubacterium]_hallii_group</th><td>0.000000000</td><td>0.00000000</td><td>0.00000000</td><td>0.0000000</td><td>0.00000000</td><td>0.0000000</td><td>0.000000000</td><td>0.00000000</td><td>0.000000000</td><td>0.00000000</td><td>0.0000000</td><td>0</td></tr>\n",
       "</tbody>\n",
       "</table>\n"
      ],
      "text/latex": [
       "A data.frame: 6 × 12\n",
       "\\begin{tabular}{r|llllllllllll}\n",
       "  & SM1 & SM2 & SM3 & SM4 & SM5 & SM6 & SR1 & SR2 & SR3 & SR4 & SR5 & SR6\\\\\n",
       "  & <dbl> & <dbl> & <dbl> & <dbl> & <dbl> & <dbl> & <dbl> & <dbl> & <dbl> & <dbl> & <dbl> & <dbl>\\\\\n",
       "\\hline\n",
       "\t {[}Anaerorhabdus{]}\\_furcosa\\_group & 0.008651267 & 0.00000000 & 0.00000000 & 0.0000000 & 0.00000000 & 0.0000000 & 0.000000000 & 0.00000000 & 0.000000000 & 0.00000000 & 0.0000000 & 0\\\\\n",
       "\t {[}Bacteroides{]}\\_pectinophilus\\_group & 0.000000000 & 0.00000000 & 0.00000000 & 0.0000000 & 0.00000000 & 0.0000000 & 0.000000000 & 0.00000000 & 0.000000000 & 0.00000000 & 0.0000000 & 0\\\\\n",
       "\t {[}Clostridium{]}\\_methylpentosum\\_group & 0.034605070 & 0.00000000 & 0.03460507 & 0.0000000 & 0.00000000 & 0.0000000 & 0.000000000 & 0.00000000 & 0.000000000 & 0.00000000 & 0.0000000 & 0\\\\\n",
       "\t {[}Eubacterium{]}\\_brachy\\_group & 0.000000000 & 0.00000000 & 0.00000000 & 0.0000000 & 0.00000000 & 0.0000000 & 0.000000000 & 0.00000000 & 0.000000000 & 0.00000000 & 0.0000000 & 0\\\\\n",
       "\t {[}Eubacterium{]}\\_coprostanoligenes\\_group & 0.320096894 & 0.01730253 & 0.08651267 & 0.0259538 & 0.03460507 & 0.1557228 & 0.008651267 & 0.01730253 & 0.008651267 & 0.06055887 & 0.0259538 & 0\\\\\n",
       "\t {[}Eubacterium{]}\\_hallii\\_group & 0.000000000 & 0.00000000 & 0.00000000 & 0.0000000 & 0.00000000 & 0.0000000 & 0.000000000 & 0.00000000 & 0.000000000 & 0.00000000 & 0.0000000 & 0\\\\\n",
       "\\end{tabular}\n"
      ],
      "text/markdown": [
       "\n",
       "A data.frame: 6 × 12\n",
       "\n",
       "| <!--/--> | SM1 &lt;dbl&gt; | SM2 &lt;dbl&gt; | SM3 &lt;dbl&gt; | SM4 &lt;dbl&gt; | SM5 &lt;dbl&gt; | SM6 &lt;dbl&gt; | SR1 &lt;dbl&gt; | SR2 &lt;dbl&gt; | SR3 &lt;dbl&gt; | SR4 &lt;dbl&gt; | SR5 &lt;dbl&gt; | SR6 &lt;dbl&gt; |\n",
       "|---|---|---|---|---|---|---|---|---|---|---|---|---|\n",
       "|  [Anaerorhabdus]_furcosa_group | 0.008651267 | 0.00000000 | 0.00000000 | 0.0000000 | 0.00000000 | 0.0000000 | 0.000000000 | 0.00000000 | 0.000000000 | 0.00000000 | 0.0000000 | 0 |\n",
       "|  [Bacteroides]_pectinophilus_group | 0.000000000 | 0.00000000 | 0.00000000 | 0.0000000 | 0.00000000 | 0.0000000 | 0.000000000 | 0.00000000 | 0.000000000 | 0.00000000 | 0.0000000 | 0 |\n",
       "|  [Clostridium]_methylpentosum_group | 0.034605070 | 0.00000000 | 0.03460507 | 0.0000000 | 0.00000000 | 0.0000000 | 0.000000000 | 0.00000000 | 0.000000000 | 0.00000000 | 0.0000000 | 0 |\n",
       "|  [Eubacterium]_brachy_group | 0.000000000 | 0.00000000 | 0.00000000 | 0.0000000 | 0.00000000 | 0.0000000 | 0.000000000 | 0.00000000 | 0.000000000 | 0.00000000 | 0.0000000 | 0 |\n",
       "|  [Eubacterium]_coprostanoligenes_group | 0.320096894 | 0.01730253 | 0.08651267 | 0.0259538 | 0.03460507 | 0.1557228 | 0.008651267 | 0.01730253 | 0.008651267 | 0.06055887 | 0.0259538 | 0 |\n",
       "|  [Eubacterium]_hallii_group | 0.000000000 | 0.00000000 | 0.00000000 | 0.0000000 | 0.00000000 | 0.0000000 | 0.000000000 | 0.00000000 | 0.000000000 | 0.00000000 | 0.0000000 | 0 |\n",
       "\n"
      ],
      "text/plain": [
       "                                       SM1         SM2        SM3       \n",
       " [Anaerorhabdus]_furcosa_group         0.008651267 0.00000000 0.00000000\n",
       " [Bacteroides]_pectinophilus_group     0.000000000 0.00000000 0.00000000\n",
       " [Clostridium]_methylpentosum_group    0.034605070 0.00000000 0.03460507\n",
       " [Eubacterium]_brachy_group            0.000000000 0.00000000 0.00000000\n",
       " [Eubacterium]_coprostanoligenes_group 0.320096894 0.01730253 0.08651267\n",
       " [Eubacterium]_hallii_group            0.000000000 0.00000000 0.00000000\n",
       "                                       SM4       SM5        SM6      \n",
       " [Anaerorhabdus]_furcosa_group         0.0000000 0.00000000 0.0000000\n",
       " [Bacteroides]_pectinophilus_group     0.0000000 0.00000000 0.0000000\n",
       " [Clostridium]_methylpentosum_group    0.0000000 0.00000000 0.0000000\n",
       " [Eubacterium]_brachy_group            0.0000000 0.00000000 0.0000000\n",
       " [Eubacterium]_coprostanoligenes_group 0.0259538 0.03460507 0.1557228\n",
       " [Eubacterium]_hallii_group            0.0000000 0.00000000 0.0000000\n",
       "                                       SR1         SR2        SR3        \n",
       " [Anaerorhabdus]_furcosa_group         0.000000000 0.00000000 0.000000000\n",
       " [Bacteroides]_pectinophilus_group     0.000000000 0.00000000 0.000000000\n",
       " [Clostridium]_methylpentosum_group    0.000000000 0.00000000 0.000000000\n",
       " [Eubacterium]_brachy_group            0.000000000 0.00000000 0.000000000\n",
       " [Eubacterium]_coprostanoligenes_group 0.008651267 0.01730253 0.008651267\n",
       " [Eubacterium]_hallii_group            0.000000000 0.00000000 0.000000000\n",
       "                                       SR4        SR5       SR6\n",
       " [Anaerorhabdus]_furcosa_group         0.00000000 0.0000000 0  \n",
       " [Bacteroides]_pectinophilus_group     0.00000000 0.0000000 0  \n",
       " [Clostridium]_methylpentosum_group    0.00000000 0.0000000 0  \n",
       " [Eubacterium]_brachy_group            0.00000000 0.0000000 0  \n",
       " [Eubacterium]_coprostanoligenes_group 0.06055887 0.0259538 0  \n",
       " [Eubacterium]_hallii_group            0.00000000 0.0000000 0  "
      ]
     },
     "metadata": {},
     "output_type": "display_data"
    },
    {
     "data": {
      "text/html": [
       "<table class=\"dataframe\">\n",
       "<caption>A data.frame: 6 × 15</caption>\n",
       "<thead>\n",
       "\t<tr><th></th><th scope=col>Sampleid</th><th scope=col>Group</th><th scope=col>Class</th><th scope=col>Order</th><th scope=col>Family</th><th scope=col>Genus</th><th scope=col>Species</th><th scope=col>Sample_type</th><th scope=col>Captive_Wild</th><th scope=col>Domestic_Wild</th><th scope=col>Habitat</th><th scope=col>Diet</th><th scope=col>Diet_detail</th><th scope=col>Digestive_tract</th><th scope=col>Digest_detail</th></tr>\n",
       "\t<tr><th></th><th scope=col>&lt;chr&gt;</th><th scope=col>&lt;chr&gt;</th><th scope=col>&lt;chr&gt;</th><th scope=col>&lt;chr&gt;</th><th scope=col>&lt;chr&gt;</th><th scope=col>&lt;chr&gt;</th><th scope=col>&lt;chr&gt;</th><th scope=col>&lt;chr&gt;</th><th scope=col>&lt;chr&gt;</th><th scope=col>&lt;chr&gt;</th><th scope=col>&lt;chr&gt;</th><th scope=col>&lt;chr&gt;</th><th scope=col>&lt;chr&gt;</th><th scope=col>&lt;chr&gt;</th><th scope=col>&lt;chr&gt;</th></tr>\n",
       "</thead>\n",
       "<tbody>\n",
       "\t<tr><th scope=row>SR1</th><td>SR1</td><td>Soricidae and relatives</td><td>Mammalia</td><td>Eulipotyphla</td><td>Soricidae</td><td>Sorex</td><td>Sorex araneus</td><td>Gut</td><td>Wild</td><td>Wild</td><td>Aboveground</td><td>Carnivore</td><td>Insectivore</td><td>Simple</td><td>Simple</td></tr>\n",
       "\t<tr><th scope=row>SR2</th><td>SR2</td><td>Soricidae and relatives</td><td>Mammalia</td><td>Eulipotyphla</td><td>Soricidae</td><td>Sorex</td><td>Sorex araneus</td><td>Gut</td><td>Wild</td><td>Wild</td><td>Aboveground</td><td>Carnivore</td><td>Insectivore</td><td>Simple</td><td>Simple</td></tr>\n",
       "\t<tr><th scope=row>SR3</th><td>SR3</td><td>Soricidae and relatives</td><td>Mammalia</td><td>Eulipotyphla</td><td>Soricidae</td><td>Sorex</td><td>Sorex araneus</td><td>Gut</td><td>Wild</td><td>Wild</td><td>Aboveground</td><td>Carnivore</td><td>Insectivore</td><td>Simple</td><td>Simple</td></tr>\n",
       "\t<tr><th scope=row>SR4</th><td>SR4</td><td>Soricidae and relatives</td><td>Mammalia</td><td>Eulipotyphla</td><td>Soricidae</td><td>Sorex</td><td>Sorex araneus</td><td>Gut</td><td>Wild</td><td>Wild</td><td>Aboveground</td><td>Carnivore</td><td>Insectivore</td><td>Simple</td><td>Simple</td></tr>\n",
       "\t<tr><th scope=row>SR5</th><td>SR5</td><td>Soricidae and relatives</td><td>Mammalia</td><td>Eulipotyphla</td><td>Soricidae</td><td>Sorex</td><td>Sorex araneus</td><td>Gut</td><td>Wild</td><td>Wild</td><td>Aboveground</td><td>Carnivore</td><td>Insectivore</td><td>Simple</td><td>Simple</td></tr>\n",
       "\t<tr><th scope=row>SR6</th><td>SR6</td><td>Soricidae and relatives</td><td>Mammalia</td><td>Eulipotyphla</td><td>Soricidae</td><td>Sorex</td><td>Sorex araneus</td><td>Gut</td><td>Wild</td><td>Wild</td><td>Aboveground</td><td>Carnivore</td><td>Insectivore</td><td>Simple</td><td>Simple</td></tr>\n",
       "</tbody>\n",
       "</table>\n"
      ],
      "text/latex": [
       "A data.frame: 6 × 15\n",
       "\\begin{tabular}{r|lllllllllllllll}\n",
       "  & Sampleid & Group & Class & Order & Family & Genus & Species & Sample\\_type & Captive\\_Wild & Domestic\\_Wild & Habitat & Diet & Diet\\_detail & Digestive\\_tract & Digest\\_detail\\\\\n",
       "  & <chr> & <chr> & <chr> & <chr> & <chr> & <chr> & <chr> & <chr> & <chr> & <chr> & <chr> & <chr> & <chr> & <chr> & <chr>\\\\\n",
       "\\hline\n",
       "\tSR1 & SR1 & Soricidae and relatives & Mammalia & Eulipotyphla & Soricidae & Sorex & Sorex araneus & Gut & Wild & Wild & Aboveground & Carnivore & Insectivore & Simple & Simple\\\\\n",
       "\tSR2 & SR2 & Soricidae and relatives & Mammalia & Eulipotyphla & Soricidae & Sorex & Sorex araneus & Gut & Wild & Wild & Aboveground & Carnivore & Insectivore & Simple & Simple\\\\\n",
       "\tSR3 & SR3 & Soricidae and relatives & Mammalia & Eulipotyphla & Soricidae & Sorex & Sorex araneus & Gut & Wild & Wild & Aboveground & Carnivore & Insectivore & Simple & Simple\\\\\n",
       "\tSR4 & SR4 & Soricidae and relatives & Mammalia & Eulipotyphla & Soricidae & Sorex & Sorex araneus & Gut & Wild & Wild & Aboveground & Carnivore & Insectivore & Simple & Simple\\\\\n",
       "\tSR5 & SR5 & Soricidae and relatives & Mammalia & Eulipotyphla & Soricidae & Sorex & Sorex araneus & Gut & Wild & Wild & Aboveground & Carnivore & Insectivore & Simple & Simple\\\\\n",
       "\tSR6 & SR6 & Soricidae and relatives & Mammalia & Eulipotyphla & Soricidae & Sorex & Sorex araneus & Gut & Wild & Wild & Aboveground & Carnivore & Insectivore & Simple & Simple\\\\\n",
       "\\end{tabular}\n"
      ],
      "text/markdown": [
       "\n",
       "A data.frame: 6 × 15\n",
       "\n",
       "| <!--/--> | Sampleid &lt;chr&gt; | Group &lt;chr&gt; | Class &lt;chr&gt; | Order &lt;chr&gt; | Family &lt;chr&gt; | Genus &lt;chr&gt; | Species &lt;chr&gt; | Sample_type &lt;chr&gt; | Captive_Wild &lt;chr&gt; | Domestic_Wild &lt;chr&gt; | Habitat &lt;chr&gt; | Diet &lt;chr&gt; | Diet_detail &lt;chr&gt; | Digestive_tract &lt;chr&gt; | Digest_detail &lt;chr&gt; |\n",
       "|---|---|---|---|---|---|---|---|---|---|---|---|---|---|---|---|\n",
       "| SR1 | SR1 | Soricidae and relatives | Mammalia | Eulipotyphla | Soricidae | Sorex | Sorex araneus | Gut | Wild | Wild | Aboveground | Carnivore | Insectivore | Simple | Simple |\n",
       "| SR2 | SR2 | Soricidae and relatives | Mammalia | Eulipotyphla | Soricidae | Sorex | Sorex araneus | Gut | Wild | Wild | Aboveground | Carnivore | Insectivore | Simple | Simple |\n",
       "| SR3 | SR3 | Soricidae and relatives | Mammalia | Eulipotyphla | Soricidae | Sorex | Sorex araneus | Gut | Wild | Wild | Aboveground | Carnivore | Insectivore | Simple | Simple |\n",
       "| SR4 | SR4 | Soricidae and relatives | Mammalia | Eulipotyphla | Soricidae | Sorex | Sorex araneus | Gut | Wild | Wild | Aboveground | Carnivore | Insectivore | Simple | Simple |\n",
       "| SR5 | SR5 | Soricidae and relatives | Mammalia | Eulipotyphla | Soricidae | Sorex | Sorex araneus | Gut | Wild | Wild | Aboveground | Carnivore | Insectivore | Simple | Simple |\n",
       "| SR6 | SR6 | Soricidae and relatives | Mammalia | Eulipotyphla | Soricidae | Sorex | Sorex araneus | Gut | Wild | Wild | Aboveground | Carnivore | Insectivore | Simple | Simple |\n",
       "\n"
      ],
      "text/plain": [
       "    Sampleid Group                   Class    Order        Family    Genus\n",
       "SR1 SR1      Soricidae and relatives Mammalia Eulipotyphla Soricidae Sorex\n",
       "SR2 SR2      Soricidae and relatives Mammalia Eulipotyphla Soricidae Sorex\n",
       "SR3 SR3      Soricidae and relatives Mammalia Eulipotyphla Soricidae Sorex\n",
       "SR4 SR4      Soricidae and relatives Mammalia Eulipotyphla Soricidae Sorex\n",
       "SR5 SR5      Soricidae and relatives Mammalia Eulipotyphla Soricidae Sorex\n",
       "SR6 SR6      Soricidae and relatives Mammalia Eulipotyphla Soricidae Sorex\n",
       "    Species       Sample_type Captive_Wild Domestic_Wild Habitat     Diet     \n",
       "SR1 Sorex araneus Gut         Wild         Wild          Aboveground Carnivore\n",
       "SR2 Sorex araneus Gut         Wild         Wild          Aboveground Carnivore\n",
       "SR3 Sorex araneus Gut         Wild         Wild          Aboveground Carnivore\n",
       "SR4 Sorex araneus Gut         Wild         Wild          Aboveground Carnivore\n",
       "SR5 Sorex araneus Gut         Wild         Wild          Aboveground Carnivore\n",
       "SR6 Sorex araneus Gut         Wild         Wild          Aboveground Carnivore\n",
       "    Diet_detail Digestive_tract Digest_detail\n",
       "SR1 Insectivore Simple          Simple       \n",
       "SR2 Insectivore Simple          Simple       \n",
       "SR3 Insectivore Simple          Simple       \n",
       "SR4 Insectivore Simple          Simple       \n",
       "SR5 Insectivore Simple          Simple       \n",
       "SR6 Insectivore Simple          Simple       "
      ]
     },
     "metadata": {},
     "output_type": "display_data"
    },
    {
     "name": "stderr",
     "output_type": "stream",
     "text": [
      "216 taxa with 0 abundance are removed from the otu_table ...\n",
      "\n"
     ]
    },
    {
     "data": {
      "text/plain": [
       "microtable-class object:\n",
       "sample_table have 12 rows and 15 columns\n",
       "otu_table have 245 rows and 12 columns\n",
       "tax_table have 461 rows and 1 columns"
      ]
     },
     "metadata": {},
     "output_type": "display_data"
    },
    {
     "name": "stderr",
     "output_type": "stream",
     "text": [
      "No taxa_abund list found. Calculate it with cal_abund function ...\n",
      "\n",
      "The row number of tax_table is not equal to that of otu_table ...\n",
      "\n",
      "Automatically applying tidy_dataset() function to trim the data ...\n",
      "\n"
     ]
    },
    {
     "name": "stdout",
     "output_type": "stream",
     "text": [
      "microtable-class object:\n",
      "sample_table have 12 rows and 15 columns\n",
      "otu_table have 245 rows and 12 columns\n",
      "tax_table have 245 rows and 1 columns\n"
     ]
    },
    {
     "name": "stderr",
     "output_type": "stream",
     "text": [
      "The result is stored in object$taxa_abund ...\n",
      "\n",
      "245 input features ...\n",
      "\n",
      "243 features are remained after removing unknown features ...\n",
      "\n",
      "Start Kruskal-Wallis rank sum test for Habitat ...\n",
      "\n",
      "27 taxa found significant ...\n",
      "\n",
      "After P value adjustment, 0 taxa found significant ...\n",
      "\n"
     ]
    },
    {
     "ename": "ERROR",
     "evalue": "Error in private$check_taxa_number(sel_taxa, p_adjust_method): No significant feature found! To disable p value adjustment, please use p_adjust_method = \"none\"!\n",
     "output_type": "error",
     "traceback": [
      "Error in private$check_taxa_number(sel_taxa, p_adjust_method): No significant feature found! To disable p value adjustment, please use p_adjust_method = \"none\"!\nTraceback:\n",
      "1. trans_diff$new(dataset = dataset, method = \"lefse\", group = \"Habitat\", \n .     alpha = 0.01, lefse_subgroup = NULL)",
      "2. initialize(...)",
      "3. private$check_taxa_number(sel_taxa, p_adjust_method)",
      "4. stop(\"No significant feature found! To disable p value adjustment, please use p_adjust_method = \\\"none\\\"!\")"
     ]
    }
   ],
   "source": [
    "####underground_Soricidae####\n",
    "#prepare three files\n",
    "data1 <- genus %>% \n",
    "    filter(Order != \"Rodentia\") %>%\n",
    "    dplyr::select(Sampleid,value,genus) %>% \n",
    "    spread(Sampleid,value) %>% \n",
    "    filter(genus != '') %>% \n",
    "    as.data.frame()\n",
    "row.names(data1) <- data1$genus\n",
    "tax1 <- data1 %>% dplyr::select(genus) %>% as.data.frame()\n",
    "head(tax1)\n",
    "data1 <- data1 %>% dplyr::select(-genus) %>% as.data.frame()\n",
    "head(data1)\n",
    "sample1 <- metadata %>% filter(Order != \"Rodentia\")\n",
    "head(sample1)\n",
    "\n",
    "#prepare dataset\n",
    "dataset <- microtable$new(sample_table = sample1,\n",
    "                          otu_table = data1, \n",
    "                          tax_table = tax1)\n",
    "dataset\n",
    "\n",
    "#执行lefse分析\n",
    "lefse <- trans_diff$new(dataset = dataset, \n",
    "                        method = \"lefse\", \n",
    "                        group = \"Habitat\", \n",
    "                        alpha = 0.01, \n",
    "                        lefse_subgroup = NULL)\n",
    "#查看分析结果\n",
    "head(lefse$res_diff)"
   ]
  },
  {
   "cell_type": "code",
   "execution_count": 20,
   "metadata": {
    "ExecuteTime": {
     "end_time": "2024-03-31T14:19:58.455219Z",
     "start_time": "2024-03-31T14:19:55.952Z"
    }
   },
   "outputs": [
    {
     "data": {
      "text/html": [
       "<table class=\"dataframe\">\n",
       "<caption>A data.frame: 6 × 1</caption>\n",
       "<thead>\n",
       "\t<tr><th></th><th scope=col>genus</th></tr>\n",
       "\t<tr><th></th><th scope=col>&lt;chr&gt;</th></tr>\n",
       "</thead>\n",
       "<tbody>\n",
       "\t<tr><th scope=row> [Anaerorhabdus]_furcosa_group</th><td> [Anaerorhabdus]_furcosa_group        </td></tr>\n",
       "\t<tr><th scope=row> [Bacteroides]_pectinophilus_group</th><td> [Bacteroides]_pectinophilus_group    </td></tr>\n",
       "\t<tr><th scope=row> [Clostridium]_methylpentosum_group</th><td> [Clostridium]_methylpentosum_group   </td></tr>\n",
       "\t<tr><th scope=row> [Eubacterium]_brachy_group</th><td> [Eubacterium]_brachy_group           </td></tr>\n",
       "\t<tr><th scope=row> [Eubacterium]_coprostanoligenes_group</th><td> [Eubacterium]_coprostanoligenes_group</td></tr>\n",
       "\t<tr><th scope=row> [Eubacterium]_hallii_group</th><td> [Eubacterium]_hallii_group           </td></tr>\n",
       "</tbody>\n",
       "</table>\n"
      ],
      "text/latex": [
       "A data.frame: 6 × 1\n",
       "\\begin{tabular}{r|l}\n",
       "  & genus\\\\\n",
       "  & <chr>\\\\\n",
       "\\hline\n",
       "\t {[}Anaerorhabdus{]}\\_furcosa\\_group &  {[}Anaerorhabdus{]}\\_furcosa\\_group        \\\\\n",
       "\t {[}Bacteroides{]}\\_pectinophilus\\_group &  {[}Bacteroides{]}\\_pectinophilus\\_group    \\\\\n",
       "\t {[}Clostridium{]}\\_methylpentosum\\_group &  {[}Clostridium{]}\\_methylpentosum\\_group   \\\\\n",
       "\t {[}Eubacterium{]}\\_brachy\\_group &  {[}Eubacterium{]}\\_brachy\\_group           \\\\\n",
       "\t {[}Eubacterium{]}\\_coprostanoligenes\\_group &  {[}Eubacterium{]}\\_coprostanoligenes\\_group\\\\\n",
       "\t {[}Eubacterium{]}\\_hallii\\_group &  {[}Eubacterium{]}\\_hallii\\_group           \\\\\n",
       "\\end{tabular}\n"
      ],
      "text/markdown": [
       "\n",
       "A data.frame: 6 × 1\n",
       "\n",
       "| <!--/--> | genus &lt;chr&gt; |\n",
       "|---|---|\n",
       "|  [Anaerorhabdus]_furcosa_group |  [Anaerorhabdus]_furcosa_group         |\n",
       "|  [Bacteroides]_pectinophilus_group |  [Bacteroides]_pectinophilus_group     |\n",
       "|  [Clostridium]_methylpentosum_group |  [Clostridium]_methylpentosum_group    |\n",
       "|  [Eubacterium]_brachy_group |  [Eubacterium]_brachy_group            |\n",
       "|  [Eubacterium]_coprostanoligenes_group |  [Eubacterium]_coprostanoligenes_group |\n",
       "|  [Eubacterium]_hallii_group |  [Eubacterium]_hallii_group            |\n",
       "\n"
      ],
      "text/plain": [
       "                                       genus                                 \n",
       " [Anaerorhabdus]_furcosa_group          [Anaerorhabdus]_furcosa_group        \n",
       " [Bacteroides]_pectinophilus_group      [Bacteroides]_pectinophilus_group    \n",
       " [Clostridium]_methylpentosum_group     [Clostridium]_methylpentosum_group   \n",
       " [Eubacterium]_brachy_group             [Eubacterium]_brachy_group           \n",
       " [Eubacterium]_coprostanoligenes_group  [Eubacterium]_coprostanoligenes_group\n",
       " [Eubacterium]_hallii_group             [Eubacterium]_hallii_group           "
      ]
     },
     "metadata": {},
     "output_type": "display_data"
    },
    {
     "data": {
      "text/html": [
       "<table class=\"dataframe\">\n",
       "<caption>A data.frame: 6 × 47</caption>\n",
       "<thead>\n",
       "\t<tr><th></th><th scope=col>BMR1</th><th scope=col>BMR2</th><th scope=col>BMR3</th><th scope=col>BMR4</th><th scope=col>BMR5</th><th scope=col>BMR6</th><th scope=col>CBR1</th><th scope=col>CBR10</th><th scope=col>CBR2</th><th scope=col>CBR3</th><th scope=col>⋯</th><th scope=col>SCFM1</th><th scope=col>SCFM2</th><th scope=col>SCFM3</th><th scope=col>SCFM4</th><th scope=col>SCFM5</th><th scope=col>SCFM6</th><th scope=col>WHM1</th><th scope=col>WHM2</th><th scope=col>WHM3</th><th scope=col>WHM4</th></tr>\n",
       "\t<tr><th></th><th scope=col>&lt;dbl&gt;</th><th scope=col>&lt;dbl&gt;</th><th scope=col>&lt;dbl&gt;</th><th scope=col>&lt;dbl&gt;</th><th scope=col>&lt;dbl&gt;</th><th scope=col>&lt;dbl&gt;</th><th scope=col>&lt;dbl&gt;</th><th scope=col>&lt;dbl&gt;</th><th scope=col>&lt;dbl&gt;</th><th scope=col>&lt;dbl&gt;</th><th scope=col>⋯</th><th scope=col>&lt;dbl&gt;</th><th scope=col>&lt;dbl&gt;</th><th scope=col>&lt;dbl&gt;</th><th scope=col>&lt;dbl&gt;</th><th scope=col>&lt;dbl&gt;</th><th scope=col>&lt;dbl&gt;</th><th scope=col>&lt;dbl&gt;</th><th scope=col>&lt;dbl&gt;</th><th scope=col>&lt;dbl&gt;</th><th scope=col>&lt;dbl&gt;</th></tr>\n",
       "</thead>\n",
       "<tbody>\n",
       "\t<tr><th scope=row> [Anaerorhabdus]_furcosa_group</th><td>0.00000</td><td>0.000000</td><td>0.000000</td><td>0.000000</td><td>0.000000</td><td>0.000000</td><td>0.0000000</td><td>0.00000000</td><td>0.0000000</td><td>0.000000</td><td>⋯</td><td>0.000000</td><td>0.00000000</td><td>0.0000000</td><td>0.0000000</td><td>0.0000000</td><td>0</td><td>0.0000000</td><td>0.0000000</td><td>0.000000000</td><td>0.000000</td></tr>\n",
       "\t<tr><th scope=row> [Bacteroides]_pectinophilus_group</th><td>0.00000</td><td>0.000000</td><td>0.000000</td><td>0.000000</td><td>0.000000</td><td>0.000000</td><td>0.0000000</td><td>0.00000000</td><td>0.0000000</td><td>0.000000</td><td>⋯</td><td>0.000000</td><td>0.00000000</td><td>0.0000000</td><td>0.0000000</td><td>0.0000000</td><td>0</td><td>0.0000000</td><td>0.0000000</td><td>0.000000000</td><td>0.000000</td></tr>\n",
       "\t<tr><th scope=row> [Clostridium]_methylpentosum_group</th><td>0.00000</td><td>0.000000</td><td>0.000000</td><td>0.000000</td><td>0.000000</td><td>0.000000</td><td>0.0000000</td><td>0.00000000</td><td>0.0000000</td><td>0.000000</td><td>⋯</td><td>0.000000</td><td>0.00000000</td><td>0.0000000</td><td>0.0000000</td><td>0.0000000</td><td>0</td><td>0.0000000</td><td>0.0000000</td><td>0.000000000</td><td>0.000000</td></tr>\n",
       "\t<tr><th scope=row> [Eubacterium]_brachy_group</th><td>0.00000</td><td>0.000000</td><td>0.000000</td><td>0.000000</td><td>0.000000</td><td>0.000000</td><td>0.0000000</td><td>0.00000000</td><td>0.0000000</td><td>0.000000</td><td>⋯</td><td>0.000000</td><td>0.00000000</td><td>0.0000000</td><td>0.0000000</td><td>0.0000000</td><td>0</td><td>0.0000000</td><td>0.4325634</td><td>0.008651267</td><td>0.000000</td></tr>\n",
       "\t<tr><th scope=row> [Eubacterium]_coprostanoligenes_group</th><td>3.61623</td><td>2.180119</td><td>3.027944</td><td>7.639069</td><td>4.801453</td><td>1.730253</td><td>0.0519076</td><td>0.01730253</td><td>0.1470715</td><td>2.015745</td><td>⋯</td><td>1.211177</td><td>0.06921014</td><td>0.1211177</td><td>0.2335842</td><td>0.2768406</td><td>0</td><td>0.0259538</td><td>0.1643741</td><td>0.069210139</td><td>0.354702</td></tr>\n",
       "\t<tr><th scope=row> [Eubacterium]_hallii_group</th><td>0.00000</td><td>0.000000</td><td>0.000000</td><td>0.000000</td><td>0.000000</td><td>0.000000</td><td>0.0000000</td><td>0.00000000</td><td>0.0000000</td><td>0.000000</td><td>⋯</td><td>0.000000</td><td>0.00000000</td><td>0.0000000</td><td>0.0000000</td><td>0.0000000</td><td>0</td><td>0.0000000</td><td>0.0000000</td><td>0.000000000</td><td>0.000000</td></tr>\n",
       "</tbody>\n",
       "</table>\n"
      ],
      "text/latex": [
       "A data.frame: 6 × 47\n",
       "\\begin{tabular}{r|lllllllllllllllllllll}\n",
       "  & BMR1 & BMR2 & BMR3 & BMR4 & BMR5 & BMR6 & CBR1 & CBR10 & CBR2 & CBR3 & ⋯ & SCFM1 & SCFM2 & SCFM3 & SCFM4 & SCFM5 & SCFM6 & WHM1 & WHM2 & WHM3 & WHM4\\\\\n",
       "  & <dbl> & <dbl> & <dbl> & <dbl> & <dbl> & <dbl> & <dbl> & <dbl> & <dbl> & <dbl> & ⋯ & <dbl> & <dbl> & <dbl> & <dbl> & <dbl> & <dbl> & <dbl> & <dbl> & <dbl> & <dbl>\\\\\n",
       "\\hline\n",
       "\t {[}Anaerorhabdus{]}\\_furcosa\\_group & 0.00000 & 0.000000 & 0.000000 & 0.000000 & 0.000000 & 0.000000 & 0.0000000 & 0.00000000 & 0.0000000 & 0.000000 & ⋯ & 0.000000 & 0.00000000 & 0.0000000 & 0.0000000 & 0.0000000 & 0 & 0.0000000 & 0.0000000 & 0.000000000 & 0.000000\\\\\n",
       "\t {[}Bacteroides{]}\\_pectinophilus\\_group & 0.00000 & 0.000000 & 0.000000 & 0.000000 & 0.000000 & 0.000000 & 0.0000000 & 0.00000000 & 0.0000000 & 0.000000 & ⋯ & 0.000000 & 0.00000000 & 0.0000000 & 0.0000000 & 0.0000000 & 0 & 0.0000000 & 0.0000000 & 0.000000000 & 0.000000\\\\\n",
       "\t {[}Clostridium{]}\\_methylpentosum\\_group & 0.00000 & 0.000000 & 0.000000 & 0.000000 & 0.000000 & 0.000000 & 0.0000000 & 0.00000000 & 0.0000000 & 0.000000 & ⋯ & 0.000000 & 0.00000000 & 0.0000000 & 0.0000000 & 0.0000000 & 0 & 0.0000000 & 0.0000000 & 0.000000000 & 0.000000\\\\\n",
       "\t {[}Eubacterium{]}\\_brachy\\_group & 0.00000 & 0.000000 & 0.000000 & 0.000000 & 0.000000 & 0.000000 & 0.0000000 & 0.00000000 & 0.0000000 & 0.000000 & ⋯ & 0.000000 & 0.00000000 & 0.0000000 & 0.0000000 & 0.0000000 & 0 & 0.0000000 & 0.4325634 & 0.008651267 & 0.000000\\\\\n",
       "\t {[}Eubacterium{]}\\_coprostanoligenes\\_group & 3.61623 & 2.180119 & 3.027944 & 7.639069 & 4.801453 & 1.730253 & 0.0519076 & 0.01730253 & 0.1470715 & 2.015745 & ⋯ & 1.211177 & 0.06921014 & 0.1211177 & 0.2335842 & 0.2768406 & 0 & 0.0259538 & 0.1643741 & 0.069210139 & 0.354702\\\\\n",
       "\t {[}Eubacterium{]}\\_hallii\\_group & 0.00000 & 0.000000 & 0.000000 & 0.000000 & 0.000000 & 0.000000 & 0.0000000 & 0.00000000 & 0.0000000 & 0.000000 & ⋯ & 0.000000 & 0.00000000 & 0.0000000 & 0.0000000 & 0.0000000 & 0 & 0.0000000 & 0.0000000 & 0.000000000 & 0.000000\\\\\n",
       "\\end{tabular}\n"
      ],
      "text/markdown": [
       "\n",
       "A data.frame: 6 × 47\n",
       "\n",
       "| <!--/--> | BMR1 &lt;dbl&gt; | BMR2 &lt;dbl&gt; | BMR3 &lt;dbl&gt; | BMR4 &lt;dbl&gt; | BMR5 &lt;dbl&gt; | BMR6 &lt;dbl&gt; | CBR1 &lt;dbl&gt; | CBR10 &lt;dbl&gt; | CBR2 &lt;dbl&gt; | CBR3 &lt;dbl&gt; | ⋯ ⋯ | SCFM1 &lt;dbl&gt; | SCFM2 &lt;dbl&gt; | SCFM3 &lt;dbl&gt; | SCFM4 &lt;dbl&gt; | SCFM5 &lt;dbl&gt; | SCFM6 &lt;dbl&gt; | WHM1 &lt;dbl&gt; | WHM2 &lt;dbl&gt; | WHM3 &lt;dbl&gt; | WHM4 &lt;dbl&gt; |\n",
       "|---|---|---|---|---|---|---|---|---|---|---|---|---|---|---|---|---|---|---|---|---|---|\n",
       "|  [Anaerorhabdus]_furcosa_group | 0.00000 | 0.000000 | 0.000000 | 0.000000 | 0.000000 | 0.000000 | 0.0000000 | 0.00000000 | 0.0000000 | 0.000000 | ⋯ | 0.000000 | 0.00000000 | 0.0000000 | 0.0000000 | 0.0000000 | 0 | 0.0000000 | 0.0000000 | 0.000000000 | 0.000000 |\n",
       "|  [Bacteroides]_pectinophilus_group | 0.00000 | 0.000000 | 0.000000 | 0.000000 | 0.000000 | 0.000000 | 0.0000000 | 0.00000000 | 0.0000000 | 0.000000 | ⋯ | 0.000000 | 0.00000000 | 0.0000000 | 0.0000000 | 0.0000000 | 0 | 0.0000000 | 0.0000000 | 0.000000000 | 0.000000 |\n",
       "|  [Clostridium]_methylpentosum_group | 0.00000 | 0.000000 | 0.000000 | 0.000000 | 0.000000 | 0.000000 | 0.0000000 | 0.00000000 | 0.0000000 | 0.000000 | ⋯ | 0.000000 | 0.00000000 | 0.0000000 | 0.0000000 | 0.0000000 | 0 | 0.0000000 | 0.0000000 | 0.000000000 | 0.000000 |\n",
       "|  [Eubacterium]_brachy_group | 0.00000 | 0.000000 | 0.000000 | 0.000000 | 0.000000 | 0.000000 | 0.0000000 | 0.00000000 | 0.0000000 | 0.000000 | ⋯ | 0.000000 | 0.00000000 | 0.0000000 | 0.0000000 | 0.0000000 | 0 | 0.0000000 | 0.4325634 | 0.008651267 | 0.000000 |\n",
       "|  [Eubacterium]_coprostanoligenes_group | 3.61623 | 2.180119 | 3.027944 | 7.639069 | 4.801453 | 1.730253 | 0.0519076 | 0.01730253 | 0.1470715 | 2.015745 | ⋯ | 1.211177 | 0.06921014 | 0.1211177 | 0.2335842 | 0.2768406 | 0 | 0.0259538 | 0.1643741 | 0.069210139 | 0.354702 |\n",
       "|  [Eubacterium]_hallii_group | 0.00000 | 0.000000 | 0.000000 | 0.000000 | 0.000000 | 0.000000 | 0.0000000 | 0.00000000 | 0.0000000 | 0.000000 | ⋯ | 0.000000 | 0.00000000 | 0.0000000 | 0.0000000 | 0.0000000 | 0 | 0.0000000 | 0.0000000 | 0.000000000 | 0.000000 |\n",
       "\n"
      ],
      "text/plain": [
       "                                       BMR1    BMR2     BMR3     BMR4    \n",
       " [Anaerorhabdus]_furcosa_group         0.00000 0.000000 0.000000 0.000000\n",
       " [Bacteroides]_pectinophilus_group     0.00000 0.000000 0.000000 0.000000\n",
       " [Clostridium]_methylpentosum_group    0.00000 0.000000 0.000000 0.000000\n",
       " [Eubacterium]_brachy_group            0.00000 0.000000 0.000000 0.000000\n",
       " [Eubacterium]_coprostanoligenes_group 3.61623 2.180119 3.027944 7.639069\n",
       " [Eubacterium]_hallii_group            0.00000 0.000000 0.000000 0.000000\n",
       "                                       BMR5     BMR6     CBR1      CBR10     \n",
       " [Anaerorhabdus]_furcosa_group         0.000000 0.000000 0.0000000 0.00000000\n",
       " [Bacteroides]_pectinophilus_group     0.000000 0.000000 0.0000000 0.00000000\n",
       " [Clostridium]_methylpentosum_group    0.000000 0.000000 0.0000000 0.00000000\n",
       " [Eubacterium]_brachy_group            0.000000 0.000000 0.0000000 0.00000000\n",
       " [Eubacterium]_coprostanoligenes_group 4.801453 1.730253 0.0519076 0.01730253\n",
       " [Eubacterium]_hallii_group            0.000000 0.000000 0.0000000 0.00000000\n",
       "                                       CBR2      CBR3     ⋯ SCFM1    SCFM2     \n",
       " [Anaerorhabdus]_furcosa_group         0.0000000 0.000000 ⋯ 0.000000 0.00000000\n",
       " [Bacteroides]_pectinophilus_group     0.0000000 0.000000 ⋯ 0.000000 0.00000000\n",
       " [Clostridium]_methylpentosum_group    0.0000000 0.000000 ⋯ 0.000000 0.00000000\n",
       " [Eubacterium]_brachy_group            0.0000000 0.000000 ⋯ 0.000000 0.00000000\n",
       " [Eubacterium]_coprostanoligenes_group 0.1470715 2.015745 ⋯ 1.211177 0.06921014\n",
       " [Eubacterium]_hallii_group            0.0000000 0.000000 ⋯ 0.000000 0.00000000\n",
       "                                       SCFM3     SCFM4     SCFM5     SCFM6\n",
       " [Anaerorhabdus]_furcosa_group         0.0000000 0.0000000 0.0000000 0    \n",
       " [Bacteroides]_pectinophilus_group     0.0000000 0.0000000 0.0000000 0    \n",
       " [Clostridium]_methylpentosum_group    0.0000000 0.0000000 0.0000000 0    \n",
       " [Eubacterium]_brachy_group            0.0000000 0.0000000 0.0000000 0    \n",
       " [Eubacterium]_coprostanoligenes_group 0.1211177 0.2335842 0.2768406 0    \n",
       " [Eubacterium]_hallii_group            0.0000000 0.0000000 0.0000000 0    \n",
       "                                       WHM1      WHM2      WHM3        WHM4    \n",
       " [Anaerorhabdus]_furcosa_group         0.0000000 0.0000000 0.000000000 0.000000\n",
       " [Bacteroides]_pectinophilus_group     0.0000000 0.0000000 0.000000000 0.000000\n",
       " [Clostridium]_methylpentosum_group    0.0000000 0.0000000 0.000000000 0.000000\n",
       " [Eubacterium]_brachy_group            0.0000000 0.4325634 0.008651267 0.000000\n",
       " [Eubacterium]_coprostanoligenes_group 0.0259538 0.1643741 0.069210139 0.354702\n",
       " [Eubacterium]_hallii_group            0.0000000 0.0000000 0.000000000 0.000000"
      ]
     },
     "metadata": {},
     "output_type": "display_data"
    },
    {
     "data": {
      "text/html": [
       "<table class=\"dataframe\">\n",
       "<caption>A data.frame: 6 × 15</caption>\n",
       "<thead>\n",
       "\t<tr><th></th><th scope=col>Sampleid</th><th scope=col>Group</th><th scope=col>Class</th><th scope=col>Order</th><th scope=col>Family</th><th scope=col>Genus</th><th scope=col>Species</th><th scope=col>Sample_type</th><th scope=col>Captive_Wild</th><th scope=col>Domestic_Wild</th><th scope=col>Habitat</th><th scope=col>Diet</th><th scope=col>Diet_detail</th><th scope=col>Digestive_tract</th><th scope=col>Digest_detail</th></tr>\n",
       "\t<tr><th></th><th scope=col>&lt;chr&gt;</th><th scope=col>&lt;chr&gt;</th><th scope=col>&lt;chr&gt;</th><th scope=col>&lt;chr&gt;</th><th scope=col>&lt;chr&gt;</th><th scope=col>&lt;chr&gt;</th><th scope=col>&lt;chr&gt;</th><th scope=col>&lt;chr&gt;</th><th scope=col>&lt;chr&gt;</th><th scope=col>&lt;chr&gt;</th><th scope=col>&lt;chr&gt;</th><th scope=col>&lt;chr&gt;</th><th scope=col>&lt;chr&gt;</th><th scope=col>&lt;chr&gt;</th><th scope=col>&lt;chr&gt;</th></tr>\n",
       "</thead>\n",
       "<tbody>\n",
       "\t<tr><th scope=row>CBR1</th><td>CBR1</td><td>Spalacidae and relatives</td><td>Mammalia</td><td>Rodentia</td><td>Spalacidae</td><td>Rhizomys</td><td>Rhizomys sinensis</td><td>Feces</td><td>Wild</td><td>Wild</td><td>Underground</td><td>Herbivore</td><td>Bamboo</td><td>Hindgut fermentation</td><td>Cecum fermenter</td></tr>\n",
       "\t<tr><th scope=row>CBR2</th><td>CBR2</td><td>Spalacidae and relatives</td><td>Mammalia</td><td>Rodentia</td><td>Spalacidae</td><td>Rhizomys</td><td>Rhizomys sinensis</td><td>Feces</td><td>Wild</td><td>Wild</td><td>Underground</td><td>Herbivore</td><td>Bamboo</td><td>Hindgut fermentation</td><td>Cecum fermenter</td></tr>\n",
       "\t<tr><th scope=row>CBR3</th><td>CBR3</td><td>Spalacidae and relatives</td><td>Mammalia</td><td>Rodentia</td><td>Spalacidae</td><td>Rhizomys</td><td>Rhizomys sinensis</td><td>Feces</td><td>Wild</td><td>Wild</td><td>Underground</td><td>Herbivore</td><td>Bamboo</td><td>Hindgut fermentation</td><td>Cecum fermenter</td></tr>\n",
       "\t<tr><th scope=row>CBR4</th><td>CBR4</td><td>Spalacidae and relatives</td><td>Mammalia</td><td>Rodentia</td><td>Spalacidae</td><td>Rhizomys</td><td>Rhizomys sinensis</td><td>Feces</td><td>Wild</td><td>Wild</td><td>Underground</td><td>Herbivore</td><td>Bamboo</td><td>Hindgut fermentation</td><td>Cecum fermenter</td></tr>\n",
       "\t<tr><th scope=row>CBR5</th><td>CBR5</td><td>Spalacidae and relatives</td><td>Mammalia</td><td>Rodentia</td><td>Spalacidae</td><td>Rhizomys</td><td>Rhizomys sinensis</td><td>Feces</td><td>Wild</td><td>Wild</td><td>Underground</td><td>Herbivore</td><td>Bamboo</td><td>Hindgut fermentation</td><td>Cecum fermenter</td></tr>\n",
       "\t<tr><th scope=row>CBR6</th><td>CBR6</td><td>Spalacidae and relatives</td><td>Mammalia</td><td>Rodentia</td><td>Spalacidae</td><td>Rhizomys</td><td>Rhizomys sinensis</td><td>Gut  </td><td>Wild</td><td>Wild</td><td>Underground</td><td>Herbivore</td><td>Bamboo</td><td>Hindgut fermentation</td><td>Cecum fermenter</td></tr>\n",
       "</tbody>\n",
       "</table>\n"
      ],
      "text/latex": [
       "A data.frame: 6 × 15\n",
       "\\begin{tabular}{r|lllllllllllllll}\n",
       "  & Sampleid & Group & Class & Order & Family & Genus & Species & Sample\\_type & Captive\\_Wild & Domestic\\_Wild & Habitat & Diet & Diet\\_detail & Digestive\\_tract & Digest\\_detail\\\\\n",
       "  & <chr> & <chr> & <chr> & <chr> & <chr> & <chr> & <chr> & <chr> & <chr> & <chr> & <chr> & <chr> & <chr> & <chr> & <chr>\\\\\n",
       "\\hline\n",
       "\tCBR1 & CBR1 & Spalacidae and relatives & Mammalia & Rodentia & Spalacidae & Rhizomys & Rhizomys sinensis & Feces & Wild & Wild & Underground & Herbivore & Bamboo & Hindgut fermentation & Cecum fermenter\\\\\n",
       "\tCBR2 & CBR2 & Spalacidae and relatives & Mammalia & Rodentia & Spalacidae & Rhizomys & Rhizomys sinensis & Feces & Wild & Wild & Underground & Herbivore & Bamboo & Hindgut fermentation & Cecum fermenter\\\\\n",
       "\tCBR3 & CBR3 & Spalacidae and relatives & Mammalia & Rodentia & Spalacidae & Rhizomys & Rhizomys sinensis & Feces & Wild & Wild & Underground & Herbivore & Bamboo & Hindgut fermentation & Cecum fermenter\\\\\n",
       "\tCBR4 & CBR4 & Spalacidae and relatives & Mammalia & Rodentia & Spalacidae & Rhizomys & Rhizomys sinensis & Feces & Wild & Wild & Underground & Herbivore & Bamboo & Hindgut fermentation & Cecum fermenter\\\\\n",
       "\tCBR5 & CBR5 & Spalacidae and relatives & Mammalia & Rodentia & Spalacidae & Rhizomys & Rhizomys sinensis & Feces & Wild & Wild & Underground & Herbivore & Bamboo & Hindgut fermentation & Cecum fermenter\\\\\n",
       "\tCBR6 & CBR6 & Spalacidae and relatives & Mammalia & Rodentia & Spalacidae & Rhizomys & Rhizomys sinensis & Gut   & Wild & Wild & Underground & Herbivore & Bamboo & Hindgut fermentation & Cecum fermenter\\\\\n",
       "\\end{tabular}\n"
      ],
      "text/markdown": [
       "\n",
       "A data.frame: 6 × 15\n",
       "\n",
       "| <!--/--> | Sampleid &lt;chr&gt; | Group &lt;chr&gt; | Class &lt;chr&gt; | Order &lt;chr&gt; | Family &lt;chr&gt; | Genus &lt;chr&gt; | Species &lt;chr&gt; | Sample_type &lt;chr&gt; | Captive_Wild &lt;chr&gt; | Domestic_Wild &lt;chr&gt; | Habitat &lt;chr&gt; | Diet &lt;chr&gt; | Diet_detail &lt;chr&gt; | Digestive_tract &lt;chr&gt; | Digest_detail &lt;chr&gt; |\n",
       "|---|---|---|---|---|---|---|---|---|---|---|---|---|---|---|---|\n",
       "| CBR1 | CBR1 | Spalacidae and relatives | Mammalia | Rodentia | Spalacidae | Rhizomys | Rhizomys sinensis | Feces | Wild | Wild | Underground | Herbivore | Bamboo | Hindgut fermentation | Cecum fermenter |\n",
       "| CBR2 | CBR2 | Spalacidae and relatives | Mammalia | Rodentia | Spalacidae | Rhizomys | Rhizomys sinensis | Feces | Wild | Wild | Underground | Herbivore | Bamboo | Hindgut fermentation | Cecum fermenter |\n",
       "| CBR3 | CBR3 | Spalacidae and relatives | Mammalia | Rodentia | Spalacidae | Rhizomys | Rhizomys sinensis | Feces | Wild | Wild | Underground | Herbivore | Bamboo | Hindgut fermentation | Cecum fermenter |\n",
       "| CBR4 | CBR4 | Spalacidae and relatives | Mammalia | Rodentia | Spalacidae | Rhizomys | Rhizomys sinensis | Feces | Wild | Wild | Underground | Herbivore | Bamboo | Hindgut fermentation | Cecum fermenter |\n",
       "| CBR5 | CBR5 | Spalacidae and relatives | Mammalia | Rodentia | Spalacidae | Rhizomys | Rhizomys sinensis | Feces | Wild | Wild | Underground | Herbivore | Bamboo | Hindgut fermentation | Cecum fermenter |\n",
       "| CBR6 | CBR6 | Spalacidae and relatives | Mammalia | Rodentia | Spalacidae | Rhizomys | Rhizomys sinensis | Gut   | Wild | Wild | Underground | Herbivore | Bamboo | Hindgut fermentation | Cecum fermenter |\n",
       "\n"
      ],
      "text/plain": [
       "     Sampleid Group                    Class    Order    Family     Genus   \n",
       "CBR1 CBR1     Spalacidae and relatives Mammalia Rodentia Spalacidae Rhizomys\n",
       "CBR2 CBR2     Spalacidae and relatives Mammalia Rodentia Spalacidae Rhizomys\n",
       "CBR3 CBR3     Spalacidae and relatives Mammalia Rodentia Spalacidae Rhizomys\n",
       "CBR4 CBR4     Spalacidae and relatives Mammalia Rodentia Spalacidae Rhizomys\n",
       "CBR5 CBR5     Spalacidae and relatives Mammalia Rodentia Spalacidae Rhizomys\n",
       "CBR6 CBR6     Spalacidae and relatives Mammalia Rodentia Spalacidae Rhizomys\n",
       "     Species           Sample_type Captive_Wild Domestic_Wild Habitat    \n",
       "CBR1 Rhizomys sinensis Feces       Wild         Wild          Underground\n",
       "CBR2 Rhizomys sinensis Feces       Wild         Wild          Underground\n",
       "CBR3 Rhizomys sinensis Feces       Wild         Wild          Underground\n",
       "CBR4 Rhizomys sinensis Feces       Wild         Wild          Underground\n",
       "CBR5 Rhizomys sinensis Feces       Wild         Wild          Underground\n",
       "CBR6 Rhizomys sinensis Gut         Wild         Wild          Underground\n",
       "     Diet      Diet_detail Digestive_tract      Digest_detail  \n",
       "CBR1 Herbivore Bamboo      Hindgut fermentation Cecum fermenter\n",
       "CBR2 Herbivore Bamboo      Hindgut fermentation Cecum fermenter\n",
       "CBR3 Herbivore Bamboo      Hindgut fermentation Cecum fermenter\n",
       "CBR4 Herbivore Bamboo      Hindgut fermentation Cecum fermenter\n",
       "CBR5 Herbivore Bamboo      Hindgut fermentation Cecum fermenter\n",
       "CBR6 Herbivore Bamboo      Hindgut fermentation Cecum fermenter"
      ]
     },
     "metadata": {},
     "output_type": "display_data"
    },
    {
     "name": "stderr",
     "output_type": "stream",
     "text": [
      "161 taxa with 0 abundance are removed from the otu_table ...\n",
      "\n"
     ]
    },
    {
     "data": {
      "text/plain": [
       "microtable-class object:\n",
       "sample_table have 47 rows and 15 columns\n",
       "otu_table have 300 rows and 47 columns\n",
       "tax_table have 461 rows and 1 columns"
      ]
     },
     "metadata": {},
     "output_type": "display_data"
    },
    {
     "name": "stderr",
     "output_type": "stream",
     "text": [
      "No taxa_abund list found. Calculate it with cal_abund function ...\n",
      "\n",
      "The row number of tax_table is not equal to that of otu_table ...\n",
      "\n",
      "Automatically applying tidy_dataset() function to trim the data ...\n",
      "\n"
     ]
    },
    {
     "name": "stdout",
     "output_type": "stream",
     "text": [
      "microtable-class object:\n",
      "sample_table have 47 rows and 15 columns\n",
      "otu_table have 300 rows and 47 columns\n",
      "tax_table have 300 rows and 1 columns\n"
     ]
    },
    {
     "name": "stderr",
     "output_type": "stream",
     "text": [
      "The result is stored in object$taxa_abund ...\n",
      "\n",
      "300 input features ...\n",
      "\n",
      "298 features are remained after removing unknown features ...\n",
      "\n",
      "Start Kruskal-Wallis rank sum test for Habitat ...\n",
      "\n",
      "63 taxa found significant ...\n",
      "\n",
      "After P value adjustment, 24 taxa found significant ...\n",
      "\n",
      "Warning message in lda.default(x, grouping, ...):\n",
      "“variables are collinear”\n",
      "Warning message in lda.default(x, grouping, ...):\n",
      "“variables are collinear”\n",
      "Warning message in lda.default(x, grouping, ...):\n",
      "“variables are collinear”\n",
      "Warning message in lda.default(x, grouping, ...):\n",
      "“variables are collinear”\n",
      "Warning message in lda.default(x, grouping, ...):\n",
      "“variables are collinear”\n",
      "Warning message in lda.default(x, grouping, ...):\n",
      "“variables are collinear”\n",
      "Warning message in lda.default(x, grouping, ...):\n",
      "“variables are collinear”\n",
      "Warning message in lda.default(x, grouping, ...):\n",
      "“variables are collinear”\n",
      "Warning message in lda.default(x, grouping, ...):\n",
      "“variables are collinear”\n",
      "Minimum LDA score: 2.54165945086013 maximum LDA score: 5.06978645320755\n",
      "\n",
      "Taxa abundance table is stored in object$res_abund ...\n",
      "\n",
      "lefse analysis result is stored in object$res_diff ...\n",
      "\n"
     ]
    },
    {
     "data": {
      "text/html": [
       "<table class=\"dataframe\">\n",
       "<caption>A data.frame: 6 × 8</caption>\n",
       "<thead>\n",
       "\t<tr><th></th><th scope=col>Comparison</th><th scope=col>Taxa</th><th scope=col>Method</th><th scope=col>Group</th><th scope=col>LDA</th><th scope=col>P.unadj</th><th scope=col>P.adj</th><th scope=col>Significance</th></tr>\n",
       "\t<tr><th></th><th scope=col>&lt;chr&gt;</th><th scope=col>&lt;chr&gt;</th><th scope=col>&lt;chr&gt;</th><th scope=col>&lt;chr&gt;</th><th scope=col>&lt;dbl&gt;</th><th scope=col>&lt;dbl&gt;</th><th scope=col>&lt;dbl&gt;</th><th scope=col>&lt;fct&gt;</th></tr>\n",
       "</thead>\n",
       "<tbody>\n",
       "\t<tr><th scope=row> Muribaculaceae</th><td>Aboveground - Underground</td><td> Muribaculaceae</td><td>LEfSe</td><td>Underground</td><td>5.069786</td><td>8.006239e-05</td><td>1.704185e-03</td><td>** </td></tr>\n",
       "\t<tr><th scope=row> Treponema</th><td>Aboveground - Underground</td><td> Treponema     </td><td>LEfSe</td><td>Aboveground</td><td>4.427958</td><td>2.055824e-04</td><td>3.403531e-03</td><td>** </td></tr>\n",
       "\t<tr><th scope=row> UCG-010</th><td>Aboveground - Underground</td><td> UCG-010       </td><td>LEfSe</td><td>Aboveground</td><td>4.370091</td><td>5.315071e-05</td><td>1.218378e-03</td><td>** </td></tr>\n",
       "\t<tr><th scope=row> Alistipes</th><td>Aboveground - Underground</td><td> Alistipes     </td><td>LEfSe</td><td>Aboveground</td><td>4.164141</td><td>4.315520e-07</td><td>2.208928e-05</td><td>***</td></tr>\n",
       "\t<tr><th scope=row> NK4A214_group</th><td>Aboveground - Underground</td><td> NK4A214_group </td><td>LEfSe</td><td>Underground</td><td>4.080979</td><td>6.077789e-10</td><td>1.811181e-07</td><td>***</td></tr>\n",
       "\t<tr><th scope=row> Leuconostoc</th><td>Aboveground - Underground</td><td> Leuconostoc   </td><td>LEfSe</td><td>Aboveground</td><td>4.025405</td><td>6.293529e-04</td><td>7.814466e-03</td><td>** </td></tr>\n",
       "</tbody>\n",
       "</table>\n"
      ],
      "text/latex": [
       "A data.frame: 6 × 8\n",
       "\\begin{tabular}{r|llllllll}\n",
       "  & Comparison & Taxa & Method & Group & LDA & P.unadj & P.adj & Significance\\\\\n",
       "  & <chr> & <chr> & <chr> & <chr> & <dbl> & <dbl> & <dbl> & <fct>\\\\\n",
       "\\hline\n",
       "\t Muribaculaceae & Aboveground - Underground &  Muribaculaceae & LEfSe & Underground & 5.069786 & 8.006239e-05 & 1.704185e-03 & ** \\\\\n",
       "\t Treponema & Aboveground - Underground &  Treponema      & LEfSe & Aboveground & 4.427958 & 2.055824e-04 & 3.403531e-03 & ** \\\\\n",
       "\t UCG-010 & Aboveground - Underground &  UCG-010        & LEfSe & Aboveground & 4.370091 & 5.315071e-05 & 1.218378e-03 & ** \\\\\n",
       "\t Alistipes & Aboveground - Underground &  Alistipes      & LEfSe & Aboveground & 4.164141 & 4.315520e-07 & 2.208928e-05 & ***\\\\\n",
       "\t NK4A214\\_group & Aboveground - Underground &  NK4A214\\_group  & LEfSe & Underground & 4.080979 & 6.077789e-10 & 1.811181e-07 & ***\\\\\n",
       "\t Leuconostoc & Aboveground - Underground &  Leuconostoc    & LEfSe & Aboveground & 4.025405 & 6.293529e-04 & 7.814466e-03 & ** \\\\\n",
       "\\end{tabular}\n"
      ],
      "text/markdown": [
       "\n",
       "A data.frame: 6 × 8\n",
       "\n",
       "| <!--/--> | Comparison &lt;chr&gt; | Taxa &lt;chr&gt; | Method &lt;chr&gt; | Group &lt;chr&gt; | LDA &lt;dbl&gt; | P.unadj &lt;dbl&gt; | P.adj &lt;dbl&gt; | Significance &lt;fct&gt; |\n",
       "|---|---|---|---|---|---|---|---|---|\n",
       "|  Muribaculaceae | Aboveground - Underground |  Muribaculaceae | LEfSe | Underground | 5.069786 | 8.006239e-05 | 1.704185e-03 | **  |\n",
       "|  Treponema | Aboveground - Underground |  Treponema      | LEfSe | Aboveground | 4.427958 | 2.055824e-04 | 3.403531e-03 | **  |\n",
       "|  UCG-010 | Aboveground - Underground |  UCG-010        | LEfSe | Aboveground | 4.370091 | 5.315071e-05 | 1.218378e-03 | **  |\n",
       "|  Alistipes | Aboveground - Underground |  Alistipes      | LEfSe | Aboveground | 4.164141 | 4.315520e-07 | 2.208928e-05 | *** |\n",
       "|  NK4A214_group | Aboveground - Underground |  NK4A214_group  | LEfSe | Underground | 4.080979 | 6.077789e-10 | 1.811181e-07 | *** |\n",
       "|  Leuconostoc | Aboveground - Underground |  Leuconostoc    | LEfSe | Aboveground | 4.025405 | 6.293529e-04 | 7.814466e-03 | **  |\n",
       "\n"
      ],
      "text/plain": [
       "                Comparison                Taxa            Method Group      \n",
       " Muribaculaceae Aboveground - Underground  Muribaculaceae LEfSe  Underground\n",
       " Treponema      Aboveground - Underground  Treponema      LEfSe  Aboveground\n",
       " UCG-010        Aboveground - Underground  UCG-010        LEfSe  Aboveground\n",
       " Alistipes      Aboveground - Underground  Alistipes      LEfSe  Aboveground\n",
       " NK4A214_group  Aboveground - Underground  NK4A214_group  LEfSe  Underground\n",
       " Leuconostoc    Aboveground - Underground  Leuconostoc    LEfSe  Aboveground\n",
       "                LDA      P.unadj      P.adj        Significance\n",
       " Muribaculaceae 5.069786 8.006239e-05 1.704185e-03 **          \n",
       " Treponema      4.427958 2.055824e-04 3.403531e-03 **          \n",
       " UCG-010        4.370091 5.315071e-05 1.218378e-03 **          \n",
       " Alistipes      4.164141 4.315520e-07 2.208928e-05 ***         \n",
       " NK4A214_group  4.080979 6.077789e-10 1.811181e-07 ***         \n",
       " Leuconostoc    4.025405 6.293529e-04 7.814466e-03 **          "
      ]
     },
     "metadata": {},
     "output_type": "display_data"
    }
   ],
   "source": [
    "####underground_Spalacidae####\n",
    "#prepare three files\n",
    "data1 <- genus %>% \n",
    "    filter(Group == \"Spalacidae and relatives\") %>%\n",
    "    dplyr::select(Sampleid,value,genus) %>% \n",
    "    spread(Sampleid,value) %>% \n",
    "    filter(genus != '') %>% \n",
    "    as.data.frame()\n",
    "row.names(data1) <- data1$genus\n",
    "tax1 <- data1 %>% dplyr::select(genus) %>% as.data.frame()\n",
    "head(tax1)\n",
    "data1 <- data1 %>% dplyr::select(-genus) %>% as.data.frame()\n",
    "head(data1)\n",
    "sample1 <- metadata %>% filter(Group == \"Spalacidae and relatives\")\n",
    "head(sample1)\n",
    "\n",
    "#prepare dataset\n",
    "dataset <- microtable$new(sample_table = sample1,\n",
    "                          otu_table = data1, \n",
    "                          tax_table = tax1)\n",
    "dataset\n",
    "\n",
    "#执行lefse分析\n",
    "lefse <- trans_diff$new(dataset = dataset, \n",
    "                        method = \"lefse\", \n",
    "                        group = \"Habitat\", \n",
    "                        alpha = 0.01, \n",
    "                        lefse_subgroup = NULL)\n",
    "#查看分析结果\n",
    "head(lefse$res_diff)"
   ]
  },
  {
   "cell_type": "code",
   "execution_count": 21,
   "metadata": {
    "ExecuteTime": {
     "end_time": "2024-03-31T14:20:13.732164Z",
     "start_time": "2024-03-31T14:20:12.833Z"
    }
   },
   "outputs": [
    {
     "name": "stderr",
     "output_type": "stream",
     "text": [
      "\u001b[1m\u001b[22mScale for \u001b[32mcolour\u001b[39m is already present.\n",
      "Adding another scale for \u001b[32mcolour\u001b[39m, which will replace the existing scale.\n",
      "\u001b[1m\u001b[22mScale for \u001b[32mfill\u001b[39m is already present.\n",
      "Adding another scale for \u001b[32mfill\u001b[39m, which will replace the existing scale.\n"
     ]
    },
    {
     "data": {
      "image/png": "[encoded data removed]",
      "text/plain": [
       "plot without title"
      ]
     },
     "metadata": {
      "image/png": {
       "height": 420,
       "width": 420
      }
     },
     "output_type": "display_data"
    }
   ],
   "source": [
    "lefse$plot_diff_bar(use_number = 1:24, \n",
    "                    width = 0.6, \n",
    "                    group_order = c(\"Aboveground\",\"Underground\")) +\n",
    "  ggsci::scale_color_npg() +\n",
    "  ggsci::scale_fill_npg()\n",
    "\n",
    "ggsave(\"genus_lefse_Spalacidae.pdf\",width = 8,height = 4,dpi = 1000)"
   ]
  },
  {
   "cell_type": "code",
   "execution_count": 22,
   "metadata": {
    "ExecuteTime": {
     "end_time": "2024-03-31T14:21:20.923424Z",
     "start_time": "2024-03-31T14:21:19.167Z"
    },
    "scrolled": true
   },
   "outputs": [
    {
     "data": {
      "text/html": [
       "<table class=\"dataframe\">\n",
       "<caption>A data.frame: 6 × 1</caption>\n",
       "<thead>\n",
       "\t<tr><th></th><th scope=col>genus</th></tr>\n",
       "\t<tr><th></th><th scope=col>&lt;chr&gt;</th></tr>\n",
       "</thead>\n",
       "<tbody>\n",
       "\t<tr><th scope=row> [Anaerorhabdus]_furcosa_group</th><td> [Anaerorhabdus]_furcosa_group        </td></tr>\n",
       "\t<tr><th scope=row> [Bacteroides]_pectinophilus_group</th><td> [Bacteroides]_pectinophilus_group    </td></tr>\n",
       "\t<tr><th scope=row> [Clostridium]_methylpentosum_group</th><td> [Clostridium]_methylpentosum_group   </td></tr>\n",
       "\t<tr><th scope=row> [Eubacterium]_brachy_group</th><td> [Eubacterium]_brachy_group           </td></tr>\n",
       "\t<tr><th scope=row> [Eubacterium]_coprostanoligenes_group</th><td> [Eubacterium]_coprostanoligenes_group</td></tr>\n",
       "\t<tr><th scope=row> [Eubacterium]_hallii_group</th><td> [Eubacterium]_hallii_group           </td></tr>\n",
       "</tbody>\n",
       "</table>\n"
      ],
      "text/latex": [
       "A data.frame: 6 × 1\n",
       "\\begin{tabular}{r|l}\n",
       "  & genus\\\\\n",
       "  & <chr>\\\\\n",
       "\\hline\n",
       "\t {[}Anaerorhabdus{]}\\_furcosa\\_group &  {[}Anaerorhabdus{]}\\_furcosa\\_group        \\\\\n",
       "\t {[}Bacteroides{]}\\_pectinophilus\\_group &  {[}Bacteroides{]}\\_pectinophilus\\_group    \\\\\n",
       "\t {[}Clostridium{]}\\_methylpentosum\\_group &  {[}Clostridium{]}\\_methylpentosum\\_group   \\\\\n",
       "\t {[}Eubacterium{]}\\_brachy\\_group &  {[}Eubacterium{]}\\_brachy\\_group           \\\\\n",
       "\t {[}Eubacterium{]}\\_coprostanoligenes\\_group &  {[}Eubacterium{]}\\_coprostanoligenes\\_group\\\\\n",
       "\t {[}Eubacterium{]}\\_hallii\\_group &  {[}Eubacterium{]}\\_hallii\\_group           \\\\\n",
       "\\end{tabular}\n"
      ],
      "text/markdown": [
       "\n",
       "A data.frame: 6 × 1\n",
       "\n",
       "| <!--/--> | genus &lt;chr&gt; |\n",
       "|---|---|\n",
       "|  [Anaerorhabdus]_furcosa_group |  [Anaerorhabdus]_furcosa_group         |\n",
       "|  [Bacteroides]_pectinophilus_group |  [Bacteroides]_pectinophilus_group     |\n",
       "|  [Clostridium]_methylpentosum_group |  [Clostridium]_methylpentosum_group    |\n",
       "|  [Eubacterium]_brachy_group |  [Eubacterium]_brachy_group            |\n",
       "|  [Eubacterium]_coprostanoligenes_group |  [Eubacterium]_coprostanoligenes_group |\n",
       "|  [Eubacterium]_hallii_group |  [Eubacterium]_hallii_group            |\n",
       "\n"
      ],
      "text/plain": [
       "                                       genus                                 \n",
       " [Anaerorhabdus]_furcosa_group          [Anaerorhabdus]_furcosa_group        \n",
       " [Bacteroides]_pectinophilus_group      [Bacteroides]_pectinophilus_group    \n",
       " [Clostridium]_methylpentosum_group     [Clostridium]_methylpentosum_group   \n",
       " [Eubacterium]_brachy_group             [Eubacterium]_brachy_group           \n",
       " [Eubacterium]_coprostanoligenes_group  [Eubacterium]_coprostanoligenes_group\n",
       " [Eubacterium]_hallii_group             [Eubacterium]_hallii_group           "
      ]
     },
     "metadata": {},
     "output_type": "display_data"
    },
    {
     "data": {
      "text/html": [
       "<table class=\"dataframe\">\n",
       "<caption>A data.frame: 6 × 21</caption>\n",
       "<thead>\n",
       "\t<tr><th></th><th scope=col>DMR1</th><th scope=col>DMR2</th><th scope=col>DMR3</th><th scope=col>DMR4</th><th scope=col>DMR5</th><th scope=col>DMR6</th><th scope=col>NMR1</th><th scope=col>NMR2</th><th scope=col>NMR3</th><th scope=col>NMR4</th><th scope=col>⋯</th><th scope=col>NMR6</th><th scope=col>PC1</th><th scope=col>PC2</th><th scope=col>PC3</th><th scope=col>PC4</th><th scope=col>PC5</th><th scope=col>PC6</th><th scope=col>PC7</th><th scope=col>PM1</th><th scope=col>PM2</th></tr>\n",
       "\t<tr><th></th><th scope=col>&lt;dbl&gt;</th><th scope=col>&lt;dbl&gt;</th><th scope=col>&lt;dbl&gt;</th><th scope=col>&lt;dbl&gt;</th><th scope=col>&lt;dbl&gt;</th><th scope=col>&lt;dbl&gt;</th><th scope=col>&lt;dbl&gt;</th><th scope=col>&lt;dbl&gt;</th><th scope=col>&lt;dbl&gt;</th><th scope=col>&lt;dbl&gt;</th><th scope=col>⋯</th><th scope=col>&lt;dbl&gt;</th><th scope=col>&lt;dbl&gt;</th><th scope=col>&lt;dbl&gt;</th><th scope=col>&lt;dbl&gt;</th><th scope=col>&lt;dbl&gt;</th><th scope=col>&lt;dbl&gt;</th><th scope=col>&lt;dbl&gt;</th><th scope=col>&lt;dbl&gt;</th><th scope=col>&lt;dbl&gt;</th><th scope=col>&lt;dbl&gt;</th></tr>\n",
       "</thead>\n",
       "<tbody>\n",
       "\t<tr><th scope=row> [Anaerorhabdus]_furcosa_group</th><td>0.0000000</td><td>0.000000</td><td>0.0000000</td><td>0.000000</td><td>0.000000</td><td>0.0000000</td><td>0.0000000</td><td>0.0259538</td><td>0.0000000</td><td>0.04325634</td><td>⋯</td><td>0.000000</td><td>0.000000</td><td>0.000000</td><td>0.000000</td><td>0.04325634</td><td>0.121117744</td><td>0.00000000</td><td>0.00000000</td><td>0</td><td>0.02595380</td></tr>\n",
       "\t<tr><th scope=row> [Bacteroides]_pectinophilus_group</th><td>0.0000000</td><td>0.000000</td><td>0.0000000</td><td>0.000000</td><td>0.000000</td><td>0.0000000</td><td>0.0000000</td><td>0.0000000</td><td>0.0000000</td><td>0.00000000</td><td>⋯</td><td>0.000000</td><td>0.000000</td><td>0.000000</td><td>0.000000</td><td>0.35470196</td><td>0.276840557</td><td>0.00000000</td><td>0.00000000</td><td>0</td><td>0.00000000</td></tr>\n",
       "\t<tr><th scope=row> [Clostridium]_methylpentosum_group</th><td>0.0000000</td><td>0.000000</td><td>0.0000000</td><td>0.000000</td><td>0.000000</td><td>0.0000000</td><td>0.0000000</td><td>0.0000000</td><td>0.0000000</td><td>0.00000000</td><td>⋯</td><td>0.000000</td><td>0.000000</td><td>0.000000</td><td>0.000000</td><td>0.00000000</td><td>0.000000000</td><td>0.00000000</td><td>0.00000000</td><td>0</td><td>0.00000000</td></tr>\n",
       "\t<tr><th scope=row> [Eubacterium]_brachy_group</th><td>0.0000000</td><td>0.000000</td><td>0.0000000</td><td>0.000000</td><td>0.000000</td><td>0.0000000</td><td>0.0000000</td><td>0.0000000</td><td>0.0000000</td><td>0.00000000</td><td>⋯</td><td>0.000000</td><td>0.000000</td><td>0.000000</td><td>0.000000</td><td>0.00000000</td><td>0.008651267</td><td>0.00000000</td><td>0.00000000</td><td>0</td><td>0.06055887</td></tr>\n",
       "\t<tr><th scope=row> [Eubacterium]_coprostanoligenes_group</th><td>0.3287482</td><td>4.040142</td><td>0.1989792</td><td>1.263085</td><td>2.110909</td><td>0.3979583</td><td>0.9602907</td><td>1.7735098</td><td>0.7699628</td><td>1.05545462</td><td>⋯</td><td>1.038152</td><td>1.816766</td><td>1.877325</td><td>8.011074</td><td>0.72670646</td><td>1.323643914</td><td>0.04325634</td><td>0.03460507</td><td>0</td><td>0.29414309</td></tr>\n",
       "\t<tr><th scope=row> [Eubacterium]_hallii_group</th><td>0.0000000</td><td>0.000000</td><td>0.0000000</td><td>0.000000</td><td>0.000000</td><td>0.0000000</td><td>0.0000000</td><td>0.0000000</td><td>0.0000000</td><td>0.00000000</td><td>⋯</td><td>0.000000</td><td>0.000000</td><td>0.000000</td><td>0.000000</td><td>0.00000000</td><td>0.000000000</td><td>0.00000000</td><td>0.00000000</td><td>0</td><td>0.03460507</td></tr>\n",
       "</tbody>\n",
       "</table>\n"
      ],
      "text/latex": [
       "A data.frame: 6 × 21\n",
       "\\begin{tabular}{r|lllllllllllllllllllll}\n",
       "  & DMR1 & DMR2 & DMR3 & DMR4 & DMR5 & DMR6 & NMR1 & NMR2 & NMR3 & NMR4 & ⋯ & NMR6 & PC1 & PC2 & PC3 & PC4 & PC5 & PC6 & PC7 & PM1 & PM2\\\\\n",
       "  & <dbl> & <dbl> & <dbl> & <dbl> & <dbl> & <dbl> & <dbl> & <dbl> & <dbl> & <dbl> & ⋯ & <dbl> & <dbl> & <dbl> & <dbl> & <dbl> & <dbl> & <dbl> & <dbl> & <dbl> & <dbl>\\\\\n",
       "\\hline\n",
       "\t {[}Anaerorhabdus{]}\\_furcosa\\_group & 0.0000000 & 0.000000 & 0.0000000 & 0.000000 & 0.000000 & 0.0000000 & 0.0000000 & 0.0259538 & 0.0000000 & 0.04325634 & ⋯ & 0.000000 & 0.000000 & 0.000000 & 0.000000 & 0.04325634 & 0.121117744 & 0.00000000 & 0.00000000 & 0 & 0.02595380\\\\\n",
       "\t {[}Bacteroides{]}\\_pectinophilus\\_group & 0.0000000 & 0.000000 & 0.0000000 & 0.000000 & 0.000000 & 0.0000000 & 0.0000000 & 0.0000000 & 0.0000000 & 0.00000000 & ⋯ & 0.000000 & 0.000000 & 0.000000 & 0.000000 & 0.35470196 & 0.276840557 & 0.00000000 & 0.00000000 & 0 & 0.00000000\\\\\n",
       "\t {[}Clostridium{]}\\_methylpentosum\\_group & 0.0000000 & 0.000000 & 0.0000000 & 0.000000 & 0.000000 & 0.0000000 & 0.0000000 & 0.0000000 & 0.0000000 & 0.00000000 & ⋯ & 0.000000 & 0.000000 & 0.000000 & 0.000000 & 0.00000000 & 0.000000000 & 0.00000000 & 0.00000000 & 0 & 0.00000000\\\\\n",
       "\t {[}Eubacterium{]}\\_brachy\\_group & 0.0000000 & 0.000000 & 0.0000000 & 0.000000 & 0.000000 & 0.0000000 & 0.0000000 & 0.0000000 & 0.0000000 & 0.00000000 & ⋯ & 0.000000 & 0.000000 & 0.000000 & 0.000000 & 0.00000000 & 0.008651267 & 0.00000000 & 0.00000000 & 0 & 0.06055887\\\\\n",
       "\t {[}Eubacterium{]}\\_coprostanoligenes\\_group & 0.3287482 & 4.040142 & 0.1989792 & 1.263085 & 2.110909 & 0.3979583 & 0.9602907 & 1.7735098 & 0.7699628 & 1.05545462 & ⋯ & 1.038152 & 1.816766 & 1.877325 & 8.011074 & 0.72670646 & 1.323643914 & 0.04325634 & 0.03460507 & 0 & 0.29414309\\\\\n",
       "\t {[}Eubacterium{]}\\_hallii\\_group & 0.0000000 & 0.000000 & 0.0000000 & 0.000000 & 0.000000 & 0.0000000 & 0.0000000 & 0.0000000 & 0.0000000 & 0.00000000 & ⋯ & 0.000000 & 0.000000 & 0.000000 & 0.000000 & 0.00000000 & 0.000000000 & 0.00000000 & 0.00000000 & 0 & 0.03460507\\\\\n",
       "\\end{tabular}\n"
      ],
      "text/markdown": [
       "\n",
       "A data.frame: 6 × 21\n",
       "\n",
       "| <!--/--> | DMR1 &lt;dbl&gt; | DMR2 &lt;dbl&gt; | DMR3 &lt;dbl&gt; | DMR4 &lt;dbl&gt; | DMR5 &lt;dbl&gt; | DMR6 &lt;dbl&gt; | NMR1 &lt;dbl&gt; | NMR2 &lt;dbl&gt; | NMR3 &lt;dbl&gt; | NMR4 &lt;dbl&gt; | ⋯ ⋯ | NMR6 &lt;dbl&gt; | PC1 &lt;dbl&gt; | PC2 &lt;dbl&gt; | PC3 &lt;dbl&gt; | PC4 &lt;dbl&gt; | PC5 &lt;dbl&gt; | PC6 &lt;dbl&gt; | PC7 &lt;dbl&gt; | PM1 &lt;dbl&gt; | PM2 &lt;dbl&gt; |\n",
       "|---|---|---|---|---|---|---|---|---|---|---|---|---|---|---|---|---|---|---|---|---|---|\n",
       "|  [Anaerorhabdus]_furcosa_group | 0.0000000 | 0.000000 | 0.0000000 | 0.000000 | 0.000000 | 0.0000000 | 0.0000000 | 0.0259538 | 0.0000000 | 0.04325634 | ⋯ | 0.000000 | 0.000000 | 0.000000 | 0.000000 | 0.04325634 | 0.121117744 | 0.00000000 | 0.00000000 | 0 | 0.02595380 |\n",
       "|  [Bacteroides]_pectinophilus_group | 0.0000000 | 0.000000 | 0.0000000 | 0.000000 | 0.000000 | 0.0000000 | 0.0000000 | 0.0000000 | 0.0000000 | 0.00000000 | ⋯ | 0.000000 | 0.000000 | 0.000000 | 0.000000 | 0.35470196 | 0.276840557 | 0.00000000 | 0.00000000 | 0 | 0.00000000 |\n",
       "|  [Clostridium]_methylpentosum_group | 0.0000000 | 0.000000 | 0.0000000 | 0.000000 | 0.000000 | 0.0000000 | 0.0000000 | 0.0000000 | 0.0000000 | 0.00000000 | ⋯ | 0.000000 | 0.000000 | 0.000000 | 0.000000 | 0.00000000 | 0.000000000 | 0.00000000 | 0.00000000 | 0 | 0.00000000 |\n",
       "|  [Eubacterium]_brachy_group | 0.0000000 | 0.000000 | 0.0000000 | 0.000000 | 0.000000 | 0.0000000 | 0.0000000 | 0.0000000 | 0.0000000 | 0.00000000 | ⋯ | 0.000000 | 0.000000 | 0.000000 | 0.000000 | 0.00000000 | 0.008651267 | 0.00000000 | 0.00000000 | 0 | 0.06055887 |\n",
       "|  [Eubacterium]_coprostanoligenes_group | 0.3287482 | 4.040142 | 0.1989792 | 1.263085 | 2.110909 | 0.3979583 | 0.9602907 | 1.7735098 | 0.7699628 | 1.05545462 | ⋯ | 1.038152 | 1.816766 | 1.877325 | 8.011074 | 0.72670646 | 1.323643914 | 0.04325634 | 0.03460507 | 0 | 0.29414309 |\n",
       "|  [Eubacterium]_hallii_group | 0.0000000 | 0.000000 | 0.0000000 | 0.000000 | 0.000000 | 0.0000000 | 0.0000000 | 0.0000000 | 0.0000000 | 0.00000000 | ⋯ | 0.000000 | 0.000000 | 0.000000 | 0.000000 | 0.00000000 | 0.000000000 | 0.00000000 | 0.00000000 | 0 | 0.03460507 |\n",
       "\n"
      ],
      "text/plain": [
       "                                       DMR1      DMR2     DMR3      DMR4    \n",
       " [Anaerorhabdus]_furcosa_group         0.0000000 0.000000 0.0000000 0.000000\n",
       " [Bacteroides]_pectinophilus_group     0.0000000 0.000000 0.0000000 0.000000\n",
       " [Clostridium]_methylpentosum_group    0.0000000 0.000000 0.0000000 0.000000\n",
       " [Eubacterium]_brachy_group            0.0000000 0.000000 0.0000000 0.000000\n",
       " [Eubacterium]_coprostanoligenes_group 0.3287482 4.040142 0.1989792 1.263085\n",
       " [Eubacterium]_hallii_group            0.0000000 0.000000 0.0000000 0.000000\n",
       "                                       DMR5     DMR6      NMR1      NMR2     \n",
       " [Anaerorhabdus]_furcosa_group         0.000000 0.0000000 0.0000000 0.0259538\n",
       " [Bacteroides]_pectinophilus_group     0.000000 0.0000000 0.0000000 0.0000000\n",
       " [Clostridium]_methylpentosum_group    0.000000 0.0000000 0.0000000 0.0000000\n",
       " [Eubacterium]_brachy_group            0.000000 0.0000000 0.0000000 0.0000000\n",
       " [Eubacterium]_coprostanoligenes_group 2.110909 0.3979583 0.9602907 1.7735098\n",
       " [Eubacterium]_hallii_group            0.000000 0.0000000 0.0000000 0.0000000\n",
       "                                       NMR3      NMR4       ⋯ NMR6     PC1     \n",
       " [Anaerorhabdus]_furcosa_group         0.0000000 0.04325634 ⋯ 0.000000 0.000000\n",
       " [Bacteroides]_pectinophilus_group     0.0000000 0.00000000 ⋯ 0.000000 0.000000\n",
       " [Clostridium]_methylpentosum_group    0.0000000 0.00000000 ⋯ 0.000000 0.000000\n",
       " [Eubacterium]_brachy_group            0.0000000 0.00000000 ⋯ 0.000000 0.000000\n",
       " [Eubacterium]_coprostanoligenes_group 0.7699628 1.05545462 ⋯ 1.038152 1.816766\n",
       " [Eubacterium]_hallii_group            0.0000000 0.00000000 ⋯ 0.000000 0.000000\n",
       "                                       PC2      PC3      PC4        PC5        \n",
       " [Anaerorhabdus]_furcosa_group         0.000000 0.000000 0.04325634 0.121117744\n",
       " [Bacteroides]_pectinophilus_group     0.000000 0.000000 0.35470196 0.276840557\n",
       " [Clostridium]_methylpentosum_group    0.000000 0.000000 0.00000000 0.000000000\n",
       " [Eubacterium]_brachy_group            0.000000 0.000000 0.00000000 0.008651267\n",
       " [Eubacterium]_coprostanoligenes_group 1.877325 8.011074 0.72670646 1.323643914\n",
       " [Eubacterium]_hallii_group            0.000000 0.000000 0.00000000 0.000000000\n",
       "                                       PC6        PC7        PM1 PM2       \n",
       " [Anaerorhabdus]_furcosa_group         0.00000000 0.00000000 0   0.02595380\n",
       " [Bacteroides]_pectinophilus_group     0.00000000 0.00000000 0   0.00000000\n",
       " [Clostridium]_methylpentosum_group    0.00000000 0.00000000 0   0.00000000\n",
       " [Eubacterium]_brachy_group            0.00000000 0.00000000 0   0.06055887\n",
       " [Eubacterium]_coprostanoligenes_group 0.04325634 0.03460507 0   0.29414309\n",
       " [Eubacterium]_hallii_group            0.00000000 0.00000000 0   0.03460507"
      ]
     },
     "metadata": {},
     "output_type": "display_data"
    },
    {
     "data": {
      "text/html": [
       "<table class=\"dataframe\">\n",
       "<caption>A data.frame: 6 × 15</caption>\n",
       "<thead>\n",
       "\t<tr><th></th><th scope=col>Sampleid</th><th scope=col>Group</th><th scope=col>Class</th><th scope=col>Order</th><th scope=col>Family</th><th scope=col>Genus</th><th scope=col>Species</th><th scope=col>Sample_type</th><th scope=col>Captive_Wild</th><th scope=col>Domestic_Wild</th><th scope=col>Habitat</th><th scope=col>Diet</th><th scope=col>Diet_detail</th><th scope=col>Digestive_tract</th><th scope=col>Digest_detail</th></tr>\n",
       "\t<tr><th></th><th scope=col>&lt;chr&gt;</th><th scope=col>&lt;chr&gt;</th><th scope=col>&lt;chr&gt;</th><th scope=col>&lt;chr&gt;</th><th scope=col>&lt;chr&gt;</th><th scope=col>&lt;chr&gt;</th><th scope=col>&lt;chr&gt;</th><th scope=col>&lt;chr&gt;</th><th scope=col>&lt;chr&gt;</th><th scope=col>&lt;chr&gt;</th><th scope=col>&lt;chr&gt;</th><th scope=col>&lt;chr&gt;</th><th scope=col>&lt;chr&gt;</th><th scope=col>&lt;chr&gt;</th><th scope=col>&lt;chr&gt;</th></tr>\n",
       "</thead>\n",
       "<tbody>\n",
       "\t<tr><th scope=row>NMR1</th><td>NMR1</td><td>Bathyergidae and relatives</td><td>Mammalia</td><td>Rodentia</td><td>Bathyergidae</td><td>Heterocephalus</td><td>Heterocephalus glaber</td><td>Feces</td><td>Wild</td><td>Wild</td><td>Underground</td><td>Herbivore</td><td>Herbivore</td><td>Hindgut fermentation</td><td>Cecum fermenter</td></tr>\n",
       "\t<tr><th scope=row>NMR2</th><td>NMR2</td><td>Bathyergidae and relatives</td><td>Mammalia</td><td>Rodentia</td><td>Bathyergidae</td><td>Heterocephalus</td><td>Heterocephalus glaber</td><td>Feces</td><td>Wild</td><td>Wild</td><td>Underground</td><td>Herbivore</td><td>Herbivore</td><td>Hindgut fermentation</td><td>Cecum fermenter</td></tr>\n",
       "\t<tr><th scope=row>NMR3</th><td>NMR3</td><td>Bathyergidae and relatives</td><td>Mammalia</td><td>Rodentia</td><td>Bathyergidae</td><td>Heterocephalus</td><td>Heterocephalus glaber</td><td>Feces</td><td>Wild</td><td>Wild</td><td>Underground</td><td>Herbivore</td><td>Herbivore</td><td>Hindgut fermentation</td><td>Cecum fermenter</td></tr>\n",
       "\t<tr><th scope=row>NMR4</th><td>NMR4</td><td>Bathyergidae and relatives</td><td>Mammalia</td><td>Rodentia</td><td>Bathyergidae</td><td>Heterocephalus</td><td>Heterocephalus glaber</td><td>Feces</td><td>Wild</td><td>Wild</td><td>Underground</td><td>Herbivore</td><td>Herbivore</td><td>Hindgut fermentation</td><td>Cecum fermenter</td></tr>\n",
       "\t<tr><th scope=row>NMR5</th><td>NMR5</td><td>Bathyergidae and relatives</td><td>Mammalia</td><td>Rodentia</td><td>Bathyergidae</td><td>Heterocephalus</td><td>Heterocephalus glaber</td><td>Feces</td><td>Wild</td><td>Wild</td><td>Underground</td><td>Herbivore</td><td>Herbivore</td><td>Hindgut fermentation</td><td>Cecum fermenter</td></tr>\n",
       "\t<tr><th scope=row>NMR6</th><td>NMR6</td><td>Bathyergidae and relatives</td><td>Mammalia</td><td>Rodentia</td><td>Bathyergidae</td><td>Heterocephalus</td><td>Heterocephalus glaber</td><td>Feces</td><td>Wild</td><td>Wild</td><td>Underground</td><td>Herbivore</td><td>Herbivore</td><td>Hindgut fermentation</td><td>Cecum fermenter</td></tr>\n",
       "</tbody>\n",
       "</table>\n"
      ],
      "text/latex": [
       "A data.frame: 6 × 15\n",
       "\\begin{tabular}{r|lllllllllllllll}\n",
       "  & Sampleid & Group & Class & Order & Family & Genus & Species & Sample\\_type & Captive\\_Wild & Domestic\\_Wild & Habitat & Diet & Diet\\_detail & Digestive\\_tract & Digest\\_detail\\\\\n",
       "  & <chr> & <chr> & <chr> & <chr> & <chr> & <chr> & <chr> & <chr> & <chr> & <chr> & <chr> & <chr> & <chr> & <chr> & <chr>\\\\\n",
       "\\hline\n",
       "\tNMR1 & NMR1 & Bathyergidae and relatives & Mammalia & Rodentia & Bathyergidae & Heterocephalus & Heterocephalus glaber & Feces & Wild & Wild & Underground & Herbivore & Herbivore & Hindgut fermentation & Cecum fermenter\\\\\n",
       "\tNMR2 & NMR2 & Bathyergidae and relatives & Mammalia & Rodentia & Bathyergidae & Heterocephalus & Heterocephalus glaber & Feces & Wild & Wild & Underground & Herbivore & Herbivore & Hindgut fermentation & Cecum fermenter\\\\\n",
       "\tNMR3 & NMR3 & Bathyergidae and relatives & Mammalia & Rodentia & Bathyergidae & Heterocephalus & Heterocephalus glaber & Feces & Wild & Wild & Underground & Herbivore & Herbivore & Hindgut fermentation & Cecum fermenter\\\\\n",
       "\tNMR4 & NMR4 & Bathyergidae and relatives & Mammalia & Rodentia & Bathyergidae & Heterocephalus & Heterocephalus glaber & Feces & Wild & Wild & Underground & Herbivore & Herbivore & Hindgut fermentation & Cecum fermenter\\\\\n",
       "\tNMR5 & NMR5 & Bathyergidae and relatives & Mammalia & Rodentia & Bathyergidae & Heterocephalus & Heterocephalus glaber & Feces & Wild & Wild & Underground & Herbivore & Herbivore & Hindgut fermentation & Cecum fermenter\\\\\n",
       "\tNMR6 & NMR6 & Bathyergidae and relatives & Mammalia & Rodentia & Bathyergidae & Heterocephalus & Heterocephalus glaber & Feces & Wild & Wild & Underground & Herbivore & Herbivore & Hindgut fermentation & Cecum fermenter\\\\\n",
       "\\end{tabular}\n"
      ],
      "text/markdown": [
       "\n",
       "A data.frame: 6 × 15\n",
       "\n",
       "| <!--/--> | Sampleid &lt;chr&gt; | Group &lt;chr&gt; | Class &lt;chr&gt; | Order &lt;chr&gt; | Family &lt;chr&gt; | Genus &lt;chr&gt; | Species &lt;chr&gt; | Sample_type &lt;chr&gt; | Captive_Wild &lt;chr&gt; | Domestic_Wild &lt;chr&gt; | Habitat &lt;chr&gt; | Diet &lt;chr&gt; | Diet_detail &lt;chr&gt; | Digestive_tract &lt;chr&gt; | Digest_detail &lt;chr&gt; |\n",
       "|---|---|---|---|---|---|---|---|---|---|---|---|---|---|---|---|\n",
       "| NMR1 | NMR1 | Bathyergidae and relatives | Mammalia | Rodentia | Bathyergidae | Heterocephalus | Heterocephalus glaber | Feces | Wild | Wild | Underground | Herbivore | Herbivore | Hindgut fermentation | Cecum fermenter |\n",
       "| NMR2 | NMR2 | Bathyergidae and relatives | Mammalia | Rodentia | Bathyergidae | Heterocephalus | Heterocephalus glaber | Feces | Wild | Wild | Underground | Herbivore | Herbivore | Hindgut fermentation | Cecum fermenter |\n",
       "| NMR3 | NMR3 | Bathyergidae and relatives | Mammalia | Rodentia | Bathyergidae | Heterocephalus | Heterocephalus glaber | Feces | Wild | Wild | Underground | Herbivore | Herbivore | Hindgut fermentation | Cecum fermenter |\n",
       "| NMR4 | NMR4 | Bathyergidae and relatives | Mammalia | Rodentia | Bathyergidae | Heterocephalus | Heterocephalus glaber | Feces | Wild | Wild | Underground | Herbivore | Herbivore | Hindgut fermentation | Cecum fermenter |\n",
       "| NMR5 | NMR5 | Bathyergidae and relatives | Mammalia | Rodentia | Bathyergidae | Heterocephalus | Heterocephalus glaber | Feces | Wild | Wild | Underground | Herbivore | Herbivore | Hindgut fermentation | Cecum fermenter |\n",
       "| NMR6 | NMR6 | Bathyergidae and relatives | Mammalia | Rodentia | Bathyergidae | Heterocephalus | Heterocephalus glaber | Feces | Wild | Wild | Underground | Herbivore | Herbivore | Hindgut fermentation | Cecum fermenter |\n",
       "\n"
      ],
      "text/plain": [
       "     Sampleid Group                      Class    Order    Family      \n",
       "NMR1 NMR1     Bathyergidae and relatives Mammalia Rodentia Bathyergidae\n",
       "NMR2 NMR2     Bathyergidae and relatives Mammalia Rodentia Bathyergidae\n",
       "NMR3 NMR3     Bathyergidae and relatives Mammalia Rodentia Bathyergidae\n",
       "NMR4 NMR4     Bathyergidae and relatives Mammalia Rodentia Bathyergidae\n",
       "NMR5 NMR5     Bathyergidae and relatives Mammalia Rodentia Bathyergidae\n",
       "NMR6 NMR6     Bathyergidae and relatives Mammalia Rodentia Bathyergidae\n",
       "     Genus          Species               Sample_type Captive_Wild\n",
       "NMR1 Heterocephalus Heterocephalus glaber Feces       Wild        \n",
       "NMR2 Heterocephalus Heterocephalus glaber Feces       Wild        \n",
       "NMR3 Heterocephalus Heterocephalus glaber Feces       Wild        \n",
       "NMR4 Heterocephalus Heterocephalus glaber Feces       Wild        \n",
       "NMR5 Heterocephalus Heterocephalus glaber Feces       Wild        \n",
       "NMR6 Heterocephalus Heterocephalus glaber Feces       Wild        \n",
       "     Domestic_Wild Habitat     Diet      Diet_detail Digestive_tract     \n",
       "NMR1 Wild          Underground Herbivore Herbivore   Hindgut fermentation\n",
       "NMR2 Wild          Underground Herbivore Herbivore   Hindgut fermentation\n",
       "NMR3 Wild          Underground Herbivore Herbivore   Hindgut fermentation\n",
       "NMR4 Wild          Underground Herbivore Herbivore   Hindgut fermentation\n",
       "NMR5 Wild          Underground Herbivore Herbivore   Hindgut fermentation\n",
       "NMR6 Wild          Underground Herbivore Herbivore   Hindgut fermentation\n",
       "     Digest_detail  \n",
       "NMR1 Cecum fermenter\n",
       "NMR2 Cecum fermenter\n",
       "NMR3 Cecum fermenter\n",
       "NMR4 Cecum fermenter\n",
       "NMR5 Cecum fermenter\n",
       "NMR6 Cecum fermenter"
      ]
     },
     "metadata": {},
     "output_type": "display_data"
    },
    {
     "name": "stderr",
     "output_type": "stream",
     "text": [
      "191 taxa with 0 abundance are removed from the otu_table ...\n",
      "\n"
     ]
    },
    {
     "data": {
      "text/plain": [
       "microtable-class object:\n",
       "sample_table have 21 rows and 15 columns\n",
       "otu_table have 270 rows and 21 columns\n",
       "tax_table have 461 rows and 1 columns"
      ]
     },
     "metadata": {},
     "output_type": "display_data"
    },
    {
     "name": "stderr",
     "output_type": "stream",
     "text": [
      "No taxa_abund list found. Calculate it with cal_abund function ...\n",
      "\n",
      "The row number of tax_table is not equal to that of otu_table ...\n",
      "\n",
      "Automatically applying tidy_dataset() function to trim the data ...\n",
      "\n"
     ]
    },
    {
     "name": "stdout",
     "output_type": "stream",
     "text": [
      "microtable-class object:\n",
      "sample_table have 21 rows and 15 columns\n",
      "otu_table have 270 rows and 21 columns\n",
      "tax_table have 270 rows and 1 columns\n"
     ]
    },
    {
     "name": "stderr",
     "output_type": "stream",
     "text": [
      "The result is stored in object$taxa_abund ...\n",
      "\n",
      "270 input features ...\n",
      "\n",
      "268 features are remained after removing unknown features ...\n",
      "\n",
      "Start Kruskal-Wallis rank sum test for Habitat ...\n",
      "\n",
      "29 taxa found significant ...\n",
      "\n",
      "After P value adjustment, 3 taxa found significant ...\n",
      "\n",
      "Minimum LDA score: 3.70763073692309 maximum LDA score: 4.55354311366293\n",
      "\n",
      "Taxa abundance table is stored in object$res_abund ...\n",
      "\n",
      "lefse analysis result is stored in object$res_diff ...\n",
      "\n"
     ]
    },
    {
     "data": {
      "text/html": [
       "<table class=\"dataframe\">\n",
       "<caption>A data.frame: 3 × 8</caption>\n",
       "<thead>\n",
       "\t<tr><th></th><th scope=col>Comparison</th><th scope=col>Taxa</th><th scope=col>Method</th><th scope=col>Group</th><th scope=col>LDA</th><th scope=col>P.unadj</th><th scope=col>P.adj</th><th scope=col>Significance</th></tr>\n",
       "\t<tr><th></th><th scope=col>&lt;chr&gt;</th><th scope=col>&lt;chr&gt;</th><th scope=col>&lt;chr&gt;</th><th scope=col>&lt;chr&gt;</th><th scope=col>&lt;dbl&gt;</th><th scope=col>&lt;dbl&gt;</th><th scope=col>&lt;dbl&gt;</th><th scope=col>&lt;fct&gt;</th></tr>\n",
       "</thead>\n",
       "<tbody>\n",
       "\t<tr><th scope=row> Acinetobacter</th><td>Aboveground - Underground</td><td> Acinetobacter                </td><td>LEfSe</td><td>Aboveground</td><td>4.553543</td><td>9.477225e-05</td><td>0.008466321</td><td>**</td></tr>\n",
       "\t<tr><th scope=row> Lachnospiraceae_NK4A136_group</th><td>Aboveground - Underground</td><td> Lachnospiraceae_NK4A136_group</td><td>LEfSe</td><td>Aboveground</td><td>3.838331</td><td>9.477225e-05</td><td>0.008466321</td><td>**</td></tr>\n",
       "\t<tr><th scope=row> Phascolarctobacterium</th><td>Aboveground - Underground</td><td> Phascolarctobacterium        </td><td>LEfSe</td><td>Aboveground</td><td>3.707631</td><td>9.477225e-05</td><td>0.008466321</td><td>**</td></tr>\n",
       "</tbody>\n",
       "</table>\n"
      ],
      "text/latex": [
       "A data.frame: 3 × 8\n",
       "\\begin{tabular}{r|llllllll}\n",
       "  & Comparison & Taxa & Method & Group & LDA & P.unadj & P.adj & Significance\\\\\n",
       "  & <chr> & <chr> & <chr> & <chr> & <dbl> & <dbl> & <dbl> & <fct>\\\\\n",
       "\\hline\n",
       "\t Acinetobacter & Aboveground - Underground &  Acinetobacter                 & LEfSe & Aboveground & 4.553543 & 9.477225e-05 & 0.008466321 & **\\\\\n",
       "\t Lachnospiraceae\\_NK4A136\\_group & Aboveground - Underground &  Lachnospiraceae\\_NK4A136\\_group & LEfSe & Aboveground & 3.838331 & 9.477225e-05 & 0.008466321 & **\\\\\n",
       "\t Phascolarctobacterium & Aboveground - Underground &  Phascolarctobacterium         & LEfSe & Aboveground & 3.707631 & 9.477225e-05 & 0.008466321 & **\\\\\n",
       "\\end{tabular}\n"
      ],
      "text/markdown": [
       "\n",
       "A data.frame: 3 × 8\n",
       "\n",
       "| <!--/--> | Comparison &lt;chr&gt; | Taxa &lt;chr&gt; | Method &lt;chr&gt; | Group &lt;chr&gt; | LDA &lt;dbl&gt; | P.unadj &lt;dbl&gt; | P.adj &lt;dbl&gt; | Significance &lt;fct&gt; |\n",
       "|---|---|---|---|---|---|---|---|---|\n",
       "|  Acinetobacter | Aboveground - Underground |  Acinetobacter                 | LEfSe | Aboveground | 4.553543 | 9.477225e-05 | 0.008466321 | ** |\n",
       "|  Lachnospiraceae_NK4A136_group | Aboveground - Underground |  Lachnospiraceae_NK4A136_group | LEfSe | Aboveground | 3.838331 | 9.477225e-05 | 0.008466321 | ** |\n",
       "|  Phascolarctobacterium | Aboveground - Underground |  Phascolarctobacterium         | LEfSe | Aboveground | 3.707631 | 9.477225e-05 | 0.008466321 | ** |\n",
       "\n"
      ],
      "text/plain": [
       "                               Comparison               \n",
       " Acinetobacter                 Aboveground - Underground\n",
       " Lachnospiraceae_NK4A136_group Aboveground - Underground\n",
       " Phascolarctobacterium         Aboveground - Underground\n",
       "                               Taxa                           Method\n",
       " Acinetobacter                  Acinetobacter                 LEfSe \n",
       " Lachnospiraceae_NK4A136_group  Lachnospiraceae_NK4A136_group LEfSe \n",
       " Phascolarctobacterium          Phascolarctobacterium         LEfSe \n",
       "                               Group       LDA      P.unadj      P.adj      \n",
       " Acinetobacter                 Aboveground 4.553543 9.477225e-05 0.008466321\n",
       " Lachnospiraceae_NK4A136_group Aboveground 3.838331 9.477225e-05 0.008466321\n",
       " Phascolarctobacterium         Aboveground 3.707631 9.477225e-05 0.008466321\n",
       "                               Significance\n",
       " Acinetobacter                 **          \n",
       " Lachnospiraceae_NK4A136_group **          \n",
       " Phascolarctobacterium         **          "
      ]
     },
     "metadata": {},
     "output_type": "display_data"
    }
   ],
   "source": [
    "####underground_Bathyergidae####\n",
    "#prepare three files\n",
    "data1 <- genus %>% \n",
    "    filter(Group == \"Bathyergidae and relatives\") %>%\n",
    "    dplyr::select(Sampleid,value,genus) %>% \n",
    "    spread(Sampleid,value) %>% \n",
    "    filter(genus != '') %>% \n",
    "    as.data.frame()\n",
    "row.names(data1) <- data1$genus\n",
    "tax1 <- data1 %>% dplyr::select(genus) %>% as.data.frame()\n",
    "head(tax1)\n",
    "data1 <- data1 %>% dplyr::select(-genus) %>% as.data.frame()\n",
    "head(data1)\n",
    "sample1 <- metadata %>% filter(Group == \"Bathyergidae and relatives\") \n",
    "head(sample1)\n",
    "\n",
    "#prepare dataset\n",
    "dataset <- microtable$new(sample_table = sample1,\n",
    "                          otu_table = data1, \n",
    "                          tax_table = tax1)\n",
    "dataset\n",
    "\n",
    "#执行lefse分析\n",
    "lefse <- trans_diff$new(dataset = dataset, \n",
    "                        method = \"lefse\", \n",
    "                        group = \"Habitat\", \n",
    "                        alpha = 0.01, \n",
    "                        lefse_subgroup = NULL)\n",
    "#查看分析结果\n",
    "head(lefse$res_diff)"
   ]
  },
  {
   "cell_type": "markdown",
   "metadata": {},
   "source": [
    "# comparision based on genus"
   ]
  },
  {
   "cell_type": "code",
   "execution_count": 27,
   "metadata": {
    "ExecuteTime": {
     "end_time": "2024-03-31T14:29:17.226649Z",
     "start_time": "2024-03-31T14:29:17.034Z"
    }
   },
   "outputs": [
    {
     "data": {
      "text/html": [
       "<table class=\"dataframe\">\n",
       "<caption>A data.frame: 6 × 17</caption>\n",
       "<thead>\n",
       "\t<tr><th></th><th scope=col>genus</th><th scope=col>Sampleid</th><th scope=col>value</th><th scope=col>Group</th><th scope=col>Class</th><th scope=col>Order</th><th scope=col>Family</th><th scope=col>Genus</th><th scope=col>Species</th><th scope=col>Sample_type</th><th scope=col>Captive_Wild</th><th scope=col>Domestic_Wild</th><th scope=col>Habitat</th><th scope=col>Diet</th><th scope=col>Diet_detail</th><th scope=col>Digestive_tract</th><th scope=col>Digest_detail</th></tr>\n",
       "\t<tr><th></th><th scope=col>&lt;chr&gt;</th><th scope=col>&lt;chr&gt;</th><th scope=col>&lt;dbl&gt;</th><th scope=col>&lt;chr&gt;</th><th scope=col>&lt;chr&gt;</th><th scope=col>&lt;chr&gt;</th><th scope=col>&lt;chr&gt;</th><th scope=col>&lt;chr&gt;</th><th scope=col>&lt;chr&gt;</th><th scope=col>&lt;chr&gt;</th><th scope=col>&lt;chr&gt;</th><th scope=col>&lt;chr&gt;</th><th scope=col>&lt;chr&gt;</th><th scope=col>&lt;chr&gt;</th><th scope=col>&lt;chr&gt;</th><th scope=col>&lt;chr&gt;</th><th scope=col>&lt;chr&gt;</th></tr>\n",
       "</thead>\n",
       "<tbody>\n",
       "\t<tr><th scope=row>1</th><td> [Anaerorhabdus]_furcosa_group        </td><td>BMR1</td><td>0.00000</td><td>Spalacidae and relatives</td><td>Mammalia</td><td>Rodentia</td><td>Spalacidae</td><td>Spalax</td><td>Nannospalax leucodon</td><td>Feces</td><td>Wild</td><td>Wild</td><td>Underground</td><td>Herbivore</td><td>Herbivore</td><td>Hindgut fermentation</td><td>Cecum fermenter</td></tr>\n",
       "\t<tr><th scope=row>2</th><td> [Bacteroides]_pectinophilus_group    </td><td>BMR1</td><td>0.00000</td><td>Spalacidae and relatives</td><td>Mammalia</td><td>Rodentia</td><td>Spalacidae</td><td>Spalax</td><td>Nannospalax leucodon</td><td>Feces</td><td>Wild</td><td>Wild</td><td>Underground</td><td>Herbivore</td><td>Herbivore</td><td>Hindgut fermentation</td><td>Cecum fermenter</td></tr>\n",
       "\t<tr><th scope=row>3</th><td> [Clostridium]_methylpentosum_group   </td><td>BMR1</td><td>0.00000</td><td>Spalacidae and relatives</td><td>Mammalia</td><td>Rodentia</td><td>Spalacidae</td><td>Spalax</td><td>Nannospalax leucodon</td><td>Feces</td><td>Wild</td><td>Wild</td><td>Underground</td><td>Herbivore</td><td>Herbivore</td><td>Hindgut fermentation</td><td>Cecum fermenter</td></tr>\n",
       "\t<tr><th scope=row>4</th><td> [Eubacterium]_brachy_group           </td><td>BMR1</td><td>0.00000</td><td>Spalacidae and relatives</td><td>Mammalia</td><td>Rodentia</td><td>Spalacidae</td><td>Spalax</td><td>Nannospalax leucodon</td><td>Feces</td><td>Wild</td><td>Wild</td><td>Underground</td><td>Herbivore</td><td>Herbivore</td><td>Hindgut fermentation</td><td>Cecum fermenter</td></tr>\n",
       "\t<tr><th scope=row>5</th><td> [Eubacterium]_coprostanoligenes_group</td><td>BMR1</td><td>3.61623</td><td>Spalacidae and relatives</td><td>Mammalia</td><td>Rodentia</td><td>Spalacidae</td><td>Spalax</td><td>Nannospalax leucodon</td><td>Feces</td><td>Wild</td><td>Wild</td><td>Underground</td><td>Herbivore</td><td>Herbivore</td><td>Hindgut fermentation</td><td>Cecum fermenter</td></tr>\n",
       "\t<tr><th scope=row>6</th><td> [Eubacterium]_hallii_group           </td><td>BMR1</td><td>0.00000</td><td>Spalacidae and relatives</td><td>Mammalia</td><td>Rodentia</td><td>Spalacidae</td><td>Spalax</td><td>Nannospalax leucodon</td><td>Feces</td><td>Wild</td><td>Wild</td><td>Underground</td><td>Herbivore</td><td>Herbivore</td><td>Hindgut fermentation</td><td>Cecum fermenter</td></tr>\n",
       "</tbody>\n",
       "</table>\n"
      ],
      "text/latex": [
       "A data.frame: 6 × 17\n",
       "\\begin{tabular}{r|lllllllllllllllll}\n",
       "  & genus & Sampleid & value & Group & Class & Order & Family & Genus & Species & Sample\\_type & Captive\\_Wild & Domestic\\_Wild & Habitat & Diet & Diet\\_detail & Digestive\\_tract & Digest\\_detail\\\\\n",
       "  & <chr> & <chr> & <dbl> & <chr> & <chr> & <chr> & <chr> & <chr> & <chr> & <chr> & <chr> & <chr> & <chr> & <chr> & <chr> & <chr> & <chr>\\\\\n",
       "\\hline\n",
       "\t1 &  {[}Anaerorhabdus{]}\\_furcosa\\_group         & BMR1 & 0.00000 & Spalacidae and relatives & Mammalia & Rodentia & Spalacidae & Spalax & Nannospalax leucodon & Feces & Wild & Wild & Underground & Herbivore & Herbivore & Hindgut fermentation & Cecum fermenter\\\\\n",
       "\t2 &  {[}Bacteroides{]}\\_pectinophilus\\_group     & BMR1 & 0.00000 & Spalacidae and relatives & Mammalia & Rodentia & Spalacidae & Spalax & Nannospalax leucodon & Feces & Wild & Wild & Underground & Herbivore & Herbivore & Hindgut fermentation & Cecum fermenter\\\\\n",
       "\t3 &  {[}Clostridium{]}\\_methylpentosum\\_group    & BMR1 & 0.00000 & Spalacidae and relatives & Mammalia & Rodentia & Spalacidae & Spalax & Nannospalax leucodon & Feces & Wild & Wild & Underground & Herbivore & Herbivore & Hindgut fermentation & Cecum fermenter\\\\\n",
       "\t4 &  {[}Eubacterium{]}\\_brachy\\_group            & BMR1 & 0.00000 & Spalacidae and relatives & Mammalia & Rodentia & Spalacidae & Spalax & Nannospalax leucodon & Feces & Wild & Wild & Underground & Herbivore & Herbivore & Hindgut fermentation & Cecum fermenter\\\\\n",
       "\t5 &  {[}Eubacterium{]}\\_coprostanoligenes\\_group & BMR1 & 3.61623 & Spalacidae and relatives & Mammalia & Rodentia & Spalacidae & Spalax & Nannospalax leucodon & Feces & Wild & Wild & Underground & Herbivore & Herbivore & Hindgut fermentation & Cecum fermenter\\\\\n",
       "\t6 &  {[}Eubacterium{]}\\_hallii\\_group            & BMR1 & 0.00000 & Spalacidae and relatives & Mammalia & Rodentia & Spalacidae & Spalax & Nannospalax leucodon & Feces & Wild & Wild & Underground & Herbivore & Herbivore & Hindgut fermentation & Cecum fermenter\\\\\n",
       "\\end{tabular}\n"
      ],
      "text/markdown": [
       "\n",
       "A data.frame: 6 × 17\n",
       "\n",
       "| <!--/--> | genus &lt;chr&gt; | Sampleid &lt;chr&gt; | value &lt;dbl&gt; | Group &lt;chr&gt; | Class &lt;chr&gt; | Order &lt;chr&gt; | Family &lt;chr&gt; | Genus &lt;chr&gt; | Species &lt;chr&gt; | Sample_type &lt;chr&gt; | Captive_Wild &lt;chr&gt; | Domestic_Wild &lt;chr&gt; | Habitat &lt;chr&gt; | Diet &lt;chr&gt; | Diet_detail &lt;chr&gt; | Digestive_tract &lt;chr&gt; | Digest_detail &lt;chr&gt; |\n",
       "|---|---|---|---|---|---|---|---|---|---|---|---|---|---|---|---|---|---|\n",
       "| 1 |  [Anaerorhabdus]_furcosa_group         | BMR1 | 0.00000 | Spalacidae and relatives | Mammalia | Rodentia | Spalacidae | Spalax | Nannospalax leucodon | Feces | Wild | Wild | Underground | Herbivore | Herbivore | Hindgut fermentation | Cecum fermenter |\n",
       "| 2 |  [Bacteroides]_pectinophilus_group     | BMR1 | 0.00000 | Spalacidae and relatives | Mammalia | Rodentia | Spalacidae | Spalax | Nannospalax leucodon | Feces | Wild | Wild | Underground | Herbivore | Herbivore | Hindgut fermentation | Cecum fermenter |\n",
       "| 3 |  [Clostridium]_methylpentosum_group    | BMR1 | 0.00000 | Spalacidae and relatives | Mammalia | Rodentia | Spalacidae | Spalax | Nannospalax leucodon | Feces | Wild | Wild | Underground | Herbivore | Herbivore | Hindgut fermentation | Cecum fermenter |\n",
       "| 4 |  [Eubacterium]_brachy_group            | BMR1 | 0.00000 | Spalacidae and relatives | Mammalia | Rodentia | Spalacidae | Spalax | Nannospalax leucodon | Feces | Wild | Wild | Underground | Herbivore | Herbivore | Hindgut fermentation | Cecum fermenter |\n",
       "| 5 |  [Eubacterium]_coprostanoligenes_group | BMR1 | 3.61623 | Spalacidae and relatives | Mammalia | Rodentia | Spalacidae | Spalax | Nannospalax leucodon | Feces | Wild | Wild | Underground | Herbivore | Herbivore | Hindgut fermentation | Cecum fermenter |\n",
       "| 6 |  [Eubacterium]_hallii_group            | BMR1 | 0.00000 | Spalacidae and relatives | Mammalia | Rodentia | Spalacidae | Spalax | Nannospalax leucodon | Feces | Wild | Wild | Underground | Herbivore | Herbivore | Hindgut fermentation | Cecum fermenter |\n",
       "\n"
      ],
      "text/plain": [
       "  genus                                  Sampleid value  \n",
       "1  [Anaerorhabdus]_furcosa_group         BMR1     0.00000\n",
       "2  [Bacteroides]_pectinophilus_group     BMR1     0.00000\n",
       "3  [Clostridium]_methylpentosum_group    BMR1     0.00000\n",
       "4  [Eubacterium]_brachy_group            BMR1     0.00000\n",
       "5  [Eubacterium]_coprostanoligenes_group BMR1     3.61623\n",
       "6  [Eubacterium]_hallii_group            BMR1     0.00000\n",
       "  Group                    Class    Order    Family     Genus \n",
       "1 Spalacidae and relatives Mammalia Rodentia Spalacidae Spalax\n",
       "2 Spalacidae and relatives Mammalia Rodentia Spalacidae Spalax\n",
       "3 Spalacidae and relatives Mammalia Rodentia Spalacidae Spalax\n",
       "4 Spalacidae and relatives Mammalia Rodentia Spalacidae Spalax\n",
       "5 Spalacidae and relatives Mammalia Rodentia Spalacidae Spalax\n",
       "6 Spalacidae and relatives Mammalia Rodentia Spalacidae Spalax\n",
       "  Species              Sample_type Captive_Wild Domestic_Wild Habitat    \n",
       "1 Nannospalax leucodon Feces       Wild         Wild          Underground\n",
       "2 Nannospalax leucodon Feces       Wild         Wild          Underground\n",
       "3 Nannospalax leucodon Feces       Wild         Wild          Underground\n",
       "4 Nannospalax leucodon Feces       Wild         Wild          Underground\n",
       "5 Nannospalax leucodon Feces       Wild         Wild          Underground\n",
       "6 Nannospalax leucodon Feces       Wild         Wild          Underground\n",
       "  Diet      Diet_detail Digestive_tract      Digest_detail  \n",
       "1 Herbivore Herbivore   Hindgut fermentation Cecum fermenter\n",
       "2 Herbivore Herbivore   Hindgut fermentation Cecum fermenter\n",
       "3 Herbivore Herbivore   Hindgut fermentation Cecum fermenter\n",
       "4 Herbivore Herbivore   Hindgut fermentation Cecum fermenter\n",
       "5 Herbivore Herbivore   Hindgut fermentation Cecum fermenter\n",
       "6 Herbivore Herbivore   Hindgut fermentation Cecum fermenter"
      ]
     },
     "metadata": {},
     "output_type": "display_data"
    }
   ],
   "source": [
    "####underground####\n",
    "genus_merge <- genus %>%  \n",
    "    filter(genus != '') %>% \n",
    "    as.data.frame()\n",
    "head(genus_merge)\n",
    "\n",
    "select <- genus_merge %>% \n",
    "    dplyr::select(genus,value) %>% \n",
    "    group_by(genus) %>% \n",
    "    summarise(value=mean(value))\n",
    "select <- arrange(select,desc(value)) %>% as.data.frame()\n",
    "a <- head(select,10)$genus"
   ]
  },
  {
   "cell_type": "code",
   "execution_count": 30,
   "metadata": {
    "ExecuteTime": {
     "end_time": "2024-03-31T14:30:03.177229Z",
     "start_time": "2024-03-31T14:30:02.206Z"
    }
   },
   "outputs": [
    {
     "data": {
      "image/png": "[encoded data removed]",
      "text/plain": [
       "plot without title"
      ]
     },
     "metadata": {
      "image/png": {
       "height": 300,
       "width": 300
      }
     },
     "output_type": "display_data"
    }
   ],
   "source": [
    "####visualization####\n",
    "p <- ggplot(genus_merge %>% filter(genus %in% a),aes(x=reorder(genus,value),y=value,fill=Habitat)) +\n",
    "    geom_bar(stat = \"summary\",fun=mean,color=\"black\",position = position_dodge()) +    \n",
    "#     geom_boxplot() +\n",
    "    coord_flip()+\n",
    "    labs(x='',y='Relative abundance(%)')+\n",
    "    theme_bw()\n",
    "options(repr.plot.width=5, repr.plot.height=5)\n",
    "plot(p)\n",
    "ggsave(\"genus_barplot_underground.pdf\",width = 5,height = 5,dpi = 1000)"
   ]
  },
  {
   "cell_type": "code",
   "execution_count": 33,
   "metadata": {
    "ExecuteTime": {
     "end_time": "2024-03-31T14:31:09.956328Z",
     "start_time": "2024-03-31T14:31:09.059Z"
    }
   },
   "outputs": [
    {
     "data": {
      "text/html": [
       "<table class=\"dataframe\">\n",
       "<caption>A data.frame: 5 × 9</caption>\n",
       "<thead>\n",
       "\t<tr><th scope=col>genus</th><th scope=col>.y.</th><th scope=col>group1</th><th scope=col>group2</th><th scope=col>n1</th><th scope=col>n2</th><th scope=col>statistic</th><th scope=col>p</th><th scope=col>p.adj</th></tr>\n",
       "\t<tr><th scope=col>&lt;chr&gt;</th><th scope=col>&lt;chr&gt;</th><th scope=col>&lt;chr&gt;</th><th scope=col>&lt;chr&gt;</th><th scope=col>&lt;int&gt;</th><th scope=col>&lt;int&gt;</th><th scope=col>&lt;dbl&gt;</th><th scope=col>&lt;dbl&gt;</th><th scope=col>&lt;dbl&gt;</th></tr>\n",
       "</thead>\n",
       "<tbody>\n",
       "\t<tr><td> Clostridia_UCG-014</td><td>value</td><td>Aboveground</td><td>Underground</td><td>40</td><td>40</td><td> 305.5</td><td>1.93e-06</td><td>6.433333e-06</td></tr>\n",
       "\t<tr><td> Lactobacillus     </td><td>value</td><td>Aboveground</td><td>Underground</td><td>40</td><td>40</td><td> 538.0</td><td>1.17e-02</td><td>2.560000e-02</td></tr>\n",
       "\t<tr><td> Muribaculaceae    </td><td>value</td><td>Aboveground</td><td>Underground</td><td>40</td><td>40</td><td> 303.5</td><td>1.82e-06</td><td>6.433333e-06</td></tr>\n",
       "\t<tr><td> Pseudomonas       </td><td>value</td><td>Aboveground</td><td>Underground</td><td>40</td><td>40</td><td>1027.5</td><td>1.28e-02</td><td>2.560000e-02</td></tr>\n",
       "\t<tr><td> uncultured        </td><td>value</td><td>Aboveground</td><td>Underground</td><td>40</td><td>40</td><td> 255.5</td><td>1.65e-07</td><td>1.650000e-06</td></tr>\n",
       "</tbody>\n",
       "</table>\n"
      ],
      "text/latex": [
       "A data.frame: 5 × 9\n",
       "\\begin{tabular}{lllllllll}\n",
       " genus & .y. & group1 & group2 & n1 & n2 & statistic & p & p.adj\\\\\n",
       " <chr> & <chr> & <chr> & <chr> & <int> & <int> & <dbl> & <dbl> & <dbl>\\\\\n",
       "\\hline\n",
       "\t  Clostridia\\_UCG-014 & value & Aboveground & Underground & 40 & 40 &  305.5 & 1.93e-06 & 6.433333e-06\\\\\n",
       "\t  Lactobacillus      & value & Aboveground & Underground & 40 & 40 &  538.0 & 1.17e-02 & 2.560000e-02\\\\\n",
       "\t  Muribaculaceae     & value & Aboveground & Underground & 40 & 40 &  303.5 & 1.82e-06 & 6.433333e-06\\\\\n",
       "\t  Pseudomonas        & value & Aboveground & Underground & 40 & 40 & 1027.5 & 1.28e-02 & 2.560000e-02\\\\\n",
       "\t  uncultured         & value & Aboveground & Underground & 40 & 40 &  255.5 & 1.65e-07 & 1.650000e-06\\\\\n",
       "\\end{tabular}\n"
      ],
      "text/markdown": [
       "\n",
       "A data.frame: 5 × 9\n",
       "\n",
       "| genus &lt;chr&gt; | .y. &lt;chr&gt; | group1 &lt;chr&gt; | group2 &lt;chr&gt; | n1 &lt;int&gt; | n2 &lt;int&gt; | statistic &lt;dbl&gt; | p &lt;dbl&gt; | p.adj &lt;dbl&gt; |\n",
       "|---|---|---|---|---|---|---|---|---|\n",
       "|  Clostridia_UCG-014 | value | Aboveground | Underground | 40 | 40 |  305.5 | 1.93e-06 | 6.433333e-06 |\n",
       "|  Lactobacillus      | value | Aboveground | Underground | 40 | 40 |  538.0 | 1.17e-02 | 2.560000e-02 |\n",
       "|  Muribaculaceae     | value | Aboveground | Underground | 40 | 40 |  303.5 | 1.82e-06 | 6.433333e-06 |\n",
       "|  Pseudomonas        | value | Aboveground | Underground | 40 | 40 | 1027.5 | 1.28e-02 | 2.560000e-02 |\n",
       "|  uncultured         | value | Aboveground | Underground | 40 | 40 |  255.5 | 1.65e-07 | 1.650000e-06 |\n",
       "\n"
      ],
      "text/plain": [
       "  genus               .y.   group1      group2      n1 n2 statistic p       \n",
       "1  Clostridia_UCG-014 value Aboveground Underground 40 40  305.5    1.93e-06\n",
       "2  Lactobacillus      value Aboveground Underground 40 40  538.0    1.17e-02\n",
       "3  Muribaculaceae     value Aboveground Underground 40 40  303.5    1.82e-06\n",
       "4  Pseudomonas        value Aboveground Underground 40 40 1027.5    1.28e-02\n",
       "5  uncultured         value Aboveground Underground 40 40  255.5    1.65e-07\n",
       "  p.adj       \n",
       "1 6.433333e-06\n",
       "2 2.560000e-02\n",
       "3 6.433333e-06\n",
       "4 2.560000e-02\n",
       "5 1.650000e-06"
      ]
     },
     "metadata": {},
     "output_type": "display_data"
    }
   ],
   "source": [
    "####wilcox test####\n",
    "library(rstatix)\n",
    "genus_merge %>% \n",
    "    filter(genus %in% a) %>%  \n",
    "    group_by(genus) %>% \n",
    "    wilcox_test(value ~ Habitat) %>%  \n",
    "    adjust_pvalue(method = \"BH\") %>%\n",
    "    filter(p.adj <=0.05) %>% \n",
    "    as.data.frame()"
   ]
  },
  {
   "cell_type": "code",
   "execution_count": 34,
   "metadata": {
    "ExecuteTime": {
     "end_time": "2024-04-01T00:27:51.812686Z",
     "start_time": "2024-04-01T00:27:51.580Z"
    }
   },
   "outputs": [
    {
     "data": {
      "text/html": [
       "<table class=\"dataframe\">\n",
       "<caption>A data.frame: 6 × 17</caption>\n",
       "<thead>\n",
       "\t<tr><th></th><th scope=col>genus</th><th scope=col>Sampleid</th><th scope=col>value</th><th scope=col>Group</th><th scope=col>Class</th><th scope=col>Order</th><th scope=col>Family</th><th scope=col>Genus</th><th scope=col>Species</th><th scope=col>Sample_type</th><th scope=col>Captive_Wild</th><th scope=col>Domestic_Wild</th><th scope=col>Habitat</th><th scope=col>Diet</th><th scope=col>Diet_detail</th><th scope=col>Digestive_tract</th><th scope=col>Digest_detail</th></tr>\n",
       "\t<tr><th></th><th scope=col>&lt;chr&gt;</th><th scope=col>&lt;chr&gt;</th><th scope=col>&lt;dbl&gt;</th><th scope=col>&lt;chr&gt;</th><th scope=col>&lt;chr&gt;</th><th scope=col>&lt;chr&gt;</th><th scope=col>&lt;chr&gt;</th><th scope=col>&lt;chr&gt;</th><th scope=col>&lt;chr&gt;</th><th scope=col>&lt;chr&gt;</th><th scope=col>&lt;chr&gt;</th><th scope=col>&lt;chr&gt;</th><th scope=col>&lt;chr&gt;</th><th scope=col>&lt;chr&gt;</th><th scope=col>&lt;chr&gt;</th><th scope=col>&lt;chr&gt;</th><th scope=col>&lt;chr&gt;</th></tr>\n",
       "</thead>\n",
       "<tbody>\n",
       "\t<tr><th scope=row>1</th><td> [Anaerorhabdus]_furcosa_group        </td><td>SM1</td><td>0.008651267</td><td>Soricidae and relatives</td><td>Mammalia</td><td>Eulipotyphla</td><td>Talpidae</td><td>Scaptochirus</td><td>Scaptochirus moschatus</td><td>Gut</td><td>Wild</td><td>Wild</td><td>Underground</td><td>Omnivore</td><td>Omnivore</td><td>Simple</td><td>Simple</td></tr>\n",
       "\t<tr><th scope=row>2</th><td> [Bacteroides]_pectinophilus_group    </td><td>SM1</td><td>0.000000000</td><td>Soricidae and relatives</td><td>Mammalia</td><td>Eulipotyphla</td><td>Talpidae</td><td>Scaptochirus</td><td>Scaptochirus moschatus</td><td>Gut</td><td>Wild</td><td>Wild</td><td>Underground</td><td>Omnivore</td><td>Omnivore</td><td>Simple</td><td>Simple</td></tr>\n",
       "\t<tr><th scope=row>3</th><td> [Clostridium]_methylpentosum_group   </td><td>SM1</td><td>0.034605070</td><td>Soricidae and relatives</td><td>Mammalia</td><td>Eulipotyphla</td><td>Talpidae</td><td>Scaptochirus</td><td>Scaptochirus moschatus</td><td>Gut</td><td>Wild</td><td>Wild</td><td>Underground</td><td>Omnivore</td><td>Omnivore</td><td>Simple</td><td>Simple</td></tr>\n",
       "\t<tr><th scope=row>4</th><td> [Eubacterium]_brachy_group           </td><td>SM1</td><td>0.000000000</td><td>Soricidae and relatives</td><td>Mammalia</td><td>Eulipotyphla</td><td>Talpidae</td><td>Scaptochirus</td><td>Scaptochirus moschatus</td><td>Gut</td><td>Wild</td><td>Wild</td><td>Underground</td><td>Omnivore</td><td>Omnivore</td><td>Simple</td><td>Simple</td></tr>\n",
       "\t<tr><th scope=row>5</th><td> [Eubacterium]_coprostanoligenes_group</td><td>SM1</td><td>0.320096894</td><td>Soricidae and relatives</td><td>Mammalia</td><td>Eulipotyphla</td><td>Talpidae</td><td>Scaptochirus</td><td>Scaptochirus moschatus</td><td>Gut</td><td>Wild</td><td>Wild</td><td>Underground</td><td>Omnivore</td><td>Omnivore</td><td>Simple</td><td>Simple</td></tr>\n",
       "\t<tr><th scope=row>6</th><td> [Eubacterium]_hallii_group           </td><td>SM1</td><td>0.000000000</td><td>Soricidae and relatives</td><td>Mammalia</td><td>Eulipotyphla</td><td>Talpidae</td><td>Scaptochirus</td><td>Scaptochirus moschatus</td><td>Gut</td><td>Wild</td><td>Wild</td><td>Underground</td><td>Omnivore</td><td>Omnivore</td><td>Simple</td><td>Simple</td></tr>\n",
       "</tbody>\n",
       "</table>\n"
      ],
      "text/latex": [
       "A data.frame: 6 × 17\n",
       "\\begin{tabular}{r|lllllllllllllllll}\n",
       "  & genus & Sampleid & value & Group & Class & Order & Family & Genus & Species & Sample\\_type & Captive\\_Wild & Domestic\\_Wild & Habitat & Diet & Diet\\_detail & Digestive\\_tract & Digest\\_detail\\\\\n",
       "  & <chr> & <chr> & <dbl> & <chr> & <chr> & <chr> & <chr> & <chr> & <chr> & <chr> & <chr> & <chr> & <chr> & <chr> & <chr> & <chr> & <chr>\\\\\n",
       "\\hline\n",
       "\t1 &  {[}Anaerorhabdus{]}\\_furcosa\\_group         & SM1 & 0.008651267 & Soricidae and relatives & Mammalia & Eulipotyphla & Talpidae & Scaptochirus & Scaptochirus moschatus & Gut & Wild & Wild & Underground & Omnivore & Omnivore & Simple & Simple\\\\\n",
       "\t2 &  {[}Bacteroides{]}\\_pectinophilus\\_group     & SM1 & 0.000000000 & Soricidae and relatives & Mammalia & Eulipotyphla & Talpidae & Scaptochirus & Scaptochirus moschatus & Gut & Wild & Wild & Underground & Omnivore & Omnivore & Simple & Simple\\\\\n",
       "\t3 &  {[}Clostridium{]}\\_methylpentosum\\_group    & SM1 & 0.034605070 & Soricidae and relatives & Mammalia & Eulipotyphla & Talpidae & Scaptochirus & Scaptochirus moschatus & Gut & Wild & Wild & Underground & Omnivore & Omnivore & Simple & Simple\\\\\n",
       "\t4 &  {[}Eubacterium{]}\\_brachy\\_group            & SM1 & 0.000000000 & Soricidae and relatives & Mammalia & Eulipotyphla & Talpidae & Scaptochirus & Scaptochirus moschatus & Gut & Wild & Wild & Underground & Omnivore & Omnivore & Simple & Simple\\\\\n",
       "\t5 &  {[}Eubacterium{]}\\_coprostanoligenes\\_group & SM1 & 0.320096894 & Soricidae and relatives & Mammalia & Eulipotyphla & Talpidae & Scaptochirus & Scaptochirus moschatus & Gut & Wild & Wild & Underground & Omnivore & Omnivore & Simple & Simple\\\\\n",
       "\t6 &  {[}Eubacterium{]}\\_hallii\\_group            & SM1 & 0.000000000 & Soricidae and relatives & Mammalia & Eulipotyphla & Talpidae & Scaptochirus & Scaptochirus moschatus & Gut & Wild & Wild & Underground & Omnivore & Omnivore & Simple & Simple\\\\\n",
       "\\end{tabular}\n"
      ],
      "text/markdown": [
       "\n",
       "A data.frame: 6 × 17\n",
       "\n",
       "| <!--/--> | genus &lt;chr&gt; | Sampleid &lt;chr&gt; | value &lt;dbl&gt; | Group &lt;chr&gt; | Class &lt;chr&gt; | Order &lt;chr&gt; | Family &lt;chr&gt; | Genus &lt;chr&gt; | Species &lt;chr&gt; | Sample_type &lt;chr&gt; | Captive_Wild &lt;chr&gt; | Domestic_Wild &lt;chr&gt; | Habitat &lt;chr&gt; | Diet &lt;chr&gt; | Diet_detail &lt;chr&gt; | Digestive_tract &lt;chr&gt; | Digest_detail &lt;chr&gt; |\n",
       "|---|---|---|---|---|---|---|---|---|---|---|---|---|---|---|---|---|---|\n",
       "| 1 |  [Anaerorhabdus]_furcosa_group         | SM1 | 0.008651267 | Soricidae and relatives | Mammalia | Eulipotyphla | Talpidae | Scaptochirus | Scaptochirus moschatus | Gut | Wild | Wild | Underground | Omnivore | Omnivore | Simple | Simple |\n",
       "| 2 |  [Bacteroides]_pectinophilus_group     | SM1 | 0.000000000 | Soricidae and relatives | Mammalia | Eulipotyphla | Talpidae | Scaptochirus | Scaptochirus moschatus | Gut | Wild | Wild | Underground | Omnivore | Omnivore | Simple | Simple |\n",
       "| 3 |  [Clostridium]_methylpentosum_group    | SM1 | 0.034605070 | Soricidae and relatives | Mammalia | Eulipotyphla | Talpidae | Scaptochirus | Scaptochirus moschatus | Gut | Wild | Wild | Underground | Omnivore | Omnivore | Simple | Simple |\n",
       "| 4 |  [Eubacterium]_brachy_group            | SM1 | 0.000000000 | Soricidae and relatives | Mammalia | Eulipotyphla | Talpidae | Scaptochirus | Scaptochirus moschatus | Gut | Wild | Wild | Underground | Omnivore | Omnivore | Simple | Simple |\n",
       "| 5 |  [Eubacterium]_coprostanoligenes_group | SM1 | 0.320096894 | Soricidae and relatives | Mammalia | Eulipotyphla | Talpidae | Scaptochirus | Scaptochirus moschatus | Gut | Wild | Wild | Underground | Omnivore | Omnivore | Simple | Simple |\n",
       "| 6 |  [Eubacterium]_hallii_group            | SM1 | 0.000000000 | Soricidae and relatives | Mammalia | Eulipotyphla | Talpidae | Scaptochirus | Scaptochirus moschatus | Gut | Wild | Wild | Underground | Omnivore | Omnivore | Simple | Simple |\n",
       "\n"
      ],
      "text/plain": [
       "  genus                                  Sampleid value      \n",
       "1  [Anaerorhabdus]_furcosa_group         SM1      0.008651267\n",
       "2  [Bacteroides]_pectinophilus_group     SM1      0.000000000\n",
       "3  [Clostridium]_methylpentosum_group    SM1      0.034605070\n",
       "4  [Eubacterium]_brachy_group            SM1      0.000000000\n",
       "5  [Eubacterium]_coprostanoligenes_group SM1      0.320096894\n",
       "6  [Eubacterium]_hallii_group            SM1      0.000000000\n",
       "  Group                   Class    Order        Family   Genus       \n",
       "1 Soricidae and relatives Mammalia Eulipotyphla Talpidae Scaptochirus\n",
       "2 Soricidae and relatives Mammalia Eulipotyphla Talpidae Scaptochirus\n",
       "3 Soricidae and relatives Mammalia Eulipotyphla Talpidae Scaptochirus\n",
       "4 Soricidae and relatives Mammalia Eulipotyphla Talpidae Scaptochirus\n",
       "5 Soricidae and relatives Mammalia Eulipotyphla Talpidae Scaptochirus\n",
       "6 Soricidae and relatives Mammalia Eulipotyphla Talpidae Scaptochirus\n",
       "  Species                Sample_type Captive_Wild Domestic_Wild Habitat    \n",
       "1 Scaptochirus moschatus Gut         Wild         Wild          Underground\n",
       "2 Scaptochirus moschatus Gut         Wild         Wild          Underground\n",
       "3 Scaptochirus moschatus Gut         Wild         Wild          Underground\n",
       "4 Scaptochirus moschatus Gut         Wild         Wild          Underground\n",
       "5 Scaptochirus moschatus Gut         Wild         Wild          Underground\n",
       "6 Scaptochirus moschatus Gut         Wild         Wild          Underground\n",
       "  Diet     Diet_detail Digestive_tract Digest_detail\n",
       "1 Omnivore Omnivore    Simple          Simple       \n",
       "2 Omnivore Omnivore    Simple          Simple       \n",
       "3 Omnivore Omnivore    Simple          Simple       \n",
       "4 Omnivore Omnivore    Simple          Simple       \n",
       "5 Omnivore Omnivore    Simple          Simple       \n",
       "6 Omnivore Omnivore    Simple          Simple       "
      ]
     },
     "metadata": {},
     "output_type": "display_data"
    }
   ],
   "source": [
    "####Soricidae####\n",
    "genus_merge <- genus %>%  \n",
    "    filter(genus != '') %>% \n",
    "    filter(Order != \"Rodentia\") %>% \n",
    "    as.data.frame()\n",
    "head(genus_merge)\n",
    "\n",
    "select <- genus_merge %>% \n",
    "    dplyr::select(genus,value) %>% \n",
    "    group_by(genus) %>% \n",
    "    summarise(value=mean(value))\n",
    "select <- arrange(select,desc(value)) %>% as.data.frame()\n",
    "a <- head(select,10)$genus"
   ]
  },
  {
   "cell_type": "code",
   "execution_count": 38,
   "metadata": {
    "ExecuteTime": {
     "end_time": "2024-04-01T00:31:57.983176Z",
     "start_time": "2024-04-01T00:31:57.143Z"
    }
   },
   "outputs": [
    {
     "data": {
      "image/png": "[encoded data removed]",
      "text/plain": [
       "plot without title"
      ]
     },
     "metadata": {
      "image/png": {
       "height": 300,
       "width": 360
      }
     },
     "output_type": "display_data"
    }
   ],
   "source": [
    "####visualization####\n",
    "p <- ggplot(genus_merge %>% filter(genus %in% a),aes(x=reorder(genus,value),y=value,fill=Habitat)) +\n",
    "    geom_bar(stat = \"summary\",fun=mean,color=\"black\",position = position_dodge()) +    \n",
    "    coord_flip()+\n",
    "    labs(x='',y='Relative abundance(%)')+\n",
    "    theme_bw()\n",
    "options(repr.plot.width=6, repr.plot.height=5)\n",
    "plot(p)\n",
    "ggsave(\"genus_barplot_Soricidae.pdf\",width = 6,height = 5,dpi = 1000)"
   ]
  },
  {
   "cell_type": "code",
   "execution_count": 37,
   "metadata": {
    "ExecuteTime": {
     "end_time": "2024-04-01T00:30:06.165669Z",
     "start_time": "2024-04-01T00:30:05.486Z"
    }
   },
   "outputs": [
    {
     "data": {
      "text/html": [
       "<table class=\"dataframe\">\n",
       "<caption>A data.frame: 6 × 9</caption>\n",
       "<thead>\n",
       "\t<tr><th scope=col>genus</th><th scope=col>.y.</th><th scope=col>group1</th><th scope=col>group2</th><th scope=col>n1</th><th scope=col>n2</th><th scope=col>statistic</th><th scope=col>p</th><th scope=col>p.adj</th></tr>\n",
       "\t<tr><th scope=col>&lt;chr&gt;</th><th scope=col>&lt;chr&gt;</th><th scope=col>&lt;chr&gt;</th><th scope=col>&lt;chr&gt;</th><th scope=col>&lt;int&gt;</th><th scope=col>&lt;int&gt;</th><th scope=col>&lt;dbl&gt;</th><th scope=col>&lt;dbl&gt;</th><th scope=col>&lt;dbl&gt;</th></tr>\n",
       "</thead>\n",
       "<tbody>\n",
       "\t<tr><td> Candidatus_Arthromitus</td><td>value</td><td>Aboveground</td><td>Underground</td><td>6</td><td>6</td><td>36.0</td><td>0.00278</td><td>0.009266667</td></tr>\n",
       "\t<tr><td> Helicobacter          </td><td>value</td><td>Aboveground</td><td>Underground</td><td>6</td><td>6</td><td>36.0</td><td>0.00434</td><td>0.010850000</td></tr>\n",
       "\t<tr><td> Mycoplasma            </td><td>value</td><td>Aboveground</td><td>Underground</td><td>6</td><td>6</td><td>36.0</td><td>0.00216</td><td>0.009266667</td></tr>\n",
       "\t<tr><td> Paeniclostridium      </td><td>value</td><td>Aboveground</td><td>Underground</td><td>6</td><td>6</td><td> 0.0</td><td>0.00278</td><td>0.009266667</td></tr>\n",
       "\t<tr><td> Paraclostridium       </td><td>value</td><td>Aboveground</td><td>Underground</td><td>6</td><td>6</td><td> 3.5</td><td>0.01670</td><td>0.027833333</td></tr>\n",
       "\t<tr><td> Romboutsia            </td><td>value</td><td>Aboveground</td><td>Underground</td><td>6</td><td>6</td><td> 2.0</td><td>0.01240</td><td>0.024800000</td></tr>\n",
       "</tbody>\n",
       "</table>\n"
      ],
      "text/latex": [
       "A data.frame: 6 × 9\n",
       "\\begin{tabular}{lllllllll}\n",
       " genus & .y. & group1 & group2 & n1 & n2 & statistic & p & p.adj\\\\\n",
       " <chr> & <chr> & <chr> & <chr> & <int> & <int> & <dbl> & <dbl> & <dbl>\\\\\n",
       "\\hline\n",
       "\t  Candidatus\\_Arthromitus & value & Aboveground & Underground & 6 & 6 & 36.0 & 0.00278 & 0.009266667\\\\\n",
       "\t  Helicobacter           & value & Aboveground & Underground & 6 & 6 & 36.0 & 0.00434 & 0.010850000\\\\\n",
       "\t  Mycoplasma             & value & Aboveground & Underground & 6 & 6 & 36.0 & 0.00216 & 0.009266667\\\\\n",
       "\t  Paeniclostridium       & value & Aboveground & Underground & 6 & 6 &  0.0 & 0.00278 & 0.009266667\\\\\n",
       "\t  Paraclostridium        & value & Aboveground & Underground & 6 & 6 &  3.5 & 0.01670 & 0.027833333\\\\\n",
       "\t  Romboutsia             & value & Aboveground & Underground & 6 & 6 &  2.0 & 0.01240 & 0.024800000\\\\\n",
       "\\end{tabular}\n"
      ],
      "text/markdown": [
       "\n",
       "A data.frame: 6 × 9\n",
       "\n",
       "| genus &lt;chr&gt; | .y. &lt;chr&gt; | group1 &lt;chr&gt; | group2 &lt;chr&gt; | n1 &lt;int&gt; | n2 &lt;int&gt; | statistic &lt;dbl&gt; | p &lt;dbl&gt; | p.adj &lt;dbl&gt; |\n",
       "|---|---|---|---|---|---|---|---|---|\n",
       "|  Candidatus_Arthromitus | value | Aboveground | Underground | 6 | 6 | 36.0 | 0.00278 | 0.009266667 |\n",
       "|  Helicobacter           | value | Aboveground | Underground | 6 | 6 | 36.0 | 0.00434 | 0.010850000 |\n",
       "|  Mycoplasma             | value | Aboveground | Underground | 6 | 6 | 36.0 | 0.00216 | 0.009266667 |\n",
       "|  Paeniclostridium       | value | Aboveground | Underground | 6 | 6 |  0.0 | 0.00278 | 0.009266667 |\n",
       "|  Paraclostridium        | value | Aboveground | Underground | 6 | 6 |  3.5 | 0.01670 | 0.027833333 |\n",
       "|  Romboutsia             | value | Aboveground | Underground | 6 | 6 |  2.0 | 0.01240 | 0.024800000 |\n",
       "\n"
      ],
      "text/plain": [
       "  genus                   .y.   group1      group2      n1 n2 statistic p      \n",
       "1  Candidatus_Arthromitus value Aboveground Underground 6  6  36.0      0.00278\n",
       "2  Helicobacter           value Aboveground Underground 6  6  36.0      0.00434\n",
       "3  Mycoplasma             value Aboveground Underground 6  6  36.0      0.00216\n",
       "4  Paeniclostridium       value Aboveground Underground 6  6   0.0      0.00278\n",
       "5  Paraclostridium        value Aboveground Underground 6  6   3.5      0.01670\n",
       "6  Romboutsia             value Aboveground Underground 6  6   2.0      0.01240\n",
       "  p.adj      \n",
       "1 0.009266667\n",
       "2 0.010850000\n",
       "3 0.009266667\n",
       "4 0.009266667\n",
       "5 0.027833333\n",
       "6 0.024800000"
      ]
     },
     "metadata": {},
     "output_type": "display_data"
    }
   ],
   "source": [
    "genus_merge %>% \n",
    "    filter(genus %in% a) %>%  \n",
    "    group_by(genus) %>% \n",
    "    wilcox_test(value ~ Habitat) %>%  \n",
    "    adjust_pvalue(method = \"BH\") %>%\n",
    "    filter(p.adj <=0.05) %>% \n",
    "    as.data.frame()"
   ]
  },
  {
   "cell_type": "code",
   "execution_count": 39,
   "metadata": {
    "ExecuteTime": {
     "end_time": "2024-04-01T00:33:19.324278Z",
     "start_time": "2024-04-01T00:33:19.083Z"
    }
   },
   "outputs": [
    {
     "data": {
      "text/html": [
       "<table class=\"dataframe\">\n",
       "<caption>A data.frame: 6 × 17</caption>\n",
       "<thead>\n",
       "\t<tr><th></th><th scope=col>genus</th><th scope=col>Sampleid</th><th scope=col>value</th><th scope=col>Group</th><th scope=col>Class</th><th scope=col>Order</th><th scope=col>Family</th><th scope=col>Genus</th><th scope=col>Species</th><th scope=col>Sample_type</th><th scope=col>Captive_Wild</th><th scope=col>Domestic_Wild</th><th scope=col>Habitat</th><th scope=col>Diet</th><th scope=col>Diet_detail</th><th scope=col>Digestive_tract</th><th scope=col>Digest_detail</th></tr>\n",
       "\t<tr><th></th><th scope=col>&lt;chr&gt;</th><th scope=col>&lt;chr&gt;</th><th scope=col>&lt;dbl&gt;</th><th scope=col>&lt;chr&gt;</th><th scope=col>&lt;chr&gt;</th><th scope=col>&lt;chr&gt;</th><th scope=col>&lt;chr&gt;</th><th scope=col>&lt;chr&gt;</th><th scope=col>&lt;chr&gt;</th><th scope=col>&lt;chr&gt;</th><th scope=col>&lt;chr&gt;</th><th scope=col>&lt;chr&gt;</th><th scope=col>&lt;chr&gt;</th><th scope=col>&lt;chr&gt;</th><th scope=col>&lt;chr&gt;</th><th scope=col>&lt;chr&gt;</th><th scope=col>&lt;chr&gt;</th></tr>\n",
       "</thead>\n",
       "<tbody>\n",
       "\t<tr><th scope=row>1</th><td> [Anaerorhabdus]_furcosa_group        </td><td>BMR1</td><td>0.00000</td><td>Spalacidae and relatives</td><td>Mammalia</td><td>Rodentia</td><td>Spalacidae</td><td>Spalax</td><td>Nannospalax leucodon</td><td>Feces</td><td>Wild</td><td>Wild</td><td>Underground</td><td>Herbivore</td><td>Herbivore</td><td>Hindgut fermentation</td><td>Cecum fermenter</td></tr>\n",
       "\t<tr><th scope=row>2</th><td> [Bacteroides]_pectinophilus_group    </td><td>BMR1</td><td>0.00000</td><td>Spalacidae and relatives</td><td>Mammalia</td><td>Rodentia</td><td>Spalacidae</td><td>Spalax</td><td>Nannospalax leucodon</td><td>Feces</td><td>Wild</td><td>Wild</td><td>Underground</td><td>Herbivore</td><td>Herbivore</td><td>Hindgut fermentation</td><td>Cecum fermenter</td></tr>\n",
       "\t<tr><th scope=row>3</th><td> [Clostridium]_methylpentosum_group   </td><td>BMR1</td><td>0.00000</td><td>Spalacidae and relatives</td><td>Mammalia</td><td>Rodentia</td><td>Spalacidae</td><td>Spalax</td><td>Nannospalax leucodon</td><td>Feces</td><td>Wild</td><td>Wild</td><td>Underground</td><td>Herbivore</td><td>Herbivore</td><td>Hindgut fermentation</td><td>Cecum fermenter</td></tr>\n",
       "\t<tr><th scope=row>4</th><td> [Eubacterium]_brachy_group           </td><td>BMR1</td><td>0.00000</td><td>Spalacidae and relatives</td><td>Mammalia</td><td>Rodentia</td><td>Spalacidae</td><td>Spalax</td><td>Nannospalax leucodon</td><td>Feces</td><td>Wild</td><td>Wild</td><td>Underground</td><td>Herbivore</td><td>Herbivore</td><td>Hindgut fermentation</td><td>Cecum fermenter</td></tr>\n",
       "\t<tr><th scope=row>5</th><td> [Eubacterium]_coprostanoligenes_group</td><td>BMR1</td><td>3.61623</td><td>Spalacidae and relatives</td><td>Mammalia</td><td>Rodentia</td><td>Spalacidae</td><td>Spalax</td><td>Nannospalax leucodon</td><td>Feces</td><td>Wild</td><td>Wild</td><td>Underground</td><td>Herbivore</td><td>Herbivore</td><td>Hindgut fermentation</td><td>Cecum fermenter</td></tr>\n",
       "\t<tr><th scope=row>6</th><td> [Eubacterium]_hallii_group           </td><td>BMR1</td><td>0.00000</td><td>Spalacidae and relatives</td><td>Mammalia</td><td>Rodentia</td><td>Spalacidae</td><td>Spalax</td><td>Nannospalax leucodon</td><td>Feces</td><td>Wild</td><td>Wild</td><td>Underground</td><td>Herbivore</td><td>Herbivore</td><td>Hindgut fermentation</td><td>Cecum fermenter</td></tr>\n",
       "</tbody>\n",
       "</table>\n"
      ],
      "text/latex": [
       "A data.frame: 6 × 17\n",
       "\\begin{tabular}{r|lllllllllllllllll}\n",
       "  & genus & Sampleid & value & Group & Class & Order & Family & Genus & Species & Sample\\_type & Captive\\_Wild & Domestic\\_Wild & Habitat & Diet & Diet\\_detail & Digestive\\_tract & Digest\\_detail\\\\\n",
       "  & <chr> & <chr> & <dbl> & <chr> & <chr> & <chr> & <chr> & <chr> & <chr> & <chr> & <chr> & <chr> & <chr> & <chr> & <chr> & <chr> & <chr>\\\\\n",
       "\\hline\n",
       "\t1 &  {[}Anaerorhabdus{]}\\_furcosa\\_group         & BMR1 & 0.00000 & Spalacidae and relatives & Mammalia & Rodentia & Spalacidae & Spalax & Nannospalax leucodon & Feces & Wild & Wild & Underground & Herbivore & Herbivore & Hindgut fermentation & Cecum fermenter\\\\\n",
       "\t2 &  {[}Bacteroides{]}\\_pectinophilus\\_group     & BMR1 & 0.00000 & Spalacidae and relatives & Mammalia & Rodentia & Spalacidae & Spalax & Nannospalax leucodon & Feces & Wild & Wild & Underground & Herbivore & Herbivore & Hindgut fermentation & Cecum fermenter\\\\\n",
       "\t3 &  {[}Clostridium{]}\\_methylpentosum\\_group    & BMR1 & 0.00000 & Spalacidae and relatives & Mammalia & Rodentia & Spalacidae & Spalax & Nannospalax leucodon & Feces & Wild & Wild & Underground & Herbivore & Herbivore & Hindgut fermentation & Cecum fermenter\\\\\n",
       "\t4 &  {[}Eubacterium{]}\\_brachy\\_group            & BMR1 & 0.00000 & Spalacidae and relatives & Mammalia & Rodentia & Spalacidae & Spalax & Nannospalax leucodon & Feces & Wild & Wild & Underground & Herbivore & Herbivore & Hindgut fermentation & Cecum fermenter\\\\\n",
       "\t5 &  {[}Eubacterium{]}\\_coprostanoligenes\\_group & BMR1 & 3.61623 & Spalacidae and relatives & Mammalia & Rodentia & Spalacidae & Spalax & Nannospalax leucodon & Feces & Wild & Wild & Underground & Herbivore & Herbivore & Hindgut fermentation & Cecum fermenter\\\\\n",
       "\t6 &  {[}Eubacterium{]}\\_hallii\\_group            & BMR1 & 0.00000 & Spalacidae and relatives & Mammalia & Rodentia & Spalacidae & Spalax & Nannospalax leucodon & Feces & Wild & Wild & Underground & Herbivore & Herbivore & Hindgut fermentation & Cecum fermenter\\\\\n",
       "\\end{tabular}\n"
      ],
      "text/markdown": [
       "\n",
       "A data.frame: 6 × 17\n",
       "\n",
       "| <!--/--> | genus &lt;chr&gt; | Sampleid &lt;chr&gt; | value &lt;dbl&gt; | Group &lt;chr&gt; | Class &lt;chr&gt; | Order &lt;chr&gt; | Family &lt;chr&gt; | Genus &lt;chr&gt; | Species &lt;chr&gt; | Sample_type &lt;chr&gt; | Captive_Wild &lt;chr&gt; | Domestic_Wild &lt;chr&gt; | Habitat &lt;chr&gt; | Diet &lt;chr&gt; | Diet_detail &lt;chr&gt; | Digestive_tract &lt;chr&gt; | Digest_detail &lt;chr&gt; |\n",
       "|---|---|---|---|---|---|---|---|---|---|---|---|---|---|---|---|---|---|\n",
       "| 1 |  [Anaerorhabdus]_furcosa_group         | BMR1 | 0.00000 | Spalacidae and relatives | Mammalia | Rodentia | Spalacidae | Spalax | Nannospalax leucodon | Feces | Wild | Wild | Underground | Herbivore | Herbivore | Hindgut fermentation | Cecum fermenter |\n",
       "| 2 |  [Bacteroides]_pectinophilus_group     | BMR1 | 0.00000 | Spalacidae and relatives | Mammalia | Rodentia | Spalacidae | Spalax | Nannospalax leucodon | Feces | Wild | Wild | Underground | Herbivore | Herbivore | Hindgut fermentation | Cecum fermenter |\n",
       "| 3 |  [Clostridium]_methylpentosum_group    | BMR1 | 0.00000 | Spalacidae and relatives | Mammalia | Rodentia | Spalacidae | Spalax | Nannospalax leucodon | Feces | Wild | Wild | Underground | Herbivore | Herbivore | Hindgut fermentation | Cecum fermenter |\n",
       "| 4 |  [Eubacterium]_brachy_group            | BMR1 | 0.00000 | Spalacidae and relatives | Mammalia | Rodentia | Spalacidae | Spalax | Nannospalax leucodon | Feces | Wild | Wild | Underground | Herbivore | Herbivore | Hindgut fermentation | Cecum fermenter |\n",
       "| 5 |  [Eubacterium]_coprostanoligenes_group | BMR1 | 3.61623 | Spalacidae and relatives | Mammalia | Rodentia | Spalacidae | Spalax | Nannospalax leucodon | Feces | Wild | Wild | Underground | Herbivore | Herbivore | Hindgut fermentation | Cecum fermenter |\n",
       "| 6 |  [Eubacterium]_hallii_group            | BMR1 | 0.00000 | Spalacidae and relatives | Mammalia | Rodentia | Spalacidae | Spalax | Nannospalax leucodon | Feces | Wild | Wild | Underground | Herbivore | Herbivore | Hindgut fermentation | Cecum fermenter |\n",
       "\n"
      ],
      "text/plain": [
       "  genus                                  Sampleid value  \n",
       "1  [Anaerorhabdus]_furcosa_group         BMR1     0.00000\n",
       "2  [Bacteroides]_pectinophilus_group     BMR1     0.00000\n",
       "3  [Clostridium]_methylpentosum_group    BMR1     0.00000\n",
       "4  [Eubacterium]_brachy_group            BMR1     0.00000\n",
       "5  [Eubacterium]_coprostanoligenes_group BMR1     3.61623\n",
       "6  [Eubacterium]_hallii_group            BMR1     0.00000\n",
       "  Group                    Class    Order    Family     Genus \n",
       "1 Spalacidae and relatives Mammalia Rodentia Spalacidae Spalax\n",
       "2 Spalacidae and relatives Mammalia Rodentia Spalacidae Spalax\n",
       "3 Spalacidae and relatives Mammalia Rodentia Spalacidae Spalax\n",
       "4 Spalacidae and relatives Mammalia Rodentia Spalacidae Spalax\n",
       "5 Spalacidae and relatives Mammalia Rodentia Spalacidae Spalax\n",
       "6 Spalacidae and relatives Mammalia Rodentia Spalacidae Spalax\n",
       "  Species              Sample_type Captive_Wild Domestic_Wild Habitat    \n",
       "1 Nannospalax leucodon Feces       Wild         Wild          Underground\n",
       "2 Nannospalax leucodon Feces       Wild         Wild          Underground\n",
       "3 Nannospalax leucodon Feces       Wild         Wild          Underground\n",
       "4 Nannospalax leucodon Feces       Wild         Wild          Underground\n",
       "5 Nannospalax leucodon Feces       Wild         Wild          Underground\n",
       "6 Nannospalax leucodon Feces       Wild         Wild          Underground\n",
       "  Diet      Diet_detail Digestive_tract      Digest_detail  \n",
       "1 Herbivore Herbivore   Hindgut fermentation Cecum fermenter\n",
       "2 Herbivore Herbivore   Hindgut fermentation Cecum fermenter\n",
       "3 Herbivore Herbivore   Hindgut fermentation Cecum fermenter\n",
       "4 Herbivore Herbivore   Hindgut fermentation Cecum fermenter\n",
       "5 Herbivore Herbivore   Hindgut fermentation Cecum fermenter\n",
       "6 Herbivore Herbivore   Hindgut fermentation Cecum fermenter"
      ]
     },
     "metadata": {},
     "output_type": "display_data"
    }
   ],
   "source": [
    "####Spalacidae####\n",
    "genus_merge <- genus %>%  \n",
    "    filter(genus != '') %>% \n",
    "    filter(Group == \"Spalacidae and relatives\") %>% \n",
    "    as.data.frame()\n",
    "head(genus_merge)\n",
    "\n",
    "select <- genus_merge %>% \n",
    "    dplyr::select(genus,value) %>% \n",
    "    group_by(genus) %>% \n",
    "    summarise(value=mean(value))\n",
    "select <- arrange(select,desc(value)) %>% as.data.frame()\n",
    "a <- head(select,10)$genus"
   ]
  },
  {
   "cell_type": "code",
   "execution_count": 40,
   "metadata": {
    "ExecuteTime": {
     "end_time": "2024-04-01T00:33:43.036238Z",
     "start_time": "2024-04-01T00:33:41.948Z"
    }
   },
   "outputs": [
    {
     "data": {
      "image/png": "[encoded data removed]",
      "text/plain": [
       "plot without title"
      ]
     },
     "metadata": {
      "image/png": {
       "height": 300,
       "width": 360
      }
     },
     "output_type": "display_data"
    }
   ],
   "source": [
    "####visualization####\n",
    "p <- ggplot(genus_merge %>% filter(genus %in% a),aes(x=reorder(genus,value),y=value,fill=Habitat)) +\n",
    "    geom_bar(stat = \"summary\",fun=mean,color=\"black\",position = position_dodge()) +    \n",
    "    coord_flip()+\n",
    "    labs(x='',y='Relative abundance(%)')+\n",
    "    theme_bw()\n",
    "options(repr.plot.width=6, repr.plot.height=5)\n",
    "plot(p)\n",
    "ggsave(\"genus_barplot_Spalacidae.pdf\",width = 6,height = 5,dpi = 1000)"
   ]
  },
  {
   "cell_type": "code",
   "execution_count": 41,
   "metadata": {
    "ExecuteTime": {
     "end_time": "2024-04-01T00:34:06.640794Z",
     "start_time": "2024-04-01T00:34:05.884Z"
    }
   },
   "outputs": [
    {
     "data": {
      "text/html": [
       "<table class=\"dataframe\">\n",
       "<caption>A data.frame: 8 × 9</caption>\n",
       "<thead>\n",
       "\t<tr><th scope=col>genus</th><th scope=col>.y.</th><th scope=col>group1</th><th scope=col>group2</th><th scope=col>n1</th><th scope=col>n2</th><th scope=col>statistic</th><th scope=col>p</th><th scope=col>p.adj</th></tr>\n",
       "\t<tr><th scope=col>&lt;chr&gt;</th><th scope=col>&lt;chr&gt;</th><th scope=col>&lt;chr&gt;</th><th scope=col>&lt;chr&gt;</th><th scope=col>&lt;int&gt;</th><th scope=col>&lt;int&gt;</th><th scope=col>&lt;dbl&gt;</th><th scope=col>&lt;dbl&gt;</th><th scope=col>&lt;dbl&gt;</th></tr>\n",
       "</thead>\n",
       "<tbody>\n",
       "\t<tr><td> Candidatus_Saccharimonas     </td><td>value</td><td>Aboveground</td><td>Underground</td><td>25</td><td>22</td><td> 84.0</td><td>4.68e-05</td><td>9.360000e-05</td></tr>\n",
       "\t<tr><td> Clostridia_UCG-014           </td><td>value</td><td>Aboveground</td><td>Underground</td><td>25</td><td>22</td><td> 33.5</td><td>2.56e-07</td><td>6.400000e-07</td></tr>\n",
       "\t<tr><td> Lachnospiraceae_NK4A136_group</td><td>value</td><td>Aboveground</td><td>Underground</td><td>25</td><td>22</td><td>126.0</td><td>1.44e-03</td><td>2.057143e-03</td></tr>\n",
       "\t<tr><td> Lactobacillus                </td><td>value</td><td>Aboveground</td><td>Underground</td><td>25</td><td>22</td><td>160.0</td><td>1.46e-02</td><td>1.825000e-02</td></tr>\n",
       "\t<tr><td> Leuconostoc                  </td><td>value</td><td>Aboveground</td><td>Underground</td><td>25</td><td>22</td><td>156.0</td><td>6.63e-04</td><td>1.105000e-03</td></tr>\n",
       "\t<tr><td> Muribaculaceae               </td><td>value</td><td>Aboveground</td><td>Underground</td><td>25</td><td>22</td><td>  3.0</td><td>7.08e-09</td><td>3.540000e-08</td></tr>\n",
       "\t<tr><td> NK4A214_group                </td><td>value</td><td>Aboveground</td><td>Underground</td><td>25</td><td>22</td><td>  0.0</td><td>6.52e-10</td><td>6.520000e-09</td></tr>\n",
       "\t<tr><td> uncultured                   </td><td>value</td><td>Aboveground</td><td>Underground</td><td>25</td><td>22</td><td> 24.0</td><td>9.24e-08</td><td>3.080000e-07</td></tr>\n",
       "</tbody>\n",
       "</table>\n"
      ],
      "text/latex": [
       "A data.frame: 8 × 9\n",
       "\\begin{tabular}{lllllllll}\n",
       " genus & .y. & group1 & group2 & n1 & n2 & statistic & p & p.adj\\\\\n",
       " <chr> & <chr> & <chr> & <chr> & <int> & <int> & <dbl> & <dbl> & <dbl>\\\\\n",
       "\\hline\n",
       "\t  Candidatus\\_Saccharimonas      & value & Aboveground & Underground & 25 & 22 &  84.0 & 4.68e-05 & 9.360000e-05\\\\\n",
       "\t  Clostridia\\_UCG-014            & value & Aboveground & Underground & 25 & 22 &  33.5 & 2.56e-07 & 6.400000e-07\\\\\n",
       "\t  Lachnospiraceae\\_NK4A136\\_group & value & Aboveground & Underground & 25 & 22 & 126.0 & 1.44e-03 & 2.057143e-03\\\\\n",
       "\t  Lactobacillus                 & value & Aboveground & Underground & 25 & 22 & 160.0 & 1.46e-02 & 1.825000e-02\\\\\n",
       "\t  Leuconostoc                   & value & Aboveground & Underground & 25 & 22 & 156.0 & 6.63e-04 & 1.105000e-03\\\\\n",
       "\t  Muribaculaceae                & value & Aboveground & Underground & 25 & 22 &   3.0 & 7.08e-09 & 3.540000e-08\\\\\n",
       "\t  NK4A214\\_group                 & value & Aboveground & Underground & 25 & 22 &   0.0 & 6.52e-10 & 6.520000e-09\\\\\n",
       "\t  uncultured                    & value & Aboveground & Underground & 25 & 22 &  24.0 & 9.24e-08 & 3.080000e-07\\\\\n",
       "\\end{tabular}\n"
      ],
      "text/markdown": [
       "\n",
       "A data.frame: 8 × 9\n",
       "\n",
       "| genus &lt;chr&gt; | .y. &lt;chr&gt; | group1 &lt;chr&gt; | group2 &lt;chr&gt; | n1 &lt;int&gt; | n2 &lt;int&gt; | statistic &lt;dbl&gt; | p &lt;dbl&gt; | p.adj &lt;dbl&gt; |\n",
       "|---|---|---|---|---|---|---|---|---|\n",
       "|  Candidatus_Saccharimonas      | value | Aboveground | Underground | 25 | 22 |  84.0 | 4.68e-05 | 9.360000e-05 |\n",
       "|  Clostridia_UCG-014            | value | Aboveground | Underground | 25 | 22 |  33.5 | 2.56e-07 | 6.400000e-07 |\n",
       "|  Lachnospiraceae_NK4A136_group | value | Aboveground | Underground | 25 | 22 | 126.0 | 1.44e-03 | 2.057143e-03 |\n",
       "|  Lactobacillus                 | value | Aboveground | Underground | 25 | 22 | 160.0 | 1.46e-02 | 1.825000e-02 |\n",
       "|  Leuconostoc                   | value | Aboveground | Underground | 25 | 22 | 156.0 | 6.63e-04 | 1.105000e-03 |\n",
       "|  Muribaculaceae                | value | Aboveground | Underground | 25 | 22 |   3.0 | 7.08e-09 | 3.540000e-08 |\n",
       "|  NK4A214_group                 | value | Aboveground | Underground | 25 | 22 |   0.0 | 6.52e-10 | 6.520000e-09 |\n",
       "|  uncultured                    | value | Aboveground | Underground | 25 | 22 |  24.0 | 9.24e-08 | 3.080000e-07 |\n",
       "\n"
      ],
      "text/plain": [
       "  genus                          .y.   group1      group2      n1 n2 statistic\n",
       "1  Candidatus_Saccharimonas      value Aboveground Underground 25 22  84.0    \n",
       "2  Clostridia_UCG-014            value Aboveground Underground 25 22  33.5    \n",
       "3  Lachnospiraceae_NK4A136_group value Aboveground Underground 25 22 126.0    \n",
       "4  Lactobacillus                 value Aboveground Underground 25 22 160.0    \n",
       "5  Leuconostoc                   value Aboveground Underground 25 22 156.0    \n",
       "6  Muribaculaceae                value Aboveground Underground 25 22   3.0    \n",
       "7  NK4A214_group                 value Aboveground Underground 25 22   0.0    \n",
       "8  uncultured                    value Aboveground Underground 25 22  24.0    \n",
       "  p        p.adj       \n",
       "1 4.68e-05 9.360000e-05\n",
       "2 2.56e-07 6.400000e-07\n",
       "3 1.44e-03 2.057143e-03\n",
       "4 1.46e-02 1.825000e-02\n",
       "5 6.63e-04 1.105000e-03\n",
       "6 7.08e-09 3.540000e-08\n",
       "7 6.52e-10 6.520000e-09\n",
       "8 9.24e-08 3.080000e-07"
      ]
     },
     "metadata": {},
     "output_type": "display_data"
    }
   ],
   "source": [
    "genus_merge %>% \n",
    "    filter(genus %in% a) %>%  \n",
    "    group_by(genus) %>% \n",
    "    wilcox_test(value ~ Habitat) %>%  \n",
    "    adjust_pvalue(method = \"BH\") %>%\n",
    "    filter(p.adj <=0.05) %>% \n",
    "    as.data.frame()"
   ]
  },
  {
   "cell_type": "code",
   "execution_count": 42,
   "metadata": {
    "ExecuteTime": {
     "end_time": "2024-04-01T00:35:51.327161Z",
     "start_time": "2024-04-01T00:35:51.104Z"
    }
   },
   "outputs": [
    {
     "data": {
      "text/html": [
       "<table class=\"dataframe\">\n",
       "<caption>A data.frame: 6 × 17</caption>\n",
       "<thead>\n",
       "\t<tr><th></th><th scope=col>genus</th><th scope=col>Sampleid</th><th scope=col>value</th><th scope=col>Group</th><th scope=col>Class</th><th scope=col>Order</th><th scope=col>Family</th><th scope=col>Genus</th><th scope=col>Species</th><th scope=col>Sample_type</th><th scope=col>Captive_Wild</th><th scope=col>Domestic_Wild</th><th scope=col>Habitat</th><th scope=col>Diet</th><th scope=col>Diet_detail</th><th scope=col>Digestive_tract</th><th scope=col>Digest_detail</th></tr>\n",
       "\t<tr><th></th><th scope=col>&lt;chr&gt;</th><th scope=col>&lt;chr&gt;</th><th scope=col>&lt;dbl&gt;</th><th scope=col>&lt;chr&gt;</th><th scope=col>&lt;chr&gt;</th><th scope=col>&lt;chr&gt;</th><th scope=col>&lt;chr&gt;</th><th scope=col>&lt;chr&gt;</th><th scope=col>&lt;chr&gt;</th><th scope=col>&lt;chr&gt;</th><th scope=col>&lt;chr&gt;</th><th scope=col>&lt;chr&gt;</th><th scope=col>&lt;chr&gt;</th><th scope=col>&lt;chr&gt;</th><th scope=col>&lt;chr&gt;</th><th scope=col>&lt;chr&gt;</th><th scope=col>&lt;chr&gt;</th></tr>\n",
       "</thead>\n",
       "<tbody>\n",
       "\t<tr><th scope=row>1</th><td> [Anaerorhabdus]_furcosa_group        </td><td>DMR1</td><td>0.0000000</td><td>Bathyergidae and relatives</td><td>Mammalia</td><td>Rodentia</td><td>Bathyergidae</td><td>Fukomys</td><td>Fukomys damarensis</td><td>Feces</td><td>Wild</td><td>Wild</td><td>Underground</td><td>Herbivore</td><td>Herbivore</td><td>Hindgut fermentation</td><td>Cecum fermenter</td></tr>\n",
       "\t<tr><th scope=row>2</th><td> [Bacteroides]_pectinophilus_group    </td><td>DMR1</td><td>0.0000000</td><td>Bathyergidae and relatives</td><td>Mammalia</td><td>Rodentia</td><td>Bathyergidae</td><td>Fukomys</td><td>Fukomys damarensis</td><td>Feces</td><td>Wild</td><td>Wild</td><td>Underground</td><td>Herbivore</td><td>Herbivore</td><td>Hindgut fermentation</td><td>Cecum fermenter</td></tr>\n",
       "\t<tr><th scope=row>3</th><td> [Clostridium]_methylpentosum_group   </td><td>DMR1</td><td>0.0000000</td><td>Bathyergidae and relatives</td><td>Mammalia</td><td>Rodentia</td><td>Bathyergidae</td><td>Fukomys</td><td>Fukomys damarensis</td><td>Feces</td><td>Wild</td><td>Wild</td><td>Underground</td><td>Herbivore</td><td>Herbivore</td><td>Hindgut fermentation</td><td>Cecum fermenter</td></tr>\n",
       "\t<tr><th scope=row>4</th><td> [Eubacterium]_brachy_group           </td><td>DMR1</td><td>0.0000000</td><td>Bathyergidae and relatives</td><td>Mammalia</td><td>Rodentia</td><td>Bathyergidae</td><td>Fukomys</td><td>Fukomys damarensis</td><td>Feces</td><td>Wild</td><td>Wild</td><td>Underground</td><td>Herbivore</td><td>Herbivore</td><td>Hindgut fermentation</td><td>Cecum fermenter</td></tr>\n",
       "\t<tr><th scope=row>5</th><td> [Eubacterium]_coprostanoligenes_group</td><td>DMR1</td><td>0.3287482</td><td>Bathyergidae and relatives</td><td>Mammalia</td><td>Rodentia</td><td>Bathyergidae</td><td>Fukomys</td><td>Fukomys damarensis</td><td>Feces</td><td>Wild</td><td>Wild</td><td>Underground</td><td>Herbivore</td><td>Herbivore</td><td>Hindgut fermentation</td><td>Cecum fermenter</td></tr>\n",
       "\t<tr><th scope=row>6</th><td> [Eubacterium]_hallii_group           </td><td>DMR1</td><td>0.0000000</td><td>Bathyergidae and relatives</td><td>Mammalia</td><td>Rodentia</td><td>Bathyergidae</td><td>Fukomys</td><td>Fukomys damarensis</td><td>Feces</td><td>Wild</td><td>Wild</td><td>Underground</td><td>Herbivore</td><td>Herbivore</td><td>Hindgut fermentation</td><td>Cecum fermenter</td></tr>\n",
       "</tbody>\n",
       "</table>\n"
      ],
      "text/latex": [
       "A data.frame: 6 × 17\n",
       "\\begin{tabular}{r|lllllllllllllllll}\n",
       "  & genus & Sampleid & value & Group & Class & Order & Family & Genus & Species & Sample\\_type & Captive\\_Wild & Domestic\\_Wild & Habitat & Diet & Diet\\_detail & Digestive\\_tract & Digest\\_detail\\\\\n",
       "  & <chr> & <chr> & <dbl> & <chr> & <chr> & <chr> & <chr> & <chr> & <chr> & <chr> & <chr> & <chr> & <chr> & <chr> & <chr> & <chr> & <chr>\\\\\n",
       "\\hline\n",
       "\t1 &  {[}Anaerorhabdus{]}\\_furcosa\\_group         & DMR1 & 0.0000000 & Bathyergidae and relatives & Mammalia & Rodentia & Bathyergidae & Fukomys & Fukomys damarensis & Feces & Wild & Wild & Underground & Herbivore & Herbivore & Hindgut fermentation & Cecum fermenter\\\\\n",
       "\t2 &  {[}Bacteroides{]}\\_pectinophilus\\_group     & DMR1 & 0.0000000 & Bathyergidae and relatives & Mammalia & Rodentia & Bathyergidae & Fukomys & Fukomys damarensis & Feces & Wild & Wild & Underground & Herbivore & Herbivore & Hindgut fermentation & Cecum fermenter\\\\\n",
       "\t3 &  {[}Clostridium{]}\\_methylpentosum\\_group    & DMR1 & 0.0000000 & Bathyergidae and relatives & Mammalia & Rodentia & Bathyergidae & Fukomys & Fukomys damarensis & Feces & Wild & Wild & Underground & Herbivore & Herbivore & Hindgut fermentation & Cecum fermenter\\\\\n",
       "\t4 &  {[}Eubacterium{]}\\_brachy\\_group            & DMR1 & 0.0000000 & Bathyergidae and relatives & Mammalia & Rodentia & Bathyergidae & Fukomys & Fukomys damarensis & Feces & Wild & Wild & Underground & Herbivore & Herbivore & Hindgut fermentation & Cecum fermenter\\\\\n",
       "\t5 &  {[}Eubacterium{]}\\_coprostanoligenes\\_group & DMR1 & 0.3287482 & Bathyergidae and relatives & Mammalia & Rodentia & Bathyergidae & Fukomys & Fukomys damarensis & Feces & Wild & Wild & Underground & Herbivore & Herbivore & Hindgut fermentation & Cecum fermenter\\\\\n",
       "\t6 &  {[}Eubacterium{]}\\_hallii\\_group            & DMR1 & 0.0000000 & Bathyergidae and relatives & Mammalia & Rodentia & Bathyergidae & Fukomys & Fukomys damarensis & Feces & Wild & Wild & Underground & Herbivore & Herbivore & Hindgut fermentation & Cecum fermenter\\\\\n",
       "\\end{tabular}\n"
      ],
      "text/markdown": [
       "\n",
       "A data.frame: 6 × 17\n",
       "\n",
       "| <!--/--> | genus &lt;chr&gt; | Sampleid &lt;chr&gt; | value &lt;dbl&gt; | Group &lt;chr&gt; | Class &lt;chr&gt; | Order &lt;chr&gt; | Family &lt;chr&gt; | Genus &lt;chr&gt; | Species &lt;chr&gt; | Sample_type &lt;chr&gt; | Captive_Wild &lt;chr&gt; | Domestic_Wild &lt;chr&gt; | Habitat &lt;chr&gt; | Diet &lt;chr&gt; | Diet_detail &lt;chr&gt; | Digestive_tract &lt;chr&gt; | Digest_detail &lt;chr&gt; |\n",
       "|---|---|---|---|---|---|---|---|---|---|---|---|---|---|---|---|---|---|\n",
       "| 1 |  [Anaerorhabdus]_furcosa_group         | DMR1 | 0.0000000 | Bathyergidae and relatives | Mammalia | Rodentia | Bathyergidae | Fukomys | Fukomys damarensis | Feces | Wild | Wild | Underground | Herbivore | Herbivore | Hindgut fermentation | Cecum fermenter |\n",
       "| 2 |  [Bacteroides]_pectinophilus_group     | DMR1 | 0.0000000 | Bathyergidae and relatives | Mammalia | Rodentia | Bathyergidae | Fukomys | Fukomys damarensis | Feces | Wild | Wild | Underground | Herbivore | Herbivore | Hindgut fermentation | Cecum fermenter |\n",
       "| 3 |  [Clostridium]_methylpentosum_group    | DMR1 | 0.0000000 | Bathyergidae and relatives | Mammalia | Rodentia | Bathyergidae | Fukomys | Fukomys damarensis | Feces | Wild | Wild | Underground | Herbivore | Herbivore | Hindgut fermentation | Cecum fermenter |\n",
       "| 4 |  [Eubacterium]_brachy_group            | DMR1 | 0.0000000 | Bathyergidae and relatives | Mammalia | Rodentia | Bathyergidae | Fukomys | Fukomys damarensis | Feces | Wild | Wild | Underground | Herbivore | Herbivore | Hindgut fermentation | Cecum fermenter |\n",
       "| 5 |  [Eubacterium]_coprostanoligenes_group | DMR1 | 0.3287482 | Bathyergidae and relatives | Mammalia | Rodentia | Bathyergidae | Fukomys | Fukomys damarensis | Feces | Wild | Wild | Underground | Herbivore | Herbivore | Hindgut fermentation | Cecum fermenter |\n",
       "| 6 |  [Eubacterium]_hallii_group            | DMR1 | 0.0000000 | Bathyergidae and relatives | Mammalia | Rodentia | Bathyergidae | Fukomys | Fukomys damarensis | Feces | Wild | Wild | Underground | Herbivore | Herbivore | Hindgut fermentation | Cecum fermenter |\n",
       "\n"
      ],
      "text/plain": [
       "  genus                                  Sampleid value    \n",
       "1  [Anaerorhabdus]_furcosa_group         DMR1     0.0000000\n",
       "2  [Bacteroides]_pectinophilus_group     DMR1     0.0000000\n",
       "3  [Clostridium]_methylpentosum_group    DMR1     0.0000000\n",
       "4  [Eubacterium]_brachy_group            DMR1     0.0000000\n",
       "5  [Eubacterium]_coprostanoligenes_group DMR1     0.3287482\n",
       "6  [Eubacterium]_hallii_group            DMR1     0.0000000\n",
       "  Group                      Class    Order    Family       Genus  \n",
       "1 Bathyergidae and relatives Mammalia Rodentia Bathyergidae Fukomys\n",
       "2 Bathyergidae and relatives Mammalia Rodentia Bathyergidae Fukomys\n",
       "3 Bathyergidae and relatives Mammalia Rodentia Bathyergidae Fukomys\n",
       "4 Bathyergidae and relatives Mammalia Rodentia Bathyergidae Fukomys\n",
       "5 Bathyergidae and relatives Mammalia Rodentia Bathyergidae Fukomys\n",
       "6 Bathyergidae and relatives Mammalia Rodentia Bathyergidae Fukomys\n",
       "  Species            Sample_type Captive_Wild Domestic_Wild Habitat    \n",
       "1 Fukomys damarensis Feces       Wild         Wild          Underground\n",
       "2 Fukomys damarensis Feces       Wild         Wild          Underground\n",
       "3 Fukomys damarensis Feces       Wild         Wild          Underground\n",
       "4 Fukomys damarensis Feces       Wild         Wild          Underground\n",
       "5 Fukomys damarensis Feces       Wild         Wild          Underground\n",
       "6 Fukomys damarensis Feces       Wild         Wild          Underground\n",
       "  Diet      Diet_detail Digestive_tract      Digest_detail  \n",
       "1 Herbivore Herbivore   Hindgut fermentation Cecum fermenter\n",
       "2 Herbivore Herbivore   Hindgut fermentation Cecum fermenter\n",
       "3 Herbivore Herbivore   Hindgut fermentation Cecum fermenter\n",
       "4 Herbivore Herbivore   Hindgut fermentation Cecum fermenter\n",
       "5 Herbivore Herbivore   Hindgut fermentation Cecum fermenter\n",
       "6 Herbivore Herbivore   Hindgut fermentation Cecum fermenter"
      ]
     },
     "metadata": {},
     "output_type": "display_data"
    }
   ],
   "source": [
    "####Bathyergidae####\n",
    "genus_merge <- genus %>%  \n",
    "    filter(genus != '') %>% \n",
    "    filter(Group == \"Bathyergidae and relatives\") %>% \n",
    "    as.data.frame()\n",
    "head(genus_merge)\n",
    "\n",
    "select <- genus_merge %>% \n",
    "    dplyr::select(genus,value) %>% \n",
    "    group_by(genus) %>% \n",
    "    summarise(value=mean(value))\n",
    "select <- arrange(select,desc(value)) %>% as.data.frame()\n",
    "a <- head(select,10)$genus"
   ]
  },
  {
   "cell_type": "code",
   "execution_count": 43,
   "metadata": {
    "ExecuteTime": {
     "end_time": "2024-04-01T00:36:22.538246Z",
     "start_time": "2024-04-01T00:36:21.597Z"
    }
   },
   "outputs": [
    {
     "data": {
      "image/png": "[encoded data removed]",
      "text/plain": [
       "plot without title"
      ]
     },
     "metadata": {
      "image/png": {
       "height": 300,
       "width": 360
      }
     },
     "output_type": "display_data"
    }
   ],
   "source": [
    "####visualization####\n",
    "p <- ggplot(genus_merge %>% filter(genus %in% a),aes(x=reorder(genus,value),y=value,fill=Habitat)) +\n",
    "    geom_bar(stat = \"summary\",fun=mean,color=\"black\",position = position_dodge()) +    \n",
    "    coord_flip()+\n",
    "    labs(x='',y='Relative abundance(%)')+\n",
    "    theme_bw()\n",
    "options(repr.plot.width=6, repr.plot.height=5)\n",
    "plot(p)\n",
    "ggsave(\"genus_barplot_Bathyergidae.pdf\",width = 6,height = 5,dpi = 1000)"
   ]
  },
  {
   "cell_type": "code",
   "execution_count": 44,
   "metadata": {
    "ExecuteTime": {
     "end_time": "2024-04-01T00:37:26.436224Z",
     "start_time": "2024-04-01T00:37:25.897Z"
    }
   },
   "outputs": [
    {
     "data": {
      "text/html": [
       "<table class=\"dataframe\">\n",
       "<caption>A data.frame: 2 × 9</caption>\n",
       "<thead>\n",
       "\t<tr><th scope=col>genus</th><th scope=col>.y.</th><th scope=col>group1</th><th scope=col>group2</th><th scope=col>n1</th><th scope=col>n2</th><th scope=col>statistic</th><th scope=col>p</th><th scope=col>p.adj</th></tr>\n",
       "\t<tr><th scope=col>&lt;chr&gt;</th><th scope=col>&lt;chr&gt;</th><th scope=col>&lt;chr&gt;</th><th scope=col>&lt;chr&gt;</th><th scope=col>&lt;int&gt;</th><th scope=col>&lt;int&gt;</th><th scope=col>&lt;dbl&gt;</th><th scope=col>&lt;dbl&gt;</th><th scope=col>&lt;dbl&gt;</th></tr>\n",
       "</thead>\n",
       "<tbody>\n",
       "\t<tr><td> Acinetobacter</td><td>value</td><td>Aboveground</td><td>Underground</td><td>9</td><td>12</td><td>102</td><td>0.000112</td><td>0.00112</td></tr>\n",
       "\t<tr><td> Ruminococcus </td><td>value</td><td>Aboveground</td><td>Underground</td><td>9</td><td>12</td><td> 98</td><td>0.001060</td><td>0.00530</td></tr>\n",
       "</tbody>\n",
       "</table>\n"
      ],
      "text/latex": [
       "A data.frame: 2 × 9\n",
       "\\begin{tabular}{lllllllll}\n",
       " genus & .y. & group1 & group2 & n1 & n2 & statistic & p & p.adj\\\\\n",
       " <chr> & <chr> & <chr> & <chr> & <int> & <int> & <dbl> & <dbl> & <dbl>\\\\\n",
       "\\hline\n",
       "\t  Acinetobacter & value & Aboveground & Underground & 9 & 12 & 102 & 0.000112 & 0.00112\\\\\n",
       "\t  Ruminococcus  & value & Aboveground & Underground & 9 & 12 &  98 & 0.001060 & 0.00530\\\\\n",
       "\\end{tabular}\n"
      ],
      "text/markdown": [
       "\n",
       "A data.frame: 2 × 9\n",
       "\n",
       "| genus &lt;chr&gt; | .y. &lt;chr&gt; | group1 &lt;chr&gt; | group2 &lt;chr&gt; | n1 &lt;int&gt; | n2 &lt;int&gt; | statistic &lt;dbl&gt; | p &lt;dbl&gt; | p.adj &lt;dbl&gt; |\n",
       "|---|---|---|---|---|---|---|---|---|\n",
       "|  Acinetobacter | value | Aboveground | Underground | 9 | 12 | 102 | 0.000112 | 0.00112 |\n",
       "|  Ruminococcus  | value | Aboveground | Underground | 9 | 12 |  98 | 0.001060 | 0.00530 |\n",
       "\n"
      ],
      "text/plain": [
       "  genus          .y.   group1      group2      n1 n2 statistic p        p.adj  \n",
       "1  Acinetobacter value Aboveground Underground 9  12 102       0.000112 0.00112\n",
       "2  Ruminococcus  value Aboveground Underground 9  12  98       0.001060 0.00530"
      ]
     },
     "metadata": {},
     "output_type": "display_data"
    }
   ],
   "source": [
    "genus_merge %>% \n",
    "    filter(genus %in% a) %>%  \n",
    "    group_by(genus) %>% \n",
    "    wilcox_test(value ~ Habitat) %>%  \n",
    "    adjust_pvalue(method = \"BH\") %>%\n",
    "    filter(p.adj <=0.05) %>% \n",
    "    as.data.frame()"
   ]
  },
  {
   "cell_type": "code",
   "execution_count": 64,
   "metadata": {
    "ExecuteTime": {
     "end_time": "2024-04-01T01:02:25.168543Z",
     "start_time": "2024-04-01T01:02:24.039Z"
    }
   },
   "outputs": [
    {
     "data": {
      "image/png": "[encoded data removed]",
      "text/plain": [
       "plot without title"
      ]
     },
     "metadata": {
      "image/png": {
       "height": 240,
       "width": 300
      }
     },
     "output_type": "display_data"
    }
   ],
   "source": [
    "a <- c(\" Tyzzerella\",\" Nocardioides\",\" Bacteroidales_RF16_group\",\" Rikenellaceae_RC9_gut_group\",\" NK4A214_group\")\n",
    "# ####visualization####\n",
    "p <- ggplot(genus %>% filter(genus != '') %>% filter(genus %in% a),aes(x=reorder(genus,value),y=value,fill=Habitat)) +\n",
    "    geom_bar(stat = \"summary\",fun=mean,color=\"black\",position = position_dodge()) +    \n",
    "    coord_flip()+\n",
    "    labs(x='',y='Relative abundance(%)')+\n",
    "    theme_bw()\n",
    "options(repr.plot.width=5, repr.plot.height=4)\n",
    "plot(p)\n",
    "ggsave(\"genus_barplot_habitat.pdf\",width = 5,height = 4,dpi = 1000)"
   ]
  },
  {
   "cell_type": "code",
   "execution_count": 65,
   "metadata": {
    "ExecuteTime": {
     "end_time": "2024-04-01T01:02:47.576521Z",
     "start_time": "2024-04-01T01:02:47.022Z"
    }
   },
   "outputs": [
    {
     "data": {
      "text/html": [
       "<table class=\"dataframe\">\n",
       "<caption>A data.frame: 5 × 9</caption>\n",
       "<thead>\n",
       "\t<tr><th scope=col>genus</th><th scope=col>.y.</th><th scope=col>group1</th><th scope=col>group2</th><th scope=col>n1</th><th scope=col>n2</th><th scope=col>statistic</th><th scope=col>p</th><th scope=col>p.adj</th></tr>\n",
       "\t<tr><th scope=col>&lt;chr&gt;</th><th scope=col>&lt;chr&gt;</th><th scope=col>&lt;chr&gt;</th><th scope=col>&lt;chr&gt;</th><th scope=col>&lt;int&gt;</th><th scope=col>&lt;int&gt;</th><th scope=col>&lt;dbl&gt;</th><th scope=col>&lt;dbl&gt;</th><th scope=col>&lt;dbl&gt;</th></tr>\n",
       "</thead>\n",
       "<tbody>\n",
       "\t<tr><td> Bacteroidales_RF16_group   </td><td>value</td><td>Aboveground</td><td>Underground</td><td>40</td><td>40</td><td>333.0</td><td>3.14e-07</td><td>7.850000e-07</td></tr>\n",
       "\t<tr><td> NK4A214_group              </td><td>value</td><td>Aboveground</td><td>Underground</td><td>40</td><td>40</td><td>198.5</td><td>2.26e-09</td><td>1.130000e-08</td></tr>\n",
       "\t<tr><td> Nocardioides               </td><td>value</td><td>Aboveground</td><td>Underground</td><td>40</td><td>40</td><td>414.0</td><td>7.97e-05</td><td>9.962500e-05</td></tr>\n",
       "\t<tr><td> Rikenellaceae_RC9_gut_group</td><td>value</td><td>Aboveground</td><td>Underground</td><td>40</td><td>40</td><td>315.5</td><td>1.37e-06</td><td>2.283333e-06</td></tr>\n",
       "\t<tr><td> Tyzzerella                 </td><td>value</td><td>Aboveground</td><td>Underground</td><td>40</td><td>40</td><td>470.5</td><td>3.49e-04</td><td>3.490000e-04</td></tr>\n",
       "</tbody>\n",
       "</table>\n"
      ],
      "text/latex": [
       "A data.frame: 5 × 9\n",
       "\\begin{tabular}{lllllllll}\n",
       " genus & .y. & group1 & group2 & n1 & n2 & statistic & p & p.adj\\\\\n",
       " <chr> & <chr> & <chr> & <chr> & <int> & <int> & <dbl> & <dbl> & <dbl>\\\\\n",
       "\\hline\n",
       "\t  Bacteroidales\\_RF16\\_group    & value & Aboveground & Underground & 40 & 40 & 333.0 & 3.14e-07 & 7.850000e-07\\\\\n",
       "\t  NK4A214\\_group               & value & Aboveground & Underground & 40 & 40 & 198.5 & 2.26e-09 & 1.130000e-08\\\\\n",
       "\t  Nocardioides                & value & Aboveground & Underground & 40 & 40 & 414.0 & 7.97e-05 & 9.962500e-05\\\\\n",
       "\t  Rikenellaceae\\_RC9\\_gut\\_group & value & Aboveground & Underground & 40 & 40 & 315.5 & 1.37e-06 & 2.283333e-06\\\\\n",
       "\t  Tyzzerella                  & value & Aboveground & Underground & 40 & 40 & 470.5 & 3.49e-04 & 3.490000e-04\\\\\n",
       "\\end{tabular}\n"
      ],
      "text/markdown": [
       "\n",
       "A data.frame: 5 × 9\n",
       "\n",
       "| genus &lt;chr&gt; | .y. &lt;chr&gt; | group1 &lt;chr&gt; | group2 &lt;chr&gt; | n1 &lt;int&gt; | n2 &lt;int&gt; | statistic &lt;dbl&gt; | p &lt;dbl&gt; | p.adj &lt;dbl&gt; |\n",
       "|---|---|---|---|---|---|---|---|---|\n",
       "|  Bacteroidales_RF16_group    | value | Aboveground | Underground | 40 | 40 | 333.0 | 3.14e-07 | 7.850000e-07 |\n",
       "|  NK4A214_group               | value | Aboveground | Underground | 40 | 40 | 198.5 | 2.26e-09 | 1.130000e-08 |\n",
       "|  Nocardioides                | value | Aboveground | Underground | 40 | 40 | 414.0 | 7.97e-05 | 9.962500e-05 |\n",
       "|  Rikenellaceae_RC9_gut_group | value | Aboveground | Underground | 40 | 40 | 315.5 | 1.37e-06 | 2.283333e-06 |\n",
       "|  Tyzzerella                  | value | Aboveground | Underground | 40 | 40 | 470.5 | 3.49e-04 | 3.490000e-04 |\n",
       "\n"
      ],
      "text/plain": [
       "  genus                        .y.   group1      group2      n1 n2 statistic\n",
       "1  Bacteroidales_RF16_group    value Aboveground Underground 40 40 333.0    \n",
       "2  NK4A214_group               value Aboveground Underground 40 40 198.5    \n",
       "3  Nocardioides                value Aboveground Underground 40 40 414.0    \n",
       "4  Rikenellaceae_RC9_gut_group value Aboveground Underground 40 40 315.5    \n",
       "5  Tyzzerella                  value Aboveground Underground 40 40 470.5    \n",
       "  p        p.adj       \n",
       "1 3.14e-07 7.850000e-07\n",
       "2 2.26e-09 1.130000e-08\n",
       "3 7.97e-05 9.962500e-05\n",
       "4 1.37e-06 2.283333e-06\n",
       "5 3.49e-04 3.490000e-04"
      ]
     },
     "metadata": {},
     "output_type": "display_data"
    }
   ],
   "source": [
    "genus %>% \n",
    "    filter(genus != '') %>% \n",
    "    filter(genus %in% a) %>%  \n",
    "    group_by(genus) %>% \n",
    "    wilcox_test(value ~ Habitat) %>%  \n",
    "    adjust_pvalue(method = \"BH\") %>%\n",
    "    filter(p.adj <=0.05) %>% \n",
    "    as.data.frame()"
   ]
  },
  {
   "cell_type": "code",
   "execution_count": 12,
   "metadata": {
    "ExecuteTime": {
     "end_time": "2024-10-08T14:07:00.466339Z",
     "start_time": "2024-10-08T14:07:00.254Z"
    }
   },
   "outputs": [
    {
     "data": {
      "text/html": [
       "<table class=\"dataframe\">\n",
       "<caption>A data.frame: 6 × 3</caption>\n",
       "<thead>\n",
       "\t<tr><th></th><th scope=col>genus</th><th scope=col>Species</th><th scope=col>value</th></tr>\n",
       "\t<tr><th></th><th scope=col>&lt;chr&gt;</th><th scope=col>&lt;chr&gt;</th><th scope=col>&lt;dbl&gt;</th></tr>\n",
       "</thead>\n",
       "<tbody>\n",
       "\t<tr><th scope=row>1</th><td> Muribaculaceae  </td><td>Nannospalax leucodon</td><td>34.48395</td></tr>\n",
       "\t<tr><th scope=row>2</th><td> Paeniclostridium</td><td>Nannospalax leucodon</td><td> 0.00000</td></tr>\n",
       "\t<tr><th scope=row>3</th><td> Paraclostridium </td><td>Nannospalax leucodon</td><td> 0.00000</td></tr>\n",
       "\t<tr><th scope=row>4</th><td> Prevotella      </td><td>Nannospalax leucodon</td><td> 0.00000</td></tr>\n",
       "\t<tr><th scope=row>5</th><td> Romboutsia      </td><td>Nannospalax leucodon</td><td> 0.00000</td></tr>\n",
       "\t<tr><th scope=row>6</th><td> Muribaculaceae  </td><td>Nannospalax leucodon</td><td>31.51657</td></tr>\n",
       "</tbody>\n",
       "</table>\n"
      ],
      "text/latex": [
       "A data.frame: 6 × 3\n",
       "\\begin{tabular}{r|lll}\n",
       "  & genus & Species & value\\\\\n",
       "  & <chr> & <chr> & <dbl>\\\\\n",
       "\\hline\n",
       "\t1 &  Muribaculaceae   & Nannospalax leucodon & 34.48395\\\\\n",
       "\t2 &  Paeniclostridium & Nannospalax leucodon &  0.00000\\\\\n",
       "\t3 &  Paraclostridium  & Nannospalax leucodon &  0.00000\\\\\n",
       "\t4 &  Prevotella       & Nannospalax leucodon &  0.00000\\\\\n",
       "\t5 &  Romboutsia       & Nannospalax leucodon &  0.00000\\\\\n",
       "\t6 &  Muribaculaceae   & Nannospalax leucodon & 31.51657\\\\\n",
       "\\end{tabular}\n"
      ],
      "text/markdown": [
       "\n",
       "A data.frame: 6 × 3\n",
       "\n",
       "| <!--/--> | genus &lt;chr&gt; | Species &lt;chr&gt; | value &lt;dbl&gt; |\n",
       "|---|---|---|---|\n",
       "| 1 |  Muribaculaceae   | Nannospalax leucodon | 34.48395 |\n",
       "| 2 |  Paeniclostridium | Nannospalax leucodon |  0.00000 |\n",
       "| 3 |  Paraclostridium  | Nannospalax leucodon |  0.00000 |\n",
       "| 4 |  Prevotella       | Nannospalax leucodon |  0.00000 |\n",
       "| 5 |  Romboutsia       | Nannospalax leucodon |  0.00000 |\n",
       "| 6 |  Muribaculaceae   | Nannospalax leucodon | 31.51657 |\n",
       "\n"
      ],
      "text/plain": [
       "  genus             Species              value   \n",
       "1  Muribaculaceae   Nannospalax leucodon 34.48395\n",
       "2  Paeniclostridium Nannospalax leucodon  0.00000\n",
       "3  Paraclostridium  Nannospalax leucodon  0.00000\n",
       "4  Prevotella       Nannospalax leucodon  0.00000\n",
       "5  Romboutsia       Nannospalax leucodon  0.00000\n",
       "6  Muribaculaceae   Nannospalax leucodon 31.51657"
      ]
     },
     "metadata": {},
     "output_type": "display_data"
    }
   ],
   "source": [
    "####heatmap####\n",
    "genus_select <- genus %>% \n",
    "    filter(Habitat =='Underground') %>% \n",
    "    filter(genus %in% c(\" Paeniclostridium\",\" Romboutsia\",\" Paraclostridium\",\n",
    "                        \" Muribaculaceae\",\" Prevotella\")) %>% \n",
    "    select(genus,Species,value) %>% \n",
    "    as.data.frame()\n",
    "head(genus_select)"
   ]
  },
  {
   "cell_type": "code",
   "execution_count": 13,
   "metadata": {
    "ExecuteTime": {
     "end_time": "2024-10-08T14:07:02.433151Z",
     "start_time": "2024-10-08T14:07:02.209Z"
    }
   },
   "outputs": [
    {
     "name": "stderr",
     "output_type": "stream",
     "text": [
      "\u001b[1m\u001b[22m`summarise()` has grouped output by 'Species'. You can override using the `.groups` argument.\n"
     ]
    },
    {
     "data": {
      "text/html": [
       "<table class=\"dataframe\">\n",
       "<caption>A data.frame: 6 × 3</caption>\n",
       "<thead>\n",
       "\t<tr><th></th><th scope=col>Species</th><th scope=col>genus</th><th scope=col>value</th></tr>\n",
       "\t<tr><th></th><th scope=col>&lt;chr&gt;</th><th scope=col>&lt;chr&gt;</th><th scope=col>&lt;dbl&gt;</th></tr>\n",
       "</thead>\n",
       "<tbody>\n",
       "\t<tr><th scope=row>1</th><td>Eospalax cansus   </td><td> Muribaculaceae  </td><td>13.3301612</td></tr>\n",
       "\t<tr><th scope=row>2</th><td>Eospalax cansus   </td><td> Paeniclostridium</td><td> 0.0000000</td></tr>\n",
       "\t<tr><th scope=row>3</th><td>Eospalax cansus   </td><td> Paraclostridium </td><td> 0.0000000</td></tr>\n",
       "\t<tr><th scope=row>4</th><td>Eospalax cansus   </td><td> Prevotella      </td><td> 0.4109352</td></tr>\n",
       "\t<tr><th scope=row>5</th><td>Eospalax cansus   </td><td> Romboutsia      </td><td> 0.0000000</td></tr>\n",
       "\t<tr><th scope=row>6</th><td>Fukomys damarensis</td><td> Muribaculaceae  </td><td> 3.0106411</td></tr>\n",
       "</tbody>\n",
       "</table>\n"
      ],
      "text/latex": [
       "A data.frame: 6 × 3\n",
       "\\begin{tabular}{r|lll}\n",
       "  & Species & genus & value\\\\\n",
       "  & <chr> & <chr> & <dbl>\\\\\n",
       "\\hline\n",
       "\t1 & Eospalax cansus    &  Muribaculaceae   & 13.3301612\\\\\n",
       "\t2 & Eospalax cansus    &  Paeniclostridium &  0.0000000\\\\\n",
       "\t3 & Eospalax cansus    &  Paraclostridium  &  0.0000000\\\\\n",
       "\t4 & Eospalax cansus    &  Prevotella       &  0.4109352\\\\\n",
       "\t5 & Eospalax cansus    &  Romboutsia       &  0.0000000\\\\\n",
       "\t6 & Fukomys damarensis &  Muribaculaceae   &  3.0106411\\\\\n",
       "\\end{tabular}\n"
      ],
      "text/markdown": [
       "\n",
       "A data.frame: 6 × 3\n",
       "\n",
       "| <!--/--> | Species &lt;chr&gt; | genus &lt;chr&gt; | value &lt;dbl&gt; |\n",
       "|---|---|---|---|\n",
       "| 1 | Eospalax cansus    |  Muribaculaceae   | 13.3301612 |\n",
       "| 2 | Eospalax cansus    |  Paeniclostridium |  0.0000000 |\n",
       "| 3 | Eospalax cansus    |  Paraclostridium  |  0.0000000 |\n",
       "| 4 | Eospalax cansus    |  Prevotella       |  0.4109352 |\n",
       "| 5 | Eospalax cansus    |  Romboutsia       |  0.0000000 |\n",
       "| 6 | Fukomys damarensis |  Muribaculaceae   |  3.0106411 |\n",
       "\n"
      ],
      "text/plain": [
       "  Species            genus             value     \n",
       "1 Eospalax cansus     Muribaculaceae   13.3301612\n",
       "2 Eospalax cansus     Paeniclostridium  0.0000000\n",
       "3 Eospalax cansus     Paraclostridium   0.0000000\n",
       "4 Eospalax cansus     Prevotella        0.4109352\n",
       "5 Eospalax cansus     Romboutsia        0.0000000\n",
       "6 Fukomys damarensis  Muribaculaceae    3.0106411"
      ]
     },
     "metadata": {},
     "output_type": "display_data"
    }
   ],
   "source": [
    "genus_1 <- genus_select %>% \n",
    "    group_by(Species,genus) %>%\n",
    "    summarise(value=mean(value)) %>% \n",
    "    as.data.frame()\n",
    "head(genus_1)"
   ]
  },
  {
   "cell_type": "code",
   "execution_count": 14,
   "metadata": {
    "ExecuteTime": {
     "end_time": "2024-10-08T14:07:08.652848Z",
     "start_time": "2024-10-08T14:07:08.454Z"
    }
   },
   "outputs": [
    {
     "data": {
      "text/html": [
       "<table class=\"dataframe\">\n",
       "<caption>A data.frame: 5 × 7</caption>\n",
       "<thead>\n",
       "\t<tr><th></th><th scope=col>genus</th><th scope=col>Eospalax cansus</th><th scope=col>Fukomys damarensis</th><th scope=col>Heterocephalus glaber</th><th scope=col>Nannospalax leucodon</th><th scope=col>Rhizomys sinensis</th><th scope=col>Scaptochirus moschatus</th></tr>\n",
       "\t<tr><th></th><th scope=col>&lt;chr&gt;</th><th scope=col>&lt;dbl&gt;</th><th scope=col>&lt;dbl&gt;</th><th scope=col>&lt;dbl&gt;</th><th scope=col>&lt;dbl&gt;</th><th scope=col>&lt;dbl&gt;</th><th scope=col>&lt;dbl&gt;</th></tr>\n",
       "</thead>\n",
       "<tbody>\n",
       "\t<tr><th scope=row>1</th><td> Muribaculaceae  </td><td>13.3301612</td><td>3.010641</td><td>2.144072</td><td>33.764455</td><td>2.593304e+01</td><td> 0.98768636</td></tr>\n",
       "\t<tr><th scope=row>2</th><td> Paeniclostridium</td><td> 0.0000000</td><td>0.000000</td><td>0.000000</td><td> 0.000000</td><td>0.000000e+00</td><td>15.09790351</td></tr>\n",
       "\t<tr><th scope=row>3</th><td> Paraclostridium </td><td> 0.0000000</td><td>0.000000</td><td>0.000000</td><td> 0.000000</td><td>0.000000e+00</td><td>11.24520576</td></tr>\n",
       "\t<tr><th scope=row>4</th><td> Prevotella      </td><td> 0.4109352</td><td>1.760533</td><td>2.193096</td><td> 0.118234</td><td>2.474262e-01</td><td> 0.02883756</td></tr>\n",
       "\t<tr><th scope=row>5</th><td> Romboutsia      </td><td> 0.0000000</td><td>0.000000</td><td>0.000000</td><td> 0.000000</td><td>8.651267e-04</td><td>13.83770222</td></tr>\n",
       "</tbody>\n",
       "</table>\n"
      ],
      "text/latex": [
       "A data.frame: 5 × 7\n",
       "\\begin{tabular}{r|lllllll}\n",
       "  & genus & Eospalax cansus & Fukomys damarensis & Heterocephalus glaber & Nannospalax leucodon & Rhizomys sinensis & Scaptochirus moschatus\\\\\n",
       "  & <chr> & <dbl> & <dbl> & <dbl> & <dbl> & <dbl> & <dbl>\\\\\n",
       "\\hline\n",
       "\t1 &  Muribaculaceae   & 13.3301612 & 3.010641 & 2.144072 & 33.764455 & 2.593304e+01 &  0.98768636\\\\\n",
       "\t2 &  Paeniclostridium &  0.0000000 & 0.000000 & 0.000000 &  0.000000 & 0.000000e+00 & 15.09790351\\\\\n",
       "\t3 &  Paraclostridium  &  0.0000000 & 0.000000 & 0.000000 &  0.000000 & 0.000000e+00 & 11.24520576\\\\\n",
       "\t4 &  Prevotella       &  0.4109352 & 1.760533 & 2.193096 &  0.118234 & 2.474262e-01 &  0.02883756\\\\\n",
       "\t5 &  Romboutsia       &  0.0000000 & 0.000000 & 0.000000 &  0.000000 & 8.651267e-04 & 13.83770222\\\\\n",
       "\\end{tabular}\n"
      ],
      "text/markdown": [
       "\n",
       "A data.frame: 5 × 7\n",
       "\n",
       "| <!--/--> | genus &lt;chr&gt; | Eospalax cansus &lt;dbl&gt; | Fukomys damarensis &lt;dbl&gt; | Heterocephalus glaber &lt;dbl&gt; | Nannospalax leucodon &lt;dbl&gt; | Rhizomys sinensis &lt;dbl&gt; | Scaptochirus moschatus &lt;dbl&gt; |\n",
       "|---|---|---|---|---|---|---|---|\n",
       "| 1 |  Muribaculaceae   | 13.3301612 | 3.010641 | 2.144072 | 33.764455 | 2.593304e+01 |  0.98768636 |\n",
       "| 2 |  Paeniclostridium |  0.0000000 | 0.000000 | 0.000000 |  0.000000 | 0.000000e+00 | 15.09790351 |\n",
       "| 3 |  Paraclostridium  |  0.0000000 | 0.000000 | 0.000000 |  0.000000 | 0.000000e+00 | 11.24520576 |\n",
       "| 4 |  Prevotella       |  0.4109352 | 1.760533 | 2.193096 |  0.118234 | 2.474262e-01 |  0.02883756 |\n",
       "| 5 |  Romboutsia       |  0.0000000 | 0.000000 | 0.000000 |  0.000000 | 8.651267e-04 | 13.83770222 |\n",
       "\n"
      ],
      "text/plain": [
       "  genus             Eospalax cansus Fukomys damarensis Heterocephalus glaber\n",
       "1  Muribaculaceae   13.3301612      3.010641           2.144072             \n",
       "2  Paeniclostridium  0.0000000      0.000000           0.000000             \n",
       "3  Paraclostridium   0.0000000      0.000000           0.000000             \n",
       "4  Prevotella        0.4109352      1.760533           2.193096             \n",
       "5  Romboutsia        0.0000000      0.000000           0.000000             \n",
       "  Nannospalax leucodon Rhizomys sinensis Scaptochirus moschatus\n",
       "1 33.764455            2.593304e+01       0.98768636           \n",
       "2  0.000000            0.000000e+00      15.09790351           \n",
       "3  0.000000            0.000000e+00      11.24520576           \n",
       "4  0.118234            2.474262e-01       0.02883756           \n",
       "5  0.000000            8.651267e-04      13.83770222           "
      ]
     },
     "metadata": {},
     "output_type": "display_data"
    }
   ],
   "source": [
    "genus_1 <- genus_1 %>% \n",
    "    spread(Species,value) %>% \n",
    "    as.data.frame()\n",
    "head(genus_1)"
   ]
  },
  {
   "cell_type": "code",
   "execution_count": 15,
   "metadata": {
    "ExecuteTime": {
     "end_time": "2024-10-08T14:07:17.555696Z",
     "start_time": "2024-10-08T14:07:17.350Z"
    }
   },
   "outputs": [
    {
     "data": {
      "text/html": [
       "<table class=\"dataframe\">\n",
       "<caption>A data.frame: 5 × 6</caption>\n",
       "<thead>\n",
       "\t<tr><th></th><th scope=col>Eospalax cansus</th><th scope=col>Fukomys damarensis</th><th scope=col>Heterocephalus glaber</th><th scope=col>Nannospalax leucodon</th><th scope=col>Rhizomys sinensis</th><th scope=col>Scaptochirus moschatus</th></tr>\n",
       "\t<tr><th></th><th scope=col>&lt;dbl&gt;</th><th scope=col>&lt;dbl&gt;</th><th scope=col>&lt;dbl&gt;</th><th scope=col>&lt;dbl&gt;</th><th scope=col>&lt;dbl&gt;</th><th scope=col>&lt;dbl&gt;</th></tr>\n",
       "</thead>\n",
       "<tbody>\n",
       "\t<tr><th scope=row> Muribaculaceae</th><td>13.3301612</td><td>3.010641</td><td>2.144072</td><td>33.764455</td><td>2.593304e+01</td><td> 0.98768636</td></tr>\n",
       "\t<tr><th scope=row> Paeniclostridium</th><td> 0.0000000</td><td>0.000000</td><td>0.000000</td><td> 0.000000</td><td>0.000000e+00</td><td>15.09790351</td></tr>\n",
       "\t<tr><th scope=row> Paraclostridium</th><td> 0.0000000</td><td>0.000000</td><td>0.000000</td><td> 0.000000</td><td>0.000000e+00</td><td>11.24520576</td></tr>\n",
       "\t<tr><th scope=row> Prevotella</th><td> 0.4109352</td><td>1.760533</td><td>2.193096</td><td> 0.118234</td><td>2.474262e-01</td><td> 0.02883756</td></tr>\n",
       "\t<tr><th scope=row> Romboutsia</th><td> 0.0000000</td><td>0.000000</td><td>0.000000</td><td> 0.000000</td><td>8.651267e-04</td><td>13.83770222</td></tr>\n",
       "</tbody>\n",
       "</table>\n"
      ],
      "text/latex": [
       "A data.frame: 5 × 6\n",
       "\\begin{tabular}{r|llllll}\n",
       "  & Eospalax cansus & Fukomys damarensis & Heterocephalus glaber & Nannospalax leucodon & Rhizomys sinensis & Scaptochirus moschatus\\\\\n",
       "  & <dbl> & <dbl> & <dbl> & <dbl> & <dbl> & <dbl>\\\\\n",
       "\\hline\n",
       "\t Muribaculaceae & 13.3301612 & 3.010641 & 2.144072 & 33.764455 & 2.593304e+01 &  0.98768636\\\\\n",
       "\t Paeniclostridium &  0.0000000 & 0.000000 & 0.000000 &  0.000000 & 0.000000e+00 & 15.09790351\\\\\n",
       "\t Paraclostridium &  0.0000000 & 0.000000 & 0.000000 &  0.000000 & 0.000000e+00 & 11.24520576\\\\\n",
       "\t Prevotella &  0.4109352 & 1.760533 & 2.193096 &  0.118234 & 2.474262e-01 &  0.02883756\\\\\n",
       "\t Romboutsia &  0.0000000 & 0.000000 & 0.000000 &  0.000000 & 8.651267e-04 & 13.83770222\\\\\n",
       "\\end{tabular}\n"
      ],
      "text/markdown": [
       "\n",
       "A data.frame: 5 × 6\n",
       "\n",
       "| <!--/--> | Eospalax cansus &lt;dbl&gt; | Fukomys damarensis &lt;dbl&gt; | Heterocephalus glaber &lt;dbl&gt; | Nannospalax leucodon &lt;dbl&gt; | Rhizomys sinensis &lt;dbl&gt; | Scaptochirus moschatus &lt;dbl&gt; |\n",
       "|---|---|---|---|---|---|---|\n",
       "|  Muribaculaceae | 13.3301612 | 3.010641 | 2.144072 | 33.764455 | 2.593304e+01 |  0.98768636 |\n",
       "|  Paeniclostridium |  0.0000000 | 0.000000 | 0.000000 |  0.000000 | 0.000000e+00 | 15.09790351 |\n",
       "|  Paraclostridium |  0.0000000 | 0.000000 | 0.000000 |  0.000000 | 0.000000e+00 | 11.24520576 |\n",
       "|  Prevotella |  0.4109352 | 1.760533 | 2.193096 |  0.118234 | 2.474262e-01 |  0.02883756 |\n",
       "|  Romboutsia |  0.0000000 | 0.000000 | 0.000000 |  0.000000 | 8.651267e-04 | 13.83770222 |\n",
       "\n"
      ],
      "text/plain": [
       "                  Eospalax cansus Fukomys damarensis Heterocephalus glaber\n",
       " Muribaculaceae   13.3301612      3.010641           2.144072             \n",
       " Paeniclostridium  0.0000000      0.000000           0.000000             \n",
       " Paraclostridium   0.0000000      0.000000           0.000000             \n",
       " Prevotella        0.4109352      1.760533           2.193096             \n",
       " Romboutsia        0.0000000      0.000000           0.000000             \n",
       "                  Nannospalax leucodon Rhizomys sinensis Scaptochirus moschatus\n",
       " Muribaculaceae   33.764455            2.593304e+01       0.98768636           \n",
       " Paeniclostridium  0.000000            0.000000e+00      15.09790351           \n",
       " Paraclostridium   0.000000            0.000000e+00      11.24520576           \n",
       " Prevotella        0.118234            2.474262e-01       0.02883756           \n",
       " Romboutsia        0.000000            8.651267e-04      13.83770222           "
      ]
     },
     "metadata": {},
     "output_type": "display_data"
    }
   ],
   "source": [
    "rownames(genus_1) <- genus_1$genus\n",
    "genus_1 <- genus_1 %>% select(-genus)\n",
    "head(genus_1)"
   ]
  },
  {
   "cell_type": "code",
   "execution_count": 16,
   "metadata": {
    "ExecuteTime": {
     "end_time": "2024-10-08T14:07:20.217267Z",
     "start_time": "2024-10-08T14:07:20.037Z"
    }
   },
   "outputs": [],
   "source": [
    "genus_1 <- genus_1[,c(5,4,1,3,2,6)]"
   ]
  },
  {
   "cell_type": "code",
   "execution_count": 27,
   "metadata": {
    "ExecuteTime": {
     "end_time": "2024-10-08T14:15:40.340894Z",
     "start_time": "2024-10-08T14:15:40.086Z"
    }
   },
   "outputs": [
    {
     "data": {
      "text/html": [
       "<strong>png:</strong> 2"
      ],
      "text/latex": [
       "\\textbf{png:} 2"
      ],
      "text/markdown": [
       "**png:** 2"
      ],
      "text/plain": [
       "png \n",
       "  2 "
      ]
     },
     "metadata": {},
     "output_type": "display_data"
    },
    {
     "data": {
      "image/png": "[encoded data removed]",
      "text/plain": [
       "plot without title"
      ]
     },
     "metadata": {
      "image/png": {
       "height": 180,
       "width": 240
      }
     },
     "output_type": "display_data"
    }
   ],
   "source": [
    "# 对行进行标准化并画热图\n",
    "library(pheatmap)\n",
    "p1=pheatmap(genus_1,scale = \"row\",\n",
    "            display_numbers = F,\n",
    "            cluster_rows = F,\n",
    "            cluster_cols = F,\n",
    "            color = colorRampPalette(c(\"#1abcbc\", \"white\", \"#995ea3\"))(50))\n",
    "options(repr.plot.width=4, repr.plot.height=3)\n",
    "pdf(\"genus.pdf\")\n",
    "p1\n",
    "dev.off()"
   ]
  },
  {
   "cell_type": "code",
   "execution_count": 19,
   "metadata": {
    "ExecuteTime": {
     "end_time": "2024-10-08T14:08:03.380866Z",
     "start_time": "2024-10-08T14:08:03.016Z"
    }
   },
   "outputs": [
    {
     "data": {
      "text/plain": [
       "R version 4.1.0 (2021-05-18)\n",
       "Platform: x86_64-conda-linux-gnu (64-bit)\n",
       "Running under: CentOS Linux 7 (Core)\n",
       "\n",
       "Matrix products: default\n",
       "BLAS/LAPACK: /public/home/lyx/anaconda3/envs/r4.1/lib/libopenblasp-r0.3.17.so\n",
       "\n",
       "locale:\n",
       " [1] LC_CTYPE=en_US.UTF-8       LC_NUMERIC=C              \n",
       " [3] LC_TIME=en_US.UTF-8        LC_COLLATE=en_US.UTF-8    \n",
       " [5] LC_MONETARY=en_US.UTF-8    LC_MESSAGES=en_US.UTF-8   \n",
       " [7] LC_PAPER=en_US.UTF-8       LC_NAME=C                 \n",
       " [9] LC_ADDRESS=C               LC_TELEPHONE=C            \n",
       "[11] LC_MEASUREMENT=en_US.UTF-8 LC_IDENTIFICATION=C       \n",
       "\n",
       "attached base packages:\n",
       "[1] stats     graphics  grDevices utils     datasets  methods   base     \n",
       "\n",
       "other attached packages:\n",
       " [1] pheatmap_1.0.12 vegan_2.6-6.1   lattice_0.22-5  permute_0.9-7  \n",
       " [5] stringr_1.5.1   ape_5.7-1       phyloseq_1.39.1 ggplot2_3.4.4  \n",
       " [9] tidyr_1.3.0     dplyr_1.1.4     jsonlite_1.8.7 \n",
       "\n",
       "loaded via a namespace (and not attached):\n",
       " [1] Rcpp_1.0.11            Biostrings_2.62.0      digest_0.6.33         \n",
       " [4] foreach_1.5.2          utf8_1.2.4             IRdisplay_1.1         \n",
       " [7] R6_2.5.1               GenomeInfoDb_1.30.1    plyr_1.8.9            \n",
       "[10] repr_1.1.6             stats4_4.1.0           evaluate_0.23         \n",
       "[13] pillar_1.9.0           zlibbioc_1.40.0        rlang_1.1.4           \n",
       "[16] uuid_1.1-1             data.table_1.14.8      S4Vectors_0.32.3      \n",
       "[19] Matrix_1.6-3           splines_4.1.0          igraph_2.0.3          \n",
       "[22] RCurl_1.98-1.13        munsell_0.5.0          compiler_4.1.0        \n",
       "[25] pkgconfig_2.0.3        BiocGenerics_0.40.0    base64enc_0.1-3       \n",
       "[28] multtest_2.50.0        mgcv_1.9-0             htmltools_0.5.7       \n",
       "[31] biomformat_1.22.0      tidyselect_1.2.0       tibble_3.2.1          \n",
       "[34] GenomeInfoDbData_1.2.7 IRanges_2.28.0         codetools_0.2-19      \n",
       "[37] fansi_1.0.5            crayon_1.5.2           withr_2.5.2           \n",
       "[40] rhdf5filters_1.6.0     MASS_7.3-60            bitops_1.0-7          \n",
       "[43] grid_4.1.0             nlme_3.1-163           gtable_0.3.4          \n",
       "[46] lifecycle_1.0.4        magrittr_2.0.3         scales_1.2.1          \n",
       "[49] cli_3.6.2              stringi_1.7.6          XVector_0.34.0        \n",
       "[52] reshape2_1.4.4         generics_0.1.3         vctrs_0.6.5           \n",
       "[55] IRkernel_1.3.2         RColorBrewer_1.1-3     Rhdf5lib_1.16.0       \n",
       "[58] iterators_1.0.14       tools_4.1.0            ade4_1.7-22           \n",
       "[61] Biobase_2.54.0         glue_1.7.0             purrr_1.0.2           \n",
       "[64] survival_3.5-7         parallel_4.1.0         fastmap_1.1.1         \n",
       "[67] colorspace_2.1-0       rhdf5_2.38.0           cluster_2.1.4         \n",
       "[70] pbdZMQ_0.3-10         "
      ]
     },
     "metadata": {},
     "output_type": "display_data"
    }
   ],
   "source": [
    "sessionInfo()"
   ]
  },
  {
   "cell_type": "code",
   "execution_count": null,
   "metadata": {},
   "outputs": [],
   "source": []
  }
 ],
 "metadata": {
  "kernelspec": {
   "display_name": "R",
   "language": "R",
   "name": "ir"
  },
  "language_info": {
   "codemirror_mode": "r",
   "file_extension": ".r",
   "mimetype": "text/x-r-source",
   "name": "R",
   "pygments_lexer": "r",
   "version": "4.1.0"
  },
  "latex_envs": {
   "LaTeX_envs_menu_present": true,
   "autoclose": false,
   "autocomplete": true,
   "bibliofile": "biblio.bib",
   "cite_by": "apalike",
   "current_citInitial": 1,
   "eqLabelWithNumbers": true,
   "eqNumInitial": 1,
   "hotkeys": {
    "equation": "Ctrl-E",
    "itemize": "Ctrl-I"
   },
   "labels_anchors": false,
   "latex_user_defs": false,
   "report_style_numbering": false,
   "user_envs_cfg": false
  },
  "toc": {
   "base_numbering": 1,
   "nav_menu": {},
   "number_sections": true,
   "sideBar": true,
   "skip_h1_title": false,
   "title_cell": "Table of Contents",
   "title_sidebar": "Contents",
   "toc_cell": false,
   "toc_position": {},
   "toc_section_display": true,
   "toc_window_display": false
  },
  "varInspector": {
   "cols": {
    "lenName": 16,
    "lenType": 16,
    "lenVar": 40
   },
   "kernels_config": {
    "python": {
     "delete_cmd_postfix": "",
     "delete_cmd_prefix": "del ",
     "library": "var_list.py",
     "varRefreshCmd": "print(var_dic_list())"
    },
    "r": {
     "delete_cmd_postfix": ") ",
     "delete_cmd_prefix": "rm(",
     "library": "var_list.r",
     "varRefreshCmd": "cat(var_dic_list()) "
    }
   },
   "types_to_exclude": [
    "module",
    "function",
    "builtin_function_or_method",
    "instance",
    "_Feature"
   ],
   "window_display": false
  }
 },
 "nbformat": 4,
 "nbformat_minor": 5
}
