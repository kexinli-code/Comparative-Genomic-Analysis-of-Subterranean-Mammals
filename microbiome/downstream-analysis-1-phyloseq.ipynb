{
 "cells": [
  {
   "cell_type": "code",
   "execution_count": 1,
   "metadata": {
    "ExecuteTime": {
     "end_time": "2024-03-13T01:38:38.648555Z",
     "start_time": "2024-03-13T01:38:38.541Z"
    }
   },
   "outputs": [
    {
     "data": {
      "text/html": [
       "<style>\n",
       ".list-inline {list-style: none; margin:0; padding: 0}\n",
       ".list-inline>li {display: inline-block}\n",
       ".list-inline>li:not(:last-child)::after {content: \"\\00b7\"; padding: 0 .5ex}\n",
       "</style>\n",
       "<ol class=list-inline><li>'alpha_div.rds'</li><li>'alpha_habitat.pdf'</li><li>'alpha_Observed_MRM.pdf'</li><li>'alpha_pgls.pdf'</li><li>'alpha_Shannon_MRM.pdf'</li><li>'alpha_species.pdf'</li><li>'ASV_species.xls'</li><li>'ASV_table.tsv'</li><li>'beta_div.rds'</li><li>'bray_distance.xls'</li><li>'bray_MRM.pdf'</li><li>'bray_pcoa.pdf'</li><li>'bray_pgls.pdf'</li><li>'dna-sequences.fasta'</li><li>'Enterotypes_bamboo.pdf'</li><li>'filtered-table.tsv'</li><li>'genus_lefse_Bathyergidae.pdf'</li><li>'genus_lefse_habitat.pdf'</li><li>'genus_lefse_Spalacidae.pdf'</li><li>'host_tree_exp_dist.RDS'</li><li>'host_tree_exp.nwk'</li><li>'host_tree.nwk'</li><li>'host_tree.pdf'</li><li>'host_tree.png'</li><li>'init.R'</li><li>'metadata.txt'</li><li>'otu_genus.xls'</li><li>'otu_phylum.xls'</li><li>'OTU_species.xls'</li><li>'phyloseq_phylum_itol-phylumbar.txt'</li><li>'phyloseq.rds'</li><li>'physeq_diet-itol.txt'</li><li>'physeq_gut-itol.txt'</li><li>'physeq_life_style-itol.txt'</li><li>'physeq_sample_type-itol.txt'</li><li>'rarefied_ASV.xls'</li><li>'rep.fa'</li><li>'rep.xls'</li><li>'rooted_tree.nwk'</li><li>'taxa.xls'</li><li>'taxonomy.tsv'</li><li>'upgma_bray_species.pdf'</li></ol>\n"
      ],
      "text/latex": [
       "\\begin{enumerate*}\n",
       "\\item 'alpha\\_div.rds'\n",
       "\\item 'alpha\\_habitat.pdf'\n",
       "\\item 'alpha\\_Observed\\_MRM.pdf'\n",
       "\\item 'alpha\\_pgls.pdf'\n",
       "\\item 'alpha\\_Shannon\\_MRM.pdf'\n",
       "\\item 'alpha\\_species.pdf'\n",
       "\\item 'ASV\\_species.xls'\n",
       "\\item 'ASV\\_table.tsv'\n",
       "\\item 'beta\\_div.rds'\n",
       "\\item 'bray\\_distance.xls'\n",
       "\\item 'bray\\_MRM.pdf'\n",
       "\\item 'bray\\_pcoa.pdf'\n",
       "\\item 'bray\\_pgls.pdf'\n",
       "\\item 'dna-sequences.fasta'\n",
       "\\item 'Enterotypes\\_bamboo.pdf'\n",
       "\\item 'filtered-table.tsv'\n",
       "\\item 'genus\\_lefse\\_Bathyergidae.pdf'\n",
       "\\item 'genus\\_lefse\\_habitat.pdf'\n",
       "\\item 'genus\\_lefse\\_Spalacidae.pdf'\n",
       "\\item 'host\\_tree\\_exp\\_dist.RDS'\n",
       "\\item 'host\\_tree\\_exp.nwk'\n",
       "\\item 'host\\_tree.nwk'\n",
       "\\item 'host\\_tree.pdf'\n",
       "\\item 'host\\_tree.png'\n",
       "\\item 'init.R'\n",
       "\\item 'metadata.txt'\n",
       "\\item 'otu\\_genus.xls'\n",
       "\\item 'otu\\_phylum.xls'\n",
       "\\item 'OTU\\_species.xls'\n",
       "\\item 'phyloseq\\_phylum\\_itol-phylumbar.txt'\n",
       "\\item 'phyloseq.rds'\n",
       "\\item 'physeq\\_diet-itol.txt'\n",
       "\\item 'physeq\\_gut-itol.txt'\n",
       "\\item 'physeq\\_life\\_style-itol.txt'\n",
       "\\item 'physeq\\_sample\\_type-itol.txt'\n",
       "\\item 'rarefied\\_ASV.xls'\n",
       "\\item 'rep.fa'\n",
       "\\item 'rep.xls'\n",
       "\\item 'rooted\\_tree.nwk'\n",
       "\\item 'taxa.xls'\n",
       "\\item 'taxonomy.tsv'\n",
       "\\item 'upgma\\_bray\\_species.pdf'\n",
       "\\end{enumerate*}\n"
      ],
      "text/markdown": [
       "1. 'alpha_div.rds'\n",
       "2. 'alpha_habitat.pdf'\n",
       "3. 'alpha_Observed_MRM.pdf'\n",
       "4. 'alpha_pgls.pdf'\n",
       "5. 'alpha_Shannon_MRM.pdf'\n",
       "6. 'alpha_species.pdf'\n",
       "7. 'ASV_species.xls'\n",
       "8. 'ASV_table.tsv'\n",
       "9. 'beta_div.rds'\n",
       "10. 'bray_distance.xls'\n",
       "11. 'bray_MRM.pdf'\n",
       "12. 'bray_pcoa.pdf'\n",
       "13. 'bray_pgls.pdf'\n",
       "14. 'dna-sequences.fasta'\n",
       "15. 'Enterotypes_bamboo.pdf'\n",
       "16. 'filtered-table.tsv'\n",
       "17. 'genus_lefse_Bathyergidae.pdf'\n",
       "18. 'genus_lefse_habitat.pdf'\n",
       "19. 'genus_lefse_Spalacidae.pdf'\n",
       "20. 'host_tree_exp_dist.RDS'\n",
       "21. 'host_tree_exp.nwk'\n",
       "22. 'host_tree.nwk'\n",
       "23. 'host_tree.pdf'\n",
       "24. 'host_tree.png'\n",
       "25. 'init.R'\n",
       "26. 'metadata.txt'\n",
       "27. 'otu_genus.xls'\n",
       "28. 'otu_phylum.xls'\n",
       "29. 'OTU_species.xls'\n",
       "30. 'phyloseq_phylum_itol-phylumbar.txt'\n",
       "31. 'phyloseq.rds'\n",
       "32. 'physeq_diet-itol.txt'\n",
       "33. 'physeq_gut-itol.txt'\n",
       "34. 'physeq_life_style-itol.txt'\n",
       "35. 'physeq_sample_type-itol.txt'\n",
       "36. 'rarefied_ASV.xls'\n",
       "37. 'rep.fa'\n",
       "38. 'rep.xls'\n",
       "39. 'rooted_tree.nwk'\n",
       "40. 'taxa.xls'\n",
       "41. 'taxonomy.tsv'\n",
       "42. 'upgma_bray_species.pdf'\n",
       "\n",
       "\n"
      ],
      "text/plain": [
       " [1] \"alpha_div.rds\"                      \"alpha_habitat.pdf\"                 \n",
       " [3] \"alpha_Observed_MRM.pdf\"             \"alpha_pgls.pdf\"                    \n",
       " [5] \"alpha_Shannon_MRM.pdf\"              \"alpha_species.pdf\"                 \n",
       " [7] \"ASV_species.xls\"                    \"ASV_table.tsv\"                     \n",
       " [9] \"beta_div.rds\"                       \"bray_distance.xls\"                 \n",
       "[11] \"bray_MRM.pdf\"                       \"bray_pcoa.pdf\"                     \n",
       "[13] \"bray_pgls.pdf\"                      \"dna-sequences.fasta\"               \n",
       "[15] \"Enterotypes_bamboo.pdf\"             \"filtered-table.tsv\"                \n",
       "[17] \"genus_lefse_Bathyergidae.pdf\"       \"genus_lefse_habitat.pdf\"           \n",
       "[19] \"genus_lefse_Spalacidae.pdf\"         \"host_tree_exp_dist.RDS\"            \n",
       "[21] \"host_tree_exp.nwk\"                  \"host_tree.nwk\"                     \n",
       "[23] \"host_tree.pdf\"                      \"host_tree.png\"                     \n",
       "[25] \"init.R\"                             \"metadata.txt\"                      \n",
       "[27] \"otu_genus.xls\"                      \"otu_phylum.xls\"                    \n",
       "[29] \"OTU_species.xls\"                    \"phyloseq_phylum_itol-phylumbar.txt\"\n",
       "[31] \"phyloseq.rds\"                       \"physeq_diet-itol.txt\"              \n",
       "[33] \"physeq_gut-itol.txt\"                \"physeq_life_style-itol.txt\"        \n",
       "[35] \"physeq_sample_type-itol.txt\"        \"rarefied_ASV.xls\"                  \n",
       "[37] \"rep.fa\"                             \"rep.xls\"                           \n",
       "[39] \"rooted_tree.nwk\"                    \"taxa.xls\"                          \n",
       "[41] \"taxonomy.tsv\"                       \"upgma_bray_species.pdf\"            "
      ]
     },
     "metadata": {},
     "output_type": "display_data"
    }
   ],
   "source": [
    "#更换工作路径\n",
    "setwd('/public/home/lyx/00.16S/00BR/00.bamboorat/phyloseq/')\n",
    "#显示路径下的所有文件\n",
    "list.files()"
   ]
  },
  {
   "cell_type": "code",
   "execution_count": 2,
   "metadata": {
    "ExecuteTime": {
     "end_time": "2024-03-13T01:38:46.807975Z",
     "start_time": "2024-03-13T01:38:39.557Z"
    }
   },
   "outputs": [
    {
     "name": "stderr",
     "output_type": "stream",
     "text": [
      "\n",
      "Attaching package: ‘dplyr’\n",
      "\n",
      "\n",
      "The following objects are masked from ‘package:stats’:\n",
      "\n",
      "    filter, lag\n",
      "\n",
      "\n",
      "The following objects are masked from ‘package:base’:\n",
      "\n",
      "    intersect, setdiff, setequal, union\n",
      "\n",
      "\n",
      "\n",
      "Attaching package: ‘ape’\n",
      "\n",
      "\n",
      "The following object is masked from ‘package:dplyr’:\n",
      "\n",
      "    where\n",
      "\n",
      "\n"
     ]
    }
   ],
   "source": [
    "####import packages####\n",
    "library(phyloseq)\n",
    "library(tidyr)\n",
    "library(dplyr)\n",
    "library(ape)\n",
    "library(ggplot2)\n",
    "library(stringr)"
   ]
  },
  {
   "cell_type": "code",
   "execution_count": 3,
   "metadata": {
    "ExecuteTime": {
     "end_time": "2024-03-13T01:38:57.396258Z",
     "start_time": "2024-03-13T01:38:55.983Z"
    }
   },
   "outputs": [
    {
     "data": {
      "text/plain": [
       "phyloseq-class experiment-level object\n",
       "otu_table()   OTU Table:         [ 5722 taxa and 80 samples ]\n",
       "sample_data() Sample Data:       [ 80 samples by 15 sample variables ]\n",
       "tax_table()   Taxonomy Table:    [ 5722 taxa by 7 taxonomic ranks ]\n",
       "phy_tree()    Phylogenetic Tree: [ 5722 tips and 5721 internal nodes ]"
      ]
     },
     "metadata": {},
     "output_type": "display_data"
    },
    {
     "data": {
      "text/html": [
       "<style>\n",
       ".dl-inline {width: auto; margin:0; padding: 0}\n",
       ".dl-inline>dt, .dl-inline>dd {float: none; width: auto; display: inline-block}\n",
       ".dl-inline>dt::after {content: \":\\0020\"; padding-right: .5ex}\n",
       ".dl-inline>dt:not(:first-of-type) {padding-left: .5ex}\n",
       "</style><dl class=dl-inline><dt>BMR1</dt><dd>23328</dd><dt>BMR2</dt><dd>13095</dd><dt>BMR3</dt><dd>11853</dd><dt>BMR4</dt><dd>17567</dd><dt>BMR5</dt><dd>26984</dd><dt>BMR6</dt><dd>13120</dd><dt>CBR1</dt><dd>11559</dd><dt>CBR10</dt><dd>30428</dd><dt>CBR2</dt><dd>66500</dd><dt>CBR3</dt><dd>57817</dd><dt>CBR4</dt><dd>36844</dd><dt>CBR5</dt><dd>58129</dd><dt>CBR6</dt><dd>64629</dd><dt>CBR7</dt><dd>64977</dd><dt>CBR8</dt><dd>37228</dd><dt>CBR9</dt><dd>37829</dd><dt>CN1</dt><dd>66087</dd><dt>CN2</dt><dd>63245</dd><dt>CN3</dt><dd>61768</dd><dt>CN4</dt><dd>55489</dd><dt>CN5</dt><dd>61544</dd><dt>CN6</dt><dd>67583</dd><dt>CWR1</dt><dd>64942</dd><dt>CWR2</dt><dd>48609</dd><dt>CWR3</dt><dd>65150</dd><dt>CWR4</dt><dd>67843</dd><dt>CWR5</dt><dd>70512</dd><dt>CWR6</dt><dd>59448</dd><dt>DMR1</dt><dd>77932</dd><dt>DMR2</dt><dd>62606</dd><dt>DMR3</dt><dd>76161</dd><dt>DMR4</dt><dd>58531</dd><dt>DMR5</dt><dd>56610</dd><dt>DMR6</dt><dd>46495</dd><dt>EL1</dt><dd>48736</dd><dt>EL2</dt><dd>56996</dd><dt>EL3</dt><dd>63257</dd><dt>GZ1</dt><dd>35905</dd><dt>GZ2</dt><dd>42948</dd><dt>GZ3</dt><dd>36362</dd><dt>GZ4</dt><dd>37054</dd><dt>GZ5</dt><dd>38293</dd><dt>GZ6</dt><dd>39135</dd><dt>NMR1</dt><dd>15646</dd><dt>NMR2</dt><dd>14336</dd><dt>NMR3</dt><dd>14897</dd><dt>NMR4</dt><dd>14981</dd><dt>NMR5</dt><dd>15779</dd><dt>NMR6</dt><dd>15349</dd><dt>PC1</dt><dd>218516</dd><dt>PC2</dt><dd>90323</dd><dt>PC3</dt><dd>99873</dd><dt>PC4</dt><dd>139123</dd><dt>PC5</dt><dd>118874</dd><dt>PC6</dt><dd>100060</dd><dt>PC7</dt><dd>59512</dd><dt>PM1</dt><dd>60910</dd><dt>PM2</dt><dd>89797</dd><dt>SCFM1</dt><dd>68764</dd><dt>SCFM2</dt><dd>71190</dd><dt>SCFM3</dt><dd>54795</dd><dt>SCFM4</dt><dd>59272</dd><dt>SCFM5</dt><dd>45966</dd><dt>SCFM6</dt><dd>68372</dd><dt>SM1</dt><dd>47280</dd><dt>SM2</dt><dd>49984</dd><dt>SM3</dt><dd>46931</dd><dt>SM4</dt><dd>40028</dd><dt>SM5</dt><dd>54674</dd><dt>SM6</dt><dd>43636</dd><dt>SR1</dt><dd>251124</dd><dt>SR2</dt><dd>75912</dd><dt>SR3</dt><dd>61109</dd><dt>SR4</dt><dd>68173</dd><dt>SR5</dt><dd>62696</dd><dt>SR6</dt><dd>88536</dd><dt>WHM1</dt><dd>81835</dd><dt>WHM2</dt><dd>113524</dd><dt>WHM3</dt><dd>95480</dd><dt>WHM4</dt><dd>91922</dd></dl>\n"
      ],
      "text/latex": [
       "\\begin{description*}\n",
       "\\item[BMR1] 23328\n",
       "\\item[BMR2] 13095\n",
       "\\item[BMR3] 11853\n",
       "\\item[BMR4] 17567\n",
       "\\item[BMR5] 26984\n",
       "\\item[BMR6] 13120\n",
       "\\item[CBR1] 11559\n",
       "\\item[CBR10] 30428\n",
       "\\item[CBR2] 66500\n",
       "\\item[CBR3] 57817\n",
       "\\item[CBR4] 36844\n",
       "\\item[CBR5] 58129\n",
       "\\item[CBR6] 64629\n",
       "\\item[CBR7] 64977\n",
       "\\item[CBR8] 37228\n",
       "\\item[CBR9] 37829\n",
       "\\item[CN1] 66087\n",
       "\\item[CN2] 63245\n",
       "\\item[CN3] 61768\n",
       "\\item[CN4] 55489\n",
       "\\item[CN5] 61544\n",
       "\\item[CN6] 67583\n",
       "\\item[CWR1] 64942\n",
       "\\item[CWR2] 48609\n",
       "\\item[CWR3] 65150\n",
       "\\item[CWR4] 67843\n",
       "\\item[CWR5] 70512\n",
       "\\item[CWR6] 59448\n",
       "\\item[DMR1] 77932\n",
       "\\item[DMR2] 62606\n",
       "\\item[DMR3] 76161\n",
       "\\item[DMR4] 58531\n",
       "\\item[DMR5] 56610\n",
       "\\item[DMR6] 46495\n",
       "\\item[EL1] 48736\n",
       "\\item[EL2] 56996\n",
       "\\item[EL3] 63257\n",
       "\\item[GZ1] 35905\n",
       "\\item[GZ2] 42948\n",
       "\\item[GZ3] 36362\n",
       "\\item[GZ4] 37054\n",
       "\\item[GZ5] 38293\n",
       "\\item[GZ6] 39135\n",
       "\\item[NMR1] 15646\n",
       "\\item[NMR2] 14336\n",
       "\\item[NMR3] 14897\n",
       "\\item[NMR4] 14981\n",
       "\\item[NMR5] 15779\n",
       "\\item[NMR6] 15349\n",
       "\\item[PC1] 218516\n",
       "\\item[PC2] 90323\n",
       "\\item[PC3] 99873\n",
       "\\item[PC4] 139123\n",
       "\\item[PC5] 118874\n",
       "\\item[PC6] 100060\n",
       "\\item[PC7] 59512\n",
       "\\item[PM1] 60910\n",
       "\\item[PM2] 89797\n",
       "\\item[SCFM1] 68764\n",
       "\\item[SCFM2] 71190\n",
       "\\item[SCFM3] 54795\n",
       "\\item[SCFM4] 59272\n",
       "\\item[SCFM5] 45966\n",
       "\\item[SCFM6] 68372\n",
       "\\item[SM1] 47280\n",
       "\\item[SM2] 49984\n",
       "\\item[SM3] 46931\n",
       "\\item[SM4] 40028\n",
       "\\item[SM5] 54674\n",
       "\\item[SM6] 43636\n",
       "\\item[SR1] 251124\n",
       "\\item[SR2] 75912\n",
       "\\item[SR3] 61109\n",
       "\\item[SR4] 68173\n",
       "\\item[SR5] 62696\n",
       "\\item[SR6] 88536\n",
       "\\item[WHM1] 81835\n",
       "\\item[WHM2] 113524\n",
       "\\item[WHM3] 95480\n",
       "\\item[WHM4] 91922\n",
       "\\end{description*}\n"
      ],
      "text/markdown": [
       "BMR1\n",
       ":   23328BMR2\n",
       ":   13095BMR3\n",
       ":   11853BMR4\n",
       ":   17567BMR5\n",
       ":   26984BMR6\n",
       ":   13120CBR1\n",
       ":   11559CBR10\n",
       ":   30428CBR2\n",
       ":   66500CBR3\n",
       ":   57817CBR4\n",
       ":   36844CBR5\n",
       ":   58129CBR6\n",
       ":   64629CBR7\n",
       ":   64977CBR8\n",
       ":   37228CBR9\n",
       ":   37829CN1\n",
       ":   66087CN2\n",
       ":   63245CN3\n",
       ":   61768CN4\n",
       ":   55489CN5\n",
       ":   61544CN6\n",
       ":   67583CWR1\n",
       ":   64942CWR2\n",
       ":   48609CWR3\n",
       ":   65150CWR4\n",
       ":   67843CWR5\n",
       ":   70512CWR6\n",
       ":   59448DMR1\n",
       ":   77932DMR2\n",
       ":   62606DMR3\n",
       ":   76161DMR4\n",
       ":   58531DMR5\n",
       ":   56610DMR6\n",
       ":   46495EL1\n",
       ":   48736EL2\n",
       ":   56996EL3\n",
       ":   63257GZ1\n",
       ":   35905GZ2\n",
       ":   42948GZ3\n",
       ":   36362GZ4\n",
       ":   37054GZ5\n",
       ":   38293GZ6\n",
       ":   39135NMR1\n",
       ":   15646NMR2\n",
       ":   14336NMR3\n",
       ":   14897NMR4\n",
       ":   14981NMR5\n",
       ":   15779NMR6\n",
       ":   15349PC1\n",
       ":   218516PC2\n",
       ":   90323PC3\n",
       ":   99873PC4\n",
       ":   139123PC5\n",
       ":   118874PC6\n",
       ":   100060PC7\n",
       ":   59512PM1\n",
       ":   60910PM2\n",
       ":   89797SCFM1\n",
       ":   68764SCFM2\n",
       ":   71190SCFM3\n",
       ":   54795SCFM4\n",
       ":   59272SCFM5\n",
       ":   45966SCFM6\n",
       ":   68372SM1\n",
       ":   47280SM2\n",
       ":   49984SM3\n",
       ":   46931SM4\n",
       ":   40028SM5\n",
       ":   54674SM6\n",
       ":   43636SR1\n",
       ":   251124SR2\n",
       ":   75912SR3\n",
       ":   61109SR4\n",
       ":   68173SR5\n",
       ":   62696SR6\n",
       ":   88536WHM1\n",
       ":   81835WHM2\n",
       ":   113524WHM3\n",
       ":   95480WHM4\n",
       ":   91922\n",
       "\n"
      ],
      "text/plain": [
       "  BMR1   BMR2   BMR3   BMR4   BMR5   BMR6   CBR1  CBR10   CBR2   CBR3   CBR4 \n",
       " 23328  13095  11853  17567  26984  13120  11559  30428  66500  57817  36844 \n",
       "  CBR5   CBR6   CBR7   CBR8   CBR9    CN1    CN2    CN3    CN4    CN5    CN6 \n",
       " 58129  64629  64977  37228  37829  66087  63245  61768  55489  61544  67583 \n",
       "  CWR1   CWR2   CWR3   CWR4   CWR5   CWR6   DMR1   DMR2   DMR3   DMR4   DMR5 \n",
       " 64942  48609  65150  67843  70512  59448  77932  62606  76161  58531  56610 \n",
       "  DMR6    EL1    EL2    EL3    GZ1    GZ2    GZ3    GZ4    GZ5    GZ6   NMR1 \n",
       " 46495  48736  56996  63257  35905  42948  36362  37054  38293  39135  15646 \n",
       "  NMR2   NMR3   NMR4   NMR5   NMR6    PC1    PC2    PC3    PC4    PC5    PC6 \n",
       " 14336  14897  14981  15779  15349 218516  90323  99873 139123 118874 100060 \n",
       "   PC7    PM1    PM2  SCFM1  SCFM2  SCFM3  SCFM4  SCFM5  SCFM6    SM1    SM2 \n",
       " 59512  60910  89797  68764  71190  54795  59272  45966  68372  47280  49984 \n",
       "   SM3    SM4    SM5    SM6    SR1    SR2    SR3    SR4    SR5    SR6   WHM1 \n",
       " 46931  40028  54674  43636 251124  75912  61109  68173  62696  88536  81835 \n",
       "  WHM2   WHM3   WHM4 \n",
       "113524  95480  91922 "
      ]
     },
     "metadata": {},
     "output_type": "display_data"
    }
   ],
   "source": [
    "####phyloseq####\n",
    "otu <- read.delim2(\"ASV_table.tsv\",header=T,\n",
    "                       sep=\"\\t\",check.names = F,row.names = 1) %>%as.matrix()\n",
    "tax <- read.delim(\"taxa.xls\",header=T,row.names = 1,\n",
    "                      sep=\"\\t\",check.names = F) %>% as.matrix()\n",
    "samples <- read.table(\"metadata.txt\",header = T,\n",
    "                         sep=\"\\t\",check.names = F,row.names = 1)\n",
    "tree <- read.tree(\"rooted_tree.nwk\")\n",
    "\n",
    "OTU = otu_table(otu,taxa_are_rows =T)\n",
    "TAX = tax_table(tax)\n",
    "samples = sample_data(samples)\n",
    "\n",
    "phyloseq <- phyloseq(OTU,TAX,samples,tree)\n",
    "phyloseq\n",
    "sample_sums(phyloseq)"
   ]
  },
  {
   "cell_type": "code",
   "execution_count": 4,
   "metadata": {
    "ExecuteTime": {
     "end_time": "2024-03-13T01:39:09.255020Z",
     "start_time": "2024-03-13T01:39:05.175Z"
    }
   },
   "outputs": [
    {
     "name": "stderr",
     "output_type": "stream",
     "text": [
      "`set.seed(1)` was used to initialize repeatable random subsampling.\n",
      "\n",
      "Please record this for your records so others can reproduce.\n",
      "\n",
      "Try `set.seed(1); .Random.seed` for the full vector\n",
      "\n",
      "...\n",
      "\n",
      "864OTUs were removed because they are no longer \n",
      "present in any sample after random subsampling\n",
      "\n",
      "\n",
      "...\n",
      "\n"
     ]
    },
    {
     "data": {
      "text/plain": [
       "phyloseq-class experiment-level object\n",
       "otu_table()   OTU Table:         [ 4858 taxa and 80 samples ]\n",
       "sample_data() Sample Data:       [ 80 samples by 15 sample variables ]\n",
       "tax_table()   Taxonomy Table:    [ 4858 taxa by 7 taxonomic ranks ]\n",
       "phy_tree()    Phylogenetic Tree: [ 4858 tips and 4857 internal nodes ]"
      ]
     },
     "metadata": {},
     "output_type": "display_data"
    },
    {
     "data": {
      "text/html": [
       "<style>\n",
       ".dl-inline {width: auto; margin:0; padding: 0}\n",
       ".dl-inline>dt, .dl-inline>dd {float: none; width: auto; display: inline-block}\n",
       ".dl-inline>dt::after {content: \":\\0020\"; padding-right: .5ex}\n",
       ".dl-inline>dt:not(:first-of-type) {padding-left: .5ex}\n",
       "</style><dl class=dl-inline><dt>BMR1</dt><dd>11559</dd><dt>BMR2</dt><dd>11559</dd><dt>BMR3</dt><dd>11559</dd><dt>BMR4</dt><dd>11559</dd><dt>BMR5</dt><dd>11559</dd><dt>BMR6</dt><dd>11559</dd><dt>CBR1</dt><dd>11559</dd><dt>CBR10</dt><dd>11559</dd><dt>CBR2</dt><dd>11559</dd><dt>CBR3</dt><dd>11559</dd><dt>CBR4</dt><dd>11559</dd><dt>CBR5</dt><dd>11559</dd><dt>CBR6</dt><dd>11559</dd><dt>CBR7</dt><dd>11559</dd><dt>CBR8</dt><dd>11559</dd><dt>CBR9</dt><dd>11559</dd><dt>CN1</dt><dd>11559</dd><dt>CN2</dt><dd>11559</dd><dt>CN3</dt><dd>11559</dd><dt>CN4</dt><dd>11559</dd><dt>CN5</dt><dd>11559</dd><dt>CN6</dt><dd>11559</dd><dt>CWR1</dt><dd>11559</dd><dt>CWR2</dt><dd>11559</dd><dt>CWR3</dt><dd>11559</dd><dt>CWR4</dt><dd>11559</dd><dt>CWR5</dt><dd>11559</dd><dt>CWR6</dt><dd>11559</dd><dt>DMR1</dt><dd>11559</dd><dt>DMR2</dt><dd>11559</dd><dt>DMR3</dt><dd>11559</dd><dt>DMR4</dt><dd>11559</dd><dt>DMR5</dt><dd>11559</dd><dt>DMR6</dt><dd>11559</dd><dt>EL1</dt><dd>11559</dd><dt>EL2</dt><dd>11559</dd><dt>EL3</dt><dd>11559</dd><dt>GZ1</dt><dd>11559</dd><dt>GZ2</dt><dd>11559</dd><dt>GZ3</dt><dd>11559</dd><dt>GZ4</dt><dd>11559</dd><dt>GZ5</dt><dd>11559</dd><dt>GZ6</dt><dd>11559</dd><dt>NMR1</dt><dd>11559</dd><dt>NMR2</dt><dd>11559</dd><dt>NMR3</dt><dd>11559</dd><dt>NMR4</dt><dd>11559</dd><dt>NMR5</dt><dd>11559</dd><dt>NMR6</dt><dd>11559</dd><dt>PC1</dt><dd>11559</dd><dt>PC2</dt><dd>11559</dd><dt>PC3</dt><dd>11559</dd><dt>PC4</dt><dd>11559</dd><dt>PC5</dt><dd>11559</dd><dt>PC6</dt><dd>11559</dd><dt>PC7</dt><dd>11559</dd><dt>PM1</dt><dd>11559</dd><dt>PM2</dt><dd>11559</dd><dt>SCFM1</dt><dd>11559</dd><dt>SCFM2</dt><dd>11559</dd><dt>SCFM3</dt><dd>11559</dd><dt>SCFM4</dt><dd>11559</dd><dt>SCFM5</dt><dd>11559</dd><dt>SCFM6</dt><dd>11559</dd><dt>SM1</dt><dd>11559</dd><dt>SM2</dt><dd>11559</dd><dt>SM3</dt><dd>11559</dd><dt>SM4</dt><dd>11559</dd><dt>SM5</dt><dd>11559</dd><dt>SM6</dt><dd>11559</dd><dt>SR1</dt><dd>11559</dd><dt>SR2</dt><dd>11559</dd><dt>SR3</dt><dd>11559</dd><dt>SR4</dt><dd>11559</dd><dt>SR5</dt><dd>11559</dd><dt>SR6</dt><dd>11559</dd><dt>WHM1</dt><dd>11559</dd><dt>WHM2</dt><dd>11559</dd><dt>WHM3</dt><dd>11559</dd><dt>WHM4</dt><dd>11559</dd></dl>\n"
      ],
      "text/latex": [
       "\\begin{description*}\n",
       "\\item[BMR1] 11559\n",
       "\\item[BMR2] 11559\n",
       "\\item[BMR3] 11559\n",
       "\\item[BMR4] 11559\n",
       "\\item[BMR5] 11559\n",
       "\\item[BMR6] 11559\n",
       "\\item[CBR1] 11559\n",
       "\\item[CBR10] 11559\n",
       "\\item[CBR2] 11559\n",
       "\\item[CBR3] 11559\n",
       "\\item[CBR4] 11559\n",
       "\\item[CBR5] 11559\n",
       "\\item[CBR6] 11559\n",
       "\\item[CBR7] 11559\n",
       "\\item[CBR8] 11559\n",
       "\\item[CBR9] 11559\n",
       "\\item[CN1] 11559\n",
       "\\item[CN2] 11559\n",
       "\\item[CN3] 11559\n",
       "\\item[CN4] 11559\n",
       "\\item[CN5] 11559\n",
       "\\item[CN6] 11559\n",
       "\\item[CWR1] 11559\n",
       "\\item[CWR2] 11559\n",
       "\\item[CWR3] 11559\n",
       "\\item[CWR4] 11559\n",
       "\\item[CWR5] 11559\n",
       "\\item[CWR6] 11559\n",
       "\\item[DMR1] 11559\n",
       "\\item[DMR2] 11559\n",
       "\\item[DMR3] 11559\n",
       "\\item[DMR4] 11559\n",
       "\\item[DMR5] 11559\n",
       "\\item[DMR6] 11559\n",
       "\\item[EL1] 11559\n",
       "\\item[EL2] 11559\n",
       "\\item[EL3] 11559\n",
       "\\item[GZ1] 11559\n",
       "\\item[GZ2] 11559\n",
       "\\item[GZ3] 11559\n",
       "\\item[GZ4] 11559\n",
       "\\item[GZ5] 11559\n",
       "\\item[GZ6] 11559\n",
       "\\item[NMR1] 11559\n",
       "\\item[NMR2] 11559\n",
       "\\item[NMR3] 11559\n",
       "\\item[NMR4] 11559\n",
       "\\item[NMR5] 11559\n",
       "\\item[NMR6] 11559\n",
       "\\item[PC1] 11559\n",
       "\\item[PC2] 11559\n",
       "\\item[PC3] 11559\n",
       "\\item[PC4] 11559\n",
       "\\item[PC5] 11559\n",
       "\\item[PC6] 11559\n",
       "\\item[PC7] 11559\n",
       "\\item[PM1] 11559\n",
       "\\item[PM2] 11559\n",
       "\\item[SCFM1] 11559\n",
       "\\item[SCFM2] 11559\n",
       "\\item[SCFM3] 11559\n",
       "\\item[SCFM4] 11559\n",
       "\\item[SCFM5] 11559\n",
       "\\item[SCFM6] 11559\n",
       "\\item[SM1] 11559\n",
       "\\item[SM2] 11559\n",
       "\\item[SM3] 11559\n",
       "\\item[SM4] 11559\n",
       "\\item[SM5] 11559\n",
       "\\item[SM6] 11559\n",
       "\\item[SR1] 11559\n",
       "\\item[SR2] 11559\n",
       "\\item[SR3] 11559\n",
       "\\item[SR4] 11559\n",
       "\\item[SR5] 11559\n",
       "\\item[SR6] 11559\n",
       "\\item[WHM1] 11559\n",
       "\\item[WHM2] 11559\n",
       "\\item[WHM3] 11559\n",
       "\\item[WHM4] 11559\n",
       "\\end{description*}\n"
      ],
      "text/markdown": [
       "BMR1\n",
       ":   11559BMR2\n",
       ":   11559BMR3\n",
       ":   11559BMR4\n",
       ":   11559BMR5\n",
       ":   11559BMR6\n",
       ":   11559CBR1\n",
       ":   11559CBR10\n",
       ":   11559CBR2\n",
       ":   11559CBR3\n",
       ":   11559CBR4\n",
       ":   11559CBR5\n",
       ":   11559CBR6\n",
       ":   11559CBR7\n",
       ":   11559CBR8\n",
       ":   11559CBR9\n",
       ":   11559CN1\n",
       ":   11559CN2\n",
       ":   11559CN3\n",
       ":   11559CN4\n",
       ":   11559CN5\n",
       ":   11559CN6\n",
       ":   11559CWR1\n",
       ":   11559CWR2\n",
       ":   11559CWR3\n",
       ":   11559CWR4\n",
       ":   11559CWR5\n",
       ":   11559CWR6\n",
       ":   11559DMR1\n",
       ":   11559DMR2\n",
       ":   11559DMR3\n",
       ":   11559DMR4\n",
       ":   11559DMR5\n",
       ":   11559DMR6\n",
       ":   11559EL1\n",
       ":   11559EL2\n",
       ":   11559EL3\n",
       ":   11559GZ1\n",
       ":   11559GZ2\n",
       ":   11559GZ3\n",
       ":   11559GZ4\n",
       ":   11559GZ5\n",
       ":   11559GZ6\n",
       ":   11559NMR1\n",
       ":   11559NMR2\n",
       ":   11559NMR3\n",
       ":   11559NMR4\n",
       ":   11559NMR5\n",
       ":   11559NMR6\n",
       ":   11559PC1\n",
       ":   11559PC2\n",
       ":   11559PC3\n",
       ":   11559PC4\n",
       ":   11559PC5\n",
       ":   11559PC6\n",
       ":   11559PC7\n",
       ":   11559PM1\n",
       ":   11559PM2\n",
       ":   11559SCFM1\n",
       ":   11559SCFM2\n",
       ":   11559SCFM3\n",
       ":   11559SCFM4\n",
       ":   11559SCFM5\n",
       ":   11559SCFM6\n",
       ":   11559SM1\n",
       ":   11559SM2\n",
       ":   11559SM3\n",
       ":   11559SM4\n",
       ":   11559SM5\n",
       ":   11559SM6\n",
       ":   11559SR1\n",
       ":   11559SR2\n",
       ":   11559SR3\n",
       ":   11559SR4\n",
       ":   11559SR5\n",
       ":   11559SR6\n",
       ":   11559WHM1\n",
       ":   11559WHM2\n",
       ":   11559WHM3\n",
       ":   11559WHM4\n",
       ":   11559\n",
       "\n"
      ],
      "text/plain": [
       " BMR1  BMR2  BMR3  BMR4  BMR5  BMR6  CBR1 CBR10  CBR2  CBR3  CBR4  CBR5  CBR6 \n",
       "11559 11559 11559 11559 11559 11559 11559 11559 11559 11559 11559 11559 11559 \n",
       " CBR7  CBR8  CBR9   CN1   CN2   CN3   CN4   CN5   CN6  CWR1  CWR2  CWR3  CWR4 \n",
       "11559 11559 11559 11559 11559 11559 11559 11559 11559 11559 11559 11559 11559 \n",
       " CWR5  CWR6  DMR1  DMR2  DMR3  DMR4  DMR5  DMR6   EL1   EL2   EL3   GZ1   GZ2 \n",
       "11559 11559 11559 11559 11559 11559 11559 11559 11559 11559 11559 11559 11559 \n",
       "  GZ3   GZ4   GZ5   GZ6  NMR1  NMR2  NMR3  NMR4  NMR5  NMR6   PC1   PC2   PC3 \n",
       "11559 11559 11559 11559 11559 11559 11559 11559 11559 11559 11559 11559 11559 \n",
       "  PC4   PC5   PC6   PC7   PM1   PM2 SCFM1 SCFM2 SCFM3 SCFM4 SCFM5 SCFM6   SM1 \n",
       "11559 11559 11559 11559 11559 11559 11559 11559 11559 11559 11559 11559 11559 \n",
       "  SM2   SM3   SM4   SM5   SM6   SR1   SR2   SR3   SR4   SR5   SR6  WHM1  WHM2 \n",
       "11559 11559 11559 11559 11559 11559 11559 11559 11559 11559 11559 11559 11559 \n",
       " WHM3  WHM4 \n",
       "11559 11559 "
      ]
     },
     "metadata": {},
     "output_type": "display_data"
    }
   ],
   "source": [
    "####rarefy####\n",
    "set.seed(1)\n",
    "phyloseq<-rarefy_even_depth(phyloseq, rngseed=1,\n",
    "                               sample.size=min(sample_sums(phyloseq)),replace=F)\n",
    "phyloseq\n",
    "sample_sums(phyloseq)"
   ]
  },
  {
   "cell_type": "code",
   "execution_count": 5,
   "metadata": {
    "ExecuteTime": {
     "end_time": "2024-03-13T01:44:26.334853Z",
     "start_time": "2024-03-13T01:44:25.712Z"
    }
   },
   "outputs": [],
   "source": [
    "otu = phyloseq %>% \n",
    "    otu_table %>% \n",
    "    as.matrix  %>% \n",
    "    as.data.frame\n",
    "write.table(otu,\"rarefied_ASV.xls\",sep = \"\\t\",quote=F)"
   ]
  },
  {
   "cell_type": "code",
   "execution_count": 6,
   "metadata": {
    "ExecuteTime": {
     "end_time": "2024-03-13T01:44:28.447299Z",
     "start_time": "2024-03-13T01:44:28.342Z"
    }
   },
   "outputs": [
    {
     "name": "stdout",
     "output_type": "stream",
     "text": [
      "[1] 80\n"
     ]
    },
    {
     "data": {
      "text/html": [
       "<style>\n",
       ".list-inline {list-style: none; margin:0; padding: 0}\n",
       ".list-inline>li {display: inline-block}\n",
       ".list-inline>li:not(:last-child)::after {content: \"\\00b7\"; padding: 0 .5ex}\n",
       "</style>\n",
       "<ol class=list-inline><li>'Sampleid'</li><li>'Group'</li><li>'Class'</li><li>'Order'</li><li>'Family'</li><li>'Genus'</li><li>'Species'</li><li>'Sample_type'</li><li>'Captive_Wild'</li><li>'Domestic_Wild'</li><li>'Habitat'</li><li>'Diet'</li><li>'Diet_detail'</li><li>'Digestive_tract'</li><li>'Digest_detail'</li></ol>\n"
      ],
      "text/latex": [
       "\\begin{enumerate*}\n",
       "\\item 'Sampleid'\n",
       "\\item 'Group'\n",
       "\\item 'Class'\n",
       "\\item 'Order'\n",
       "\\item 'Family'\n",
       "\\item 'Genus'\n",
       "\\item 'Species'\n",
       "\\item 'Sample\\_type'\n",
       "\\item 'Captive\\_Wild'\n",
       "\\item 'Domestic\\_Wild'\n",
       "\\item 'Habitat'\n",
       "\\item 'Diet'\n",
       "\\item 'Diet\\_detail'\n",
       "\\item 'Digestive\\_tract'\n",
       "\\item 'Digest\\_detail'\n",
       "\\end{enumerate*}\n"
      ],
      "text/markdown": [
       "1. 'Sampleid'\n",
       "2. 'Group'\n",
       "3. 'Class'\n",
       "4. 'Order'\n",
       "5. 'Family'\n",
       "6. 'Genus'\n",
       "7. 'Species'\n",
       "8. 'Sample_type'\n",
       "9. 'Captive_Wild'\n",
       "10. 'Domestic_Wild'\n",
       "11. 'Habitat'\n",
       "12. 'Diet'\n",
       "13. 'Diet_detail'\n",
       "14. 'Digestive_tract'\n",
       "15. 'Digest_detail'\n",
       "\n",
       "\n"
      ],
      "text/plain": [
       " [1] \"Sampleid\"        \"Group\"           \"Class\"           \"Order\"          \n",
       " [5] \"Family\"          \"Genus\"           \"Species\"         \"Sample_type\"    \n",
       " [9] \"Captive_Wild\"    \"Domestic_Wild\"   \"Habitat\"         \"Diet\"           \n",
       "[13] \"Diet_detail\"     \"Digestive_tract\" \"Digest_detail\"  "
      ]
     },
     "metadata": {},
     "output_type": "display_data"
    },
    {
     "data": {
      "text/plain": [
       "   Sampleid            Group              Class              Order          \n",
       " Length:80          Length:80          Length:80          Length:80         \n",
       " Class :character   Class :character   Class :character   Class :character  \n",
       " Mode  :character   Mode  :character   Mode  :character   Mode  :character  \n",
       "    Family             Genus             Species          Sample_type       \n",
       " Length:80          Length:80          Length:80          Length:80         \n",
       " Class :character   Class :character   Class :character   Class :character  \n",
       " Mode  :character   Mode  :character   Mode  :character   Mode  :character  \n",
       " Captive_Wild       Domestic_Wild        Habitat              Diet          \n",
       " Length:80          Length:80          Length:80          Length:80         \n",
       " Class :character   Class :character   Class :character   Class :character  \n",
       " Mode  :character   Mode  :character   Mode  :character   Mode  :character  \n",
       " Diet_detail        Digestive_tract    Digest_detail     \n",
       " Length:80          Length:80          Length:80         \n",
       " Class :character   Class :character   Class :character  \n",
       " Mode  :character   Mode  :character   Mode  :character  "
      ]
     },
     "metadata": {},
     "output_type": "display_data"
    }
   ],
   "source": [
    "####import metadata####\n",
    "metadata = phyloseq %>%\n",
    "    sample_data %>%\n",
    "    as.matrix %>%\n",
    "    as.data.frame \n",
    "metadata %>% nrow %>% print\n",
    "#columns in metadata table\n",
    "metadata %>% colnames\n",
    "summary(metadata)"
   ]
  },
  {
   "cell_type": "code",
   "execution_count": 7,
   "metadata": {
    "ExecuteTime": {
     "end_time": "2024-03-13T01:55:10.716801Z",
     "start_time": "2024-03-13T01:55:10.536Z"
    }
   },
   "outputs": [
    {
     "data": {
      "text/plain": [
       "\n",
       "Phylogenetic tree with 14 tips and 13 internal nodes.\n",
       "\n",
       "Tip labels:\n",
       "  Sorex_araneus, Scaptochirus_moschatus, Niviventer_confucianus, Niviventer_fulvescens, Leopoldamys_edwardsi, Mus_musculus, ...\n",
       "Node labels:\n",
       "  , '14', '49', '43', '36', '25', ...\n",
       "\n",
       "Rooted; includes branch lengths."
      ]
     },
     "metadata": {},
     "output_type": "display_data"
    }
   ],
   "source": [
    "####import host tree####\n",
    "host_tree <- read.tree(\"host_tree.nwk\")\n",
    "host_tree"
   ]
  },
  {
   "cell_type": "code",
   "execution_count": 8,
   "metadata": {
    "ExecuteTime": {
     "end_time": "2024-03-13T01:55:13.387802Z",
     "start_time": "2024-03-13T01:55:13.085Z"
    }
   },
   "outputs": [
    {
     "data": {
      "image/png": "[encoded data removed]",
      "text/plain": [
       "plot without title"
      ]
     },
     "metadata": {
      "image/png": {
       "height": 300,
       "width": 360
      }
     },
     "output_type": "display_data"
    }
   ],
   "source": [
    "#plot host tree\n",
    "options(repr.plot.width=6, repr.plot.height=5)\n",
    "plot(host_tree, no.margin=TRUE, cex=1)"
   ]
  },
  {
   "cell_type": "code",
   "execution_count": null,
   "metadata": {
    "ExecuteTime": {
     "end_time": "2024-02-29T10:48:24.921457Z",
     "start_time": "2024-02-29T10:48:08.680Z"
    },
    "scrolled": true
   },
   "outputs": [],
   "source": [
    "#显示节点\n",
    "# library(ggtree)\n",
    "# data=fortify(host_tree)\n",
    "# p <- ggtree(host_tree) + \n",
    "#     geom_nodepoint(color=\"black\", alpha = 1, size = 2) +\n",
    "#     geom_tiplab(size=3, color=\"black\") +\n",
    "#     xlim_tree(max(data$x)*1.4)\n",
    "# p\n",
    "# ggsave(\"host_tree.pdf\",dpi = 1000)"
   ]
  },
  {
   "cell_type": "code",
   "execution_count": 9,
   "metadata": {
    "ExecuteTime": {
     "end_time": "2024-03-13T01:57:55.143769Z",
     "start_time": "2024-03-13T01:57:54.900Z"
    },
    "scrolled": true
   },
   "outputs": [],
   "source": [
    "####add all samples####\n",
    "#tip label <--> node id\n",
    "df_nodes = data.frame(label = host_tree$tip.label,\n",
    "                      node = 1:length(host_tree$tip.label))\n",
    "# df_nodes\n",
    "\n",
    "#adding all host_subj_id\n",
    "df_nodes = df_nodes %>%\n",
    "    inner_join(metadata %>% dplyr::select(Sampleid,Species)%>%\n",
    "               mutate(Species = gsub(' ', '_', Species)),\n",
    "               c('label'='Species')) %>%\n",
    "    as.data.frame\n",
    "\n",
    "# df_nodes"
   ]
  },
  {
   "cell_type": "code",
   "execution_count": 10,
   "metadata": {
    "ExecuteTime": {
     "end_time": "2024-03-13T01:57:58.931072Z",
     "start_time": "2024-03-13T01:57:58.706Z"
    }
   },
   "outputs": [
    {
     "data": {
      "text/plain": [
       "\n",
       "Phylogenetic tree with 80 tips and 27 internal nodes.\n",
       "\n",
       "Tip labels:\n",
       "  SR1, SR2, SR3, SR4, SR5, SR6, ...\n",
       "Node labels:\n",
       "  , '14', NA, NA, '49', '43', ...\n",
       "\n",
       "Rooted; includes branch lengths."
      ]
     },
     "metadata": {},
     "output_type": "display_data"
    }
   ],
   "source": [
    "####plot all samples####\n",
    "#adding new tips\n",
    "host_tree_exp = host_tree\n",
    "\n",
    "for(lab in unique(df_nodes$label)){\n",
    "    #creating polytomy tree\n",
    "    samps = df_nodes[df_nodes$label == lab,]\n",
    "    x = paste(samps$Sampleid, collapse=',')\n",
    "    x = paste0('(', x, ');')\n",
    "    tree_poly = read.tree(text = x)\n",
    "    #adding branch lengths \n",
    "    tree_poly = compute.brlen(tree_poly, 1e-10)\n",
    "    \n",
    "    #getting current node --> label structure\n",
    "    df_tmp = data.frame(label = host_tree_exp$tip.label,\n",
    "                        node = 1:length(host_tree_exp$tip.label))\n",
    "    \n",
    "    #getting node corresponding to tip label \n",
    "    x = 1:length(host_tree_exp$tip.label)\n",
    "    node = x[which(host_tree_exp$tip.label==lab)] \n",
    "\n",
    "    #adding subtree to main tree\n",
    "    host_tree_exp = bind.tree(host_tree_exp, tree_poly, where=node)\n",
    "}\n",
    "\n",
    "host_tree_exp"
   ]
  },
  {
   "cell_type": "code",
   "execution_count": 11,
   "metadata": {
    "ExecuteTime": {
     "end_time": "2024-03-13T01:58:13.105239Z",
     "start_time": "2024-03-13T01:58:12.751Z"
    },
    "scrolled": true
   },
   "outputs": [
    {
     "data": {
      "image/png": "[encoded data removed]",
      "text/plain": [
       "plot without title"
      ]
     },
     "metadata": {
      "image/png": {
       "height": 1800,
       "width": 360
      }
     },
     "output_type": "display_data"
    }
   ],
   "source": [
    "#plotting tree\n",
    "options(repr.plot.width=6, repr.plot.height=30)\n",
    "plot(host_tree_exp, no.margin=TRUE, cex=1)\n",
    "\n",
    "#save nwk\n",
    "write.tree(host_tree_exp,\"host_tree_exp.nwk\")\n",
    "# ggsave(\"host_tree_exp.pdf\",dpi = 1000)"
   ]
  },
  {
   "cell_type": "code",
   "execution_count": 12,
   "metadata": {
    "ExecuteTime": {
     "end_time": "2024-03-13T01:58:31.843431Z",
     "start_time": "2024-03-13T01:58:31.547Z"
    }
   },
   "outputs": [],
   "source": [
    "####saving phyloseq####\n",
    "saveRDS(phyloseq, file=\"phyloseq.rds\")"
   ]
  },
  {
   "cell_type": "code",
   "execution_count": 13,
   "metadata": {
    "ExecuteTime": {
     "end_time": "2024-03-13T01:58:33.675247Z",
     "start_time": "2024-03-13T01:58:33.351Z"
    }
   },
   "outputs": [
    {
     "data": {
      "text/plain": [
       "R version 4.1.0 (2021-05-18)\n",
       "Platform: x86_64-conda-linux-gnu (64-bit)\n",
       "Running under: CentOS Linux 7 (Core)\n",
       "\n",
       "Matrix products: default\n",
       "BLAS/LAPACK: /public/home/lyx/anaconda3/envs/r4.1/lib/libopenblasp-r0.3.17.so\n",
       "\n",
       "locale:\n",
       " [1] LC_CTYPE=en_US.UTF-8       LC_NUMERIC=C              \n",
       " [3] LC_TIME=en_US.UTF-8        LC_COLLATE=en_US.UTF-8    \n",
       " [5] LC_MONETARY=en_US.UTF-8    LC_MESSAGES=en_US.UTF-8   \n",
       " [7] LC_PAPER=en_US.UTF-8       LC_NAME=C                 \n",
       " [9] LC_ADDRESS=C               LC_TELEPHONE=C            \n",
       "[11] LC_MEASUREMENT=en_US.UTF-8 LC_IDENTIFICATION=C       \n",
       "\n",
       "attached base packages:\n",
       "[1] stats     graphics  grDevices utils     datasets  methods   base     \n",
       "\n",
       "other attached packages:\n",
       "[1] stringr_1.5.1   ggplot2_3.4.4   ape_5.7-1       dplyr_1.1.4    \n",
       "[5] tidyr_1.3.0     phyloseq_1.39.1 jsonlite_1.8.7 \n",
       "\n",
       "loaded via a namespace (and not attached):\n",
       " [1] Rcpp_1.0.11            lattice_0.22-5         Biostrings_2.62.0     \n",
       " [4] digest_0.6.33          foreach_1.5.2          utf8_1.2.4            \n",
       " [7] IRdisplay_1.1          R6_2.5.1               GenomeInfoDb_1.30.1   \n",
       "[10] plyr_1.8.9             repr_1.1.6             stats4_4.1.0          \n",
       "[13] evaluate_0.23          pillar_1.9.0           zlibbioc_1.40.0       \n",
       "[16] rlang_1.1.2            uuid_1.1-1             data.table_1.14.8     \n",
       "[19] vegan_2.6-4            S4Vectors_0.32.3       Matrix_1.6-3          \n",
       "[22] splines_4.1.0          igraph_1.5.1           RCurl_1.98-1.13       \n",
       "[25] munsell_0.5.0          compiler_4.1.0         pkgconfig_2.0.3       \n",
       "[28] BiocGenerics_0.40.0    base64enc_0.1-3        multtest_2.50.0       \n",
       "[31] mgcv_1.9-0             htmltools_0.5.7        biomformat_1.22.0     \n",
       "[34] tidyselect_1.2.0       tibble_3.2.1           GenomeInfoDbData_1.2.7\n",
       "[37] IRanges_2.28.0         codetools_0.2-19       permute_0.9-7         \n",
       "[40] fansi_1.0.5            withr_2.5.2            crayon_1.5.2          \n",
       "[43] MASS_7.3-60            rhdf5filters_1.6.0     bitops_1.0-7          \n",
       "[46] grid_4.1.0             nlme_3.1-163           gtable_0.3.4          \n",
       "[49] lifecycle_1.0.4        magrittr_2.0.3         scales_1.2.1          \n",
       "[52] cli_3.6.1              stringi_1.7.6          XVector_0.34.0        \n",
       "[55] reshape2_1.4.4         vctrs_0.6.4            generics_0.1.3        \n",
       "[58] IRkernel_1.3.2         Rhdf5lib_1.16.0        iterators_1.0.14      \n",
       "[61] tools_4.1.0            ade4_1.7-22            Biobase_2.54.0        \n",
       "[64] glue_1.6.2             purrr_1.0.2            survival_3.5-7        \n",
       "[67] parallel_4.1.0         fastmap_1.1.1          colorspace_2.1-0      \n",
       "[70] rhdf5_2.38.0           cluster_2.1.4          pbdZMQ_0.3-10         "
      ]
     },
     "metadata": {},
     "output_type": "display_data"
    }
   ],
   "source": [
    "sessionInfo()"
   ]
  }
 ],
 "metadata": {
  "kernelspec": {
   "display_name": "R",
   "language": "R",
   "name": "ir"
  },
  "language_info": {
   "codemirror_mode": "r",
   "file_extension": ".r",
   "mimetype": "text/x-r-source",
   "name": "R",
   "pygments_lexer": "r",
   "version": "4.1.0"
  },
  "latex_envs": {
   "LaTeX_envs_menu_present": true,
   "autoclose": false,
   "autocomplete": true,
   "bibliofile": "biblio.bib",
   "cite_by": "apalike",
   "current_citInitial": 1,
   "eqLabelWithNumbers": true,
   "eqNumInitial": 1,
   "hotkeys": {
    "equation": "Ctrl-E",
    "itemize": "Ctrl-I"
   },
   "labels_anchors": false,
   "latex_user_defs": false,
   "report_style_numbering": false,
   "user_envs_cfg": false
  },
  "toc": {
   "base_numbering": 1,
   "nav_menu": {},
   "number_sections": true,
   "sideBar": true,
   "skip_h1_title": false,
   "title_cell": "Table of Contents",
   "title_sidebar": "Contents",
   "toc_cell": false,
   "toc_position": {},
   "toc_section_display": true,
   "toc_window_display": false
  },
  "varInspector": {
   "cols": {
    "lenName": 16,
    "lenType": 16,
    "lenVar": 40
   },
   "kernels_config": {
    "python": {
     "delete_cmd_postfix": "",
     "delete_cmd_prefix": "del ",
     "library": "var_list.py",
     "varRefreshCmd": "print(var_dic_list())"
    },
    "r": {
     "delete_cmd_postfix": ") ",
     "delete_cmd_prefix": "rm(",
     "library": "var_list.r",
     "varRefreshCmd": "cat(var_dic_list()) "
    }
   },
   "types_to_exclude": [
    "module",
    "function",
    "builtin_function_or_method",
    "instance",
    "_Feature"
   ],
   "window_display": false
  }
 },
 "nbformat": 4,
 "nbformat_minor": 4
}
