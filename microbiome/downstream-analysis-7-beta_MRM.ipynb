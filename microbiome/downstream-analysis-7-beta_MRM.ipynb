{
 "cells": [
  {
   "cell_type": "markdown",
   "metadata": {},
   "source": [
    "Multiple Regression on Matrices (MRM) analysis"
   ]
  },
  {
   "cell_type": "markdown",
   "metadata": {},
   "source": [
    "dependent variable: beta-diversity"
   ]
  },
  {
   "cell_type": "markdown",
   "metadata": {},
   "source": [
    "Intra-species sensitivity analysis: calculating MRM for permutations of samples within each species"
   ]
  },
  {
   "cell_type": "code",
   "execution_count": 1,
   "metadata": {
    "ExecuteTime": {
     "end_time": "2024-03-13T03:18:16.712538Z",
     "start_time": "2024-03-13T03:18:16.577Z"
    }
   },
   "outputs": [
    {
     "data": {
      "text/html": [
       "<style>\n",
       ".list-inline {list-style: none; margin:0; padding: 0}\n",
       ".list-inline>li {display: inline-block}\n",
       ".list-inline>li:not(:last-child)::after {content: \"\\00b7\"; padding: 0 .5ex}\n",
       "</style>\n",
       "<ol class=list-inline><li>'alpha_div.rds'</li><li>'alpha_habitat.pdf'</li><li>'alpha_Observed_MRM.pdf'</li><li>'alpha_pgls.pdf'</li><li>'alpha_Shannon_MRM.pdf'</li><li>'alpha_species.pdf'</li><li>'ASV_species.xls'</li><li>'ASV_table.tsv'</li><li>'beta_div.rds'</li><li>'bray_distance.xls'</li><li>'bray_MRM.pdf'</li><li>'bray_pcoa.pdf'</li><li>'bray_pgls.pdf'</li><li>'dna-sequences.fasta'</li><li>'Enterotypes_bamboo.pdf'</li><li>'filtered-table.tsv'</li><li>'genus_lefse_Bathyergidae.pdf'</li><li>'genus_lefse_habitat.pdf'</li><li>'genus_lefse_Spalacidae.pdf'</li><li>'host_tree_exp_dist.RDS'</li><li>'host_tree_exp.nwk'</li><li>'host_tree.nwk'</li><li>'host_tree.pdf'</li><li>'host_tree.png'</li><li>'init.R'</li><li>'metadata.txt'</li><li>'otu_genus.xls'</li><li>'otu_phylum.xls'</li><li>'OTU_species.xls'</li><li>'phyloseq_phylum_itol-phylumbar.txt'</li><li>'phyloseq.rds'</li><li>'physeq_diet-itol.txt'</li><li>'physeq_gut-itol.txt'</li><li>'physeq_life_style-itol.txt'</li><li>'physeq_sample_type-itol.txt'</li><li>'rarefied_ASV.xls'</li><li>'rep.fa'</li><li>'rep.xls'</li><li>'rooted_tree.nwk'</li><li>'taxa.xls'</li><li>'taxonomy.tsv'</li><li>'upgma_bray_species.pdf'</li></ol>\n"
      ],
      "text/latex": [
       "\\begin{enumerate*}\n",
       "\\item 'alpha\\_div.rds'\n",
       "\\item 'alpha\\_habitat.pdf'\n",
       "\\item 'alpha\\_Observed\\_MRM.pdf'\n",
       "\\item 'alpha\\_pgls.pdf'\n",
       "\\item 'alpha\\_Shannon\\_MRM.pdf'\n",
       "\\item 'alpha\\_species.pdf'\n",
       "\\item 'ASV\\_species.xls'\n",
       "\\item 'ASV\\_table.tsv'\n",
       "\\item 'beta\\_div.rds'\n",
       "\\item 'bray\\_distance.xls'\n",
       "\\item 'bray\\_MRM.pdf'\n",
       "\\item 'bray\\_pcoa.pdf'\n",
       "\\item 'bray\\_pgls.pdf'\n",
       "\\item 'dna-sequences.fasta'\n",
       "\\item 'Enterotypes\\_bamboo.pdf'\n",
       "\\item 'filtered-table.tsv'\n",
       "\\item 'genus\\_lefse\\_Bathyergidae.pdf'\n",
       "\\item 'genus\\_lefse\\_habitat.pdf'\n",
       "\\item 'genus\\_lefse\\_Spalacidae.pdf'\n",
       "\\item 'host\\_tree\\_exp\\_dist.RDS'\n",
       "\\item 'host\\_tree\\_exp.nwk'\n",
       "\\item 'host\\_tree.nwk'\n",
       "\\item 'host\\_tree.pdf'\n",
       "\\item 'host\\_tree.png'\n",
       "\\item 'init.R'\n",
       "\\item 'metadata.txt'\n",
       "\\item 'otu\\_genus.xls'\n",
       "\\item 'otu\\_phylum.xls'\n",
       "\\item 'OTU\\_species.xls'\n",
       "\\item 'phyloseq\\_phylum\\_itol-phylumbar.txt'\n",
       "\\item 'phyloseq.rds'\n",
       "\\item 'physeq\\_diet-itol.txt'\n",
       "\\item 'physeq\\_gut-itol.txt'\n",
       "\\item 'physeq\\_life\\_style-itol.txt'\n",
       "\\item 'physeq\\_sample\\_type-itol.txt'\n",
       "\\item 'rarefied\\_ASV.xls'\n",
       "\\item 'rep.fa'\n",
       "\\item 'rep.xls'\n",
       "\\item 'rooted\\_tree.nwk'\n",
       "\\item 'taxa.xls'\n",
       "\\item 'taxonomy.tsv'\n",
       "\\item 'upgma\\_bray\\_species.pdf'\n",
       "\\end{enumerate*}\n"
      ],
      "text/markdown": [
       "1. 'alpha_div.rds'\n",
       "2. 'alpha_habitat.pdf'\n",
       "3. 'alpha_Observed_MRM.pdf'\n",
       "4. 'alpha_pgls.pdf'\n",
       "5. 'alpha_Shannon_MRM.pdf'\n",
       "6. 'alpha_species.pdf'\n",
       "7. 'ASV_species.xls'\n",
       "8. 'ASV_table.tsv'\n",
       "9. 'beta_div.rds'\n",
       "10. 'bray_distance.xls'\n",
       "11. 'bray_MRM.pdf'\n",
       "12. 'bray_pcoa.pdf'\n",
       "13. 'bray_pgls.pdf'\n",
       "14. 'dna-sequences.fasta'\n",
       "15. 'Enterotypes_bamboo.pdf'\n",
       "16. 'filtered-table.tsv'\n",
       "17. 'genus_lefse_Bathyergidae.pdf'\n",
       "18. 'genus_lefse_habitat.pdf'\n",
       "19. 'genus_lefse_Spalacidae.pdf'\n",
       "20. 'host_tree_exp_dist.RDS'\n",
       "21. 'host_tree_exp.nwk'\n",
       "22. 'host_tree.nwk'\n",
       "23. 'host_tree.pdf'\n",
       "24. 'host_tree.png'\n",
       "25. 'init.R'\n",
       "26. 'metadata.txt'\n",
       "27. 'otu_genus.xls'\n",
       "28. 'otu_phylum.xls'\n",
       "29. 'OTU_species.xls'\n",
       "30. 'phyloseq_phylum_itol-phylumbar.txt'\n",
       "31. 'phyloseq.rds'\n",
       "32. 'physeq_diet-itol.txt'\n",
       "33. 'physeq_gut-itol.txt'\n",
       "34. 'physeq_life_style-itol.txt'\n",
       "35. 'physeq_sample_type-itol.txt'\n",
       "36. 'rarefied_ASV.xls'\n",
       "37. 'rep.fa'\n",
       "38. 'rep.xls'\n",
       "39. 'rooted_tree.nwk'\n",
       "40. 'taxa.xls'\n",
       "41. 'taxonomy.tsv'\n",
       "42. 'upgma_bray_species.pdf'\n",
       "\n",
       "\n"
      ],
      "text/plain": [
       " [1] \"alpha_div.rds\"                      \"alpha_habitat.pdf\"                 \n",
       " [3] \"alpha_Observed_MRM.pdf\"             \"alpha_pgls.pdf\"                    \n",
       " [5] \"alpha_Shannon_MRM.pdf\"              \"alpha_species.pdf\"                 \n",
       " [7] \"ASV_species.xls\"                    \"ASV_table.tsv\"                     \n",
       " [9] \"beta_div.rds\"                       \"bray_distance.xls\"                 \n",
       "[11] \"bray_MRM.pdf\"                       \"bray_pcoa.pdf\"                     \n",
       "[13] \"bray_pgls.pdf\"                      \"dna-sequences.fasta\"               \n",
       "[15] \"Enterotypes_bamboo.pdf\"             \"filtered-table.tsv\"                \n",
       "[17] \"genus_lefse_Bathyergidae.pdf\"       \"genus_lefse_habitat.pdf\"           \n",
       "[19] \"genus_lefse_Spalacidae.pdf\"         \"host_tree_exp_dist.RDS\"            \n",
       "[21] \"host_tree_exp.nwk\"                  \"host_tree.nwk\"                     \n",
       "[23] \"host_tree.pdf\"                      \"host_tree.png\"                     \n",
       "[25] \"init.R\"                             \"metadata.txt\"                      \n",
       "[27] \"otu_genus.xls\"                      \"otu_phylum.xls\"                    \n",
       "[29] \"OTU_species.xls\"                    \"phyloseq_phylum_itol-phylumbar.txt\"\n",
       "[31] \"phyloseq.rds\"                       \"physeq_diet-itol.txt\"              \n",
       "[33] \"physeq_gut-itol.txt\"                \"physeq_life_style-itol.txt\"        \n",
       "[35] \"physeq_sample_type-itol.txt\"        \"rarefied_ASV.xls\"                  \n",
       "[37] \"rep.fa\"                             \"rep.xls\"                           \n",
       "[39] \"rooted_tree.nwk\"                    \"taxa.xls\"                          \n",
       "[41] \"taxonomy.tsv\"                       \"upgma_bray_species.pdf\"            "
      ]
     },
     "metadata": {},
     "output_type": "display_data"
    }
   ],
   "source": [
    "setwd('/public/home/lyx/00.16S/00BR/00.bamboorat/phyloseq/')\n",
    "list.files()"
   ]
  },
  {
   "cell_type": "code",
   "execution_count": 2,
   "metadata": {
    "ExecuteTime": {
     "end_time": "2024-03-13T03:18:37.501411Z",
     "start_time": "2024-03-13T03:18:29.588Z"
    }
   },
   "outputs": [
    {
     "name": "stderr",
     "output_type": "stream",
     "text": [
      "\n",
      "Attaching package: ‘dplyr’\n",
      "\n",
      "\n",
      "The following objects are masked from ‘package:stats’:\n",
      "\n",
      "    filter, lag\n",
      "\n",
      "\n",
      "The following objects are masked from ‘package:base’:\n",
      "\n",
      "    intersect, setdiff, setequal, union\n",
      "\n",
      "\n",
      "\n",
      "Attaching package: ‘ecodist’\n",
      "\n",
      "\n",
      "The following object is masked from ‘package:phyloseq’:\n",
      "\n",
      "    distance\n",
      "\n",
      "\n"
     ]
    }
   ],
   "source": [
    "library(dplyr)\n",
    "library(tidyr)\n",
    "library(ggplot2)\n",
    "library(stringr)\n",
    "library(phyloseq)\n",
    "library(ecodist)\n",
    "library(ggthemes)"
   ]
  },
  {
   "cell_type": "code",
   "execution_count": 3,
   "metadata": {
    "ExecuteTime": {
     "end_time": "2024-03-13T03:24:17.156749Z",
     "start_time": "2024-03-13T03:24:17.048Z"
    }
   },
   "outputs": [],
   "source": [
    "set.seed(8301)"
   ]
  },
  {
   "cell_type": "markdown",
   "metadata": {},
   "source": [
    "Function"
   ]
  },
  {
   "cell_type": "code",
   "execution_count": 4,
   "metadata": {
    "ExecuteTime": {
     "end_time": "2024-03-13T03:24:19.257397Z",
     "start_time": "2024-03-13T03:24:19.145Z"
    }
   },
   "outputs": [],
   "source": [
    "dist_mtx_order = function(d, x){\n",
    "    # Ordering distance matrixes\n",
    "    # d = distance matrix (dist class)\n",
    "    # x = vector to order dist. obj. by\n",
    "    m = d %>% as.matrix\n",
    "    d = as.dist(m[x,x])\n",
    "    return(d)\n",
    "}"
   ]
  },
  {
   "cell_type": "code",
   "execution_count": 5,
   "metadata": {
    "ExecuteTime": {
     "end_time": "2024-03-13T03:24:21.027908Z",
     "start_time": "2024-03-13T03:24:20.913Z"
    }
   },
   "outputs": [],
   "source": [
    "rescale_dist_mtx = function(m){\n",
    "    m = m %>% as.matrix\n",
    "    labs = m %>% colnames\n",
    "    n_row = m %>% nrow\n",
    "    n_col = m %>% ncol\n",
    "    x = m %>% as.vector \n",
    "    x = scales::rescale(x) \n",
    "    m = matrix(x, nrow=n_row, ncol=n_col)\n",
    "    colnames(m) = labs\n",
    "    rownames(m) = labs\n",
    "    m = m %>% as.dist\n",
    "    return(m)\n",
    "}"
   ]
  },
  {
   "cell_type": "code",
   "execution_count": 6,
   "metadata": {
    "ExecuteTime": {
     "end_time": "2024-03-13T03:24:22.531471Z",
     "start_time": "2024-03-13T03:24:22.331Z"
    }
   },
   "outputs": [
    {
     "data": {
      "text/plain": [
       "$jaccard\n",
       "   Min. 1st Qu.  Median    Mean 3rd Qu.    Max. \n",
       " 0.3471  0.9936  0.9996  0.9619  1.0000  1.0000 \n",
       "\n",
       "$bray\n",
       "   Min. 1st Qu.  Median    Mean 3rd Qu.    Max. \n",
       " 0.2100  0.9873  0.9991  0.9417  1.0000  1.0000 \n",
       "\n",
       "$unifrac\n",
       "   Min. 1st Qu.  Median    Mean 3rd Qu.    Max. \n",
       " 0.1854  0.7063  0.7379  0.7131  0.7679  0.8830 \n",
       "\n",
       "$wunifrac\n",
       "   Min. 1st Qu.  Median    Mean 3rd Qu.    Max. \n",
       " 0.0197  0.2437  0.3348  0.3247  0.4385  0.5485 \n"
      ]
     },
     "metadata": {},
     "output_type": "display_data"
    }
   ],
   "source": [
    "# load beta-div values\n",
    "beta_div = readRDS(\"beta_div.rds\")\n",
    "# status\n",
    "lapply(beta_div, function(x) x %>% as.vector %>% summary)"
   ]
  },
  {
   "cell_type": "code",
   "execution_count": 7,
   "metadata": {
    "ExecuteTime": {
     "end_time": "2024-03-13T03:24:29.611399Z",
     "start_time": "2024-03-13T03:24:29.453Z"
    }
   },
   "outputs": [
    {
     "data": {
      "text/plain": [
       "phyloseq-class experiment-level object\n",
       "otu_table()   OTU Table:         [ 4858 taxa and 80 samples ]\n",
       "sample_data() Sample Data:       [ 80 samples by 15 sample variables ]\n",
       "tax_table()   Taxonomy Table:    [ 4858 taxa by 7 taxonomic ranks ]\n",
       "phy_tree()    Phylogenetic Tree: [ 4858 tips and 4857 internal nodes ]"
      ]
     },
     "metadata": {},
     "output_type": "display_data"
    }
   ],
   "source": [
    "phyloseq = readRDS(\"phyloseq.rds\")\n",
    "phyloseq"
   ]
  },
  {
   "cell_type": "code",
   "execution_count": 8,
   "metadata": {
    "ExecuteTime": {
     "end_time": "2024-03-13T03:24:32.706151Z",
     "start_time": "2024-03-13T03:24:32.559Z"
    }
   },
   "outputs": [
    {
     "data": {
      "text/html": [
       "<table class=\"dataframe\">\n",
       "<caption>A data.frame: 6 × 16</caption>\n",
       "<thead>\n",
       "\t<tr><th></th><th scope=col>Sampleid</th><th scope=col>Group</th><th scope=col>Class</th><th scope=col>Order</th><th scope=col>Family</th><th scope=col>Genus</th><th scope=col>Species</th><th scope=col>Sample_type</th><th scope=col>Captive_Wild</th><th scope=col>Domestic_Wild</th><th scope=col>Habitat</th><th scope=col>Diet</th><th scope=col>Diet_detail</th><th scope=col>Digestive_tract</th><th scope=col>Digest_detail</th><th scope=col>sampleid</th></tr>\n",
       "\t<tr><th></th><th scope=col>&lt;chr&gt;</th><th scope=col>&lt;chr&gt;</th><th scope=col>&lt;chr&gt;</th><th scope=col>&lt;chr&gt;</th><th scope=col>&lt;chr&gt;</th><th scope=col>&lt;chr&gt;</th><th scope=col>&lt;chr&gt;</th><th scope=col>&lt;chr&gt;</th><th scope=col>&lt;chr&gt;</th><th scope=col>&lt;chr&gt;</th><th scope=col>&lt;chr&gt;</th><th scope=col>&lt;chr&gt;</th><th scope=col>&lt;chr&gt;</th><th scope=col>&lt;chr&gt;</th><th scope=col>&lt;chr&gt;</th><th scope=col>&lt;chr&gt;</th></tr>\n",
       "</thead>\n",
       "<tbody>\n",
       "\t<tr><th scope=row>BMR1</th><td>BMR1</td><td>Spalacidae and relatives</td><td>Mammalia</td><td>Rodentia</td><td>Spalacidae</td><td>Spalax</td><td>Nannospalax leucodon</td><td>Feces</td><td>Wild</td><td>Wild</td><td>Underground</td><td>Herbivore</td><td>Herbivore</td><td>Hindgut fermentation</td><td>Cecum fermenter</td><td>BMR1</td></tr>\n",
       "\t<tr><th scope=row>BMR2</th><td>BMR2</td><td>Spalacidae and relatives</td><td>Mammalia</td><td>Rodentia</td><td>Spalacidae</td><td>Spalax</td><td>Nannospalax leucodon</td><td>Feces</td><td>Wild</td><td>Wild</td><td>Underground</td><td>Herbivore</td><td>Herbivore</td><td>Hindgut fermentation</td><td>Cecum fermenter</td><td>BMR2</td></tr>\n",
       "\t<tr><th scope=row>BMR3</th><td>BMR3</td><td>Spalacidae and relatives</td><td>Mammalia</td><td>Rodentia</td><td>Spalacidae</td><td>Spalax</td><td>Nannospalax leucodon</td><td>Feces</td><td>Wild</td><td>Wild</td><td>Underground</td><td>Herbivore</td><td>Herbivore</td><td>Hindgut fermentation</td><td>Cecum fermenter</td><td>BMR3</td></tr>\n",
       "\t<tr><th scope=row>BMR4</th><td>BMR4</td><td>Spalacidae and relatives</td><td>Mammalia</td><td>Rodentia</td><td>Spalacidae</td><td>Spalax</td><td>Nannospalax leucodon</td><td>Feces</td><td>Wild</td><td>Wild</td><td>Underground</td><td>Herbivore</td><td>Herbivore</td><td>Hindgut fermentation</td><td>Cecum fermenter</td><td>BMR4</td></tr>\n",
       "\t<tr><th scope=row>BMR5</th><td>BMR5</td><td>Spalacidae and relatives</td><td>Mammalia</td><td>Rodentia</td><td>Spalacidae</td><td>Spalax</td><td>Nannospalax leucodon</td><td>Feces</td><td>Wild</td><td>Wild</td><td>Underground</td><td>Herbivore</td><td>Herbivore</td><td>Hindgut fermentation</td><td>Cecum fermenter</td><td>BMR5</td></tr>\n",
       "\t<tr><th scope=row>BMR6</th><td>BMR6</td><td>Spalacidae and relatives</td><td>Mammalia</td><td>Rodentia</td><td>Spalacidae</td><td>Spalax</td><td>Nannospalax leucodon</td><td>Feces</td><td>Wild</td><td>Wild</td><td>Underground</td><td>Herbivore</td><td>Herbivore</td><td>Hindgut fermentation</td><td>Cecum fermenter</td><td>BMR6</td></tr>\n",
       "</tbody>\n",
       "</table>\n"
      ],
      "text/latex": [
       "A data.frame: 6 × 16\n",
       "\\begin{tabular}{r|llllllllllllllll}\n",
       "  & Sampleid & Group & Class & Order & Family & Genus & Species & Sample\\_type & Captive\\_Wild & Domestic\\_Wild & Habitat & Diet & Diet\\_detail & Digestive\\_tract & Digest\\_detail & sampleid\\\\\n",
       "  & <chr> & <chr> & <chr> & <chr> & <chr> & <chr> & <chr> & <chr> & <chr> & <chr> & <chr> & <chr> & <chr> & <chr> & <chr> & <chr>\\\\\n",
       "\\hline\n",
       "\tBMR1 & BMR1 & Spalacidae and relatives & Mammalia & Rodentia & Spalacidae & Spalax & Nannospalax leucodon & Feces & Wild & Wild & Underground & Herbivore & Herbivore & Hindgut fermentation & Cecum fermenter & BMR1\\\\\n",
       "\tBMR2 & BMR2 & Spalacidae and relatives & Mammalia & Rodentia & Spalacidae & Spalax & Nannospalax leucodon & Feces & Wild & Wild & Underground & Herbivore & Herbivore & Hindgut fermentation & Cecum fermenter & BMR2\\\\\n",
       "\tBMR3 & BMR3 & Spalacidae and relatives & Mammalia & Rodentia & Spalacidae & Spalax & Nannospalax leucodon & Feces & Wild & Wild & Underground & Herbivore & Herbivore & Hindgut fermentation & Cecum fermenter & BMR3\\\\\n",
       "\tBMR4 & BMR4 & Spalacidae and relatives & Mammalia & Rodentia & Spalacidae & Spalax & Nannospalax leucodon & Feces & Wild & Wild & Underground & Herbivore & Herbivore & Hindgut fermentation & Cecum fermenter & BMR4\\\\\n",
       "\tBMR5 & BMR5 & Spalacidae and relatives & Mammalia & Rodentia & Spalacidae & Spalax & Nannospalax leucodon & Feces & Wild & Wild & Underground & Herbivore & Herbivore & Hindgut fermentation & Cecum fermenter & BMR5\\\\\n",
       "\tBMR6 & BMR6 & Spalacidae and relatives & Mammalia & Rodentia & Spalacidae & Spalax & Nannospalax leucodon & Feces & Wild & Wild & Underground & Herbivore & Herbivore & Hindgut fermentation & Cecum fermenter & BMR6\\\\\n",
       "\\end{tabular}\n"
      ],
      "text/markdown": [
       "\n",
       "A data.frame: 6 × 16\n",
       "\n",
       "| <!--/--> | Sampleid &lt;chr&gt; | Group &lt;chr&gt; | Class &lt;chr&gt; | Order &lt;chr&gt; | Family &lt;chr&gt; | Genus &lt;chr&gt; | Species &lt;chr&gt; | Sample_type &lt;chr&gt; | Captive_Wild &lt;chr&gt; | Domestic_Wild &lt;chr&gt; | Habitat &lt;chr&gt; | Diet &lt;chr&gt; | Diet_detail &lt;chr&gt; | Digestive_tract &lt;chr&gt; | Digest_detail &lt;chr&gt; | sampleid &lt;chr&gt; |\n",
       "|---|---|---|---|---|---|---|---|---|---|---|---|---|---|---|---|---|\n",
       "| BMR1 | BMR1 | Spalacidae and relatives | Mammalia | Rodentia | Spalacidae | Spalax | Nannospalax leucodon | Feces | Wild | Wild | Underground | Herbivore | Herbivore | Hindgut fermentation | Cecum fermenter | BMR1 |\n",
       "| BMR2 | BMR2 | Spalacidae and relatives | Mammalia | Rodentia | Spalacidae | Spalax | Nannospalax leucodon | Feces | Wild | Wild | Underground | Herbivore | Herbivore | Hindgut fermentation | Cecum fermenter | BMR2 |\n",
       "| BMR3 | BMR3 | Spalacidae and relatives | Mammalia | Rodentia | Spalacidae | Spalax | Nannospalax leucodon | Feces | Wild | Wild | Underground | Herbivore | Herbivore | Hindgut fermentation | Cecum fermenter | BMR3 |\n",
       "| BMR4 | BMR4 | Spalacidae and relatives | Mammalia | Rodentia | Spalacidae | Spalax | Nannospalax leucodon | Feces | Wild | Wild | Underground | Herbivore | Herbivore | Hindgut fermentation | Cecum fermenter | BMR4 |\n",
       "| BMR5 | BMR5 | Spalacidae and relatives | Mammalia | Rodentia | Spalacidae | Spalax | Nannospalax leucodon | Feces | Wild | Wild | Underground | Herbivore | Herbivore | Hindgut fermentation | Cecum fermenter | BMR5 |\n",
       "| BMR6 | BMR6 | Spalacidae and relatives | Mammalia | Rodentia | Spalacidae | Spalax | Nannospalax leucodon | Feces | Wild | Wild | Underground | Herbivore | Herbivore | Hindgut fermentation | Cecum fermenter | BMR6 |\n",
       "\n"
      ],
      "text/plain": [
       "     Sampleid Group                    Class    Order    Family     Genus \n",
       "BMR1 BMR1     Spalacidae and relatives Mammalia Rodentia Spalacidae Spalax\n",
       "BMR2 BMR2     Spalacidae and relatives Mammalia Rodentia Spalacidae Spalax\n",
       "BMR3 BMR3     Spalacidae and relatives Mammalia Rodentia Spalacidae Spalax\n",
       "BMR4 BMR4     Spalacidae and relatives Mammalia Rodentia Spalacidae Spalax\n",
       "BMR5 BMR5     Spalacidae and relatives Mammalia Rodentia Spalacidae Spalax\n",
       "BMR6 BMR6     Spalacidae and relatives Mammalia Rodentia Spalacidae Spalax\n",
       "     Species              Sample_type Captive_Wild Domestic_Wild Habitat    \n",
       "BMR1 Nannospalax leucodon Feces       Wild         Wild          Underground\n",
       "BMR2 Nannospalax leucodon Feces       Wild         Wild          Underground\n",
       "BMR3 Nannospalax leucodon Feces       Wild         Wild          Underground\n",
       "BMR4 Nannospalax leucodon Feces       Wild         Wild          Underground\n",
       "BMR5 Nannospalax leucodon Feces       Wild         Wild          Underground\n",
       "BMR6 Nannospalax leucodon Feces       Wild         Wild          Underground\n",
       "     Diet      Diet_detail Digestive_tract      Digest_detail   sampleid\n",
       "BMR1 Herbivore Herbivore   Hindgut fermentation Cecum fermenter BMR1    \n",
       "BMR2 Herbivore Herbivore   Hindgut fermentation Cecum fermenter BMR2    \n",
       "BMR3 Herbivore Herbivore   Hindgut fermentation Cecum fermenter BMR3    \n",
       "BMR4 Herbivore Herbivore   Hindgut fermentation Cecum fermenter BMR4    \n",
       "BMR5 Herbivore Herbivore   Hindgut fermentation Cecum fermenter BMR5    \n",
       "BMR6 Herbivore Herbivore   Hindgut fermentation Cecum fermenter BMR6    "
      ]
     },
     "metadata": {},
     "output_type": "display_data"
    }
   ],
   "source": [
    "metadata = phyloseq %>%\n",
    "    sample_data %>%\n",
    "    as.matrix %>%\n",
    "    as.data.frame %>%\n",
    "    mutate(sampleid = rownames(.))\n",
    "\n",
    "head(metadata)"
   ]
  },
  {
   "cell_type": "markdown",
   "metadata": {},
   "source": [
    "Host Phylogeny"
   ]
  },
  {
   "cell_type": "code",
   "execution_count": 9,
   "metadata": {
    "ExecuteTime": {
     "end_time": "2024-03-13T03:25:06.126202Z",
     "start_time": "2024-03-13T03:25:05.851Z"
    }
   },
   "outputs": [
    {
     "data": {
      "image/png": "[encoded data removed]",
      "text/plain": [
       "Plot with title “Cluster Dendrogram”"
      ]
     },
     "metadata": {
      "image/png": {
       "height": 360,
       "width": 900
      }
     },
     "output_type": "display_data"
    }
   ],
   "source": [
    "# patristic distance\n",
    "host_tree_d = readRDS(\"host_tree_exp_dist.RDS\")\n",
    "options(repr.plot.height=6, repr.plot.width=15)\n",
    "plot(hclust(host_tree_d), cex=0.4)"
   ]
  },
  {
   "cell_type": "markdown",
   "metadata": {},
   "source": [
    "Distance matrics"
   ]
  },
  {
   "cell_type": "markdown",
   "metadata": {},
   "source": [
    "Diet"
   ]
  },
  {
   "cell_type": "code",
   "execution_count": 10,
   "metadata": {
    "ExecuteTime": {
     "end_time": "2024-03-13T03:25:12.108361Z",
     "start_time": "2024-03-13T03:25:11.971Z"
    }
   },
   "outputs": [
    {
     "data": {
      "text/html": [
       "<table class=\"dataframe\">\n",
       "<caption>A data.frame: 6 × 2</caption>\n",
       "<thead>\n",
       "\t<tr><th></th><th scope=col>Diet</th><th scope=col>Diet_detail</th></tr>\n",
       "\t<tr><th></th><th scope=col>&lt;fct&gt;</th><th scope=col>&lt;fct&gt;</th></tr>\n",
       "</thead>\n",
       "<tbody>\n",
       "\t<tr><th scope=row>BMR1</th><td>Herbivore</td><td>Herbivore</td></tr>\n",
       "\t<tr><th scope=row>BMR2</th><td>Herbivore</td><td>Herbivore</td></tr>\n",
       "\t<tr><th scope=row>BMR3</th><td>Herbivore</td><td>Herbivore</td></tr>\n",
       "\t<tr><th scope=row>BMR4</th><td>Herbivore</td><td>Herbivore</td></tr>\n",
       "\t<tr><th scope=row>BMR5</th><td>Herbivore</td><td>Herbivore</td></tr>\n",
       "\t<tr><th scope=row>BMR6</th><td>Herbivore</td><td>Herbivore</td></tr>\n",
       "</tbody>\n",
       "</table>\n"
      ],
      "text/latex": [
       "A data.frame: 6 × 2\n",
       "\\begin{tabular}{r|ll}\n",
       "  & Diet & Diet\\_detail\\\\\n",
       "  & <fct> & <fct>\\\\\n",
       "\\hline\n",
       "\tBMR1 & Herbivore & Herbivore\\\\\n",
       "\tBMR2 & Herbivore & Herbivore\\\\\n",
       "\tBMR3 & Herbivore & Herbivore\\\\\n",
       "\tBMR4 & Herbivore & Herbivore\\\\\n",
       "\tBMR5 & Herbivore & Herbivore\\\\\n",
       "\tBMR6 & Herbivore & Herbivore\\\\\n",
       "\\end{tabular}\n"
      ],
      "text/markdown": [
       "\n",
       "A data.frame: 6 × 2\n",
       "\n",
       "| <!--/--> | Diet &lt;fct&gt; | Diet_detail &lt;fct&gt; |\n",
       "|---|---|---|\n",
       "| BMR1 | Herbivore | Herbivore |\n",
       "| BMR2 | Herbivore | Herbivore |\n",
       "| BMR3 | Herbivore | Herbivore |\n",
       "| BMR4 | Herbivore | Herbivore |\n",
       "| BMR5 | Herbivore | Herbivore |\n",
       "| BMR6 | Herbivore | Herbivore |\n",
       "\n"
      ],
      "text/plain": [
       "     Diet      Diet_detail\n",
       "BMR1 Herbivore Herbivore  \n",
       "BMR2 Herbivore Herbivore  \n",
       "BMR3 Herbivore Herbivore  \n",
       "BMR4 Herbivore Herbivore  \n",
       "BMR5 Herbivore Herbivore  \n",
       "BMR6 Herbivore Herbivore  "
      ]
     },
     "metadata": {},
     "output_type": "display_data"
    }
   ],
   "source": [
    "diet=metadata %>%\n",
    "    dplyr::select(Diet,Diet_detail) %>% \n",
    "    mutate(Diet=Diet %>% as.factor,Diet_detail=Diet_detail %>% as.factor) %>% \n",
    "    as.data.frame\n",
    "\n",
    "head(diet)"
   ]
  },
  {
   "cell_type": "code",
   "execution_count": 11,
   "metadata": {
    "ExecuteTime": {
     "end_time": "2024-03-13T03:25:16.304224Z",
     "start_time": "2024-03-13T03:25:16.109Z"
    }
   },
   "outputs": [
    {
     "data": {
      "image/png": "[encoded data removed]",
      "text/plain": [
       "Plot with title “Cluster Dendrogram”"
      ]
     },
     "metadata": {
      "image/png": {
       "height": 360,
       "width": 900
      }
     },
     "output_type": "display_data"
    }
   ],
   "source": [
    "diet = cluster::daisy(diet, metric='gower')\n",
    "\n",
    "options(repr.plot.height=6, repr.plot.width=15)\n",
    "plot(hclust(diet), cex=0.4)"
   ]
  },
  {
   "cell_type": "markdown",
   "metadata": {},
   "source": [
    "Digestive tract"
   ]
  },
  {
   "cell_type": "code",
   "execution_count": 12,
   "metadata": {
    "ExecuteTime": {
     "end_time": "2024-03-13T03:25:33.887625Z",
     "start_time": "2024-03-13T03:25:33.757Z"
    }
   },
   "outputs": [
    {
     "data": {
      "text/html": [
       "<table class=\"dataframe\">\n",
       "<caption>A data.frame: 6 × 2</caption>\n",
       "<thead>\n",
       "\t<tr><th></th><th scope=col>Digestive_tract</th><th scope=col>Digest_detail</th></tr>\n",
       "\t<tr><th></th><th scope=col>&lt;fct&gt;</th><th scope=col>&lt;fct&gt;</th></tr>\n",
       "</thead>\n",
       "<tbody>\n",
       "\t<tr><th scope=row>BMR1</th><td>Hindgut fermentation</td><td>Cecum fermenter</td></tr>\n",
       "\t<tr><th scope=row>BMR2</th><td>Hindgut fermentation</td><td>Cecum fermenter</td></tr>\n",
       "\t<tr><th scope=row>BMR3</th><td>Hindgut fermentation</td><td>Cecum fermenter</td></tr>\n",
       "\t<tr><th scope=row>BMR4</th><td>Hindgut fermentation</td><td>Cecum fermenter</td></tr>\n",
       "\t<tr><th scope=row>BMR5</th><td>Hindgut fermentation</td><td>Cecum fermenter</td></tr>\n",
       "\t<tr><th scope=row>BMR6</th><td>Hindgut fermentation</td><td>Cecum fermenter</td></tr>\n",
       "</tbody>\n",
       "</table>\n"
      ],
      "text/latex": [
       "A data.frame: 6 × 2\n",
       "\\begin{tabular}{r|ll}\n",
       "  & Digestive\\_tract & Digest\\_detail\\\\\n",
       "  & <fct> & <fct>\\\\\n",
       "\\hline\n",
       "\tBMR1 & Hindgut fermentation & Cecum fermenter\\\\\n",
       "\tBMR2 & Hindgut fermentation & Cecum fermenter\\\\\n",
       "\tBMR3 & Hindgut fermentation & Cecum fermenter\\\\\n",
       "\tBMR4 & Hindgut fermentation & Cecum fermenter\\\\\n",
       "\tBMR5 & Hindgut fermentation & Cecum fermenter\\\\\n",
       "\tBMR6 & Hindgut fermentation & Cecum fermenter\\\\\n",
       "\\end{tabular}\n"
      ],
      "text/markdown": [
       "\n",
       "A data.frame: 6 × 2\n",
       "\n",
       "| <!--/--> | Digestive_tract &lt;fct&gt; | Digest_detail &lt;fct&gt; |\n",
       "|---|---|---|\n",
       "| BMR1 | Hindgut fermentation | Cecum fermenter |\n",
       "| BMR2 | Hindgut fermentation | Cecum fermenter |\n",
       "| BMR3 | Hindgut fermentation | Cecum fermenter |\n",
       "| BMR4 | Hindgut fermentation | Cecum fermenter |\n",
       "| BMR5 | Hindgut fermentation | Cecum fermenter |\n",
       "| BMR6 | Hindgut fermentation | Cecum fermenter |\n",
       "\n"
      ],
      "text/plain": [
       "     Digestive_tract      Digest_detail  \n",
       "BMR1 Hindgut fermentation Cecum fermenter\n",
       "BMR2 Hindgut fermentation Cecum fermenter\n",
       "BMR3 Hindgut fermentation Cecum fermenter\n",
       "BMR4 Hindgut fermentation Cecum fermenter\n",
       "BMR5 Hindgut fermentation Cecum fermenter\n",
       "BMR6 Hindgut fermentation Cecum fermenter"
      ]
     },
     "metadata": {},
     "output_type": "display_data"
    }
   ],
   "source": [
    "dt= metadata %>%\n",
    "    dplyr::select(Digestive_tract,Digest_detail) %>%\n",
    "    mutate(Digestive_tract = Digestive_tract  %>% as.factor,Digest_detail = Digest_detail %>% as.factor) \n",
    "\n",
    "head(dt)"
   ]
  },
  {
   "cell_type": "code",
   "execution_count": 13,
   "metadata": {
    "ExecuteTime": {
     "end_time": "2024-03-13T03:25:42.284544Z",
     "start_time": "2024-03-13T03:25:42.081Z"
    }
   },
   "outputs": [
    {
     "data": {
      "image/png": "[encoded data removed]",
      "text/plain": [
       "Plot with title “Cluster Dendrogram”"
      ]
     },
     "metadata": {
      "image/png": {
       "height": 360,
       "width": 900
      }
     },
     "output_type": "display_data"
    }
   ],
   "source": [
    "dt = cluster::daisy(dt, metric='gower')\n",
    "\n",
    "options(repr.plot.height=6, repr.plot.width=15)\n",
    "plot(hclust(dt), cex=0.4)"
   ]
  },
  {
   "cell_type": "markdown",
   "metadata": {},
   "source": [
    "Technical method"
   ]
  },
  {
   "cell_type": "code",
   "execution_count": 14,
   "metadata": {
    "ExecuteTime": {
     "end_time": "2024-03-13T03:26:02.258507Z",
     "start_time": "2024-03-13T03:26:02.131Z"
    }
   },
   "outputs": [
    {
     "data": {
      "text/html": [
       "<table class=\"dataframe\">\n",
       "<caption>A data.frame: 6 × 2</caption>\n",
       "<thead>\n",
       "\t<tr><th></th><th scope=col>Sample_type</th><th scope=col>Captive_Wild</th></tr>\n",
       "\t<tr><th></th><th scope=col>&lt;fct&gt;</th><th scope=col>&lt;fct&gt;</th></tr>\n",
       "</thead>\n",
       "<tbody>\n",
       "\t<tr><th scope=row>BMR1</th><td>Feces</td><td>Wild</td></tr>\n",
       "\t<tr><th scope=row>BMR2</th><td>Feces</td><td>Wild</td></tr>\n",
       "\t<tr><th scope=row>BMR3</th><td>Feces</td><td>Wild</td></tr>\n",
       "\t<tr><th scope=row>BMR4</th><td>Feces</td><td>Wild</td></tr>\n",
       "\t<tr><th scope=row>BMR5</th><td>Feces</td><td>Wild</td></tr>\n",
       "\t<tr><th scope=row>BMR6</th><td>Feces</td><td>Wild</td></tr>\n",
       "</tbody>\n",
       "</table>\n"
      ],
      "text/latex": [
       "A data.frame: 6 × 2\n",
       "\\begin{tabular}{r|ll}\n",
       "  & Sample\\_type & Captive\\_Wild\\\\\n",
       "  & <fct> & <fct>\\\\\n",
       "\\hline\n",
       "\tBMR1 & Feces & Wild\\\\\n",
       "\tBMR2 & Feces & Wild\\\\\n",
       "\tBMR3 & Feces & Wild\\\\\n",
       "\tBMR4 & Feces & Wild\\\\\n",
       "\tBMR5 & Feces & Wild\\\\\n",
       "\tBMR6 & Feces & Wild\\\\\n",
       "\\end{tabular}\n"
      ],
      "text/markdown": [
       "\n",
       "A data.frame: 6 × 2\n",
       "\n",
       "| <!--/--> | Sample_type &lt;fct&gt; | Captive_Wild &lt;fct&gt; |\n",
       "|---|---|---|\n",
       "| BMR1 | Feces | Wild |\n",
       "| BMR2 | Feces | Wild |\n",
       "| BMR3 | Feces | Wild |\n",
       "| BMR4 | Feces | Wild |\n",
       "| BMR5 | Feces | Wild |\n",
       "| BMR6 | Feces | Wild |\n",
       "\n"
      ],
      "text/plain": [
       "     Sample_type Captive_Wild\n",
       "BMR1 Feces       Wild        \n",
       "BMR2 Feces       Wild        \n",
       "BMR3 Feces       Wild        \n",
       "BMR4 Feces       Wild        \n",
       "BMR5 Feces       Wild        \n",
       "BMR6 Feces       Wild        "
      ]
     },
     "metadata": {},
     "output_type": "display_data"
    }
   ],
   "source": [
    "tec = metadata %>%\n",
    "    dplyr::select(Sample_type,Captive_Wild) %>% \n",
    "    mutate(Sample_type=Sample_type %>% as.factor,Captive_Wild = Captive_Wild %>% as.factor) %>% \n",
    "    as.data.frame\n",
    "head(tec)"
   ]
  },
  {
   "cell_type": "code",
   "execution_count": 15,
   "metadata": {
    "ExecuteTime": {
     "end_time": "2024-03-13T03:26:07.398922Z",
     "start_time": "2024-03-13T03:26:07.219Z"
    }
   },
   "outputs": [
    {
     "data": {
      "image/png": "[encoded data removed]",
      "text/plain": [
       "Plot with title “Cluster Dendrogram”"
      ]
     },
     "metadata": {
      "image/png": {
       "height": 360,
       "width": 900
      }
     },
     "output_type": "display_data"
    }
   ],
   "source": [
    "tec = cluster::daisy(tec, metric='gower')\n",
    "\n",
    "options(repr.plot.height=6, repr.plot.width=15)\n",
    "plot(hclust(tec), cex=0.4)"
   ]
  },
  {
   "cell_type": "markdown",
   "metadata": {},
   "source": [
    "Habitat"
   ]
  },
  {
   "cell_type": "code",
   "execution_count": 16,
   "metadata": {
    "ExecuteTime": {
     "end_time": "2024-03-13T03:27:50.878319Z",
     "start_time": "2024-03-13T03:27:50.753Z"
    }
   },
   "outputs": [
    {
     "data": {
      "text/html": [
       "<table class=\"dataframe\">\n",
       "<caption>A data.frame: 6 × 1</caption>\n",
       "<thead>\n",
       "\t<tr><th></th><th scope=col>Habitat</th></tr>\n",
       "\t<tr><th></th><th scope=col>&lt;fct&gt;</th></tr>\n",
       "</thead>\n",
       "<tbody>\n",
       "\t<tr><th scope=row>BMR1</th><td>Underground</td></tr>\n",
       "\t<tr><th scope=row>BMR2</th><td>Underground</td></tr>\n",
       "\t<tr><th scope=row>BMR3</th><td>Underground</td></tr>\n",
       "\t<tr><th scope=row>BMR4</th><td>Underground</td></tr>\n",
       "\t<tr><th scope=row>BMR5</th><td>Underground</td></tr>\n",
       "\t<tr><th scope=row>BMR6</th><td>Underground</td></tr>\n",
       "</tbody>\n",
       "</table>\n"
      ],
      "text/latex": [
       "A data.frame: 6 × 1\n",
       "\\begin{tabular}{r|l}\n",
       "  & Habitat\\\\\n",
       "  & <fct>\\\\\n",
       "\\hline\n",
       "\tBMR1 & Underground\\\\\n",
       "\tBMR2 & Underground\\\\\n",
       "\tBMR3 & Underground\\\\\n",
       "\tBMR4 & Underground\\\\\n",
       "\tBMR5 & Underground\\\\\n",
       "\tBMR6 & Underground\\\\\n",
       "\\end{tabular}\n"
      ],
      "text/markdown": [
       "\n",
       "A data.frame: 6 × 1\n",
       "\n",
       "| <!--/--> | Habitat &lt;fct&gt; |\n",
       "|---|---|\n",
       "| BMR1 | Underground |\n",
       "| BMR2 | Underground |\n",
       "| BMR3 | Underground |\n",
       "| BMR4 | Underground |\n",
       "| BMR5 | Underground |\n",
       "| BMR6 | Underground |\n",
       "\n"
      ],
      "text/plain": [
       "     Habitat    \n",
       "BMR1 Underground\n",
       "BMR2 Underground\n",
       "BMR3 Underground\n",
       "BMR4 Underground\n",
       "BMR5 Underground\n",
       "BMR6 Underground"
      ]
     },
     "metadata": {},
     "output_type": "display_data"
    }
   ],
   "source": [
    "ht = metadata %>%\n",
    "    dplyr::select(Habitat) %>% \n",
    "    mutate(Habitat=Habitat %>% as.factor) %>% \n",
    "    as.data.frame\n",
    "head(ht)"
   ]
  },
  {
   "cell_type": "code",
   "execution_count": 17,
   "metadata": {
    "ExecuteTime": {
     "end_time": "2024-03-13T03:28:15.329321Z",
     "start_time": "2024-03-13T03:28:15.126Z"
    }
   },
   "outputs": [
    {
     "data": {
      "image/png": "[encoded data removed]",
      "text/plain": [
       "Plot with title “Cluster Dendrogram”"
      ]
     },
     "metadata": {
      "image/png": {
       "height": 360,
       "width": 900
      }
     },
     "output_type": "display_data"
    }
   ],
   "source": [
    "ht = cluster::daisy(ht, metric='gower')\n",
    "\n",
    "options(repr.plot.height=6, repr.plot.width=15)\n",
    "plot(hclust(ht), cex=0.4)"
   ]
  },
  {
   "cell_type": "markdown",
   "metadata": {},
   "source": [
    "Ordering beta matrics"
   ]
  },
  {
   "cell_type": "code",
   "execution_count": 18,
   "metadata": {
    "ExecuteTime": {
     "end_time": "2024-03-13T03:28:19.311964Z",
     "start_time": "2024-03-13T03:28:19.197Z"
    }
   },
   "outputs": [
    {
     "data": {
      "text/html": [
       "<style>\n",
       ".list-inline {list-style: none; margin:0; padding: 0}\n",
       ".list-inline>li {display: inline-block}\n",
       ".list-inline>li:not(:last-child)::after {content: \"\\00b7\"; padding: 0 .5ex}\n",
       "</style>\n",
       "<ol class=list-inline><li>'jaccard'</li><li>'bray'</li><li>'unifrac'</li><li>'wunifrac'</li></ol>\n"
      ],
      "text/latex": [
       "\\begin{enumerate*}\n",
       "\\item 'jaccard'\n",
       "\\item 'bray'\n",
       "\\item 'unifrac'\n",
       "\\item 'wunifrac'\n",
       "\\end{enumerate*}\n"
      ],
      "text/markdown": [
       "1. 'jaccard'\n",
       "2. 'bray'\n",
       "3. 'unifrac'\n",
       "4. 'wunifrac'\n",
       "\n",
       "\n"
      ],
      "text/plain": [
       "[1] \"jaccard\"  \"bray\"     \"unifrac\"  \"wunifrac\""
      ]
     },
     "metadata": {},
     "output_type": "display_data"
    }
   ],
   "source": [
    "beta_div %>% labels"
   ]
  },
  {
   "cell_type": "code",
   "execution_count": 19,
   "metadata": {
    "ExecuteTime": {
     "end_time": "2024-03-13T03:28:35.202486Z",
     "start_time": "2024-03-13T03:28:35.074Z"
    }
   },
   "outputs": [],
   "source": [
    "# ordering by beta-div metrix\n",
    "X = labels(beta_div$unifrac)\n",
    "host_tree_d_o = dist_mtx_order(host_tree_d, X)\n",
    "diet_o = dist_mtx_order(diet, X)\n",
    "tec_o = dist_mtx_order(tec, X)\n",
    "dt_o = dist_mtx_order(dt, X)\n",
    "ht_o = dist_mtx_order(ht, X)"
   ]
  },
  {
   "cell_type": "code",
   "execution_count": 20,
   "metadata": {
    "ExecuteTime": {
     "end_time": "2024-03-13T03:28:38.459640Z",
     "start_time": "2024-03-13T03:28:38.343Z"
    }
   },
   "outputs": [
    {
     "name": "stdout",
     "output_type": "stream",
     "text": [
      "[1] 80\n",
      "[1] 80\n"
     ]
    }
   ],
   "source": [
    "# check\n",
    "X %>% length %>% print\n",
    "dt_o %>% labels %>% length %>% print"
   ]
  },
  {
   "cell_type": "markdown",
   "metadata": {},
   "source": [
    "MRM intra-spec sensitivity"
   ]
  },
  {
   "cell_type": "code",
   "execution_count": 21,
   "metadata": {
    "ExecuteTime": {
     "end_time": "2024-03-13T03:28:42.508594Z",
     "start_time": "2024-03-13T03:28:42.396Z"
    }
   },
   "outputs": [],
   "source": [
    "# number of permutated SpecD datasetst\n",
    "nperm_datasets = 100\n",
    "# number of permutations per MRM analysis\n",
    "nperm = 1000"
   ]
  },
  {
   "cell_type": "code",
   "execution_count": 22,
   "metadata": {
    "ExecuteTime": {
     "end_time": "2024-03-13T03:28:51.300025Z",
     "start_time": "2024-03-13T03:28:51.191Z"
    }
   },
   "outputs": [],
   "source": [
    "#' randomly selecting one per group\n",
    "#' L : list of distance matrixes used for MRM\n",
    "#' df_grps : data.frame (sample, group)\n",
    "one_per_group = function(L, df_grps, ...){\n",
    "    # get subsample\n",
    "    colnames(df_grps) = c('Sample', 'Group')\n",
    "    df_grps = df_grps %>%\n",
    "        group_by(Group) %>%\n",
    "        sample_n(2)\n",
    "    # subsetting all matrices\n",
    "    lapply(L, function(x) dist_mtx_order(x, df_grps$Sample))\n",
    "}"
   ]
  },
  {
   "cell_type": "code",
   "execution_count": 23,
   "metadata": {
    "ExecuteTime": {
     "end_time": "2024-03-13T03:28:56.266259Z",
     "start_time": "2024-03-13T03:28:56.159Z"
    }
   },
   "outputs": [],
   "source": [
    "#' MRM on one subsample rep\n",
    "#' i : rep number\n",
    "#' L : list of list of distance matrices generated by `one_per_group()`\n",
    "# nperm : nperm function for MRM\n",
    "# f : MRM fomulat\n",
    "mrm_each = function(i, L, f, nperm=99){\n",
    "    m = L[[i]]\n",
    "    f = as.formula(f)\n",
    "    x = ecodist::MRM(f, nperm=nperm, mrank=TRUE)\n",
    "    # coefficients\n",
    "    df = x$coef %>% as.data.frame\n",
    "    colnames(df) = c('coef', 'coef_pval')\n",
    "    df$variable = rownames(df)\n",
    "    df$R2 = x$r.squared[1]\n",
    "    df$pval = x$r.squared[2]\n",
    "    df$F = x$F.test[1]\n",
    "    df$rep = i\n",
    "    return(df)\n",
    "}"
   ]
  },
  {
   "cell_type": "code",
   "execution_count": 24,
   "metadata": {
    "ExecuteTime": {
     "end_time": "2024-03-13T03:29:33.605010Z",
     "start_time": "2024-03-13T03:29:33.494Z"
    }
   },
   "outputs": [],
   "source": [
    "# renaming output\n",
    "rename_df = data.frame(old_name = c('m$diet', 'm$digest', 'm$host_phy', 'm$tec', 'm$habitat'),\n",
    "                       new_name = c('Diet', 'Digestive\\nsystem', 'Phylogeny', 'Technical', 'Habitat'))"
   ]
  },
  {
   "cell_type": "code",
   "execution_count": 25,
   "metadata": {
    "ExecuteTime": {
     "end_time": "2024-03-13T03:29:37.197531Z",
     "start_time": "2024-03-13T03:29:37.058Z"
    }
   },
   "outputs": [
    {
     "data": {
      "text/html": [
       "<table class=\"dataframe\">\n",
       "<caption>A data.frame: 6 × 2</caption>\n",
       "<thead>\n",
       "\t<tr><th></th><th scope=col>Sampleid</th><th scope=col>Species</th></tr>\n",
       "\t<tr><th></th><th scope=col>&lt;chr&gt;</th><th scope=col>&lt;chr&gt;</th></tr>\n",
       "</thead>\n",
       "<tbody>\n",
       "\t<tr><th scope=row>BMR1</th><td>BMR1</td><td>Nannospalax leucodon</td></tr>\n",
       "\t<tr><th scope=row>BMR2</th><td>BMR2</td><td>Nannospalax leucodon</td></tr>\n",
       "\t<tr><th scope=row>BMR3</th><td>BMR3</td><td>Nannospalax leucodon</td></tr>\n",
       "\t<tr><th scope=row>BMR4</th><td>BMR4</td><td>Nannospalax leucodon</td></tr>\n",
       "\t<tr><th scope=row>BMR5</th><td>BMR5</td><td>Nannospalax leucodon</td></tr>\n",
       "\t<tr><th scope=row>BMR6</th><td>BMR6</td><td>Nannospalax leucodon</td></tr>\n",
       "</tbody>\n",
       "</table>\n"
      ],
      "text/latex": [
       "A data.frame: 6 × 2\n",
       "\\begin{tabular}{r|ll}\n",
       "  & Sampleid & Species\\\\\n",
       "  & <chr> & <chr>\\\\\n",
       "\\hline\n",
       "\tBMR1 & BMR1 & Nannospalax leucodon\\\\\n",
       "\tBMR2 & BMR2 & Nannospalax leucodon\\\\\n",
       "\tBMR3 & BMR3 & Nannospalax leucodon\\\\\n",
       "\tBMR4 & BMR4 & Nannospalax leucodon\\\\\n",
       "\tBMR5 & BMR5 & Nannospalax leucodon\\\\\n",
       "\tBMR6 & BMR6 & Nannospalax leucodon\\\\\n",
       "\\end{tabular}\n"
      ],
      "text/markdown": [
       "\n",
       "A data.frame: 6 × 2\n",
       "\n",
       "| <!--/--> | Sampleid &lt;chr&gt; | Species &lt;chr&gt; |\n",
       "|---|---|---|\n",
       "| BMR1 | BMR1 | Nannospalax leucodon |\n",
       "| BMR2 | BMR2 | Nannospalax leucodon |\n",
       "| BMR3 | BMR3 | Nannospalax leucodon |\n",
       "| BMR4 | BMR4 | Nannospalax leucodon |\n",
       "| BMR5 | BMR5 | Nannospalax leucodon |\n",
       "| BMR6 | BMR6 | Nannospalax leucodon |\n",
       "\n"
      ],
      "text/plain": [
       "     Sampleid Species             \n",
       "BMR1 BMR1     Nannospalax leucodon\n",
       "BMR2 BMR2     Nannospalax leucodon\n",
       "BMR3 BMR3     Nannospalax leucodon\n",
       "BMR4 BMR4     Nannospalax leucodon\n",
       "BMR5 BMR5     Nannospalax leucodon\n",
       "BMR6 BMR6     Nannospalax leucodon"
      ]
     },
     "metadata": {},
     "output_type": "display_data"
    }
   ],
   "source": [
    "# grouping samples by species\n",
    "df_grps = metadata %>% \n",
    "    filter(Sampleid %in% labels(diet_o)) %>%\n",
    "    dplyr::select(Sampleid, Species)\n",
    "head(df_grps)"
   ]
  },
  {
   "cell_type": "markdown",
   "metadata": {},
   "source": [
    "Unweighted unifrac"
   ]
  },
  {
   "cell_type": "code",
   "execution_count": 26,
   "metadata": {
    "ExecuteTime": {
     "end_time": "2024-03-13T03:30:03.453167Z",
     "start_time": "2024-03-13T03:30:02.329Z"
    }
   },
   "outputs": [
    {
     "data": {
      "text/html": [
       "100"
      ],
      "text/latex": [
       "100"
      ],
      "text/markdown": [
       "100"
      ],
      "text/plain": [
       "[1] 100"
      ]
     },
     "metadata": {},
     "output_type": "display_data"
    }
   ],
   "source": [
    "# creating multiple distance matrices\n",
    "L = list(beta = beta_div$unifrac,\n",
    "         host_phy = host_tree_d_o,\n",
    "         diet = diet_o,\n",
    "         digest = dt_o,\n",
    "         habitat = ht_o,\n",
    "         tec = tec_o)\n",
    "\n",
    "m_perm = lapply(as.list(1:nperm_datasets), function(x) one_per_group(L, df_grps, x))\n",
    "m_perm %>% length"
   ]
  },
  {
   "cell_type": "code",
   "execution_count": 25,
   "metadata": {
    "ExecuteTime": {
     "end_time": "2024-01-16T07:44:42.938929Z",
     "start_time": "2024-01-16T07:44:32.202Z"
    }
   },
   "outputs": [
    {
     "data": {
      "text/html": [
       "<style>\n",
       ".list-inline {list-style: none; margin:0; padding: 0}\n",
       ".list-inline>li {display: inline-block}\n",
       ".list-inline>li:not(:last-child)::after {content: \"\\00b7\"; padding: 0 .5ex}\n",
       "</style>\n",
       "<ol class=list-inline><li>46</li><li>46</li></ol>\n"
      ],
      "text/latex": [
       "\\begin{enumerate*}\n",
       "\\item 46\n",
       "\\item 46\n",
       "\\end{enumerate*}\n"
      ],
      "text/markdown": [
       "1. 46\n",
       "2. 46\n",
       "\n",
       "\n"
      ],
      "text/plain": [
       "[1] 46 46"
      ]
     },
     "metadata": {},
     "output_type": "display_data"
    }
   ],
   "source": [
    "# check on sample size\n",
    "m_perm[[1]][[1]] %>% as.matrix %>% dim"
   ]
  },
  {
   "cell_type": "markdown",
   "metadata": {},
   "source": [
    "Model"
   ]
  },
  {
   "cell_type": "code",
   "execution_count": 27,
   "metadata": {
    "ExecuteTime": {
     "end_time": "2024-03-13T03:30:28.473498Z",
     "start_time": "2024-03-13T03:30:27.068Z"
    }
   },
   "outputs": [
    {
     "data": {
      "text/html": [
       "<table class=\"dataframe\">\n",
       "<caption>A data.frame: 6 × 7</caption>\n",
       "<thead>\n",
       "\t<tr><th></th><th scope=col>coef</th><th scope=col>coef_pval</th><th scope=col>variable</th><th scope=col>R2</th><th scope=col>pval</th><th scope=col>F</th><th scope=col>rep</th></tr>\n",
       "\t<tr><th></th><th scope=col>&lt;dbl&gt;</th><th scope=col>&lt;dbl&gt;</th><th scope=col>&lt;chr&gt;</th><th scope=col>&lt;dbl&gt;</th><th scope=col>&lt;dbl&gt;</th><th scope=col>&lt;dbl&gt;</th><th scope=col>&lt;int&gt;</th></tr>\n",
       "</thead>\n",
       "<tbody>\n",
       "\t<tr><th scope=row>Int</th><td>86.53334692</td><td>0.999</td><td>Int       </td><td>0.1944887</td><td>0.001</td><td>17.96369</td><td>1</td></tr>\n",
       "\t<tr><th scope=row>m$host_phy</th><td> 0.35405348</td><td>0.003</td><td>m$host_phy</td><td>0.1944887</td><td>0.001</td><td>17.96369</td><td>1</td></tr>\n",
       "\t<tr><th scope=row>m$diet</th><td> 0.21444890</td><td>0.005</td><td>m$diet    </td><td>0.1944887</td><td>0.001</td><td>17.96369</td><td>1</td></tr>\n",
       "\t<tr><th scope=row>m$tec</th><td> 0.08887785</td><td>0.176</td><td>m$tec     </td><td>0.1944887</td><td>0.001</td><td>17.96369</td><td>1</td></tr>\n",
       "\t<tr><th scope=row>m$digest</th><td>-0.16950245</td><td>0.196</td><td>m$digest  </td><td>0.1944887</td><td>0.001</td><td>17.96369</td><td>1</td></tr>\n",
       "\t<tr><th scope=row>m$habitat</th><td> 0.05548186</td><td>0.266</td><td>m$habitat </td><td>0.1944887</td><td>0.001</td><td>17.96369</td><td>1</td></tr>\n",
       "</tbody>\n",
       "</table>\n"
      ],
      "text/latex": [
       "A data.frame: 6 × 7\n",
       "\\begin{tabular}{r|lllllll}\n",
       "  & coef & coef\\_pval & variable & R2 & pval & F & rep\\\\\n",
       "  & <dbl> & <dbl> & <chr> & <dbl> & <dbl> & <dbl> & <int>\\\\\n",
       "\\hline\n",
       "\tInt & 86.53334692 & 0.999 & Int        & 0.1944887 & 0.001 & 17.96369 & 1\\\\\n",
       "\tm\\$host\\_phy &  0.35405348 & 0.003 & m\\$host\\_phy & 0.1944887 & 0.001 & 17.96369 & 1\\\\\n",
       "\tm\\$diet &  0.21444890 & 0.005 & m\\$diet     & 0.1944887 & 0.001 & 17.96369 & 1\\\\\n",
       "\tm\\$tec &  0.08887785 & 0.176 & m\\$tec      & 0.1944887 & 0.001 & 17.96369 & 1\\\\\n",
       "\tm\\$digest & -0.16950245 & 0.196 & m\\$digest   & 0.1944887 & 0.001 & 17.96369 & 1\\\\\n",
       "\tm\\$habitat &  0.05548186 & 0.266 & m\\$habitat  & 0.1944887 & 0.001 & 17.96369 & 1\\\\\n",
       "\\end{tabular}\n"
      ],
      "text/markdown": [
       "\n",
       "A data.frame: 6 × 7\n",
       "\n",
       "| <!--/--> | coef &lt;dbl&gt; | coef_pval &lt;dbl&gt; | variable &lt;chr&gt; | R2 &lt;dbl&gt; | pval &lt;dbl&gt; | F &lt;dbl&gt; | rep &lt;int&gt; |\n",
       "|---|---|---|---|---|---|---|---|\n",
       "| Int | 86.53334692 | 0.999 | Int        | 0.1944887 | 0.001 | 17.96369 | 1 |\n",
       "| m$host_phy |  0.35405348 | 0.003 | m$host_phy | 0.1944887 | 0.001 | 17.96369 | 1 |\n",
       "| m$diet |  0.21444890 | 0.005 | m$diet     | 0.1944887 | 0.001 | 17.96369 | 1 |\n",
       "| m$tec |  0.08887785 | 0.176 | m$tec      | 0.1944887 | 0.001 | 17.96369 | 1 |\n",
       "| m$digest | -0.16950245 | 0.196 | m$digest   | 0.1944887 | 0.001 | 17.96369 | 1 |\n",
       "| m$habitat |  0.05548186 | 0.266 | m$habitat  | 0.1944887 | 0.001 | 17.96369 | 1 |\n",
       "\n"
      ],
      "text/plain": [
       "           coef        coef_pval variable   R2        pval  F        rep\n",
       "Int        86.53334692 0.999     Int        0.1944887 0.001 17.96369 1  \n",
       "m$host_phy  0.35405348 0.003     m$host_phy 0.1944887 0.001 17.96369 1  \n",
       "m$diet      0.21444890 0.005     m$diet     0.1944887 0.001 17.96369 1  \n",
       "m$tec       0.08887785 0.176     m$tec      0.1944887 0.001 17.96369 1  \n",
       "m$digest   -0.16950245 0.196     m$digest   0.1944887 0.001 17.96369 1  \n",
       "m$habitat   0.05548186 0.266     m$habitat  0.1944887 0.001 17.96369 1  "
      ]
     },
     "metadata": {},
     "output_type": "display_data"
    }
   ],
   "source": [
    "x = as.list(1:length(m_perm))\n",
    "f = 'm$beta ~ m$host_phy + m$diet+ m$tec +m$digest +m$habitat'\n",
    "mrm_res = plyr::llply(x, mrm_each, L=m_perm, f=f, nperm=nperm)\n",
    "mrm_res = do.call(rbind, mrm_res)\n",
    "head(mrm_res)"
   ]
  },
  {
   "cell_type": "code",
   "execution_count": 28,
   "metadata": {
    "ExecuteTime": {
     "end_time": "2024-03-13T03:30:38.495803Z",
     "start_time": "2024-03-13T03:30:38.373Z"
    }
   },
   "outputs": [
    {
     "data": {
      "text/plain": [
       "       R2              pval              rep        \n",
       " Min.   :0.1180   Min.   :0.00100   Min.   :  1.00  \n",
       " 1st Qu.:0.1620   1st Qu.:0.00100   1st Qu.: 25.75  \n",
       " Median :0.1749   Median :0.00100   Median : 50.50  \n",
       " Mean   :0.1742   Mean   :0.00168   Mean   : 50.50  \n",
       " 3rd Qu.:0.1872   3rd Qu.:0.00200   3rd Qu.: 75.25  \n",
       " Max.   :0.2295   Max.   :0.00900   Max.   :100.00  "
      ]
     },
     "metadata": {},
     "output_type": "display_data"
    }
   ],
   "source": [
    "# summary of overall model\n",
    "mrm_res %>%\n",
    "    distinct(R2, pval, rep) %>%\n",
    "    summary"
   ]
  },
  {
   "cell_type": "code",
   "execution_count": 29,
   "metadata": {
    "ExecuteTime": {
     "end_time": "2024-03-13T03:30:57.279875Z",
     "start_time": "2024-03-13T03:30:56.443Z"
    }
   },
   "outputs": [
    {
     "data": {
      "text/html": [
       "<table class=\"dataframe\">\n",
       "<caption>A data.frame: 6 × 7</caption>\n",
       "<thead>\n",
       "\t<tr><th></th><th scope=col>R2</th><th scope=col>pval</th><th scope=col>F</th><th scope=col>rep</th><th scope=col>category</th><th scope=col>value</th><th scope=col>variable</th></tr>\n",
       "\t<tr><th></th><th scope=col>&lt;dbl&gt;</th><th scope=col>&lt;dbl&gt;</th><th scope=col>&lt;dbl&gt;</th><th scope=col>&lt;int&gt;</th><th scope=col>&lt;chr&gt;</th><th scope=col>&lt;dbl&gt;</th><th scope=col>&lt;chr&gt;</th></tr>\n",
       "</thead>\n",
       "<tbody>\n",
       "\t<tr><th scope=row>1</th><td>0.1944887</td><td>0.001</td><td>17.96369</td><td>1</td><td>Coef.</td><td> 0.35405348</td><td>Phylogeny        </td></tr>\n",
       "\t<tr><th scope=row>2</th><td>0.1944887</td><td>0.001</td><td>17.96369</td><td>1</td><td>Coef.</td><td> 0.21444890</td><td>Diet             </td></tr>\n",
       "\t<tr><th scope=row>3</th><td>0.1944887</td><td>0.001</td><td>17.96369</td><td>1</td><td>Coef.</td><td> 0.08887785</td><td>Technical        </td></tr>\n",
       "\t<tr><th scope=row>4</th><td>0.1944887</td><td>0.001</td><td>17.96369</td><td>1</td><td>Coef.</td><td>-0.16950245</td><td>Digestive\n",
       "system</td></tr>\n",
       "\t<tr><th scope=row>5</th><td>0.1944887</td><td>0.001</td><td>17.96369</td><td>1</td><td>Coef.</td><td> 0.05548186</td><td>Habitat          </td></tr>\n",
       "\t<tr><th scope=row>6</th><td>0.1813715</td><td>0.001</td><td>16.48371</td><td>2</td><td>Coef.</td><td> 0.40716153</td><td>Phylogeny        </td></tr>\n",
       "</tbody>\n",
       "</table>\n"
      ],
      "text/latex": [
       "A data.frame: 6 × 7\n",
       "\\begin{tabular}{r|lllllll}\n",
       "  & R2 & pval & F & rep & category & value & variable\\\\\n",
       "  & <dbl> & <dbl> & <dbl> & <int> & <chr> & <dbl> & <chr>\\\\\n",
       "\\hline\n",
       "\t1 & 0.1944887 & 0.001 & 17.96369 & 1 & Coef. &  0.35405348 & Phylogeny        \\\\\n",
       "\t2 & 0.1944887 & 0.001 & 17.96369 & 1 & Coef. &  0.21444890 & Diet             \\\\\n",
       "\t3 & 0.1944887 & 0.001 & 17.96369 & 1 & Coef. &  0.08887785 & Technical        \\\\\n",
       "\t4 & 0.1944887 & 0.001 & 17.96369 & 1 & Coef. & -0.16950245 & Digestive\n",
       "system\\\\\n",
       "\t5 & 0.1944887 & 0.001 & 17.96369 & 1 & Coef. &  0.05548186 & Habitat          \\\\\n",
       "\t6 & 0.1813715 & 0.001 & 16.48371 & 2 & Coef. &  0.40716153 & Phylogeny        \\\\\n",
       "\\end{tabular}\n"
      ],
      "text/markdown": [
       "\n",
       "A data.frame: 6 × 7\n",
       "\n",
       "| <!--/--> | R2 &lt;dbl&gt; | pval &lt;dbl&gt; | F &lt;dbl&gt; | rep &lt;int&gt; | category &lt;chr&gt; | value &lt;dbl&gt; | variable &lt;chr&gt; |\n",
       "|---|---|---|---|---|---|---|---|\n",
       "| 1 | 0.1944887 | 0.001 | 17.96369 | 1 | Coef. |  0.35405348 | Phylogeny         |\n",
       "| 2 | 0.1944887 | 0.001 | 17.96369 | 1 | Coef. |  0.21444890 | Diet              |\n",
       "| 3 | 0.1944887 | 0.001 | 17.96369 | 1 | Coef. |  0.08887785 | Technical         |\n",
       "| 4 | 0.1944887 | 0.001 | 17.96369 | 1 | Coef. | -0.16950245 | Digestive\n",
       "system |\n",
       "| 5 | 0.1944887 | 0.001 | 17.96369 | 1 | Coef. |  0.05548186 | Habitat           |\n",
       "| 6 | 0.1813715 | 0.001 | 16.48371 | 2 | Coef. |  0.40716153 | Phylogeny         |\n",
       "\n"
      ],
      "text/plain": [
       "  R2        pval  F        rep category value       variable         \n",
       "1 0.1944887 0.001 17.96369 1   Coef.     0.35405348 Phylogeny        \n",
       "2 0.1944887 0.001 17.96369 1   Coef.     0.21444890 Diet             \n",
       "3 0.1944887 0.001 17.96369 1   Coef.     0.08887785 Technical        \n",
       "4 0.1944887 0.001 17.96369 1   Coef.    -0.16950245 Digestive\\nsystem\n",
       "5 0.1944887 0.001 17.96369 1   Coef.     0.05548186 Habitat          \n",
       "6 0.1813715 0.001 16.48371 2   Coef.     0.40716153 Phylogeny        "
      ]
     },
     "metadata": {},
     "output_type": "display_data"
    },
    {
     "data": {
      "image/png": "[encoded data removed]",
      "text/plain": [
       "plot without title"
      ]
     },
     "metadata": {
      "image/png": {
       "height": 240,
       "width": 300
      }
     },
     "output_type": "display_data"
    }
   ],
   "source": [
    "mrm_res_s = mrm_res %>% \n",
    "    filter(variable != 'Int') %>%\n",
    "    gather(category, value, -variable, -R2, -pval, -F, -rep) %>%\n",
    "    mutate(category = ifelse(category == 'coef', 'Coef.', 'Adj. P-value'))\n",
    "\n",
    "mrm_res_s = mrm_res_s %>%\n",
    "    inner_join(rename_df, c('variable'='old_name')) %>%\n",
    "    dplyr::select(-variable) %>%\n",
    "    rename('variable' = new_name)              \n",
    "head(mrm_res_s)\n",
    "# write.table(mrm_res_s,file = \"MRM_beta_Unweighted_index.xls\",sep=\"\\t\",row.names = T)\n",
    "# changing coef scale\n",
    "df = mrm_res_s %>%\n",
    "    filter(category == 'Coef.') %>%\n",
    "    mutate(value = 0.41) %>%\n",
    "    .[1,]\n",
    "\n",
    "# plotting\n",
    "p = ggplot(mrm_res_s, aes(variable, value)) +\n",
    "    geom_boxplot() +\n",
    "    geom_point(data=df, alpha=0) +\n",
    "    facet_grid(category ~ ., scales='free_y') +\n",
    "    theme_bw()\n",
    "\n",
    "options(repr.plot.width=5, repr.plot.height=4)\n",
    "plot(p)"
   ]
  },
  {
   "cell_type": "code",
   "execution_count": 30,
   "metadata": {
    "ExecuteTime": {
     "end_time": "2024-03-13T03:31:13.068121Z",
     "start_time": "2024-03-13T03:31:12.938Z"
    }
   },
   "outputs": [
    {
     "data": {
      "text/html": [
       "<table class=\"dataframe\">\n",
       "<caption>A tibble: 6 × 3</caption>\n",
       "<thead>\n",
       "\t<tr><th scope=col>variable</th><th scope=col>pval_sensitivity</th><th scope=col>sig_pval_sensitivity</th></tr>\n",
       "\t<tr><th scope=col>&lt;chr&gt;</th><th scope=col>&lt;dbl&gt;</th><th scope=col>&lt;lgl&gt;</th></tr>\n",
       "</thead>\n",
       "<tbody>\n",
       "\t<tr><td>Int       </td><td>1.00</td><td>FALSE</td></tr>\n",
       "\t<tr><td>m$diet    </td><td>0.19</td><td>FALSE</td></tr>\n",
       "\t<tr><td>m$digest  </td><td>0.40</td><td>FALSE</td></tr>\n",
       "\t<tr><td>m$habitat </td><td>0.85</td><td>FALSE</td></tr>\n",
       "\t<tr><td>m$host_phy</td><td>0.01</td><td> TRUE</td></tr>\n",
       "\t<tr><td>m$tec     </td><td>0.74</td><td>FALSE</td></tr>\n",
       "</tbody>\n",
       "</table>\n"
      ],
      "text/latex": [
       "A tibble: 6 × 3\n",
       "\\begin{tabular}{lll}\n",
       " variable & pval\\_sensitivity & sig\\_pval\\_sensitivity\\\\\n",
       " <chr> & <dbl> & <lgl>\\\\\n",
       "\\hline\n",
       "\t Int        & 1.00 & FALSE\\\\\n",
       "\t m\\$diet     & 0.19 & FALSE\\\\\n",
       "\t m\\$digest   & 0.40 & FALSE\\\\\n",
       "\t m\\$habitat  & 0.85 & FALSE\\\\\n",
       "\t m\\$host\\_phy & 0.01 &  TRUE\\\\\n",
       "\t m\\$tec      & 0.74 & FALSE\\\\\n",
       "\\end{tabular}\n"
      ],
      "text/markdown": [
       "\n",
       "A tibble: 6 × 3\n",
       "\n",
       "| variable &lt;chr&gt; | pval_sensitivity &lt;dbl&gt; | sig_pval_sensitivity &lt;lgl&gt; |\n",
       "|---|---|---|\n",
       "| Int        | 1.00 | FALSE |\n",
       "| m$diet     | 0.19 | FALSE |\n",
       "| m$digest   | 0.40 | FALSE |\n",
       "| m$habitat  | 0.85 | FALSE |\n",
       "| m$host_phy | 0.01 |  TRUE |\n",
       "| m$tec      | 0.74 | FALSE |\n",
       "\n"
      ],
      "text/plain": [
       "  variable   pval_sensitivity sig_pval_sensitivity\n",
       "1 Int        1.00             FALSE               \n",
       "2 m$diet     0.19             FALSE               \n",
       "3 m$digest   0.40             FALSE               \n",
       "4 m$habitat  0.85             FALSE               \n",
       "5 m$host_phy 0.01              TRUE               \n",
       "6 m$tec      0.74             FALSE               "
      ]
     },
     "metadata": {},
     "output_type": "display_data"
    }
   ],
   "source": [
    "# significance\n",
    "mrm_res %>% \n",
    "    group_by(variable) %>%\n",
    "    summarize(pval_sensitivity = 1 - sum(coef_pval <= 0.05) / length(pval)) %>%\n",
    "    ungroup() %>%\n",
    "    mutate(sig_pval_sensitivity = pval_sensitivity <= 0.05)"
   ]
  },
  {
   "cell_type": "code",
   "execution_count": 31,
   "metadata": {
    "ExecuteTime": {
     "end_time": "2024-03-13T03:31:18.682061Z",
     "start_time": "2024-03-13T03:31:18.529Z"
    }
   },
   "outputs": [
    {
     "data": {
      "text/html": [
       "<table class=\"dataframe\">\n",
       "<caption>A tibble: 6 × 2</caption>\n",
       "<thead>\n",
       "\t<tr><th scope=col>variable</th><th scope=col>R2</th></tr>\n",
       "\t<tr><th scope=col>&lt;chr&gt;</th><th scope=col>&lt;dbl&gt;</th></tr>\n",
       "</thead>\n",
       "<tbody>\n",
       "\t<tr><td>Int       </td><td>0.1742062</td></tr>\n",
       "\t<tr><td>m$diet    </td><td>0.1742062</td></tr>\n",
       "\t<tr><td>m$digest  </td><td>0.1742062</td></tr>\n",
       "\t<tr><td>m$habitat </td><td>0.1742062</td></tr>\n",
       "\t<tr><td>m$host_phy</td><td>0.1742062</td></tr>\n",
       "\t<tr><td>m$tec     </td><td>0.1742062</td></tr>\n",
       "</tbody>\n",
       "</table>\n"
      ],
      "text/latex": [
       "A tibble: 6 × 2\n",
       "\\begin{tabular}{ll}\n",
       " variable & R2\\\\\n",
       " <chr> & <dbl>\\\\\n",
       "\\hline\n",
       "\t Int        & 0.1742062\\\\\n",
       "\t m\\$diet     & 0.1742062\\\\\n",
       "\t m\\$digest   & 0.1742062\\\\\n",
       "\t m\\$habitat  & 0.1742062\\\\\n",
       "\t m\\$host\\_phy & 0.1742062\\\\\n",
       "\t m\\$tec      & 0.1742062\\\\\n",
       "\\end{tabular}\n"
      ],
      "text/markdown": [
       "\n",
       "A tibble: 6 × 2\n",
       "\n",
       "| variable &lt;chr&gt; | R2 &lt;dbl&gt; |\n",
       "|---|---|\n",
       "| Int        | 0.1742062 |\n",
       "| m$diet     | 0.1742062 |\n",
       "| m$digest   | 0.1742062 |\n",
       "| m$habitat  | 0.1742062 |\n",
       "| m$host_phy | 0.1742062 |\n",
       "| m$tec      | 0.1742062 |\n",
       "\n"
      ],
      "text/plain": [
       "  variable   R2       \n",
       "1 Int        0.1742062\n",
       "2 m$diet     0.1742062\n",
       "3 m$digest   0.1742062\n",
       "4 m$habitat  0.1742062\n",
       "5 m$host_phy 0.1742062\n",
       "6 m$tec      0.1742062"
      ]
     },
     "metadata": {},
     "output_type": "display_data"
    }
   ],
   "source": [
    "# R^2\n",
    "mrm_res %>% \n",
    "    group_by(variable) %>%\n",
    "    summarize(R2 =sum(R2) / length(R2)) %>%\n",
    "    ungroup()"
   ]
  },
  {
   "cell_type": "code",
   "execution_count": 32,
   "metadata": {
    "ExecuteTime": {
     "end_time": "2024-03-13T03:31:21.805865Z",
     "start_time": "2024-03-13T03:31:21.682Z"
    }
   },
   "outputs": [
    {
     "data": {
      "text/html": [
       "<table class=\"dataframe\">\n",
       "<caption>A tibble: 6 × 2</caption>\n",
       "<thead>\n",
       "\t<tr><th scope=col>variable</th><th scope=col>pval</th></tr>\n",
       "\t<tr><th scope=col>&lt;chr&gt;</th><th scope=col>&lt;dbl&gt;</th></tr>\n",
       "</thead>\n",
       "<tbody>\n",
       "\t<tr><td>Int       </td><td>0.00168</td></tr>\n",
       "\t<tr><td>m$diet    </td><td>0.00168</td></tr>\n",
       "\t<tr><td>m$digest  </td><td>0.00168</td></tr>\n",
       "\t<tr><td>m$habitat </td><td>0.00168</td></tr>\n",
       "\t<tr><td>m$host_phy</td><td>0.00168</td></tr>\n",
       "\t<tr><td>m$tec     </td><td>0.00168</td></tr>\n",
       "</tbody>\n",
       "</table>\n"
      ],
      "text/latex": [
       "A tibble: 6 × 2\n",
       "\\begin{tabular}{ll}\n",
       " variable & pval\\\\\n",
       " <chr> & <dbl>\\\\\n",
       "\\hline\n",
       "\t Int        & 0.00168\\\\\n",
       "\t m\\$diet     & 0.00168\\\\\n",
       "\t m\\$digest   & 0.00168\\\\\n",
       "\t m\\$habitat  & 0.00168\\\\\n",
       "\t m\\$host\\_phy & 0.00168\\\\\n",
       "\t m\\$tec      & 0.00168\\\\\n",
       "\\end{tabular}\n"
      ],
      "text/markdown": [
       "\n",
       "A tibble: 6 × 2\n",
       "\n",
       "| variable &lt;chr&gt; | pval &lt;dbl&gt; |\n",
       "|---|---|\n",
       "| Int        | 0.00168 |\n",
       "| m$diet     | 0.00168 |\n",
       "| m$digest   | 0.00168 |\n",
       "| m$habitat  | 0.00168 |\n",
       "| m$host_phy | 0.00168 |\n",
       "| m$tec      | 0.00168 |\n",
       "\n"
      ],
      "text/plain": [
       "  variable   pval   \n",
       "1 Int        0.00168\n",
       "2 m$diet     0.00168\n",
       "3 m$digest   0.00168\n",
       "4 m$habitat  0.00168\n",
       "5 m$host_phy 0.00168\n",
       "6 m$tec      0.00168"
      ]
     },
     "metadata": {},
     "output_type": "display_data"
    }
   ],
   "source": [
    "# pval\n",
    "mrm_res %>% \n",
    "    group_by(variable) %>%\n",
    "    summarize(pval =sum(pval) / length(pval)) %>%\n",
    "    ungroup()"
   ]
  },
  {
   "cell_type": "markdown",
   "metadata": {},
   "source": [
    "Weighted unifrac"
   ]
  },
  {
   "cell_type": "code",
   "execution_count": null,
   "metadata": {
    "ExecuteTime": {
     "end_time": "2024-01-16T07:44:43.013067Z",
     "start_time": "2024-01-16T07:44:32.237Z"
    }
   },
   "outputs": [],
   "source": [
    "# creating multiple distance matrices\n",
    "L = list(beta = beta_div$wunifrac,\n",
    "         host_phy = host_tree_d_o,\n",
    "         diet = diet_o,\n",
    "         digest = dt_o,\n",
    "         habitat =habitat_o,\n",
    "         tec = tec_o)\n",
    "\n",
    "m_perm = lapply(as.list(1:nperm_datasets), function(x) one_per_group(L, df_grps, x))\n",
    "m_perm %>% length"
   ]
  },
  {
   "cell_type": "code",
   "execution_count": null,
   "metadata": {
    "ExecuteTime": {
     "end_time": "2024-01-16T07:44:43.016912Z",
     "start_time": "2024-01-16T07:44:32.238Z"
    }
   },
   "outputs": [],
   "source": [
    "x = as.list(1:length(m_perm))\n",
    "f = 'm$beta ~ m$host_phy + m$diet+ m$tec +m$habitat +m$digest'\n",
    "mrm_res = plyr::llply(x, mrm_each, L=m_perm, f=f, nperm=nperm)\n",
    "mrm_res = do.call(rbind, mrm_res)\n",
    "head(mrm_res)"
   ]
  },
  {
   "cell_type": "code",
   "execution_count": null,
   "metadata": {
    "ExecuteTime": {
     "end_time": "2024-01-16T07:44:43.020662Z",
     "start_time": "2024-01-16T07:44:32.240Z"
    }
   },
   "outputs": [],
   "source": [
    "# summary of overall model\n",
    "mrm_res %>%\n",
    "    distinct(R2, pval, rep) %>%\n",
    "    summary"
   ]
  },
  {
   "cell_type": "code",
   "execution_count": null,
   "metadata": {
    "ExecuteTime": {
     "end_time": "2024-01-16T07:44:43.024360Z",
     "start_time": "2024-01-16T07:44:32.243Z"
    }
   },
   "outputs": [],
   "source": [
    "mrm_res_s = mrm_res %>% \n",
    "    filter(variable != 'Int') %>%\n",
    "    gather(category, value, -variable, -R2, -pval, -F, -rep) %>%\n",
    "    mutate(category = ifelse(category == 'coef', 'Coef.', 'Adj. P-value'))\n",
    "\n",
    "mrm_res_s = mrm_res_s %>%\n",
    "    inner_join(rename_df, c('variable'='old_name')) %>%\n",
    "    dplyr::select(-variable) %>%\n",
    "    rename('variable' = new_name)              \n",
    "head(mrm_res_s)\n",
    "write.table(mrm_res_s,file = \"MRM_beta_Weighted_index.xls\",sep=\"\\t\",row.names = T)\n",
    "# changing coef scale\n",
    "df = mrm_res_s %>%\n",
    "    filter(category == 'Coef.') %>%\n",
    "    mutate(value = 0.41) %>%\n",
    "    .[1,]\n",
    "\n",
    "# plotting\n",
    "p = ggplot(mrm_res_s, aes(variable, value)) +\n",
    "    geom_boxplot() +\n",
    "    geom_point(data=df, alpha=0) +\n",
    "    facet_grid(category ~ ., scales='free_y') +\n",
    "    theme_few()\n",
    "\n",
    "options(repr.plot.width=5, repr.plot.height=4)\n",
    "plot(p)"
   ]
  },
  {
   "cell_type": "code",
   "execution_count": null,
   "metadata": {
    "ExecuteTime": {
     "end_time": "2024-01-16T07:44:43.028163Z",
     "start_time": "2024-01-16T07:44:32.245Z"
    }
   },
   "outputs": [],
   "source": [
    "# significance\n",
    "mrm_res %>% \n",
    "    group_by(variable) %>%\n",
    "    summarize(pval_sensitivity = 1 - sum(coef_pval <= 0.05) / length(pval)) %>%\n",
    "    ungroup() %>%\n",
    "    mutate(sig_pval_sensitivity = pval_sensitivity <= 0.05)"
   ]
  },
  {
   "cell_type": "code",
   "execution_count": null,
   "metadata": {
    "ExecuteTime": {
     "end_time": "2024-01-16T07:44:43.031947Z",
     "start_time": "2024-01-16T07:44:32.248Z"
    }
   },
   "outputs": [],
   "source": [
    "# R^2\n",
    "mrm_res %>% \n",
    "    group_by(variable) %>%\n",
    "    summarize(R2 =sum(R2) / length(R2)) %>%\n",
    "    ungroup()"
   ]
  },
  {
   "cell_type": "code",
   "execution_count": null,
   "metadata": {
    "ExecuteTime": {
     "end_time": "2024-01-16T07:44:43.035704Z",
     "start_time": "2024-01-16T07:44:32.251Z"
    }
   },
   "outputs": [],
   "source": [
    "# pval\n",
    "mrm_res %>% \n",
    "    group_by(variable) %>%\n",
    "    summarize(pval =sum(pval) / length(pval)) %>%\n",
    "    ungroup()"
   ]
  },
  {
   "cell_type": "markdown",
   "metadata": {},
   "source": [
    "Bray Curtis"
   ]
  },
  {
   "cell_type": "code",
   "execution_count": 33,
   "metadata": {
    "ExecuteTime": {
     "end_time": "2024-03-13T03:31:41.032470Z",
     "start_time": "2024-03-13T03:31:40.009Z"
    }
   },
   "outputs": [
    {
     "data": {
      "text/html": [
       "100"
      ],
      "text/latex": [
       "100"
      ],
      "text/markdown": [
       "100"
      ],
      "text/plain": [
       "[1] 100"
      ]
     },
     "metadata": {},
     "output_type": "display_data"
    }
   ],
   "source": [
    "# creating multiple distance matrices\n",
    "L = list(beta = beta_div$bray,\n",
    "         host_phy = host_tree_d_o,\n",
    "         diet = diet_o,\n",
    "         digest = dt_o,\n",
    "         habitat = ht_o,\n",
    "         tec = tec_o)\n",
    "\n",
    "m_perm = lapply(as.list(1:nperm_datasets), function(x) one_per_group(L, df_grps, x))\n",
    "m_perm %>% length"
   ]
  },
  {
   "cell_type": "code",
   "execution_count": 34,
   "metadata": {
    "ExecuteTime": {
     "end_time": "2024-03-13T03:31:50.413398Z",
     "start_time": "2024-03-13T03:31:49.151Z"
    }
   },
   "outputs": [
    {
     "data": {
      "text/html": [
       "<table class=\"dataframe\">\n",
       "<caption>A data.frame: 6 × 7</caption>\n",
       "<thead>\n",
       "\t<tr><th></th><th scope=col>coef</th><th scope=col>coef_pval</th><th scope=col>variable</th><th scope=col>R2</th><th scope=col>pval</th><th scope=col>F</th><th scope=col>rep</th></tr>\n",
       "\t<tr><th></th><th scope=col>&lt;dbl&gt;</th><th scope=col>&lt;dbl&gt;</th><th scope=col>&lt;chr&gt;</th><th scope=col>&lt;dbl&gt;</th><th scope=col>&lt;dbl&gt;</th><th scope=col>&lt;dbl&gt;</th><th scope=col>&lt;int&gt;</th></tr>\n",
       "</thead>\n",
       "<tbody>\n",
       "\t<tr><th scope=row>Int</th><td>133.06303353</td><td>0.930</td><td>Int       </td><td>0.1997919</td><td>0.001</td><td>18.57581</td><td>1</td></tr>\n",
       "\t<tr><th scope=row>m$host_phy</th><td>  0.48114929</td><td>0.001</td><td>m$host_phy</td><td>0.1997919</td><td>0.001</td><td>18.57581</td><td>1</td></tr>\n",
       "\t<tr><th scope=row>m$diet</th><td>  0.19217118</td><td>0.011</td><td>m$diet    </td><td>0.1997919</td><td>0.001</td><td>18.57581</td><td>1</td></tr>\n",
       "\t<tr><th scope=row>m$tec</th><td> -0.02683021</td><td>0.667</td><td>m$tec     </td><td>0.1997919</td><td>0.001</td><td>18.57581</td><td>1</td></tr>\n",
       "\t<tr><th scope=row>m$digest</th><td> -0.44614907</td><td>0.003</td><td>m$digest  </td><td>0.1997919</td><td>0.001</td><td>18.57581</td><td>1</td></tr>\n",
       "\t<tr><th scope=row>m$habitat</th><td>  0.09747921</td><td>0.058</td><td>m$habitat </td><td>0.1997919</td><td>0.001</td><td>18.57581</td><td>1</td></tr>\n",
       "</tbody>\n",
       "</table>\n"
      ],
      "text/latex": [
       "A data.frame: 6 × 7\n",
       "\\begin{tabular}{r|lllllll}\n",
       "  & coef & coef\\_pval & variable & R2 & pval & F & rep\\\\\n",
       "  & <dbl> & <dbl> & <chr> & <dbl> & <dbl> & <dbl> & <int>\\\\\n",
       "\\hline\n",
       "\tInt & 133.06303353 & 0.930 & Int        & 0.1997919 & 0.001 & 18.57581 & 1\\\\\n",
       "\tm\\$host\\_phy &   0.48114929 & 0.001 & m\\$host\\_phy & 0.1997919 & 0.001 & 18.57581 & 1\\\\\n",
       "\tm\\$diet &   0.19217118 & 0.011 & m\\$diet     & 0.1997919 & 0.001 & 18.57581 & 1\\\\\n",
       "\tm\\$tec &  -0.02683021 & 0.667 & m\\$tec      & 0.1997919 & 0.001 & 18.57581 & 1\\\\\n",
       "\tm\\$digest &  -0.44614907 & 0.003 & m\\$digest   & 0.1997919 & 0.001 & 18.57581 & 1\\\\\n",
       "\tm\\$habitat &   0.09747921 & 0.058 & m\\$habitat  & 0.1997919 & 0.001 & 18.57581 & 1\\\\\n",
       "\\end{tabular}\n"
      ],
      "text/markdown": [
       "\n",
       "A data.frame: 6 × 7\n",
       "\n",
       "| <!--/--> | coef &lt;dbl&gt; | coef_pval &lt;dbl&gt; | variable &lt;chr&gt; | R2 &lt;dbl&gt; | pval &lt;dbl&gt; | F &lt;dbl&gt; | rep &lt;int&gt; |\n",
       "|---|---|---|---|---|---|---|---|\n",
       "| Int | 133.06303353 | 0.930 | Int        | 0.1997919 | 0.001 | 18.57581 | 1 |\n",
       "| m$host_phy |   0.48114929 | 0.001 | m$host_phy | 0.1997919 | 0.001 | 18.57581 | 1 |\n",
       "| m$diet |   0.19217118 | 0.011 | m$diet     | 0.1997919 | 0.001 | 18.57581 | 1 |\n",
       "| m$tec |  -0.02683021 | 0.667 | m$tec      | 0.1997919 | 0.001 | 18.57581 | 1 |\n",
       "| m$digest |  -0.44614907 | 0.003 | m$digest   | 0.1997919 | 0.001 | 18.57581 | 1 |\n",
       "| m$habitat |   0.09747921 | 0.058 | m$habitat  | 0.1997919 | 0.001 | 18.57581 | 1 |\n",
       "\n"
      ],
      "text/plain": [
       "           coef         coef_pval variable   R2        pval  F        rep\n",
       "Int        133.06303353 0.930     Int        0.1997919 0.001 18.57581 1  \n",
       "m$host_phy   0.48114929 0.001     m$host_phy 0.1997919 0.001 18.57581 1  \n",
       "m$diet       0.19217118 0.011     m$diet     0.1997919 0.001 18.57581 1  \n",
       "m$tec       -0.02683021 0.667     m$tec      0.1997919 0.001 18.57581 1  \n",
       "m$digest    -0.44614907 0.003     m$digest   0.1997919 0.001 18.57581 1  \n",
       "m$habitat    0.09747921 0.058     m$habitat  0.1997919 0.001 18.57581 1  "
      ]
     },
     "metadata": {},
     "output_type": "display_data"
    }
   ],
   "source": [
    "x = as.list(1:length(m_perm))\n",
    "f = 'm$beta ~ m$host_phy + m$diet + m$tec +m$digest +m$habitat'\n",
    "mrm_res = plyr::llply(x, mrm_each, L=m_perm, f=f, nperm=nperm)\n",
    "mrm_res = do.call(rbind, mrm_res)\n",
    "head(mrm_res)"
   ]
  },
  {
   "cell_type": "code",
   "execution_count": 35,
   "metadata": {
    "ExecuteTime": {
     "end_time": "2024-03-13T03:32:00.193136Z",
     "start_time": "2024-03-13T03:32:00.079Z"
    }
   },
   "outputs": [
    {
     "data": {
      "text/plain": [
       "       R2              pval              rep        \n",
       " Min.   :0.1753   Min.   :0.00100   Min.   :  1.00  \n",
       " 1st Qu.:0.1943   1st Qu.:0.00100   1st Qu.: 25.75  \n",
       " Median :0.2028   Median :0.00100   Median : 50.50  \n",
       " Mean   :0.2032   Mean   :0.00111   Mean   : 50.50  \n",
       " 3rd Qu.:0.2098   3rd Qu.:0.00100   3rd Qu.: 75.25  \n",
       " Max.   :0.2379   Max.   :0.00200   Max.   :100.00  "
      ]
     },
     "metadata": {},
     "output_type": "display_data"
    }
   ],
   "source": [
    "# summary of overall model\n",
    "mrm_res %>%\n",
    "    distinct(R2, pval, rep) %>%\n",
    "    summary"
   ]
  },
  {
   "cell_type": "code",
   "execution_count": 36,
   "metadata": {
    "ExecuteTime": {
     "end_time": "2024-03-13T03:32:09.444849Z",
     "start_time": "2024-03-13T03:32:08.587Z"
    }
   },
   "outputs": [
    {
     "data": {
      "text/html": [
       "<table class=\"dataframe\">\n",
       "<caption>A data.frame: 6 × 7</caption>\n",
       "<thead>\n",
       "\t<tr><th></th><th scope=col>R2</th><th scope=col>pval</th><th scope=col>F</th><th scope=col>rep</th><th scope=col>category</th><th scope=col>value</th><th scope=col>variable</th></tr>\n",
       "\t<tr><th></th><th scope=col>&lt;dbl&gt;</th><th scope=col>&lt;dbl&gt;</th><th scope=col>&lt;dbl&gt;</th><th scope=col>&lt;int&gt;</th><th scope=col>&lt;chr&gt;</th><th scope=col>&lt;dbl&gt;</th><th scope=col>&lt;chr&gt;</th></tr>\n",
       "</thead>\n",
       "<tbody>\n",
       "\t<tr><th scope=row>1</th><td>0.1997919</td><td>0.001</td><td>18.57581</td><td>1</td><td>Coef.</td><td> 0.48114929</td><td>Phylogeny        </td></tr>\n",
       "\t<tr><th scope=row>2</th><td>0.1997919</td><td>0.001</td><td>18.57581</td><td>1</td><td>Coef.</td><td> 0.19217118</td><td>Diet             </td></tr>\n",
       "\t<tr><th scope=row>3</th><td>0.1997919</td><td>0.001</td><td>18.57581</td><td>1</td><td>Coef.</td><td>-0.02683021</td><td>Technical        </td></tr>\n",
       "\t<tr><th scope=row>4</th><td>0.1997919</td><td>0.001</td><td>18.57581</td><td>1</td><td>Coef.</td><td>-0.44614907</td><td>Digestive\n",
       "system</td></tr>\n",
       "\t<tr><th scope=row>5</th><td>0.1997919</td><td>0.001</td><td>18.57581</td><td>1</td><td>Coef.</td><td> 0.09747921</td><td>Habitat          </td></tr>\n",
       "\t<tr><th scope=row>6</th><td>0.1981074</td><td>0.001</td><td>18.38050</td><td>2</td><td>Coef.</td><td> 0.50191008</td><td>Phylogeny        </td></tr>\n",
       "</tbody>\n",
       "</table>\n"
      ],
      "text/latex": [
       "A data.frame: 6 × 7\n",
       "\\begin{tabular}{r|lllllll}\n",
       "  & R2 & pval & F & rep & category & value & variable\\\\\n",
       "  & <dbl> & <dbl> & <dbl> & <int> & <chr> & <dbl> & <chr>\\\\\n",
       "\\hline\n",
       "\t1 & 0.1997919 & 0.001 & 18.57581 & 1 & Coef. &  0.48114929 & Phylogeny        \\\\\n",
       "\t2 & 0.1997919 & 0.001 & 18.57581 & 1 & Coef. &  0.19217118 & Diet             \\\\\n",
       "\t3 & 0.1997919 & 0.001 & 18.57581 & 1 & Coef. & -0.02683021 & Technical        \\\\\n",
       "\t4 & 0.1997919 & 0.001 & 18.57581 & 1 & Coef. & -0.44614907 & Digestive\n",
       "system\\\\\n",
       "\t5 & 0.1997919 & 0.001 & 18.57581 & 1 & Coef. &  0.09747921 & Habitat          \\\\\n",
       "\t6 & 0.1981074 & 0.001 & 18.38050 & 2 & Coef. &  0.50191008 & Phylogeny        \\\\\n",
       "\\end{tabular}\n"
      ],
      "text/markdown": [
       "\n",
       "A data.frame: 6 × 7\n",
       "\n",
       "| <!--/--> | R2 &lt;dbl&gt; | pval &lt;dbl&gt; | F &lt;dbl&gt; | rep &lt;int&gt; | category &lt;chr&gt; | value &lt;dbl&gt; | variable &lt;chr&gt; |\n",
       "|---|---|---|---|---|---|---|---|\n",
       "| 1 | 0.1997919 | 0.001 | 18.57581 | 1 | Coef. |  0.48114929 | Phylogeny         |\n",
       "| 2 | 0.1997919 | 0.001 | 18.57581 | 1 | Coef. |  0.19217118 | Diet              |\n",
       "| 3 | 0.1997919 | 0.001 | 18.57581 | 1 | Coef. | -0.02683021 | Technical         |\n",
       "| 4 | 0.1997919 | 0.001 | 18.57581 | 1 | Coef. | -0.44614907 | Digestive\n",
       "system |\n",
       "| 5 | 0.1997919 | 0.001 | 18.57581 | 1 | Coef. |  0.09747921 | Habitat           |\n",
       "| 6 | 0.1981074 | 0.001 | 18.38050 | 2 | Coef. |  0.50191008 | Phylogeny         |\n",
       "\n"
      ],
      "text/plain": [
       "  R2        pval  F        rep category value       variable         \n",
       "1 0.1997919 0.001 18.57581 1   Coef.     0.48114929 Phylogeny        \n",
       "2 0.1997919 0.001 18.57581 1   Coef.     0.19217118 Diet             \n",
       "3 0.1997919 0.001 18.57581 1   Coef.    -0.02683021 Technical        \n",
       "4 0.1997919 0.001 18.57581 1   Coef.    -0.44614907 Digestive\\nsystem\n",
       "5 0.1997919 0.001 18.57581 1   Coef.     0.09747921 Habitat          \n",
       "6 0.1981074 0.001 18.38050 2   Coef.     0.50191008 Phylogeny        "
      ]
     },
     "metadata": {},
     "output_type": "display_data"
    },
    {
     "data": {
      "image/png": "[encoded data removed]",
      "text/plain": [
       "plot without title"
      ]
     },
     "metadata": {
      "image/png": {
       "height": 240,
       "width": 300
      }
     },
     "output_type": "display_data"
    }
   ],
   "source": [
    "mrm_res_s = mrm_res %>% \n",
    "    filter(variable != 'Int') %>%\n",
    "    gather(category, value, -variable, -R2, -pval, -F, -rep) %>%\n",
    "    mutate(category = ifelse(category == 'coef', 'Coef.', 'Adj. P-value'))\n",
    "\n",
    "mrm_res_s = mrm_res_s %>%\n",
    "    inner_join(rename_df, c('variable'='old_name')) %>%\n",
    "    dplyr::select(-variable) %>%\n",
    "    rename('variable' = new_name)              \n",
    "head(mrm_res_s)\n",
    "# changing coef scale\n",
    "df = mrm_res_s %>%\n",
    "    filter(category == 'Coef.') %>%\n",
    "    mutate(value = 0.41) %>%\n",
    "    .[1,]\n",
    "\n",
    "# plotting\n",
    "p = ggplot(mrm_res_s, aes(variable, value)) +\n",
    "    geom_boxplot() +\n",
    "    geom_point(data=df, alpha=0) +\n",
    "    facet_grid(category ~ ., scales='free_y') +\n",
    "    theme_bw()\n",
    "\n",
    "options(repr.plot.width=5, repr.plot.height=4)\n",
    "plot(p)\n",
    "ggsave(\"bray_MRM.pdf\",width = 5,height = 4,dpi = 1000)"
   ]
  },
  {
   "cell_type": "code",
   "execution_count": 37,
   "metadata": {
    "ExecuteTime": {
     "end_time": "2024-03-13T03:32:17.019659Z",
     "start_time": "2024-03-13T03:32:16.894Z"
    }
   },
   "outputs": [
    {
     "data": {
      "text/html": [
       "<table class=\"dataframe\">\n",
       "<caption>A tibble: 6 × 3</caption>\n",
       "<thead>\n",
       "\t<tr><th scope=col>variable</th><th scope=col>pval_sensitivity</th><th scope=col>sig_pval_sensitivity</th></tr>\n",
       "\t<tr><th scope=col>&lt;chr&gt;</th><th scope=col>&lt;dbl&gt;</th><th scope=col>&lt;lgl&gt;</th></tr>\n",
       "</thead>\n",
       "<tbody>\n",
       "\t<tr><td>Int       </td><td>1.00</td><td>FALSE</td></tr>\n",
       "\t<tr><td>m$diet    </td><td>0.00</td><td> TRUE</td></tr>\n",
       "\t<tr><td>m$digest  </td><td>0.00</td><td> TRUE</td></tr>\n",
       "\t<tr><td>m$habitat </td><td>0.85</td><td>FALSE</td></tr>\n",
       "\t<tr><td>m$host_phy</td><td>0.00</td><td> TRUE</td></tr>\n",
       "\t<tr><td>m$tec     </td><td>1.00</td><td>FALSE</td></tr>\n",
       "</tbody>\n",
       "</table>\n"
      ],
      "text/latex": [
       "A tibble: 6 × 3\n",
       "\\begin{tabular}{lll}\n",
       " variable & pval\\_sensitivity & sig\\_pval\\_sensitivity\\\\\n",
       " <chr> & <dbl> & <lgl>\\\\\n",
       "\\hline\n",
       "\t Int        & 1.00 & FALSE\\\\\n",
       "\t m\\$diet     & 0.00 &  TRUE\\\\\n",
       "\t m\\$digest   & 0.00 &  TRUE\\\\\n",
       "\t m\\$habitat  & 0.85 & FALSE\\\\\n",
       "\t m\\$host\\_phy & 0.00 &  TRUE\\\\\n",
       "\t m\\$tec      & 1.00 & FALSE\\\\\n",
       "\\end{tabular}\n"
      ],
      "text/markdown": [
       "\n",
       "A tibble: 6 × 3\n",
       "\n",
       "| variable &lt;chr&gt; | pval_sensitivity &lt;dbl&gt; | sig_pval_sensitivity &lt;lgl&gt; |\n",
       "|---|---|---|\n",
       "| Int        | 1.00 | FALSE |\n",
       "| m$diet     | 0.00 |  TRUE |\n",
       "| m$digest   | 0.00 |  TRUE |\n",
       "| m$habitat  | 0.85 | FALSE |\n",
       "| m$host_phy | 0.00 |  TRUE |\n",
       "| m$tec      | 1.00 | FALSE |\n",
       "\n"
      ],
      "text/plain": [
       "  variable   pval_sensitivity sig_pval_sensitivity\n",
       "1 Int        1.00             FALSE               \n",
       "2 m$diet     0.00              TRUE               \n",
       "3 m$digest   0.00              TRUE               \n",
       "4 m$habitat  0.85             FALSE               \n",
       "5 m$host_phy 0.00              TRUE               \n",
       "6 m$tec      1.00             FALSE               "
      ]
     },
     "metadata": {},
     "output_type": "display_data"
    }
   ],
   "source": [
    "# significance\n",
    "mrm_res %>% \n",
    "    group_by(variable) %>%\n",
    "    summarize(pval_sensitivity = 1 - sum(coef_pval <= 0.05) / length(pval)) %>%\n",
    "    ungroup() %>%\n",
    "    mutate(sig_pval_sensitivity = pval_sensitivity <= 0.05)"
   ]
  },
  {
   "cell_type": "code",
   "execution_count": null,
   "metadata": {
    "ExecuteTime": {
     "end_time": "2024-01-16T07:44:43.058069Z",
     "start_time": "2024-01-16T07:44:32.277Z"
    }
   },
   "outputs": [],
   "source": [
    "# R^2\n",
    "mrm_res %>% \n",
    "    group_by(variable) %>%\n",
    "    summarize(R2 =sum(R2) / length(R2)) %>%\n",
    "    ungroup()"
   ]
  },
  {
   "cell_type": "code",
   "execution_count": null,
   "metadata": {
    "ExecuteTime": {
     "end_time": "2024-01-16T07:44:43.061769Z",
     "start_time": "2024-01-16T07:44:32.279Z"
    }
   },
   "outputs": [],
   "source": [
    "# pval\n",
    "mrm_res %>% \n",
    "    group_by(variable) %>%\n",
    "    summarize(pval =sum(pval) / length(pval)) %>%\n",
    "    ungroup()"
   ]
  },
  {
   "cell_type": "markdown",
   "metadata": {},
   "source": [
    "Jaccard"
   ]
  },
  {
   "cell_type": "code",
   "execution_count": null,
   "metadata": {
    "ExecuteTime": {
     "end_time": "2024-01-16T07:44:43.065500Z",
     "start_time": "2024-01-16T07:44:32.291Z"
    }
   },
   "outputs": [],
   "source": [
    "# creating multiple distance matrices\n",
    "L = list(beta = beta_div$jaccard,\n",
    "         host_phy = host_tree_d_o,\n",
    "         diet = diet_o,\n",
    "         digest = dt_o,\n",
    "         habitat =habitat_o,\n",
    "         tec = tec_o)\n",
    "\n",
    "m_perm = lapply(as.list(1:nperm_datasets), function(x) one_per_group(L, df_grps, x))\n",
    "m_perm %>% length"
   ]
  },
  {
   "cell_type": "code",
   "execution_count": null,
   "metadata": {
    "ExecuteTime": {
     "end_time": "2024-01-16T07:44:43.069161Z",
     "start_time": "2024-01-16T07:44:32.293Z"
    }
   },
   "outputs": [],
   "source": [
    "x = as.list(1:length(m_perm))\n",
    "f = 'm$beta ~ m$host_phy + m$diet + m$tec +m$habitat +m$digest'\n",
    "mrm_res = plyr::llply(x, mrm_each, L=m_perm, f=f, nperm=nperm)\n",
    "mrm_res = do.call(rbind, mrm_res)\n",
    "head(mrm_res)"
   ]
  },
  {
   "cell_type": "code",
   "execution_count": null,
   "metadata": {
    "ExecuteTime": {
     "end_time": "2024-01-16T07:44:43.072536Z",
     "start_time": "2024-01-16T07:44:32.295Z"
    }
   },
   "outputs": [],
   "source": [
    "# summary of overall model\n",
    "mrm_res %>%\n",
    "    distinct(R2, pval, rep) %>%\n",
    "    summary"
   ]
  },
  {
   "cell_type": "code",
   "execution_count": null,
   "metadata": {
    "ExecuteTime": {
     "end_time": "2024-01-16T07:44:43.075723Z",
     "start_time": "2024-01-16T07:44:32.297Z"
    }
   },
   "outputs": [],
   "source": [
    "mrm_res_s = mrm_res %>% \n",
    "    filter(variable != 'Int') %>%\n",
    "    gather(category, value, -variable, -R2, -pval, -F, -rep) %>%\n",
    "    mutate(category = ifelse(category == 'coef', 'Coef.', 'Adj. P-value'))\n",
    "\n",
    "mrm_res_s = mrm_res_s %>%\n",
    "    inner_join(rename_df, c('variable'='old_name')) %>%\n",
    "    dplyr::select(-variable) %>%\n",
    "    rename('variable' = new_name)              \n",
    "head(mrm_res_s)\n",
    "write.table(mrm_res_s,file = \"MRM_beta_Jaccard_index.xls\",sep=\"\\t\",row.names = T)\n",
    "# changing coef scale\n",
    "df = mrm_res_s %>%\n",
    "    filter(category == 'Coef.') %>%\n",
    "    mutate(value = 0.41) %>%\n",
    "    .[1,]\n",
    "\n",
    "# plotting\n",
    "p = ggplot(mrm_res_s, aes(variable, value)) +\n",
    "    geom_boxplot() +\n",
    "    geom_point(data=df, alpha=0) +\n",
    "    facet_grid(category ~ ., scales='free_y') +\n",
    "    theme_few()\n",
    "\n",
    "options(repr.plot.width=5, repr.plot.height=4)\n",
    "plot(p)"
   ]
  },
  {
   "cell_type": "code",
   "execution_count": null,
   "metadata": {
    "ExecuteTime": {
     "end_time": "2024-01-16T07:44:43.078861Z",
     "start_time": "2024-01-16T07:44:32.300Z"
    }
   },
   "outputs": [],
   "source": [
    "# significance\n",
    "mrm_res %>% \n",
    "    group_by(variable) %>%\n",
    "    summarize(pval_sensitivity = 1 - sum(coef_pval <= 0.05) / length(pval)) %>%\n",
    "    ungroup() %>%\n",
    "    mutate(sig_pval_sensitivity = pval_sensitivity <= 0.05)"
   ]
  }
 ],
 "metadata": {
  "kernelspec": {
   "display_name": "R",
   "language": "R",
   "name": "ir"
  },
  "language_info": {
   "codemirror_mode": "r",
   "file_extension": ".r",
   "mimetype": "text/x-r-source",
   "name": "R",
   "pygments_lexer": "r",
   "version": "4.1.0"
  },
  "latex_envs": {
   "LaTeX_envs_menu_present": true,
   "autoclose": false,
   "autocomplete": true,
   "bibliofile": "biblio.bib",
   "cite_by": "apalike",
   "current_citInitial": 1,
   "eqLabelWithNumbers": true,
   "eqNumInitial": 1,
   "hotkeys": {
    "equation": "Ctrl-E",
    "itemize": "Ctrl-I"
   },
   "labels_anchors": false,
   "latex_user_defs": false,
   "report_style_numbering": false,
   "user_envs_cfg": false
  },
  "toc": {
   "base_numbering": 1,
   "nav_menu": {},
   "number_sections": true,
   "sideBar": true,
   "skip_h1_title": false,
   "title_cell": "Table of Contents",
   "title_sidebar": "Contents",
   "toc_cell": false,
   "toc_position": {},
   "toc_section_display": true,
   "toc_window_display": false
  },
  "varInspector": {
   "cols": {
    "lenName": 16,
    "lenType": 16,
    "lenVar": 40
   },
   "kernels_config": {
    "python": {
     "delete_cmd_postfix": "",
     "delete_cmd_prefix": "del ",
     "library": "var_list.py",
     "varRefreshCmd": "print(var_dic_list())"
    },
    "r": {
     "delete_cmd_postfix": ") ",
     "delete_cmd_prefix": "rm(",
     "library": "var_list.r",
     "varRefreshCmd": "cat(var_dic_list()) "
    }
   },
   "types_to_exclude": [
    "module",
    "function",
    "builtin_function_or_method",
    "instance",
    "_Feature"
   ],
   "window_display": false
  }
 },
 "nbformat": 4,
 "nbformat_minor": 5
}
